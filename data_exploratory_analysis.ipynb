{
 "cells": [
  {
   "cell_type": "code",
   "execution_count": 1,
   "metadata": {
    "collapsed": true
   },
   "outputs": [],
   "source": [
    "import pandas as pd\n",
    "import numpy as np\n",
    "\n",
    "import matplotlib.pyplot as plt\n",
    "%matplotlib inline\n",
    "import seaborn as sns"
   ]
  },
  {
   "cell_type": "code",
   "execution_count": 2,
   "metadata": {
    "collapsed": false
   },
   "outputs": [],
   "source": [
    "train = pd.read_json('./data/train.json')"
   ]
  },
  {
   "cell_type": "code",
   "execution_count": 3,
   "metadata": {
    "collapsed": false
   },
   "outputs": [
    {
     "data": {
      "text/plain": [
       "(49352, 15)"
      ]
     },
     "execution_count": 3,
     "metadata": {},
     "output_type": "execute_result"
    }
   ],
   "source": [
    "train.shape"
   ]
  },
  {
   "cell_type": "code",
   "execution_count": 4,
   "metadata": {
    "collapsed": false
   },
   "outputs": [
    {
     "data": {
      "text/html": [
       "<div>\n",
       "<table border=\"1\" class=\"dataframe\">\n",
       "  <thead>\n",
       "    <tr style=\"text-align: right;\">\n",
       "      <th></th>\n",
       "      <th>bathrooms</th>\n",
       "      <th>bedrooms</th>\n",
       "      <th>building_id</th>\n",
       "      <th>created</th>\n",
       "      <th>description</th>\n",
       "      <th>display_address</th>\n",
       "      <th>features</th>\n",
       "      <th>interest_level</th>\n",
       "      <th>latitude</th>\n",
       "      <th>listing_id</th>\n",
       "      <th>longitude</th>\n",
       "      <th>manager_id</th>\n",
       "      <th>photos</th>\n",
       "      <th>price</th>\n",
       "      <th>street_address</th>\n",
       "    </tr>\n",
       "  </thead>\n",
       "  <tbody>\n",
       "    <tr>\n",
       "      <th>10</th>\n",
       "      <td>1.5</td>\n",
       "      <td>3</td>\n",
       "      <td>53a5b119ba8f7b61d4e010512e0dfc85</td>\n",
       "      <td>2016-06-24 07:54:24</td>\n",
       "      <td>A Brand New 3 Bedroom 1.5 bath ApartmentEnjoy ...</td>\n",
       "      <td>Metropolitan Avenue</td>\n",
       "      <td>[]</td>\n",
       "      <td>medium</td>\n",
       "      <td>40.7145</td>\n",
       "      <td>7211212</td>\n",
       "      <td>-73.9425</td>\n",
       "      <td>5ba989232d0489da1b5f2c45f6688adc</td>\n",
       "      <td>[https://photos.renthop.com/2/7211212_1ed4542e...</td>\n",
       "      <td>3000</td>\n",
       "      <td>792 Metropolitan Avenue</td>\n",
       "    </tr>\n",
       "    <tr>\n",
       "      <th>10000</th>\n",
       "      <td>1.0</td>\n",
       "      <td>2</td>\n",
       "      <td>c5c8a357cba207596b04d1afd1e4f130</td>\n",
       "      <td>2016-06-12 12:19:27</td>\n",
       "      <td></td>\n",
       "      <td>Columbus Avenue</td>\n",
       "      <td>[Doorman, Elevator, Fitness Center, Cats Allow...</td>\n",
       "      <td>low</td>\n",
       "      <td>40.7947</td>\n",
       "      <td>7150865</td>\n",
       "      <td>-73.9667</td>\n",
       "      <td>7533621a882f71e25173b27e3139d83d</td>\n",
       "      <td>[https://photos.renthop.com/2/7150865_be3306c5...</td>\n",
       "      <td>5465</td>\n",
       "      <td>808 Columbus Avenue</td>\n",
       "    </tr>\n",
       "    <tr>\n",
       "      <th>100004</th>\n",
       "      <td>1.0</td>\n",
       "      <td>1</td>\n",
       "      <td>c3ba40552e2120b0acfc3cb5730bb2aa</td>\n",
       "      <td>2016-04-17 03:26:41</td>\n",
       "      <td>Top Top West Village location, beautiful Pre-w...</td>\n",
       "      <td>W 13 Street</td>\n",
       "      <td>[Laundry In Building, Dishwasher, Hardwood Flo...</td>\n",
       "      <td>high</td>\n",
       "      <td>40.7388</td>\n",
       "      <td>6887163</td>\n",
       "      <td>-74.0018</td>\n",
       "      <td>d9039c43983f6e564b1482b273bd7b01</td>\n",
       "      <td>[https://photos.renthop.com/2/6887163_de85c427...</td>\n",
       "      <td>2850</td>\n",
       "      <td>241 W 13 Street</td>\n",
       "    </tr>\n",
       "    <tr>\n",
       "      <th>100007</th>\n",
       "      <td>1.0</td>\n",
       "      <td>1</td>\n",
       "      <td>28d9ad350afeaab8027513a3e52ac8d5</td>\n",
       "      <td>2016-04-18 02:22:02</td>\n",
       "      <td>Building Amenities - Garage - Garden - fitness...</td>\n",
       "      <td>East 49th Street</td>\n",
       "      <td>[Hardwood Floors, No Fee]</td>\n",
       "      <td>low</td>\n",
       "      <td>40.7539</td>\n",
       "      <td>6888711</td>\n",
       "      <td>-73.9677</td>\n",
       "      <td>1067e078446a7897d2da493d2f741316</td>\n",
       "      <td>[https://photos.renthop.com/2/6888711_6e660cee...</td>\n",
       "      <td>3275</td>\n",
       "      <td>333 East 49th Street</td>\n",
       "    </tr>\n",
       "    <tr>\n",
       "      <th>100013</th>\n",
       "      <td>1.0</td>\n",
       "      <td>4</td>\n",
       "      <td>0</td>\n",
       "      <td>2016-04-28 01:32:41</td>\n",
       "      <td>Beautifully renovated 3 bedroom flex 4 bedroom...</td>\n",
       "      <td>West 143rd Street</td>\n",
       "      <td>[Pre-War]</td>\n",
       "      <td>low</td>\n",
       "      <td>40.8241</td>\n",
       "      <td>6934781</td>\n",
       "      <td>-73.9493</td>\n",
       "      <td>98e13ad4b495b9613cef886d79a6291f</td>\n",
       "      <td>[https://photos.renthop.com/2/6934781_1fa4b41a...</td>\n",
       "      <td>3350</td>\n",
       "      <td>500 West 143rd Street</td>\n",
       "    </tr>\n",
       "  </tbody>\n",
       "</table>\n",
       "</div>"
      ],
      "text/plain": [
       "        bathrooms  bedrooms                       building_id  \\\n",
       "10            1.5         3  53a5b119ba8f7b61d4e010512e0dfc85   \n",
       "10000         1.0         2  c5c8a357cba207596b04d1afd1e4f130   \n",
       "100004        1.0         1  c3ba40552e2120b0acfc3cb5730bb2aa   \n",
       "100007        1.0         1  28d9ad350afeaab8027513a3e52ac8d5   \n",
       "100013        1.0         4                                 0   \n",
       "\n",
       "                    created  \\\n",
       "10      2016-06-24 07:54:24   \n",
       "10000   2016-06-12 12:19:27   \n",
       "100004  2016-04-17 03:26:41   \n",
       "100007  2016-04-18 02:22:02   \n",
       "100013  2016-04-28 01:32:41   \n",
       "\n",
       "                                              description  \\\n",
       "10      A Brand New 3 Bedroom 1.5 bath ApartmentEnjoy ...   \n",
       "10000                                                       \n",
       "100004  Top Top West Village location, beautiful Pre-w...   \n",
       "100007  Building Amenities - Garage - Garden - fitness...   \n",
       "100013  Beautifully renovated 3 bedroom flex 4 bedroom...   \n",
       "\n",
       "            display_address  \\\n",
       "10      Metropolitan Avenue   \n",
       "10000       Columbus Avenue   \n",
       "100004          W 13 Street   \n",
       "100007     East 49th Street   \n",
       "100013    West 143rd Street   \n",
       "\n",
       "                                                 features interest_level  \\\n",
       "10                                                     []         medium   \n",
       "10000   [Doorman, Elevator, Fitness Center, Cats Allow...            low   \n",
       "100004  [Laundry In Building, Dishwasher, Hardwood Flo...           high   \n",
       "100007                          [Hardwood Floors, No Fee]            low   \n",
       "100013                                          [Pre-War]            low   \n",
       "\n",
       "        latitude  listing_id  longitude                        manager_id  \\\n",
       "10       40.7145     7211212   -73.9425  5ba989232d0489da1b5f2c45f6688adc   \n",
       "10000    40.7947     7150865   -73.9667  7533621a882f71e25173b27e3139d83d   \n",
       "100004   40.7388     6887163   -74.0018  d9039c43983f6e564b1482b273bd7b01   \n",
       "100007   40.7539     6888711   -73.9677  1067e078446a7897d2da493d2f741316   \n",
       "100013   40.8241     6934781   -73.9493  98e13ad4b495b9613cef886d79a6291f   \n",
       "\n",
       "                                                   photos  price  \\\n",
       "10      [https://photos.renthop.com/2/7211212_1ed4542e...   3000   \n",
       "10000   [https://photos.renthop.com/2/7150865_be3306c5...   5465   \n",
       "100004  [https://photos.renthop.com/2/6887163_de85c427...   2850   \n",
       "100007  [https://photos.renthop.com/2/6888711_6e660cee...   3275   \n",
       "100013  [https://photos.renthop.com/2/6934781_1fa4b41a...   3350   \n",
       "\n",
       "                 street_address  \n",
       "10      792 Metropolitan Avenue  \n",
       "10000       808 Columbus Avenue  \n",
       "100004          241 W 13 Street  \n",
       "100007     333 East 49th Street  \n",
       "100013    500 West 143rd Street  "
      ]
     },
     "execution_count": 4,
     "metadata": {},
     "output_type": "execute_result"
    }
   ],
   "source": [
    "train.head()"
   ]
  },
  {
   "cell_type": "code",
   "execution_count": 5,
   "metadata": {
    "collapsed": false
   },
   "outputs": [
    {
     "data": {
      "text/plain": [
       "Index([u'bathrooms', u'bedrooms', u'building_id', u'created', u'description',\n",
       "       u'display_address', u'features', u'interest_level', u'latitude',\n",
       "       u'listing_id', u'longitude', u'manager_id', u'photos', u'price',\n",
       "       u'street_address'],\n",
       "      dtype='object')"
      ]
     },
     "execution_count": 5,
     "metadata": {},
     "output_type": "execute_result"
    }
   ],
   "source": [
    "train.columns"
   ]
  },
  {
   "cell_type": "code",
   "execution_count": 6,
   "metadata": {
    "collapsed": false
   },
   "outputs": [
    {
     "data": {
      "text/plain": [
       "count    49352.00000\n",
       "mean         1.21218\n",
       "std          0.50142\n",
       "min          0.00000\n",
       "25%          1.00000\n",
       "50%          1.00000\n",
       "75%          1.00000\n",
       "max         10.00000\n",
       "Name: bathrooms, dtype: float64"
      ]
     },
     "execution_count": 6,
     "metadata": {},
     "output_type": "execute_result"
    }
   ],
   "source": [
    "train.bathrooms.describe()"
   ]
  },
  {
   "cell_type": "code",
   "execution_count": 7,
   "metadata": {
    "collapsed": false
   },
   "outputs": [
    {
     "data": {
      "text/plain": [
       "<matplotlib.axes._subplots.AxesSubplot at 0x1298959d0>"
      ]
     },
     "execution_count": 7,
     "metadata": {},
     "output_type": "execute_result"
    },
    {
     "data": {
      "image/png": "[encoded data removed]",
      "text/plain": [
       "<matplotlib.figure.Figure at 0x107dda050>"
      ]
     },
     "metadata": {},
     "output_type": "display_data"
    }
   ],
   "source": [
    "train.bathrooms.hist()"
   ]
  },
  {
   "cell_type": "code",
   "execution_count": 8,
   "metadata": {
    "collapsed": false
   },
   "outputs": [
    {
     "data": {
      "text/plain": [
       "1    15752\n",
       "2    14623\n",
       "0     9475\n",
       "3     7276\n",
       "4     1929\n",
       "5      247\n",
       "6       46\n",
       "8        2\n",
       "7        2\n",
       "Name: bedrooms, dtype: int64"
      ]
     },
     "execution_count": 8,
     "metadata": {},
     "output_type": "execute_result"
    }
   ],
   "source": [
    "train.bedrooms.value_counts()"
   ]
  },
  {
   "cell_type": "code",
   "execution_count": 9,
   "metadata": {
    "collapsed": false
   },
   "outputs": [
    {
     "data": {
      "text/plain": [
       "<matplotlib.axes._subplots.AxesSubplot at 0x1258a1910>"
      ]
     },
     "execution_count": 9,
     "metadata": {},
     "output_type": "execute_result"
    },
    {
     "data": {
      "image/png": "[encoded data removed]",
      "text/plain": [
       "<matplotlib.figure.Figure at 0x123cc24d0>"
      ]
     },
     "metadata": {},
     "output_type": "display_data"
    }
   ],
   "source": [
    "train.bedrooms.hist()"
   ]
  },
  {
   "cell_type": "code",
   "execution_count": 10,
   "metadata": {
    "collapsed": false
   },
   "outputs": [
    {
     "data": {
      "text/plain": [
       "{0: 9475, 1: 15752, 2: 14623, 3: 7276, 4: 1929, 5: 247, 6: 46, 7: 2, 8: 2}"
      ]
     },
     "execution_count": 10,
     "metadata": {},
     "output_type": "execute_result"
    }
   ],
   "source": [
    "train.bedrooms.value_counts().to_dict()"
   ]
  },
  {
   "cell_type": "code",
   "execution_count": 11,
   "metadata": {
    "collapsed": false
   },
   "outputs": [
    {
     "data": {
      "text/plain": [
       "(49352, 15)"
      ]
     },
     "execution_count": 11,
     "metadata": {},
     "output_type": "execute_result"
    }
   ],
   "source": [
    "train.shape"
   ]
  },
  {
   "cell_type": "code",
   "execution_count": 12,
   "metadata": {
    "collapsed": false
   },
   "outputs": [
    {
     "data": {
      "text/plain": [
       "7585"
      ]
     },
     "execution_count": 12,
     "metadata": {},
     "output_type": "execute_result"
    }
   ],
   "source": [
    "len(train.building_id.unique())"
   ]
  },
  {
   "cell_type": "code",
   "execution_count": 13,
   "metadata": {
    "collapsed": false
   },
   "outputs": [
    {
     "data": {
      "text/plain": [
       "count                   49352\n",
       "unique                  48675\n",
       "top       2016-04-15 02:24:25\n",
       "freq                        3\n",
       "Name: created, dtype: object"
      ]
     },
     "execution_count": 13,
     "metadata": {},
     "output_type": "execute_result"
    }
   ],
   "source": [
    "train.created.describe()"
   ]
  },
  {
   "cell_type": "code",
   "execution_count": 14,
   "metadata": {
    "collapsed": false
   },
   "outputs": [
    {
     "data": {
      "text/plain": [
       "(u'2016-06-29 21:41:47', u'2016-04-01 22:12:41')"
      ]
     },
     "execution_count": 14,
     "metadata": {},
     "output_type": "execute_result"
    }
   ],
   "source": [
    "train.created.max(), train.created.min()"
   ]
  },
  {
   "cell_type": "code",
   "execution_count": 15,
   "metadata": {
    "collapsed": false
   },
   "outputs": [
    {
     "data": {
      "text/plain": [
       "10        A Brand New 3 Bedroom 1.5 bath ApartmentEnjoy ...\n",
       "10000                                                      \n",
       "100004    Top Top West Village location, beautiful Pre-w...\n",
       "100007    Building Amenities - Garage - Garden - fitness...\n",
       "100013    Beautifully renovated 3 bedroom flex 4 bedroom...\n",
       "100014                                                     \n",
       "100016    Stunning unit with a great location and lots o...\n",
       "100020    This huge sunny ,plenty of lights 1 bed/2 bath...\n",
       "100026                             <p><a  website_redacted \n",
       "100027    This is a spacious four bedroom with every bed...\n",
       "Name: description, dtype: object"
      ]
     },
     "execution_count": 15,
     "metadata": {},
     "output_type": "execute_result"
    }
   ],
   "source": [
    "train.description[:10]"
   ]
  },
  {
   "cell_type": "code",
   "execution_count": 16,
   "metadata": {
    "collapsed": false
   },
   "outputs": [
    {
     "data": {
      "text/plain": [
       "array([[],\n",
       "       [u'Doorman', u'Elevator', u'Fitness Center', u'Cats Allowed', u'Dogs Allowed']], dtype=object)"
      ]
     },
     "execution_count": 16,
     "metadata": {},
     "output_type": "execute_result"
    }
   ],
   "source": [
    "train.features[:2].values"
   ]
  },
  {
   "cell_type": "code",
   "execution_count": 17,
   "metadata": {
    "collapsed": false
   },
   "outputs": [
    {
     "data": {
      "text/plain": [
       "49352"
      ]
     },
     "execution_count": 17,
     "metadata": {},
     "output_type": "execute_result"
    }
   ],
   "source": [
    "len(train.listing_id.unique())"
   ]
  },
  {
   "cell_type": "code",
   "execution_count": 18,
   "metadata": {
    "collapsed": false
   },
   "outputs": [
    {
     "data": {
      "text/plain": [
       "3481"
      ]
     },
     "execution_count": 18,
     "metadata": {},
     "output_type": "execute_result"
    }
   ],
   "source": [
    "len(train.manager_id.unique())"
   ]
  },
  {
   "cell_type": "code",
   "execution_count": 19,
   "metadata": {
    "collapsed": false
   },
   "outputs": [
    {
     "data": {
      "text/plain": [
       "low       34284\n",
       "medium    11229\n",
       "high       3839\n",
       "Name: interest_level, dtype: int64"
      ]
     },
     "execution_count": 19,
     "metadata": {},
     "output_type": "execute_result"
    }
   ],
   "source": [
    "train.interest_level.value_counts()"
   ]
  },
  {
   "cell_type": "code",
   "execution_count": 20,
   "metadata": {
    "collapsed": false
   },
   "outputs": [
    {
     "data": {
      "text/plain": [
       "count    4.935200e+04\n",
       "mean     3.830174e+03\n",
       "std      2.206687e+04\n",
       "min      4.300000e+01\n",
       "25%      2.500000e+03\n",
       "50%      3.150000e+03\n",
       "75%      4.100000e+03\n",
       "max      4.490000e+06\n",
       "Name: price, dtype: float64"
      ]
     },
     "execution_count": 20,
     "metadata": {},
     "output_type": "execute_result"
    }
   ],
   "source": [
    "train.price.describe()"
   ]
  },
  {
   "cell_type": "code",
   "execution_count": 21,
   "metadata": {
    "collapsed": false
   },
   "outputs": [
    {
     "data": {
      "image/png": "[encoded data removed]",
      "text/plain": [
       "<matplotlib.figure.Figure at 0x123b67610>"
      ]
     },
     "metadata": {},
     "output_type": "display_data"
    }
   ],
   "source": [
    "ax = sns.boxplot(x=\"interest_level\", y=\"price\", data=train[train.price < 25000])"
   ]
  },
  {
   "cell_type": "code",
   "execution_count": 22,
   "metadata": {
    "collapsed": false
   },
   "outputs": [
    {
     "data": {
      "text/plain": [
       "81"
      ]
     },
     "execution_count": 22,
     "metadata": {},
     "output_type": "execute_result"
    }
   ],
   "source": [
    "len(train[train.price >= 25000])"
   ]
  },
  {
   "cell_type": "code",
   "execution_count": 23,
   "metadata": {
    "collapsed": false
   },
   "outputs": [
    {
     "data": {
      "image/png": "[encoded data removed]",
      "text/plain": [
       "<matplotlib.figure.Figure at 0x12450de90>"
      ]
     },
     "metadata": {},
     "output_type": "display_data"
    }
   ],
   "source": [
    "ax = sns.boxplot(x=\"price\", data=train[train.price < 1000000])"
   ]
  },
  {
   "cell_type": "code",
   "execution_count": 24,
   "metadata": {
    "collapsed": false
   },
   "outputs": [
    {
     "data": {
      "text/plain": [
       "(3150.0, 3830.1740355000811)"
      ]
     },
     "execution_count": 24,
     "metadata": {},
     "output_type": "execute_result"
    }
   ],
   "source": [
    "train.price.median(), train.price.mean()"
   ]
  },
  {
   "cell_type": "code",
   "execution_count": 25,
   "metadata": {
    "collapsed": false
   },
   "outputs": [
    {
     "data": {
      "text/plain": [
       "Index([u'bathrooms', u'bedrooms', u'building_id', u'created', u'description',\n",
       "       u'display_address', u'features', u'interest_level', u'latitude',\n",
       "       u'listing_id', u'longitude', u'manager_id', u'photos', u'price',\n",
       "       u'street_address'],\n",
       "      dtype='object')"
      ]
     },
     "execution_count": 25,
     "metadata": {},
     "output_type": "execute_result"
    }
   ],
   "source": [
    "train.columns"
   ]
  },
  {
   "cell_type": "markdown",
   "metadata": {},
   "source": [
    "### Feature Extraction"
   ]
  },
  {
   "cell_type": "markdown",
   "metadata": {},
   "source": [
    "1. Breakdown feature field -> Bag of words and TF-IDF\n",
    "2. Created -> datetime feature\n",
    "3. latitude+longtitude, street_address, display_address -> neighborhood"
   ]
  },
  {
   "cell_type": "code",
   "execution_count": 26,
   "metadata": {
    "collapsed": false
   },
   "outputs": [],
   "source": [
    "train['feature_list'] = train['features'].map(lambda x: '|'.join(x))"
   ]
  },
  {
   "cell_type": "code",
   "execution_count": 40,
   "metadata": {
    "collapsed": false
   },
   "outputs": [
    {
     "ename": "TypeError",
     "evalue": "unhashable type: 'list'",
     "output_type": "error",
     "traceback": [
      "\u001b[0;31m---------------------------------------------------------------------------\u001b[0m",
      "\u001b[0;31mTypeError\u001b[0m                                 Traceback (most recent call last)",
      "\u001b[0;32m<ipython-input-40-1b57b2e2b8b1>\u001b[0m in \u001b[0;36m<module>\u001b[0;34m()\u001b[0m\n\u001b[1;32m      1\u001b[0m \u001b[0;31m# Find unique feature word list\u001b[0m\u001b[0;34m\u001b[0m\u001b[0;34m\u001b[0m\u001b[0m\n\u001b[0;32m----> 2\u001b[0;31m \u001b[0mfeature_list\u001b[0m \u001b[0;34m=\u001b[0m \u001b[0mset\u001b[0m\u001b[0;34m(\u001b[0m\u001b[0mtrain\u001b[0m\u001b[0;34m[\u001b[0m\u001b[0;34m'features'\u001b[0m\u001b[0;34m]\u001b[0m\u001b[0;34m)\u001b[0m\u001b[0;34m.\u001b[0m\u001b[0msum\u001b[0m\u001b[0;34m(\u001b[0m\u001b[0;34m)\u001b[0m\u001b[0;34m\u001b[0m\u001b[0m\n\u001b[0m",
      "\u001b[0;31mTypeError\u001b[0m: unhashable type: 'list'"
     ]
    }
   ],
   "source": [
    "# Find unique feature word list\n",
    "feature_list = train['features'].sum()"
   ]
  },
  {
   "cell_type": "code",
   "execution_count": 41,
   "metadata": {
    "collapsed": false
   },
   "outputs": [
    {
     "data": {
      "text/plain": [
       "267906"
      ]
     },
     "execution_count": 41,
     "metadata": {},
     "output_type": "execute_result"
    }
   ],
   "source": [
    "len(feature_list)"
   ]
  },
  {
   "cell_type": "code",
   "execution_count": 42,
   "metadata": {
    "collapsed": true
   },
   "outputs": [],
   "source": [
    "unique_feature_list = list(set(feature_list))"
   ]
  },
  {
   "cell_type": "code",
   "execution_count": 43,
   "metadata": {
    "collapsed": false
   },
   "outputs": [
    {
     "data": {
      "text/plain": [
       "1556"
      ]
     },
     "execution_count": 43,
     "metadata": {},
     "output_type": "execute_result"
    }
   ],
   "source": [
    "len(unique_feature_list)"
   ]
  },
  {
   "cell_type": "code",
   "execution_count": 44,
   "metadata": {
    "collapsed": false
   },
   "outputs": [
    {
     "data": {
      "text/plain": [
       "[u'Updated Kitchen and Bathroom',\n",
       " u'Gym Fitness Lounge Swimming Pool Sun Decks Exercise Studios Indoor Half-Basketball Court',\n",
       " u'Gas&Electric included',\n",
       " u'private-outdoor-space',\n",
       " u'Great Natural Light',\n",
       " u'Super On Site',\n",
       " u'Vaulted Ceilings',\n",
       " u'custom lighting',\n",
       " u'Diswasher',\n",
       " u'Brand Newm Outdoor Deck']"
      ]
     },
     "execution_count": 44,
     "metadata": {},
     "output_type": "execute_result"
    }
   ],
   "source": [
    "unique_feature_list[:10]"
   ]
  },
  {
   "cell_type": "code",
   "execution_count": 33,
   "metadata": {
    "collapsed": false
   },
   "outputs": [
    {
     "data": {
      "text/html": [
       "<div>\n",
       "<table border=\"1\" class=\"dataframe\">\n",
       "  <thead>\n",
       "    <tr style=\"text-align: right;\">\n",
       "      <th></th>\n",
       "      <th>bathrooms</th>\n",
       "      <th>bedrooms</th>\n",
       "      <th>building_id</th>\n",
       "      <th>created</th>\n",
       "      <th>description</th>\n",
       "      <th>display_address</th>\n",
       "      <th>features</th>\n",
       "      <th>interest_level</th>\n",
       "      <th>latitude</th>\n",
       "      <th>listing_id</th>\n",
       "      <th>longitude</th>\n",
       "      <th>manager_id</th>\n",
       "      <th>photos</th>\n",
       "      <th>price</th>\n",
       "      <th>street_address</th>\n",
       "      <th>feature_list</th>\n",
       "    </tr>\n",
       "  </thead>\n",
       "  <tbody>\n",
       "    <tr>\n",
       "      <th>10</th>\n",
       "      <td>1.5</td>\n",
       "      <td>3</td>\n",
       "      <td>53a5b119ba8f7b61d4e010512e0dfc85</td>\n",
       "      <td>2016-06-24 07:54:24</td>\n",
       "      <td>A Brand New 3 Bedroom 1.5 bath ApartmentEnjoy ...</td>\n",
       "      <td>Metropolitan Avenue</td>\n",
       "      <td>[]</td>\n",
       "      <td>medium</td>\n",
       "      <td>40.7145</td>\n",
       "      <td>7211212</td>\n",
       "      <td>-73.9425</td>\n",
       "      <td>5ba989232d0489da1b5f2c45f6688adc</td>\n",
       "      <td>[https://photos.renthop.com/2/7211212_1ed4542e...</td>\n",
       "      <td>3000</td>\n",
       "      <td>792 Metropolitan Avenue</td>\n",
       "      <td></td>\n",
       "    </tr>\n",
       "    <tr>\n",
       "      <th>10000</th>\n",
       "      <td>1.0</td>\n",
       "      <td>2</td>\n",
       "      <td>c5c8a357cba207596b04d1afd1e4f130</td>\n",
       "      <td>2016-06-12 12:19:27</td>\n",
       "      <td></td>\n",
       "      <td>Columbus Avenue</td>\n",
       "      <td>[Doorman, Elevator, Fitness Center, Cats Allow...</td>\n",
       "      <td>low</td>\n",
       "      <td>40.7947</td>\n",
       "      <td>7150865</td>\n",
       "      <td>-73.9667</td>\n",
       "      <td>7533621a882f71e25173b27e3139d83d</td>\n",
       "      <td>[https://photos.renthop.com/2/7150865_be3306c5...</td>\n",
       "      <td>5465</td>\n",
       "      <td>808 Columbus Avenue</td>\n",
       "      <td>Doorman|Elevator|Fitness Center|Cats Allowed|D...</td>\n",
       "    </tr>\n",
       "    <tr>\n",
       "      <th>100004</th>\n",
       "      <td>1.0</td>\n",
       "      <td>1</td>\n",
       "      <td>c3ba40552e2120b0acfc3cb5730bb2aa</td>\n",
       "      <td>2016-04-17 03:26:41</td>\n",
       "      <td>Top Top West Village location, beautiful Pre-w...</td>\n",
       "      <td>W 13 Street</td>\n",
       "      <td>[Laundry In Building, Dishwasher, Hardwood Flo...</td>\n",
       "      <td>high</td>\n",
       "      <td>40.7388</td>\n",
       "      <td>6887163</td>\n",
       "      <td>-74.0018</td>\n",
       "      <td>d9039c43983f6e564b1482b273bd7b01</td>\n",
       "      <td>[https://photos.renthop.com/2/6887163_de85c427...</td>\n",
       "      <td>2850</td>\n",
       "      <td>241 W 13 Street</td>\n",
       "      <td>Laundry In Building|Dishwasher|Hardwood Floors...</td>\n",
       "    </tr>\n",
       "    <tr>\n",
       "      <th>100007</th>\n",
       "      <td>1.0</td>\n",
       "      <td>1</td>\n",
       "      <td>28d9ad350afeaab8027513a3e52ac8d5</td>\n",
       "      <td>2016-04-18 02:22:02</td>\n",
       "      <td>Building Amenities - Garage - Garden - fitness...</td>\n",
       "      <td>East 49th Street</td>\n",
       "      <td>[Hardwood Floors, No Fee]</td>\n",
       "      <td>low</td>\n",
       "      <td>40.7539</td>\n",
       "      <td>6888711</td>\n",
       "      <td>-73.9677</td>\n",
       "      <td>1067e078446a7897d2da493d2f741316</td>\n",
       "      <td>[https://photos.renthop.com/2/6888711_6e660cee...</td>\n",
       "      <td>3275</td>\n",
       "      <td>333 East 49th Street</td>\n",
       "      <td>Hardwood Floors|No Fee</td>\n",
       "    </tr>\n",
       "    <tr>\n",
       "      <th>100013</th>\n",
       "      <td>1.0</td>\n",
       "      <td>4</td>\n",
       "      <td>0</td>\n",
       "      <td>2016-04-28 01:32:41</td>\n",
       "      <td>Beautifully renovated 3 bedroom flex 4 bedroom...</td>\n",
       "      <td>West 143rd Street</td>\n",
       "      <td>[Pre-War]</td>\n",
       "      <td>low</td>\n",
       "      <td>40.8241</td>\n",
       "      <td>6934781</td>\n",
       "      <td>-73.9493</td>\n",
       "      <td>98e13ad4b495b9613cef886d79a6291f</td>\n",
       "      <td>[https://photos.renthop.com/2/6934781_1fa4b41a...</td>\n",
       "      <td>3350</td>\n",
       "      <td>500 West 143rd Street</td>\n",
       "      <td>Pre-War</td>\n",
       "    </tr>\n",
       "  </tbody>\n",
       "</table>\n",
       "</div>"
      ],
      "text/plain": [
       "        bathrooms  bedrooms                       building_id  \\\n",
       "10            1.5         3  53a5b119ba8f7b61d4e010512e0dfc85   \n",
       "10000         1.0         2  c5c8a357cba207596b04d1afd1e4f130   \n",
       "100004        1.0         1  c3ba40552e2120b0acfc3cb5730bb2aa   \n",
       "100007        1.0         1  28d9ad350afeaab8027513a3e52ac8d5   \n",
       "100013        1.0         4                                 0   \n",
       "\n",
       "                    created  \\\n",
       "10      2016-06-24 07:54:24   \n",
       "10000   2016-06-12 12:19:27   \n",
       "100004  2016-04-17 03:26:41   \n",
       "100007  2016-04-18 02:22:02   \n",
       "100013  2016-04-28 01:32:41   \n",
       "\n",
       "                                              description  \\\n",
       "10      A Brand New 3 Bedroom 1.5 bath ApartmentEnjoy ...   \n",
       "10000                                                       \n",
       "100004  Top Top West Village location, beautiful Pre-w...   \n",
       "100007  Building Amenities - Garage - Garden - fitness...   \n",
       "100013  Beautifully renovated 3 bedroom flex 4 bedroom...   \n",
       "\n",
       "            display_address  \\\n",
       "10      Metropolitan Avenue   \n",
       "10000       Columbus Avenue   \n",
       "100004          W 13 Street   \n",
       "100007     East 49th Street   \n",
       "100013    West 143rd Street   \n",
       "\n",
       "                                                 features interest_level  \\\n",
       "10                                                     []         medium   \n",
       "10000   [Doorman, Elevator, Fitness Center, Cats Allow...            low   \n",
       "100004  [Laundry In Building, Dishwasher, Hardwood Flo...           high   \n",
       "100007                          [Hardwood Floors, No Fee]            low   \n",
       "100013                                          [Pre-War]            low   \n",
       "\n",
       "        latitude  listing_id  longitude                        manager_id  \\\n",
       "10       40.7145     7211212   -73.9425  5ba989232d0489da1b5f2c45f6688adc   \n",
       "10000    40.7947     7150865   -73.9667  7533621a882f71e25173b27e3139d83d   \n",
       "100004   40.7388     6887163   -74.0018  d9039c43983f6e564b1482b273bd7b01   \n",
       "100007   40.7539     6888711   -73.9677  1067e078446a7897d2da493d2f741316   \n",
       "100013   40.8241     6934781   -73.9493  98e13ad4b495b9613cef886d79a6291f   \n",
       "\n",
       "                                                   photos  price  \\\n",
       "10      [https://photos.renthop.com/2/7211212_1ed4542e...   3000   \n",
       "10000   [https://photos.renthop.com/2/7150865_be3306c5...   5465   \n",
       "100004  [https://photos.renthop.com/2/6887163_de85c427...   2850   \n",
       "100007  [https://photos.renthop.com/2/6888711_6e660cee...   3275   \n",
       "100013  [https://photos.renthop.com/2/6934781_1fa4b41a...   3350   \n",
       "\n",
       "                 street_address  \\\n",
       "10      792 Metropolitan Avenue   \n",
       "10000       808 Columbus Avenue   \n",
       "100004          241 W 13 Street   \n",
       "100007     333 East 49th Street   \n",
       "100013    500 West 143rd Street   \n",
       "\n",
       "                                             feature_list  \n",
       "10                                                         \n",
       "10000   Doorman|Elevator|Fitness Center|Cats Allowed|D...  \n",
       "100004  Laundry In Building|Dishwasher|Hardwood Floors...  \n",
       "100007                             Hardwood Floors|No Fee  \n",
       "100013                                            Pre-War  "
      ]
     },
     "execution_count": 33,
     "metadata": {},
     "output_type": "execute_result"
    }
   ],
   "source": [
    "train.head()"
   ]
  },
  {
   "cell_type": "code",
   "execution_count": 35,
   "metadata": {
    "collapsed": false
   },
   "outputs": [
    {
     "data": {
      "text/plain": [
       "bathrooms                                                          1\n",
       "bedrooms                                                           2\n",
       "building_id                         c5c8a357cba207596b04d1afd1e4f130\n",
       "created                                          2016-06-12 12:19:27\n",
       "description                                                         \n",
       "display_address                                      Columbus Avenue\n",
       "features           [Doorman, Elevator, Fitness Center, Cats Allow...\n",
       "interest_level                                                   low\n",
       "latitude                                                     40.7947\n",
       "listing_id                                                   7150865\n",
       "longitude                                                   -73.9667\n",
       "manager_id                          7533621a882f71e25173b27e3139d83d\n",
       "photos             [https://photos.renthop.com/2/7150865_be3306c5...\n",
       "price                                                           5465\n",
       "street_address                                   808 Columbus Avenue\n",
       "feature_list       Doorman|Elevator|Fitness Center|Cats Allowed|D...\n",
       "Name: 10000, dtype: object"
      ]
     },
     "execution_count": 35,
     "metadata": {},
     "output_type": "execute_result"
    }
   ],
   "source": [
    "train.iloc[1,:]"
   ]
  },
  {
   "cell_type": "code",
   "execution_count": 27,
   "metadata": {
    "collapsed": false
   },
   "outputs": [],
   "source": [
    "#train_feature_list = train.feature_list.str.get_dummies('|')"
   ]
  },
  {
   "cell_type": "code",
   "execution_count": 28,
   "metadata": {
    "collapsed": true
   },
   "outputs": [],
   "source": [
    "#pd.get_dummies(pd.DataFrame(movies.loc[0,'genre_list'],columns=['genre']))"
   ]
  },
  {
   "cell_type": "code",
   "execution_count": 45,
   "metadata": {
    "collapsed": true
   },
   "outputs": [],
   "source": [
    "from sklearn.feature_extraction.text import CountVectorizer\n",
    "count_vect = CountVectorizer(vocabulary=unique_feature_list)"
   ]
  },
  {
   "cell_type": "code",
   "execution_count": 46,
   "metadata": {
    "collapsed": true
   },
   "outputs": [],
   "source": [
    "X_train_feature_counts = count_vect.fit_transform(train['feature_list'])"
   ]
  },
  {
   "cell_type": "code",
   "execution_count": 47,
   "metadata": {
    "collapsed": false
   },
   "outputs": [
    {
     "data": {
      "text/plain": [
       "(49352,)"
      ]
     },
     "execution_count": 47,
     "metadata": {},
     "output_type": "execute_result"
    }
   ],
   "source": [
    "train['feature_list'].shape"
   ]
  },
  {
   "cell_type": "code",
   "execution_count": 48,
   "metadata": {
    "collapsed": false
   },
   "outputs": [
    {
     "data": {
      "text/plain": [
       "(49352, 1556)"
      ]
     },
     "execution_count": 48,
     "metadata": {},
     "output_type": "execute_result"
    }
   ],
   "source": [
    "X_train_feature_counts.shape"
   ]
  },
  {
   "cell_type": "code",
   "execution_count": 49,
   "metadata": {
    "collapsed": false
   },
   "outputs": [
    {
     "data": {
      "text/plain": [
       "[(u'Near All Trains', 1555),\n",
       " (u'lounge area', 1554),\n",
       " (u'Huge Walk In Closet', 1553),\n",
       " (u'Storage room', 1552),\n",
       " (u'Full-time Doorman', 1551),\n",
       " (u'Sun decks', 1550),\n",
       " (u'small pets allowed', 1549),\n",
       " (u'** CLASSY CONDO GEM! * MASSIVE 2BR SUPER SHARE * GOURMET KITCHEN * PERFECT SUN * CHIC CHELSEA LOCALE! **',\n",
       "  1548),\n",
       " (u'Breakfast bar', 1547),\n",
       " (u'SPACE', 1546)]"
      ]
     },
     "execution_count": 49,
     "metadata": {},
     "output_type": "execute_result"
    }
   ],
   "source": [
    "sorted(count_vect.vocabulary_.items(), key=lambda x: x[1], reverse=True)[:10]"
   ]
  },
  {
   "cell_type": "code",
   "execution_count": 51,
   "metadata": {
    "collapsed": false
   },
   "outputs": [],
   "source": [
    "#print count_vect.vocabulary_['washer']"
   ]
  },
  {
   "cell_type": "code",
   "execution_count": 56,
   "metadata": {
    "collapsed": false
   },
   "outputs": [
    {
     "name": "stdout",
     "output_type": "stream",
     "text": [
      "[(u'elevator', 26283), (u'doorman', 21169), (u'dishwasher', 20828), (u'deck', 7095), (u'balcony', 3129), (u'pool', 3126), (u'terrace', 2391), (u'garden', 2131), (u'loft', 2106), (u'patio', 2083), (u'prewar', 1362), (u'garage', 1039), (u'fireplace', 968), (u'parking', 755), (u'furnished', 697), (u'renovated', 535), (u'storage', 335), (u'lounge', 266), (u'pets', 241), (u'gym', 194), (u'valet', 170), (u'view', 84), (u'duplex', 80), (u'backyard', 66), (u'microwave', 38), (u'rooftop', 38), (u'sauna', 36), (u'3br', 31), (u'housekeeping', 19), (u'spacious', 17), (u'skylight', 16), (u'stunning', 13), (u'townhouse', 7), (u'1st', 6), (u'triplex', 5), (u'postwar', 2), (u'quiet', 2), (u'30', 1), (u'22', 1), (u'dishwaser', 1), (u'balocny', 1), (u'Available  05/01/16      Swimming pool         Dishwasher', 0), (u'featuring a sophisticated Precor\\xae online profile system that tracks your personal fitness goals', 0), (u'MONTH FREE', 0), (u'Updated Kitchen and Bathroom', 0), (u'Gym Fitness Lounge Swimming Pool Sun Decks Exercise Studios Indoor Half-Basketball Court', 0), (u'Gas&Electric included', 0), (u'Large Living Room', 0), (u'A Full service Luxury Highrise', 0), (u'private-outdoor-space', 0), (u'Great Natural Light', 0), (u'Super On Site', 0), (u'Vaulted Ceilings', 0), (u'custom lighting', 0), (u'Diswasher', 0), (u'Brand Newm Outdoor Deck', 0), (u'DUPLEX', 0), (u'STAINLESS STEEL', 0), (u'central air', 0), (u'** HOLY NO FEE DEAL BATMAN! * OVERSIZED 2BR HOME * SPARKLING CLEAN & BRITE * HEART OF GREENPOINT * NEAR THE PARK & TRAINS **', 0), (u'Central Park 1/2 block away!', 0), (u'Outstanding Shopping', 0), (u\"** SPRAWLING 2BR SUPER SHARE * MASSIVE WINDOWS GALORE * COOK'S KITCHEN * 2 BLKS TO BEDFORD L STOP **\", 0), (u'** HOLY DEAL BATMAN! * ENTIRE FLOOR! * MASSIVE 4BR MANSION * GOURMET KITCHEN * PETS OK **', 0), (u'** PRISTINE PREWAR GEM! * MASSIVE 3BR SUPER SHARE * GUT RENOVATED * CHEF;S KITCHEN * ELEV BLDG * PETS OK **', 0), (u'!!!!LOW FEE!!!!', 0), (u'Hardwood Floor', 0), (u'One month free rent', 0), (u'2nd Ave', 0), (u'exposed brick', 0), (u\"residents' lounge\", 0), (u'Sun Drenched', 0), (u'Natural Light', 0), (u'Pets: Case by case', 0), (u'Wonderful 2 bed in WV   Grab it or Grieve it..xoxo', 0), (u'Marble Bath', 0), (u'must see', 0), (u'36th St & 3rd Ave', 0), (u'Parking Garage', 0), (u'** PRISTINE PARK AVE S LOFT! * MASSIVE 3BR MANSION * WALLS OF WINDOWS * CHEF INSPIRED KITCHEN * ELEV BLDG **', 0), (u'Utilities included', 0), (u'Near All Trains', 0), (u'Concierge', 0), (u'** THE PERFECT SHARE * SPRAWLING 3BR HOME * HI END RENOVATIONS * MR CLEAN APPROVED * ROOMY CLOSETS * G-VILLAGE BABY! **', 0), (u'Parking spot with additional fee', 0), (u'Queen Sized Bedroom', 0), (u'Sun deck', 0), (u'Doorman', 0), (u'Eat In Kitchen', 0), (u'laundry in building', 0), (u'Social Lounge', 0), (u'Individual Climate Control', 0), (u'Concierge and Live-In Super.', 0), (u'amazing detail', 0), (u'New Renovation', 0), (u'Pets Allowed Case by Case', 0), (u'King-Sized Bedroom', 0), (u'EXPOSED BRICK', 0), (u'on-sites super', 0), (u'Laundry in Some Units', 0), (u'building-common-outdoor-space', 0), (u'all kitchen appliances included', 0), (u'Seperate Kitchen', 0), (u'Oversized', 0), (u'Available  07/01/16', 0), (u'onsite valet', 0), (u'Mint Condition', 0), (u'Electronic Rent Payment (Ach)', 0), (u'** SPRAWLING TRUE 2BR SUPER SHARE * EXPOSED BRICK * SCENIC ROOF DECK * PETS OK **', 0), (u'Bicycle and tenant st...orage available for rent', 0), (u'heated lap pool', 0), (u'hardwood floors', 0), (u'One Month Fee', 0), (u'Available 05/01/16', 0), (u'** REAL NO FEE! * MASSIVE TRUE 2BR SUPER SHARE * ALL MODERN & NEW * EAT-IN KITCHEN * 2 BLKS TO THE TRAIN **', 0), (u'hardwood  floors', 0), (u'Air Condition', 0), (u'Roof Access', 0), (u'Cinema Room', 0), (u'Health club with pool on the top floor', 0), (u'at an additional cost.', 0), (u'Furnished', 0), (u'On-site parking available', 0), (u'On-site parking', 0), (u'Dining room', 0), (u'Pets allowed', 0), (u'High Speed Internet Available', 0), (u'3 AC', 0), (u'Live In Super', 0), (u'Built-in Breakfast Bar', 0), (u'shuttle service to subway', 0), (u'Indoor parking', 0), (u'Renovated', 0), (u'Hardwood Flooring Throughout', 0), (u'24hr doormen', 0), (u'** W50s WONDER! * MASSIVE 1BR HOME * MR CLEAN APPROVED * GOURMET KITCHEN * ROOMY CLOSETS * NEAR CENTRAL PARK! **', 0), (u'Full-time doorman', 0), (u'Live/work', 0), (u'Exposed Brick', 0), (u'Building Storage', 0), (u'Laundry room', 0), (u'High-speed internet access', 0), (u'misting shower and resident lounge available.', 0), (u'Multi-level', 0), (u'24-Hour Attended lobby', 0), (u'Overlooks Garden', 0), (u'FT Doorman', 0), (u'Near Subway', 0), (u'central ac', 0), (u'Steps to Prospect Park', 0), (u'No Fee', 0), (u'Custom murals on the ceiling and living room wall. Painted my a local artist.', 0), (u'Garage Parking', 0), (u'HUGE Closets', 0), (u'Window Bath', 0), (u'Backyard', 0), (u'In unit washer and dryer', 0), (u'parks in area', 0), (u'King Sized Bedroom', 0), (u'Storage in Building Included!', 0), (u'custom window treatments', 0), (u'All Utilities included', 0), (u'Shared garden', 0), (u'Sunlight', 0), (u'personal trainer', 0), (u\"** OVERSIZED 2BR SUPER SHARE * CHEF'S KITCHEN * EXPOSED BRICK * LNDRY BLDG * HEART OF THE VILLAGE **\", 0), (u'24 hour doorman', 0), (u'ACT FAST WILL NOT LAST', 0), (u'Exercise equipment (if furnished)', 0), (u'exclusive residential lounge & Caf\\xe9 \\u2022 Spacious and breathtaking fully landscaped 10', 0), (u'Bike Storage', 0), (u'walk in closet', 0), (u'Granite Countertops', 0), (u'Fitness center', 0), (u'ALL UTILITIES INCLUDED!!', 0), (u'The Most Sought after Location', 0), (u'** NO FEE BABY! * MASSIVE 2BR w/TERRACE * GOURMET SS KITCHEN * ELEV/LNDRY BLDG * SCENIC ROOF DECK * 3 BLKS TO TRAIN **', 0), (u'Queen & King Size Bedrooms', 0), (u'Microwave', 0), (u'NO FEE!!!Roof Deck', 0), (u'crown molding', 0), (u'Kids playroom', 0), (u'High Ceil', 0), (u'live in super', 0), (u'low-rise', 0), (u'Package Receiving', 0), (u'Intercom', 0), (u'Central Air', 0), (u'Control & pay for your own heat with your own thermostat', 0), (u'Exposed Brick Wall', 0), (u'granite bathroom', 0), (u'Media Room', 0), (u'ceiling-fan. 3Lg closets', 0), (u'LINOLEUM', 0), (u'New construction', 0), (u'Satellite TV', 0), (u'high ceilings.', 0), (u'Guarantors Accepted', 0), (u'** MULTI-LEVEL MANSION * HUGE 4BR DUPLEX * MR CLEAN APPROVED * OVERSIZED WINDOWS GALORE * 2 BLKS TO BEDFORD L STOP **', 0), (u'Spa center', 0), (u'Manhattan Views', 0), (u'VERY COMFORTABLE LAYOUT', 0), (u'Garden', 0), (u'Laundry On Floor', 0), (u'heat hot water included', 0), (u'Tenant pays for electric!', 0), (u'Private balcony', 0), (u'1.5 Marble Baths', 0), (u'Breakfast Bar', 0), (u'fully equipped chef\\u2019s kitchen with private roof deck', 0), (u'Separate Kitchen', 0), (u'Dry cleaning service', 0), (u'High ceilings', 0), (u'ROOFDECK', 0), (u'Storage space', 0), (u\"** EAST VILLAGE EXTRAVAGANZA * MASSIVE 2BR HOME * PERFECT SHARE * COOK'S KITCHEN * PERFECT NATURAL LIGHT **\", 0), (u'European air condition in each room', 0), (u'Available  04/15/16', 0), (u'build-in Microwave-oven', 0), (u'Actual Photos!', 0), (u'XXL Windows', 0), (u\"No Broker's Fees\", 0), (u'New Construction', 0), (u'Granite Counter', 0), (u'Stainless Steel Full Size Appliances.', 0), (u'CLOSETS GALORE!', 0), (u'air conditioned laundry facility', 0), (u'Poo', 0), (u'** ELEGANT E50s & PARK BABY! * MASSIVE 4BR MANSION * NO BROKER FEE * DISHWASHER * WALLS OF WINDOWS * ELEV BLDG **', 0), (u'Lots of Light', 0), (u'Yoga Room', 0), (u'Residents Garden', 0), (u'Huge Rooms', 0), (u'wash/dryer', 0), (u'Call Timur for instant Access 646 847 8588', 0), (u'convertible 2 bedroom', 0), (u'steam room', 0), (u'Garden Roof Deck', 0), (u'Low fee and great space too!', 0), (u'Duplex Lounge', 0), (u'Pets: Cats/Small Dogs', 0), (u'The friendliest doormen in all of Manhattan', 0), (u'BBQs!', 0), (u'** MASSIVE 3BR SUPER SHARE * WASHER/DRYER * ORNATE PREWAR DETAILS * STEPS TO BEDFORD L STOP **', 0), (u\"** BKLYN'S FINEST! * MASSIVE TRUE 2BR * COURTYARD * FULLY RENOVATED * 2 BLKS TO BEDFORD L STOP **\", 0), (u'Executive conference room with large-screen HDTV', 0), (u'Video Access Control', 0), (u'high floor unit', 0), (u'NO FEE!!', 0), (u'Laundry in building', 0), (u'Great Light and Location. Fresh paint.', 0), (u'Queen Sized Bedrooms', 0), (u'soaking tub', 0), (u'Spacious Living Room', 0), (u'Free Gym', 0), (u'Standard on-site parking', 0), (u'Modern Finishes', 0), (u'Large & Medium Storage', 0), (u'New Electric', 0), (u'Attended garage', 0), (u'55th & 6th ave', 0), (u'Decorative fireplace', 0), (u'Custom painted murals', 0), (u'A One-of-a-Kind Full service Luxury Highrise', 0), (u'24/7 Fitness Center', 0), (u'ELEVATOR/LAUNDRY/ SO CLOSE TO THE 6 $2450!!', 0), (u'Washer/Dryer in Bldg', 0), (u'GARDEN', 0), (u'** ENTIRE FLOOR! * SPRAWLING 2BR HOME * IMMACULATE RENOVATIONS * FIREPLACE * 2 BLKS TO BEDFORD L STOP **', 0), (u'South Facing', 0), (u'Catering Facility', 0), (u'Common terrace', 0), (u'Double height lobby French limestone and Rojo Alicante marble', 0), (u'000-square foot sun deck\\u2022 Free WiFi in Marc Club', 0), (u\"** OVERSIZED & UNDERPRICED NO FEE * SPRAWLING 3BR SUPER SHARE * SEPARATE COOK'S KITCHEN * WALLS OF WINDOWS * 2 BLKS TO TRAIN **\", 0), (u'Bright spacious 2 BR/1BA', 0), (u'** CHIC CHELSEA FIND! * MASSIVE 4BR HOME * 2 FULL BATHS * CHEF INSPIRED KITCHEN * ELEV THAT OPENS INTO APT * CATS OK **', 0), (u'Sauna', 0), (u'Courtyard', 0), (u'Convertible 1br', 0), (u'Complimentary breakfast on weekdays', 0), (u'Park Block', 0), (u'Highland Park', 0), (u'outdoor space', 0), (u'Sun/Roofdeck', 0), (u'King Size Bedroom', 0), (u'NYU', 0), (u'All Utilities Included', 0), (u'** OVERSIZED & UNDERPRICED! * SPRAWLING CONV 3BR MANSION * MASSIVE WINDOWS GALORE * ELEV BLDG * STEPS TO THE PARK! **', 0), (u'wine cooler.', 0), (u'High floor', 0), (u'Mins From Train', 0), (u'REAL WALL ALLOWED', 0), (u'Quiet Neighborhood', 0), (u'Outdoor areas', 0), (u'pets upon approval', 0), (u'2 Bedroon Convertible', 0), (u'On-Site Parking', 0), (u'DW  DUPLEX   PENTHOUSE', 0), (u'On Site Super', 0), (u'On-site Laundry', 0), (u'Heat & Water Included', 0), (u'Huge', 0), (u'** MODERN VILLAGE MARVEL * SPRAWLING 2BR HOME * EXPOSED BRICK * LNDRY BLDG * NEAR THE PARK **', 0), (u'GROUND FLOOR', 0), (u'Laundry In Unit', 0), (u'Rooftop Terrace', 0), (u'1 Month Free', 0), (u'** THE PERFECT SHARE! * MASSIVE 2BR HOME * GUT RENOVATED * LNDRY BLDG * PETS OK * HEART OF THE VILLAGE **', 0), (u'1.5 Bath', 0), (u'Roof deck with stunning view', 0), (u'Eat-in kitchen', 0), (u'Window Bathroom', 0), (u'Working Fireplace', 0), (u'Pilates and training room.', 0), (u'Hot Water Included', 0), (u'Sunny', 0), (u'Extra room', 0), (u\"** GREENPOINT GIANT * SPRAWLING 2BR HOME * CHEF'S KITCHEN * PERFECT NATURAL LIGHT * STEPS TO THE PARK & TRAIN! **\", 0), (u'Shares OK', 0), (u'1200sq ft', 0), (u'Outdoor BBQs', 0), (u'Rentable', 0), (u'Extra Closet Space', 0), (u'electronic keycard', 0), (u'** SUPER SWEET 1BR HOME * ELEGANT E60s! * MR CLEAN APPROVED * CHEF INSPIRED KITCHEN * TONS OF NATURAL LIGHT! * CATS OK **', 0), (u'Sorry no pets', 0), (u'On site super', 0), (u'over sized apartment', 0), (u'and stainless steel appliances with a dishwasher well maintained hardwood floors add to the warmth and modern feel of the space.', 0), (u'SS appliances', 0), (u'No fee', 0), (u'Spin Room', 0), (u'On-site Super', 0), (u'$600 gift card for Move-ins prior to June 19', 0), (u'PRIVATE BALCONY', 0), (u'Common Storage', 0), (u\"two en-suite balcony's.\", 0), (u'Deco Brick Wall', 0), (u'direct bus line to ferry', 0), (u'in-unit washer-dryer', 0), (u'Photos of actual apartment', 0), (u'storage room', 0), (u'Laundry In Building', 0), (u'9th floor manhattan views', 0), (u'stainless steel appliances', 0), (u'Wheelchair Ramp', 0), (u'INDOOR GARAGE AVAILABLE', 0), (u'Lounge spaces', 0), (u'Large Windows w/ lots of Natural Light', 0), (u'share ok', 0), (u'Common Terrace', 0), (u'BALCONY', 0), (u\"Chef's kitchen\", 0), (u'counter-top space', 0), (u'Move-in coordination', 0), (u\"** MIDTOWN MIRACLE * SPRAWLING 1BR HOME * COOK'S KITCHEN * WINDOWS ALL AROUND * ROOMY CLOSETS **\", 0), (u'XXLARGE STUDIO', 0), (u'Twenty-four hour concierge and doorman', 0), (u'Renovated Kitchen', 0), (u'2 Queen Bedrooms', 0), (u'Billiards and Shuffle Board Game Room Poker room Golf Simulator and Putting Green', 0), (u'ELEVATOR', 0), (u'State-of-the-art swimming pool', 0), (u'Washer and dryer in unit', 0), (u'Landlord paying for all utilities! Tenant pays for cable / tv / internet.', 0), (u'** MIDTOWN MIRACLE * SPRAWLING 2BR SUPER SHARE * SS EAT-IN KITCHEN * FRENCH DOORS * ORNATE PREWAR DETAILS **', 0), (u'** SUNDRENCHED & SPACIOUS * MASSIVE 3BR HOME * ALL MODERN & NEW * STEPS TO L TRAIN **', 0), (u'Laundry', 0), (u\"** BRAND SPANKIN' NEW * OVERSIZED 3BR HOME * WASHER/DRYER * SS KITCHEN w/ISLAND * HEART OF DESIRABLE SOHO **\", 0), (u'landmark building', 0), (u'Combo Washer Dryer', 0), (u'PRIVATE ENTRANCE', 0), (u'Library', 0), (u'Yoga Classes', 0), (u'Video Intercom', 0), (u'HIGH CEILINGS', 0), (u'Wood-burning Fireplace', 0), (u'Laundry in Building', 0), (u'pet friendly', 0), (u'Walk-in Closet', 0), (u'Historical Brownstone originally built in 1901!', 0), (u'Private Storage', 0), (u'boating hardwood floors', 0), (u'Atm', 0), (u'Outdoor roof deck overlooking New York Harbor and Battery Park', 0), (u'All utilities included', 0), (u'No Pets', 0), (u'French Door', 0), (u'Gas Stove', 0), (u'in unit washer and dryer', 0), (u'On-site Garage', 0), (u'Window treatments', 0), (u'**Laundry room code is 3401', 0), (u'78th & LEXINGTON Ave', 0), (u\"** UPTOWN'S FINEST! * MASSIVE 1BR HOME * ORNATE PREWAR DETAILS * GOURMET CHEF'S KITCHEN * PETS OK **\", 0), (u'and breathtaking views of New York City from our rooftop terrace', 0), (u'Sundeck', 0), (u'Near PRATT', 0), (u'$250 application fee with background and credit check. Board interview and approval.', 0), (u'Double Hung Wooden Shutters', 0), (u'Four Barbecue Grills', 0), (u'Wifi in Resident Lounge', 0), (u'W/D', 0), (u'Cats Allowed', 0), (u'Sunny Southern Exposure', 0), (u'Heat/Hot Water/Gas Included', 0), (u'Game Center', 0), (u'Indoor 50ft lap pool; dishwasher; free bike storage', 0), (u'walk-up', 0), (u'Beamed Ceilings', 0), (u'valet parking', 0), (u'** DIAMOND UWS DEAL! * MASSIVE STUDIO * EXPOSED BRICK * DISHWASHER * PETS OK * STEPS TO THE PARK! **', 0), (u'Resident Events', 0), (u'-Greal location', 0), (u'designer finishes', 0), (u'Roof-deck', 0), (u\"** SPRAWLING 3BR SUPER SHARE * WALLS OF WINDOWS * CHEF'S KITCHEN w/DISHWASHER * WASHER/DRYER * STEPS TO THE PARK & COLUMBIA * REAL PIX **\", 0), (u'IN-UNIT WASHER & DRYER', 0), (u'Dogs Allowed', 0), (u'Gym', 0), (u'Hardwood floor', 0), (u'LOUNGE', 0), (u'shuttle service', 0), (u'Attended Lobby', 0), (u'Pool', 0), (u'Ached Doorways', 0), (u'4th off Charles', 0), (u'Great Views of the Neighborhood', 0), (u'Newly Renovated w/ Oak wood floors   Mid century modern style interior   Large Closets in Every Bedroom EXTRA storage space in hall. Large Living room', 0), (u'b Billiards Table', 0), (u'Recessed Lighting.', 0), (u'65th/2nd Ave', 0), (u'Electric Included', 0), (u'Laundry on every floor', 0), (u'** SPRAWLING TRUE 3BR SUPER SHARE * FIT FOR KINGS! * UNIQUE RENOVATIONS * STEPS TO THE WATERFRONT * 1 BLK TO BEDFORD L STOP **', 0), (u'Cinema room', 0), (u'2 Full Bathrooms', 0), (u'close to NYC', 0), (u'exercise studio', 0), (u'Deck', 0), (u'Stunning Renovations', 0), (u'Laundry in Unit', 0), (u'air conditioned', 0), (u'furnished rental', 0), (u'East Village', 0), (u'Queen Size Bedrooms', 0), (u'Rent Stabalized', 0), (u'Virtual Doorman', 0), (u'spacious rooms', 0), (u'LARGE Living Room', 0), (u'** OVERSIZED & UNDERPRICED! * SPRAWLING SUNFILLED STUDIO * ROOMY CLOSETS * TONS OF SUNLIGHT * PETS OK **', 0), (u'BUILT-IN SPEAKER SYSTEM', 0), (u'Private roof access', 0), (u'SS Appliances w/ Dishwasher', 0), (u'1 BR or Conv 2', 0), (u\"Children's room\", 0), (u'Reduced Fee', 0), (u'cinema room', 0), (u'** OVERSIZED & UNDERPRICED * CLASSY CORNER STUDIO * ALL MODERN & NEW * PERFECT SUNLIGHT * PETS OK **', 0), (u'Third Floor walk up', 0), (u'** MASTERFUL BKLYN FIND! * SPRAWLING 3BR MEGA-SHARE * GOURMET KITCHEN * MR CLEAN APPROVED * 2 BLKS TO BEDFORD L **', 0), (u'Features: Washer/Dryer', 0), (u'Island Kitchen', 0), (u'All New', 0), (u'well-maintained', 0), (u'Marble Bathrooms', 0), (u'BIG 2 BED DEAL..Grab it or Grieve it!!!', 0), (u'* MARVELOUS MIDTOWN GEM * SPACIOUS SUNDRENCHED STUDIO * STUNNING PREWAR DETAILS * CATS OK **', 0), (u'Private Patio!', 0), (u'** W60s WONDER ~ NEAR THE PARK! * OVERSZED STUDIO STEAL * COURTYARD * FREE GYM * ELEV/LNDRY BLDG * CATS OK **', 0), (u'** E60s EXCELLENCE * SPRAWLING 1BR HOME * GOURMET KITCHEN * WINDOWS ALL AROUND * PETS OK **', 0), (u'NO FEE!!!', 0), (u'Walls of Windows', 0), (u'** MODERN MARVEL! * HEART OF THE VILLAGE * OVERSIZED 2BR HOME * EXPOSED BRICK * LNDRY BLDG **', 0), (u'Washer/ Dryer in Unit', 0), (u'Great Closet Space', 0), (u'New Appliances', 0), (u'Ceiling Fans', 0), (u'roof deck', 0), (u'BACKYARD', 0), (u'Dogs under 20 Lbs.                Parking ( additional Fee)', 0), (u'Pre-War', 0), (u'Great View', 0), (u'Billiards Room', 0), (u'Common backyard', 0), (u'Central AC', 0), (u'package room', 0), (u'Original Details', 0), (u'** MIDTOWN NO FEE MANSION! * SPRAWLING 2BR SUPER SHARE * CHEF INSPIRED KITCHEN * ELEV/LNDRY BLDG **', 0), (u'** SPRAWLING 1BR w/HOME OFFICE * PRIVATE BACKYARD * SPARKLING CLEAN & BRIGHT * STEPS TO L TRAIN **', 0), (u'Spotless Laundry', 0), (u'Common Areas', 0), (u'500 Sq Ft', 0), (u'Sleep Loft', 0), (u'WALK IN CLOSET', 0), (u'Tenant Lounge', 0), (u'On-site ATM Machine', 0), (u'Storage locker for each apt', 0), (u'** COURT SQUARE GEM! * LIC LUXURY 2BR HOME * SS KITCHEN ~ DISHWASHER * BAY WINDOWS * FIREPLACE * ALL NEW! **', 0), (u'Lounge', 0), (u'Wine Cooler', 0), (u'Expansive Living-room', 0), (u'Rent is net effective-Gross price is $3250', 0), (u'Water Views', 0), (u'All pets ok', 0), (u'A full service Luxury residence', 0), (u'Basketball Court', 0), (u'laundry in bldg.', 0), (u'EAT IN KITCHEN', 0), (u'5 BED', 0), (u'Swimming Pool', 0), (u'Right on Lexington Ave - Close to subway', 0), (u'Large open kitchen', 0), (u'** CLASSY CORNER STUDIO * OVERSIZED & UNDERPRICED * WINDOWS ALL AROUND * PETS OK **', 0), (u'free gym', 0), (u'2 bathrooms', 0), (u'2 Months Free', 0), (u'attached parking', 0), (u'** RARE FIND ~ UNIQUE CARRIAGE HOUSE * MASSIVE TRUE 2BR * PRIVATE GARDEN * WASHER/DRYER * 2 BLKS TO L TRAIN **', 0), (u'separate kitchen', 0), (u'Fireplace', 0), (u'ABSOLUTE VALUE FOR SIZE & LOCATION', 0), (u'$1500. Move-in Visa Giftcard will be handed to new tenants upon rental lease signing', 0), (u'Multi-Level', 0), (u'Lounge W/ Free Wifi', 0), (u'Free Wifi', 0), (u'HARDWOOD', 0), (u'<null>', 0), (u'Central A/C', 0), (u'Light.', 0), (u'NO alternate side parking rules in neighborhood', 0), (u'Valet Service', 0), (u'Flat screen TV and sound system', 0), (u'2 Full Baths', 0), (u'On-site Resident Manager', 0), (u'Parking Space', 0), (u'Elegant glass-enclosed private lounge with magnificent river views', 0), (u'NMW', 0), (u'Pre-war Charm', 0), (u'Keyed Elevator with direct access into your living room', 0), (u'** NO FEE MULTI-LEVEL MANSION! * MASSIVE 3BR TRIPLEX * HUGE PRIVATE TERRACE * E50s & PARK AVE * ELEV/LNDRY BLDG **', 0), (u'Landlord is offering month of April Free', 0), (u'Hot Water Inc. HUGE Walk-In Closet or Extra Room!', 0), (u'Full size gym', 0), (u'Guest Suite For Residents Only', 0), (u'Storage Facilities available', 0), (u'True 2 Bedroom - On Lexington Ave', 0), (u'SSA Kitchen', 0), (u'Walk-in-closet', 0), (u'Spacious', 0), (u'CONDO FINISHES', 0), (u'Pets - case by case.', 0), (u'In-Unit Washer/Dryer', 0), (u'junior 1 bedroom layout', 0), (u'Pets on approval', 0), (u'1 MONTH FREE', 0), (u'small dressing-area in front of bathroom', 0), (u'Approved animals only', 0), (u'Underground Parking', 0), (u'Free Storage', 0), (u'East and West Resident Lounges Reading Room Outdoor Lounges with River Views Party Room Chefs Kitchen Movie Screening Room Tot Spot Playroom Ping Pong', 0), (u'Granite Kitchen', 0), (u'Private Backyard', 0), (u'** HOLY NO FEE! * OVERSIZED 2BR HOME * PRIVATE TERRACE & SCENIC ROOF DECK * SS KITCHEN * DISHWASHER * ELEV/LNDRY BLDG * 3 BLKS TO L TRAIN **', 0), (u'Granite countertops', 0), (u'No Fee or One Month Free', 0), (u'Roof', 0), (u'Rent Stabilize - Elevator Building', 0), (u'bay windows', 0), (u'Stunning New Renovation', 0), (u'Closed circuit television security system', 0), (u'** SPACIOUS STUDIO SUPREME * AMAZING CORNER LAYOUT * TONS OF SUNLIGHT * PETS OK **', 0), (u'Soaking Neptune bathtub', 0), (u'In Unit Washer & Dryer', 0), (u'rooftop access', 0), (u'DISHWASHER', 0), (u'Shares okay', 0), (u'Gramercy Park', 0), (u'** MASTERFUL BKLN MANSION! * SPRAWLING 3BR HOME * ORNATE PREWAR DETAILS * GOURMET KITCHEN * 1 BLK TO BEDFORD L **', 0), (u'huge balcony', 0), (u'Outdoor Space (Private Roof Deck)', 0), (u'Terrace', 0), (u'Cats on approval', 0), (u'Mint', 0), (u'Dry Cleaning Service', 0), (u'Private roof-deck', 0), (u'Fireplace Storage', 0), (u'Actual photos', 0), (u'Comprehensive valet services including maid service', 0), (u'One small dog ok on approval', 0), (u'Stainless Kitchen', 0), (u'** NO FEE BKLN LUXURY! * EXPANSIVE 1BR w/HOME OFFICE * EAT-IN KITCHEN * FULL RENOVATED * 1 BLK TO THE PARK * STEPS TO L TRAIN **', 0), (u'S/S appliances', 0), (u'MICROWAVE', 0), (u'Southern Exposure', 0), (u'laundry in bldg', 0), (u'Sparkling  Marble Bathroom', 0), (u'Yoga Studio', 0), (u'Washer/Dryer In Unit', 0), (u'original molding details', 0), (u'private roof deck', 0), (u'** GREENPOINT GIANT * HUGE TRUE 2BR MEGA-SHARE * SPARKLING CLEAN & BRITE * STEPS TO THE PARK & BEDFORD L STOP **', 0), (u'No Fee!!!', 0), (u'Two Level Fitness Center', 0), (u'** SPRAWLING SUNFILLED 3BR HOME * NO FEE * EAT-IN KITCHEN * WALLS OF WINDOWS * MODERN RENOVATIONS * 2 BLKS TO TRAIN **', 0), (u'stainless steel', 0), (u'2 beautifully furnished outside sundecks', 0), (u'Renovated Bathroom', 0), (u'Harwood Floors', 0), (u'Great Views', 0), (u'Shuttle to 7 train', 0), (u'** ELEGANT EAST VILLAGE! * MASSIVE 2BR SUPER SHARE * MODERN & NEW * EXPOSED BRICK * LNDRY BLDG **', 0), (u'state-of-the-art fitness center and even an on-site dog run', 0), (u'RENOVATED 1 Bed', 0), (u'Spa Services', 0), (u'LIVE IN SUPER', 0), (u'Ample Closet Space', 0), (u'Last', 0), (u'Housekeeping', 0), (u'Game room', 0), (u'Restaurant', 0), (u'super bright', 0), (u'One month free', 0), (u'PERFECT LOCATION!!!!', 0), (u'Penthouse', 0), (u'Walk-In Closet', 0), (u'30th & 3rd ave', 0), (u'Offering  1 month free OR 1 month OP', 0), (u'kitchen island', 0), (u'Low Fee', 0), (u'Private garden', 0), (u'Live/Work', 0), (u'Gardening area with rentable plots', 0), (u'A Full service Luxury highrise', 0), (u'Laundry Room', 0), (u'Windowed Kitchen', 0), (u'** PRISTINE TOWNHOUSE * MASSIVE 2BR SUPER SHARE * DISHWASHER * E50s BABY! * PERFECT NATURAL LIGHT * ROOMY CLOSETS **', 0), (u'On-site Parking available', 0), (u'onsite super', 0), (u'Stainless Steel Appliances', 0), (u'Herringbone Wood Floors', 0), (u'** OVERSIZED 3BR SUPER SHARE * EQUAL SIZED BRS! * WALL OF WINDOWS * WASHER/DRYER * STEPS TO BEDFORD L STOP **', 0), (u'Bright & Sunny!', 0), (u'NO BROKER FEE! NO FEE', 0), (u'Large Livingroom', 0), (u'87th & 1st', 0), (u'brand new stainless steel appliances', 0), (u'Conv. 3 Bedroom', 0), (u'Great area', 0), (u'dry cleaning service', 0), (u'Gut Renovation', 0), (u'Fireplaces', 0), (u'** SPRAWLING SUNDRENCHED 2BR HOME * NO FEE! * WALLS OF WINDOWS * CHEF INSPIRED EAT-IN KITCHEN * 2 BLKS TO TRAIN **', 0), (u'Free brealfast', 0), (u'81ST & CPW', 0), (u'Large Living room & Bedrooms', 0), (u'Flex-1', 0), (u'Garbage Disposal', 0), (u'Flex-3', 0), (u'Flex-4', 0), (u'mid-rise', 0), (u'Easy Qualification', 0), (u'Private Patio', 0), (u'Post War', 0), (u'NEW Marble Bathroom', 0), (u\"** RENT STABILIZED * OVERSIZED 1BR HOME * MR CLEAN APPROVED * SEPARATE COOK'S KITCHEN * HEART OF MIDTOWN **\", 0), (u'AMAZING DEAL!', 0), (u'Flex 3 Bed', 0), (u'Air Conditioning: Unknown Type', 0), (u'Garage', 0), (u'** DIAMOND NO FEE DEAL! * SPRAWLING SUNFILLED 2BR w/PRIVATE TERRACE * SS KITCHEN * ELEV/LNDRY BLDG * 3 BLKS TO L TRAIN **', 0), (u'** SPRAWLING STUDIO HOME * DISHWASHER * EXPOSED BRICK * GUT RENOVATED * PETS OK * STEPS TO THE PARK **', 0), (u'Close to Subway - Renovated!', 0), (u'Queen Size bedrooms', 0), (u'Eat in Kitchen', 0), (u'Residents Lounge', 0), (u'** CLASSY CONV 2BR DUPLEX DREAM! * ROOM TO ENTERTAIN * LNDRY BLDG * CATS OK * HEART OF THE VILLAGE **', 0), (u'** WICKED W50s FIND! * SPRAWLING STUDIO HOME * GOURMET KITCHEN * UNIQUE RENOVATIONS * STEPS TO CENTRAL PARK! **', 0), (u'Large room', 0), (u'FIOS High Speed Internet', 0), (u'** DIAMOND NO FEE DEAL! * MASSIVE 1BR w/ HOME OFFICE * CONDO QUALITY FINISHES * EAT-IN KITCHEN * 1 BLK TO THE PARK **', 0), (u'Large Closets', 0), (u'walking distances to restaurants', 0), (u'Ceiling Fan', 0), (u'One month Fee', 0), (u'Parking Available', 0), (u'competitively priced', 0), (u'Resident Super in the building', 0), (u'Lounge with WiFi', 0), (u'on-site parking', 0), (u'Outdoor Entertainment Space', 0), (u'Heat and Hot Water Included', 0), (u'High Ceiling', 0), (u'common storage', 0), (u'Rent includes cable tv and wireless internet', 0), (u'Separate kitchen', 0), (u'basketball court', 0), (u'Complimentary Sunday brunch', 0), (u'Mullion Pane Windows', 0), (u'assigned-parking-space', 0), (u'Roofdeck', 0), (u'On-Site Super', 0), (u'abundant closets', 0), (u'Recent Renovation', 0), (u'Open Layout', 0), (u'Jr.1 Bed', 0), (u'Exposed brick wall', 0), (u'Children playroom', 0), (u'Water view', 0), (u'Magnificent Venetian-Style', 0), (u'Close to Central Park', 0), (u'Pre War', 0), (u'deco brick wall', 0), (u'Newly Renovated', 0), (u'Skylight Atrium', 0), (u'Fully  equipped', 0), (u'Bike & stroller storage', 0), (u'Luxury building', 0), (u'** RIVERSIDE NO FEE SPECIAL! * SPRAWLING 1BR HOME * FIREPLACE * BAY WINDOWS * EXPOSED BRICK * DISHWASHER * LNDRY BLDG **', 0), (u'Available 06/04/16     Firepalce', 0), (u'NO FEE', 0), (u'great river views', 0), (u'Virtual DM', 0), (u'24th St & 3rd Ave', 0), (u'Granite Counter Tops', 0), (u'24-hour concierge and doorman', 0), (u'Wardrobe Style Closets', 0), (u'Steps from Tompkins Sq Park', 0), (u'Children\\u2019s playroom', 0), (u'Semi-private Backyard', 0), (u'79th/2nd', 0), (u'Big Rooms', 0), (u'Vacation home', 0), (u'Extra Storage', 0), (u'Southern exposure', 0), (u'rooftop with grills', 0), (u'Parking', 0), (u'Alcove Studio', 0), (u'Community recreation facilities', 0), (u'Common parking/Garage', 0), (u'Pre-War Details', 0), (u'Elevator & Laundry', 0), (u'built-in wine cooler', 0), (u'Close to hospitals', 0), (u'Package service', 0), (u'prime location', 0), (u'closet space', 0), (u'Shared backyard', 0), (u'1/2 Month Fee', 0), (u'Superintendent lives in', 0), (u'Pets Upon Approval', 0), (u'Storage Closet', 0), (u'two tennis courts', 0), (u'Game Room', 0), (u'** ELEGANT E50s!! * SPRAWLING SUNDRENCHED 2BR HOME * FRENCH DRS * BREAKFAST BAR * DISHWASHER * EAT-IN KITCHEN * WALK-IN CLOSETS! **', 0), (u'built in storage', 0), (u'Nearby Medical Centers', 0), (u'Double Panned Sound-Proof windows /Renovated open kitchen marble and stainless steel countertops', 0), (u'** MASTERFUL 3BR MANSION * THE PERFECT SHARE * BACKYARD * EAT-IN KITCHEN * 1 BLK TO BEDFORD L **', 0), (u'laundry room', 0), (u'Nearby M & R trains', 0), (u'WiFi Access', 0), (u'Available  05/15/16    Dishwasher', 0), (u'AC', 0), (u'Private laundry room on every floor', 0), (u'Parquet Floors', 0), (u'24/7 DOORMAN', 0), (u'Concierge service. Fitness center', 0), (u'Unassigned Paid parking available', 0), (u'Walk-In Closet Views:', 0), (u'24HR Doorman', 0), (u'Exposed Brick Walls', 0), (u'Loft', 0), (u'Large Living-room', 0), (u'73rd St.', 0), (u'State-of-the-Art Cardio and Fitness Club', 0), (u'Party room', 0), (u'Storage Space', 0), (u'Available 06/01/16', 0), (u'4th floor Walk Up', 0), (u'Business center', 0), (u'Concierge Services', 0), (u'24 hr concierge', 0), (u'Garage Parking!', 0), (u'SIMPLEX', 0), (u'Granite Counters', 0), (u'Private Roof-Deck', 0), (u'Outdoor terrace', 0), (u'Brand New', 0), (u'Rooftop deck', 0), (u'MIDRISE', 0), (u'24 Hour Doorman Concierge', 0), (u'** OVERSIZED 1BR HOME * GUT RENOVATED * PERFECT NATURAL LIGHT * HEART OF CHELSEA * PETS OK **', 0), (u'Fully equipped fitness center with studio for classes', 0), (u'Julian Balcony', 0), (u'FREE MONTH & NO-FEE', 0), (u'Just Listed', 0), (u'Package & grocery delivery storage', 0), (u'& ATM machine on-site', 0), (u'** UNIQUE UNION SQ STEAL * MASSIVE 1BR HOME * MR CLEAN APPROVED * REAL PIX * ELEV BLDG **', 0), (u'Flat-screen TV', 0), (u'Dog OKAY', 0), (u'Flex-2', 0), (u'On-Site Attended Garage', 0), (u'Living/dining room', 0), (u\"children's room\", 0), (u'Community Recreation Facilities', 0), (u'Open Kitchen', 0), (u'Open Granite Kitchen', 0), (u'open views', 0), (u'Playroom', 0), (u'Queen Bedrooms', 0), (u'Flex two bed', 0), (u'Private fenced yard', 0), (u'Residents can choose from three high-speed Internet providers: Verizon Fios', 0), (u'** MIDTOWN MARVEL! * MASSIVE 1BR HOME * GOURMET KITCHEN * UNIQUE PREWAR DETAILS * ROOMY CLOSETS * ALL NEW **', 0), (u'Heat Included', 0), (u'Private Dining Room', 0), (u'Screening room', 0), (u'Central Heat', 0), (u'game room', 0), (u'** OVERSIZED 3BR HOME * SPARKLING CLEAN * TONS OF NATURAL LIGHT * 2 BLKS TO THE WATERFRONT & BEDFORD L STOP **', 0), (u'Stainless Steal Appliances', 0), (u'SUNDECK', 0), (u'Garage.', 0), (u'Updated appliances', 0), (u'Tenant pays for only electric!', 0), (u\"Lot's of Light\", 0), (u'laundry / dry-cleaning and auto care', 0), (u'near NQRMG Trains', 0), (u'Actual Apt. Photos', 0), (u'GUT RENOVATED', 0), (u'Live-In Super', 0), (u'** MIDTOWN MANSION * HUGE 2BR HOME * EAT-IN KITCHEN * SS APPL * FRENCH DOORS * ROOMY CLOSETS **', 0), (u'Solarium', 0), (u'** HUGE TRUE 2BR SUPER SHARE * EXPOSED BRICK * GOURMET KITCHEN * LNDRY BLDG * HEART OF THE VILLAGE **', 0), (u'business center', 0), (u'** CENTRAL PARK STEAL! * MASSIVE STUDIO SUPREME * GUT RENOVATED * WALLS OF WINDOWS * ELEV/LNDRY BLDG **', 0), (u'Home Office', 0), (u'Private terrace', 0), (u'Tall Ceilings', 0), (u'indoor swimming pool', 0), (u'Hardwood floors', 0), (u'Outdoor Areas', 0), (u'24/7 Full-Time Doorman Concierge', 0), (u'Outdoor space', 0), (u'tenants lounge with free Wi-Fi', 0), (u'no board approval', 0), (u'Alcove', 0), (u'small dogs ok', 0), (u'water view', 0), (u'Brand New Stainless Steal Appliances!', 0), (u'Multi Level', 0), (u'** MURRAY HILL NO FEE MANSION * SPRAWLING 1BR HOME * ORNATE PREWAR DETAILS * GOURMET KITCHEN * WINDOWS ALL AROUND **', 0), (u'ALL UTILITIES INCLUDED', 0), (u'Recently renovated', 0), (u'Steam Room', 0), (u'24-hour parking garage with an electric vehicle charging station.', 0), (u'Air conditioning', 0), (u'new kitchen!', 0), (u'Outdoor Pool', 0), (u'HIGHRISE', 0), (u'Light', 0), (u'Large Windows with Lots of Natural Light', 0), (u'Dining Area', 0), (u'Well mainatained Swimming pool', 0), (u'an expansive landscaped terrace and sun deck', 0), (u'Pets Allowed', 0), (u'Underground parking', 0), (u'Sleeping Alcove', 0), (u'private storage', 0), (u'Washer/Dryer', 0), (u'Basement Storage', 0), (u'Dogs OK', 0), (u'All common areas feature Wi-Fi accessibility', 0), (u'however there\\'s a standing \"no walls\\' building policy!', 0), (u'concierge services', 0), (u'MW', 0), (u'Kitchen Island', 0), (u'Valet services including dry cleaning', 0), (u'Bright & Sunny', 0), (u'near transportation', 0), (u'Great Area', 0), (u'private backyard', 0), (u'Prewar', 0), (u'Window Kitchen', 0), (u'** EXPANSIVE 4BR DUPLEX DREAM SHARE * GARDEN! * HUGE WINDOWS GALORE * ORNATE PREWAR DETAILS * 2 BLKS TO BEDFORD L **', 0), (u'utilities included', 0), (u'1 month free', 0), (u'Garage parking', 0), (u'Short term', 0), (u'700 SF', 0), (u'Leed Certificate Gold', 0), (u'Hardwood Flooring', 0), (u'Concierge Service', 0), (u\"** RARE FIND! * HUGE TRUE 2BR SUPER SHARE * CHEF'S KITCHEN * COURTYARD! * 2 BLKS TO BEDFORD L STOP **\", 0), (u'FREE HEALTH CLUB', 0), (u'Close to Transit', 0), (u'** GIGANTIC GREENPOINT 2BR HOME * ROOM TO ENTERTAIN * EXTRA STORAGE * DINING ROOM * ALL BRAND NEW! **', 0), (u'Skyline view', 0), (u'Oversized windows', 0), (u'Free WiFi in Club lounge', 0), (u'Exposed brick', 0), (u'24hr doorman', 0), (u\"** HUGE TRUE 3BR HOME * THE PERFECT SHARE * MASSIVE WINDOWS GALORE * COOK'S KITCHEN * STEPS TO L TRAIN **\", 0), (u\"** HUGE TRUE 3BR SUPER SHARE * STUNNING RENOVATIONS * WALLS OF WINDOWS * COOK'S KITCHEN * GORGEOUS GREENWICH VILLAGE **\", 0), (u'Recessed Lights', 0), (u'No broker fee!', 0), (u'Live in Super', 0), (u'Eat-in-Kitchen', 0), (u'Elevator Building', 0), (u'Onsite dry cleaner', 0), (u'Dishwasher/Microwave', 0), (u'Exposed Bricks', 0), (u'Low Fee Listing', 0), (u'Washer/Dryer Hookup', 0), (u'Roof garden and lounge', 0), (u'** SPRAWLING TRUE 2BR HOME * COURTYARD! * EAT-IN KITCHEN * GUT RENOVATED * 2 BLKS TO BEDFORD L **', 0), (u'Granite Bath', 0), (u'Oversized Shower Tub', 0), (u'ACTUAL APT. PHOTOS', 0), (u'Pet grooming room', 0), (u'private-balcony', 0), (u'Close to Subway', 0), (u'Health Club & Indoor Swimming Pool', 0), (u'Full-service condominium', 0), (u'Brand new washer & dryer', 0), (u'** EYE POPPING NO FEE! * MASSIVE 1BR HOME * EXPOSED BRICK * PRIVATE TERRACE * DISHWASHER * ELEV BLDG * ROOF DECK * PETS OK **', 0), (u'Laundry.', 0), (u'** PRISTINE MODERN TOWNHOUSE! * MASSIVE 2BR HOME * CHEF INSPIRED KITCHEN * HUGE WINDOWS GALORE * CATS OK **', 0), (u'Large Windows w/ Natural Light', 0), (u'Rent stabilize', 0), (u'PublicOutdoor', 0), (u'golf simulator', 0), (u'HUGE', 0), (u'Rooftop Sundeck', 0), (u'state-of-the-art fitness center', 0), (u'huge 1 bedroom', 0), (u'Washer/Dyer Combo', 0), (u'4 train is less than 1 block away', 0), (u'Walk in closet', 0), (u'Two Private Balconies', 0), (u'** MASSIVE 1BR HOME * RENT STABILIZED * SEPARATE KITCHEN * WALLS OF WINDOWS * ROOMY CLOSETS **', 0), (u'Dish Washer', 0), (u'Renovated Apt', 0), (u'state of the art fitness center', 0), (u'natural sunlight', 0), (u'deco fireplace', 0), (u'children\\u2019s playroom', 0), (u'1.5 baths', 0), (u'Arguably the most well-Maintained Luxury Highrise in the City', 0), (u'** ONE OF A KIND NO FEE! * MASSIVE 3BR MANSION * EAT-IN KITCHEN * TONS OF SUNLIGHT * 2 BLKS TO TRAIN **', 0), (u'Poker Table', 0), (u'Foyer', 0), (u'new construction', 0), (u'View', 0), (u'Exclusive', 0), (u'Washer/Dryer in-Unit', 0), (u'** SUPER SWEET STUDIO * NO FEE * DISHWASHER * ROOMY CLOSETS * ELEV BLDG * PETS OK **', 0), (u'** NO BROKER FEE! * MASSIVE 2BR SUPER SHARE * EAT-IN KITCHEN * PRIVATE TERRACE * ELEV/LNDRY BLDG * 1 BLK TO L TRAIN **', 0), (u'BROWNSTONE', 0), (u'Laundry room on every floor. Health club', 0), (u'** RARE FIND! * HUGE TRUE 2BR * COURTYARD * FULLY RENOVATED * EAT-IN KITCHEN * 2 BLKS TO BEDFORD L **', 0), (u'Brand New Appliances', 0), (u'SS Appliances', 0), (u'Elevator building', 0), (u'Gut Renovated.', 0), (u'Stainless Steel', 0), (u'2 Story Tenant Lounge', 0), (u'4 roof-decks with river views', 0), (u'Marble Bathroom', 0), (u'Utilities Included', 0), (u'** EXPANSIVE KING-SIZED 2BR MEGA-SHARE * EAT-IN KITCHEN * BIKE STORAGE * COURTYARD * 3 BLKS TO BEDFORD L **', 0), (u'Oversized window', 0), (u'Dryer in Unit', 0), (u'Washer', 0), (u'LIMITED TIME - NO FEE', 0), (u'fitness center', 0), (u'EASY TO SHOW!', 0), (u'24 Hour Doorman', 0), (u'Convertible 2', 0), (u'Views', 0), (u'Queen size sleeping Alcove', 0), (u'PLUS 1 MONTH FREE!!!', 0), (u'Exposed BrickHardwood Floors MicrowaveRenovated open view Excellent', 0), (u'WASHER/DRYER INSIDE THE UNIT', 0), (u'** REAL NO FEE BABY! * EXPANSIVE 3BR MASTERPIECE * SPACIOUS & SUNFILLED * SPARKLING CLEAN * EAT-IN KITCHEN * 2 BLKS TO TRAIN **', 0), (u'one flight walk up', 0), (u'NO FEE!', 0), (u'Washer & Dryer', 0), (u'Party/Meeting Room', 0), (u'A/C', 0), (u'Garage attached', 0), (u'Polished Hardwood Floors', 0), (u'over sized windows', 0), (u'COME LIVE THE GOOD LIFE FOR  LESS $$$$', 0), (u'High Speed Internet', 0), (u'Super On-Site', 0), (u'open concept kitchen', 0), (u'washer and dryer in the unit', 0), (u'Built In AC', 0), (u'Decorative Fireplace', 0), (u'private deck', 0), (u'windowed kitchen', 0), (u'billiards room', 0), (u'live-in super', 0), (u'Granite Counter tops.', 0), (u'1/2 bath', 0), (u'2 blocks away from Union Square', 0), (u'AC Central', 0), (u'modern kitchen', 0), (u'attached parking garage', 0), (u'Everything Brand New!', 0), (u'Skylight', 0), (u'3-12 MONTH LEASES ALLOWED', 0), (u'Washer/Dryer In-Unit', 0), (u'Rent Stabilized', 0), (u\"Children's Playroom\", 0), (u'Cable ready', 0), (u'one month free rent', 0), (u'** LEX AVE LUXURY! * SPRAWLING SUNFILLED 1BR HOME * ALL UTILITIES INCL! * DOORMAN * ELEV/LNDRY BLDG * CATS OK **', 0), (u'Bluetooth', 0), (u'Accepts Credit Cards (Fee Applies)', 0), (u'Green building', 0), (u'built in office area', 0), (u'Diplomats OK', 0), (u'Yoga an Pilates class', 0), (u'Lighting upgrades', 0), (u'Media Screening Room', 0), (u'** SPRAWLING 3BR SUPER SHARE * CLEAN & BRITE * NEAR WATERFRONT! * 2 BLKS TO BEDFORD L STOP **', 0), (u'ON-SITE GARAGE', 0), (u'Kitchen Pantry', 0), (u'Health Club', 0), (u'on-site parking garage', 0), (u'Southern Facing', 0), (u\"Children's playroom\", 0), (u'Telephonic intercom system/multiple phone lines per residence', 0), (u'25lb weight limit on pet', 0), (u'ceiling-fan...', 0), (u'Indoor Pool', 0), (u'club room w billiards tables', 0), (u'BIG OPEN SPACES', 0), (u'1.5 Baths', 0), (u'Digital TV', 0), (u'Exercise/Yoga Studio', 0), (u'Madison Square Park', 0), (u'Market on site', 0), (u'Partially Furnished with two (2) air conditioners and microwave unit.', 0), (u'Finished Basement', 0), (u'deco brick walls', 0), (u\"** HOLY NO FEE DEAL BATMAN! * MASSIVE 1BR HOME * CHEF'S KITCHEN * MAGIC ERASER CLEAN * PETS OK * REAL PIX **\", 0), (u'Eat in kitchen', 0), (u'Marble bath', 0), (u'** WICKED W50s WINNER! * MASSIVE 2BR SUPER SHARE * WINDOWS AL AROUND * CHEF INSPIRED KITCHEN * ELEV BLDG * PETS OK * STEPS TO CENTRAL PARK! **', 0), (u'BRAND NEW SS APPLIANCES', 0), (u'Full Kitchen', 0), (u'Bike Room', 0), (u'two full bathrooms', 0), (u'Large patio', 0), (u'gut renovated', 0), (u'3 bath', 0), (u'Incredible Views!', 0), (u'Oak Floors', 0), (u'On-site super', 0), (u'24-hour concierge', 0), (u'Crown Moldings', 0), (u'Fully-equipped Club fitness center', 0), (u'ONLY 1st and Security**Heat and Hot water included**NO FEE**732-330-4737', 0), (u'12th St & 3rd Ave', 0), (u'2', 0), (u'A wide array of complimentary fitness classes offered weekly', 0), (u'FURNISHED price. Central Air Conditioning. High Ceilings. Stainless Steel Appliances. Fully Equipped Stainless Steel Appliances Kitchen.', 0), (u'Dishwasher', 0), (u'co-op', 0), (u'Green Building', 0), (u'RENT-STABILIZED - ** RARE **', 0), (u'bicycle storage', 0), (u'Storage', 0), (u\"** EXTRA SWEET EAST VILLAGE! * MASSIVE 2BR HOME * ORNATE PREWAR DETAILS * EXPOSED BRICK * COOK'S KITCHEN * PETS OK **\", 0), (u'Private Outdoor space', 0), (u'$500 Security Deposit', 0), (u'Outdoor play area', 0), (u'Spacious private garden', 0), (u'Video intercom', 0), (u'Tenant Storage', 0), (u'Stainless Steel appliances', 0), (u'Convinient to all major transportation', 0), (u'Roof Deck with real grass', 0), (u'new stainless steel appliances', 0), (u'Washer/Dryer in building', 0), (u'HEAT/HOT WATER INCLUDED', 0), (u'CHEFS KITCHEN', 0), (u'** STEPS TO CENTRAL PARK!! * EXPANSIVE STUDIO STEAL! * A/C * EXTRA STORAGE * STUNNING RENOVATIONS * ELEV/LNDRY BLDG **', 0), (u'Voice Intercom', 0), (u'Yoga / dance studio', 0), (u'Private roofdeck', 0), (u\"** UPTOWN'S BEST KEPT SECRET * SPRAWLING 2BR HOME * COURTYARD * CHEF INSPIRED KITCHEN * LNDRY BLDG **\", 0), (u'Common courtyard', 0), (u'000 sq. ft. landscaped terrace complete with an organic garden', 0), (u'Walls OK', 0), (u'Wi-Fi Access', 0), (u'$250 Security Deposit', 0), (u'fully equipped gym', 0), (u'Bluetooth System', 0), (u'huge room', 0), (u'Guarantors okay', 0), (u'Twenty-four-hour concierge and doorman', 0), (u'Housekeeping service', 0), (u'PETS WELCOME', 0), (u'DW', 0), (u'BBQ Grill', 0), (u'water feature', 0), (u'ALL NEW', 0), (u'heat and water included in rent', 0), (u'exclusive rental', 0), (u'A true top luxury Hi-Rise', 0), (u'Large finished basement', 0), (u'Walk in Closet(s)', 0), (u'Park view', 0), (u'WiFi', 0), (u'000 Square Foot Exclusive Courtyard Oasis for VIA Residents', 0), (u'Equal King-Size Bedrooms', 0), (u'Private Entrances', 0), (u'** HOLY DEAL BATMAN!! * OVERSIZED 3BR MANSION * 2 FULL BATHS * HUGE SCENIC TERRACE * DOORMAN * ELEV/LNDRY BLDG * ROOF DECK * REAL PIX **', 0), (u'RIVER VIEWS', 0), (u'Loft Area', 0), (u'furnished wrap around terrace', 0), (u'newly renovated', 0), (u'Full Skyline View', 0), (u'QUEEN SIZED ROOMS', 0), (u'and RCN', 0), (u'24/7 Doorman', 0), (u'French Doors', 0), (u\"** ALL BRAND NEW NO FEE! * EXPANSIVE 2BR McMANSION * PRIVATE TERRACE * COOK'S SS KITCHEN * ELEV/LNDRY BLDG * 3 BLKS TO L TRAIN **\", 0), (u'** COURT SQUARE GEM! * SPRAWLING SUNDRENCHED 2BR HOME * CUSTOM FINISHES * DISHWASHER * FIREPLACES * EAT-IN KITCHEN * BAY WINDOWS **', 0), (u'sun drenched', 0), (u'Garden/Patio', 0), (u'washer dryer', 0), (u'on-site management', 0), (u'Floor-to-ceiling windows', 0), (u'premier resident services offered by our friendly and helpful staff', 0), (u'Previous tenant found easy on-street parking.', 0), (u'Gym/Fitness', 0), (u'fitness facility', 0), (u\"children's playroom\", 0), (u'Residents-only fitness center and aerobic room professionally outfitted with a full complement of strength and cardio-training equipment', 0), (u'MASSIVE HOME', 0), (u'Club room', 0), (u'high ceilings', 0), (u'HARDWOOD FLOORS', 0), (u'Kids Playroom', 0), (u'Elevator & LAUNDRY', 0), (u'Expansive Sundeck', 0), (u'Cold Storage', 0), (u'Reduced fee while it lasts!', 0), (u'Electricity Included', 0), (u'** SPRAWLING 2BR SUPER SHARE * GUT RENOVATED * CLEAN & BRITE * 1/2 BLK TO BEDFORD L **', 0), (u'Valet services', 0), (u'75th & 1st', 0), (u'bike room', 0), (u'Gym Discount', 0), (u'Triplex', 0), (u'On-site Parking Lot', 0), (u\"** UPTOWN'S BEST DEAL! * STEPS TO THE PARK! * MASSIVE 1BR HOME * MR CLEAN APPROVED * ROOMY CLOSETS **\", 0), (u'Part-time doorman', 0), (u'Brand New SS Kitchen', 0), (u'Private Deck', 0), (u'Common Outdoor Space', 0), (u'Top Floor', 0), (u'Hi Rise', 0), (u'attached garage', 0), (u'NO FEE HARDWOOD FLOORS', 0), (u'Gramercy', 0), (u'** SPRAWLING SUNDRENCHED STUDIO * MR CLEAN APPROVED * ROOMY CLOSETS * PETS OK * W50s ~ STEPS TO THE PARK! **', 0), (u'Leed Certified', 0), (u'Continental Breakfast Served 5 Days A Week', 0), (u'Children\\u2019s Playroom.', 0), (u'package service', 0), (u'Billiards table and wet bar', 0), (u'Two Closets', 0), (u'Spacious Layout', 0), (u'$1000. Move-in Visa Giftcard will be handed to new tenants upon rental lease signing', 0), (u'1100 sq ft', 0), (u\"** HOLY DEAL BATMAN! * SPRAWLING 3BR HOME * COOK'S KITCHEN * 2 BLKS TO WATERFRONT * BEDFORD L STOP **\", 0), (u'dry-cleaning service', 0), (u'RENOVATED', 0), (u'Virtual Tour', 0), (u\"** BRING UR BBQ! * SPRAWLING 2BR HOME * HUGE REAR TERRACE * MODERN EVERYTHING * CHEF'S KITCHEN * ALL NEW **\", 0), (u'rooftop deck', 0), (u'Air Conditioning', 0), (u'Sitting Area', 0), (u'Large', 0), (u'on-site super', 0), (u'Roof/Sundeck', 0), (u'free cable tv and wireless internet', 0), (u'Private lounge w/ wet bar & billiards table', 0), (u'EAT-IN-KITCHEN', 0), (u\"** CHIC CHELSEA STEAL! * SUPER SWEET STUDIO * GOURMET CHEF'S KITCHEN * ALL MODERN & NEW * TONS OF STORAGE * PETS OK **\", 0), (u'reduced fee while it lasts!', 0), (u'Live-in Super', 0), (u'Gym In Building', 0), (u'No application fee!', 0), (u'Private Outdoor Space', 0), (u'Gut Renovations', 0), (u'bike storage', 0), (u'Bright', 0), (u'Private Terrace', 0), (u'Refrigerated storage in lobby for grocery deliveries', 0), (u'** PRISTINE PARK AVE FIND! * MASSIVE 2BR TRIPLEX DREAM SHARE * DINING RM * ELEV/LNDRY BLDG * HEART OF THE E50s **', 0), (u'Fitness Room', 0), (u'Built in microwave', 0), (u'King size bedroom', 0), (u'** MIDTOWN MANSION * SPRAWLING SUNFILLED STUDIO * UTILITIES INCLUDED * DOORMAN * ELEV/LNDRY BLDG * PETS OK **', 0), (u'Transport right outside', 0), (u'LIGHT', 0), (u'** SUPER SWEET NO FEE! * XL 3BR MANSION * ALL BRAND NEW * EAT-IN KITCHEN * 2 BLKS TO TRAIN **', 0), (u'Corner Unit', 0), (u'Common roof deck', 0), (u'Lease Term (Flexible) 3 Months - 1 Year / Furnished or Unfurnished', 0), (u'Washer Dryer in Unit', 0), (u'pets allowed', 0), (u'CitiBikes Nearby', 0), (u'large living room', 0), (u'Live-In Superintendent', 0), (u'Large Private Deck', 0), (u'sundeck with BBQ grills', 0), (u'Fire Place', 0), (u'50 ft. exercise pool and whirlpool with lifeguard on duty', 0), (u'Valet Services', 0), (u'Kids Play Room', 0), (u'Childrens Playroom', 0), (u'3', 0), (u'BROKER FEE.', 0), (u'Roof grilling area', 0), (u'Brand Spanking New', 0), (u'Fitness Center', 0), (u'** OVERSIZED & UNDERPRICED NO FEE * HUGE 2BR HOME * ALL MODERN & NEW * EAT-IN KITCHEN * 2 BLKS TO THE TRAIN **', 0), (u'Laundry facility on every floor', 0), (u'Screening Room', 0), (u'Massive Living-room', 0), (u'LEED certified', 0), (u'Private Shuttle', 0), (u'HIGHHHHHH CEILINGS', 0), (u'Mail Room', 0), (u'renovated kitchen', 0), (u'Cold Storage In Lobby', 0), (u'Subway', 0), (u'valet and dry cleaning services', 0), (u'Common garden', 0), (u'Roof Deck', 0), (u'** HUGE TRUE 2BR SUPER SHARE * ORNATE PREWAR DETAILS * SO FRESH & SO CLEAN * L TRAIN BABY! **', 0), (u'Pre-War small dogs', 0), (u'Balconies in both bedrooms', 0), (u'elevator & Laundry', 0), (u'6 bedrooms', 0), (u'laundry & housekeeping', 0), (u'Gatehouse security', 0), (u'** CHELSEA BABY! * MASSIVE 2BR SUPER SHARE * ALL MODERN & NEW * ELEV /LNDRY BLDG **', 0), (u'Spacious and Bright !!!', 0), (u'Floor To Ceiling Windows', 0), (u'Equal Size Rooms', 0), (u\"Resident's Courtyard\", 0), (u'Indoor swimming pool', 0), (u'Decorative Wooden Fireplace', 0), (u'Onsite super and porter', 0), (u'Duplex Layout', 0), (u'On-site lifestyle concierge by Luxury Attach\\xe9', 0), (u'** BROWNSTONE BEAUTY * MASSIVE 2BR HOME * STEPS TO THE PARK * SS KITCHEN * DISHWASHER * OVERSIZED CLOSETS * NEAR COLUMBIA U **', 0), (u'Housekeeeping', 0), (u'Granite Counter-tops', 0), (u'Great Location', 0), (u'Pets: Cats Only', 0), (u'Recreational Room', 0), (u'** SASSY SOHO STEAL! * NO FEE! * SPRAWLING STUDIO HOME * GOURMET KITCHEN * HUGE CLOSETS * ELEV BLDG **', 0), (u'Large windows', 0), (u'Condo Grade Finishes', 0), (u'Postwar', 0), (u'own entrance', 0), (u'Security ******Available June 1st***', 0), (u'New Stainless Appliances', 0), (u'Roof access', 0), (u'** HOLY NO FEE DEAL! * OVERSIZED 2BR SUPER SHARE * PRIVATE TERRACE * SS KITCHEN * DISHWASHER * ELEV/LNDRY BLDG * 3 BLKS TO L TRAIN **', 0), (u'\\xa0Subway', 0), (u'Unassigned Paid parking available nearby', 0), (u'TONS OF NATURAL LIGHT', 0), (u'Storage in basement', 0), (u'big closets', 0), (u'HUGE Living Room', 0), (u'Gut Renovated', 0), (u'Natural Sunlight', 0), (u'** EXTRAVAGANT EAST VILLAGE! * MASSIVE 4BR MANSION * 2 FULL BATHS * GOURMET KITCHEN * ROOMY CLOSETS **', 0), (u'** W70s WINNER! * SUPER SWEET STUDIO * WALLS OF WINDOWS * HI END RENOVATIONS * OVERSIZED CLOSETS * STEPS TO THE PARK! **', 0), (u'Billiards Lounge', 0), (u'Business Center', 0), (u'Private backyard', 0), (u'** HEART OF THE VILLAGE! * MASSIVE 3BR SUPER SHARE * MR CLEAN APPROVED * ORNATE PREWAR DETAILS * GOURMET KITCHEN * TONS OF SUNLIGHT **', 0), (u'Walk-in closet', 0), (u'housekeeping + dry cleaning services', 0), (u'Baruch', 0), (u'Ample sofa bed in living space for extra accommodations', 0), (u'granite kitchen', 0), (u'Bike room', 0), (u'Washer/ Dryer Hookups', 0), (u'finished basement', 0), (u'Mosaic tiled kitchen', 0), (u'New reno', 0), (u'Balcony', 0), (u'** WICKED W50s STEAL! * MASSIVE 1BR HOME * HI END RENOVATIONS * ELEV/LNDRY BLDG * REAL PIX * STEPS TO THE PARK! **', 0), (u'Washer / Dryer', 0), (u'on site dog park and pet spa', 0), (u'Gas Included', 0), (u'Elevator', 0), (u'Storage Available', 0), (u'One Month Free', 0), (u'000 SF Fitness Center', 0), (u'Jacuzzi bath tube', 0), (u'Sublet', 0), (u'** ENTIRE FLOOR! * ENORMOUS 4BR MEGA-SHARE * MAGIC ERASER CLEAN * UNIQUE RENOVATIONS * PETS OK **', 0), (u'Terraces / Balconies', 0), (u\"1 mo broker's fee 18 mo lease\", 0), (u'S/S Appliances', 0), (u'LOWRISE', 0), (u'Total Reno. Heart of West Village', 0), (u'laundry hookup', 0), (u'Top Floor Unit', 0), (u'Jacuzzi', 0), (u\"** REAL NO FEE LUXURY! * OVERSIZED 2BR HOME ~ FIT FOR QUEENS!! *  CHEF'S KITCHEN * WALLS OF WINDOWS * 1 BLK TO TRAIN **\", 0), (u'Bicycle Room', 0), (u'FIRE PLACE', 0), (u'huge living room', 0), (u'Convertible-2', 0), (u'Stainless Steet Appliances', 0), (u'Arched Doorways', 0), (u'Half Bath', 0), (u'Large private terrace', 0), (u'attended garage and service entrance', 0), (u'Valet Parking', 0), (u'Club sun deck has spectacular city and river views', 0), (u'natural light', 0), (u'Hardwood Floors', 0), (u'Patio', 0), (u'Private Roof Deck', 0), (u'Yard', 0), (u'A One-of-a-Kind Full Service Luxury Highrise', 0), (u'LAUNDRY', 0), (u'great location!', 0), (u'Pet friendly ( case by case )', 0), (u'Wheelchair Access', 0), (u'Union Square', 0), (u'Eat-In-Kitchen', 0), (u'Call/Text Abraham Caro @ 917-373-0862', 0), (u'High Ceilings', 0), (u'Shared Yard', 0), (u'Townhouse', 0), (u'Washer/Dryer in Unit', 0), (u'** UNIQUE FIND! * SPRAWLING 2BR SUPER SHARE * WALLS OF WINDOWS * STUNNING RENOVATIONS * 2 BLKS TO BEDFORD L STOP **', 0), (u'High Floor', 0), (u'Short Term Allowed', 0), (u'DECORATIVE FIREPLACE', 0), (u'ROOFTOP', 0), (u'Building Link Notification & Key Track for tenants convenience', 0), (u'ACT FAST WONT LAST', 0), (u'Outdoor grilling terrace', 0), (u'Yoga and Spin Studios', 0), (u'FLEXIBLE VIEWING TIMES', 0), (u'1 month free rent', 0), (u'Large rooms', 0), (u'** OVERSIZED 2BR SUPER SHARE * FRENCH DOORS * SS EAT-IN KITCHEN * MR CLEAN APPROVED * HEART OF MIDTOWN! **', 0), (u'Grand Central', 0), (u'Pre-War brand new renovations', 0), (u'Rent stabilized', 0), (u'4', 0), (u'Roof deck', 0), (u'laundry in basement', 0), (u'24 hr doorman', 0), (u'Live-in super', 0), (u'Party Room', 0), (u'Deco Fireplace', 0), (u'Electronic Rent Payment', 0), (u'only $250 Deposit with Approved Credit', 0), (u'Bike storage', 0), (u'tenants lounge with kitchenette', 0), (u'Childrens Room', 0), (u'Stainless Appliances', 0), (u'PRIVATE OUTDOOR GARDEN', 0), (u'Washer in Unit', 0), (u'Valet Laundry', 0), (u'NO FEE...LUXURY DOORMAN BUILDING^^^RIVER VIEWS', 0), (u'Citi Bike Station', 0), (u'** THE PERFECT SHARE! * SPRAWLING SUNFILLED 4BR MANSION * CLEAN & BRITE * STEPS TO THE PARK & BEDFORD L STOP **', 0), (u'Package Room', 0), (u'no fee', 0), (u'Electricity + Hot Water + Gas + Heat Included', 0), (u'OPEN HOUSE SAT. MAY 14 12- 1PM', 0), (u'Central Air Conditioning', 0), (u'City view', 0), (u'loft storage', 0), (u'Full Floor', 0), (u'king size bedrooms', 0), (u'** OVERSIZED 1BR HOME * HUGE WINDOWS GALORE * WASHER/DRYER * RENT STABILIZED! * OFF 6TH AVE ~ HEART OF MIDTOWN! **', 0), (u'24/7 Concierge', 0), (u'Pet Friendly', 0), (u'walk-in closet', 0), (u'Duplex', 0), (u'oak cabinets', 0), (u'Loft Like', 0), (u'24/7 Doorman Concierge', 0), (u'new flooring', 0), (u'A Full Service luxury Highrise', 0), (u'NO PETS', 0), (u'Dining Room', 0), (u'high speed elevator', 0), (u'New', 0), (u'High-speed Internet', 0), (u'\\u2022 On-site lifestyle concierge by Luxury Attach\\xe9 \\u202224/7 Doorman \\u2022 State of the art cardiovascular and weight training equipment \\u2022 24-hour valet parking garage \\u2022 Valet services including dry cleaning', 0), (u'King sized Bedroom', 0), (u'Time Warner', 0), (u'Laundry on floor', 0), (u'floor to ceiling windows', 0), (u'LOW FEE', 0), (u'King Size Bedrooms', 0), (u'Large Living room', 0), (u'oversized closet', 0), (u'private terrace', 0), (u'Owner Occupied - 3 family townhouse - no realtor fees - this beautiful apt is offered below market rate', 0), (u'Children\\u2019s Playroom', 0), (u'Stainless Steel Kitchen', 0), (u'1.5 bathrooms', 0), (u'Movie theater', 0), (u'Stainless steel appliances', 0), (u'Close to subway', 0), (u\"Commuter's paradise\", 0), (u'pets ok', 0), (u'Private Balcony', 0), (u'NO FEE Specialist! Harry Ego 718.413.8270 hego@citihabitats.com', 0), (u'Wood burning fireplace', 0), (u'HUGE & GUT RENOVATED', 0), (u'Large apartment', 0), (u'newly renovated large bright', 0), (u'24hr white-gloved doorman', 0), (u'Breakfast bar', 0), (u'Hardwood', 0), (u'** SPRAWLING SUNFILLED 1BR HOME * UNIQUE PREWAR DETAILS * GOURMET KITCHEN * HEART OF MIDTOWN! **', 0), (u'water filtration system', 0), (u'Half floor through', 0), (u'Skylights', 0), (u'Live Work', 0), (u'24 hour attended lobby', 0), (u'Eat-in Kitchen', 0), (u'june 1st occupancy', 0), (u'Post-War', 0), (u'PRE-WAR', 0), (u'private patio', 0), (u'virtual doorman', 0), (u'** EXQUISITE RIVERSIDE SPECIAL! * STUNNING STUDIO DUPLEX * FIREPLACE * GUT RENOVATED * STEPS TO THE PARK! **', 0), (u'Extra Room', 0), (u'** OVERSIZED & UNDERPRICED!! * SPRAWLING SUNFILLED STUDIO * GOURMET KITCHEN * GUT RENOVATED * W50s ~ NEAR CENTRAL PARK! **', 0), (u'A full service Luxury highrise', 0), (u'DINING ROOM', 0), (u'Dining/living room', 0), (u'walk up', 0), (u'** EXTREME E50s EXCELLENCE * ALL MODERN & NEW * MASSIVE 1BR HOME * GOURMET KITCHEN * LNDRY BLDG * REAL PIX **', 0), (u'real sand beach volleyball courts', 0), (u'Newly renovated', 0), (u'eat in kitchen', 0), (u'24-hour doorman', 0), (u'Pet friendly', 0), (u'PRIVATE GARAGE AVAILABLE', 0), (u'** THE PERFECT SHARE! * HUGE TRUE 3BR HOME * GOURMET KITCHEN * TONS OF NATURAL LIGHT * 2 BLKS TO WATERFRONT & BEDFORD L STOP **', 0), (u'Cable/Satellite TV', 0), (u'** DOUBLE DUPLEX DEAL! * SPRAWLING 3BR HOME * 1.5 BATHS * PRIVATE DECK & BALCONY! * EAT-IN KITCHEN * WASHER//DRYER * ALL MODERN NEW! **', 0), (u'Lexington 95th', 0), (u'Separate Entryway', 0), (u'ONE MONTH FREE', 0), (u'two month free rent', 0), (u'playroom/nursery', 0), (u'Local Gym Discount', 0), (u'Granite counter tops', 0), (u'Rooftop Deck', 0), (u\"** MIDTOWN EAST ELEGANCE! * MASSIVE 1BR HOME * WALLS OF WINDOWS * GOURMET KITCHEN * BRAND SPANKIN' NEW! **\", 0), (u'laundry room as well as housekeeping & dry-cleaning services', 0), (u'** SUPER SEXY 2BR * SPACIOUS SUNSPANKED LAYOUT * ALL MODERN & NEW * 2 BLKS TO BEDFORD L STOP **', 0), (u'Live-In Resident Manager', 0), (u'Laundry in Building!', 0), (u'Full Service Garage', 0), (u'Full service Luxury Highrise', 0), (u'specific dog breeds up to 40lbs', 0), (u'Fitness Center and health club', 0), (u'Large Living Area', 0), (u'30th St & Madison Avenue', 0), (u'Shared yard', 0), (u'24hr Doorman', 0), (u'Chelsea', 0), (u'Bicycle room and individual resident storage', 0), (u'** EAST VILLAGE BABY! * OVERSIZED 2BR HOME * 1.5 BATHS * EAT-IN KITCHEN * FIREPLACE * EXPOSED BRICK * SCENIC ROOF DECK * LNDRY BLDG **', 0), (u'Complimentary Continental Breakfast', 0), (u'Live-in superintendent', 0), (u'Redwood Hardwood Floor', 0), (u'A/C Units', 0), (u'Huge Private Backyard', 0), (u'S-Steel Appliances', 0), (u'Garage Fitness Facility Laundry Room Valet Lounge Billiards Room Rooftop Deck WiFi Access', 0), (u'River view', 0), (u'No pets', 0), (u'Closets', 0), (u'Private parking', 0), (u'** W70s WINNER! * OVERSIZED 3BR DUPLEX MANSION * 2 FULL BATHS * PRIVATE ROOF DECK * DISHWASHER * STEPS TO THE PARK **', 0), (u'** CLASSY CORNER STUDIO SUPREME * WALLS OF WINDOWS * ALL MODERN & NEW * PETS OK **', 0), (u'surveillance cameras. and much more!', 0), (u'video intercom', 0), (u'storage unit', 0), (u'** HUGE TRUE 3BR HOME * MR CLEAN APPROVED * MASSIVE WINDOWS GALORE * STEPS TO THE PARK & BEDFORD L STOP **', 0), (u'Unit has Balcony', 0), (u'No Broker Fee', 0), (u'** SPRAWLING 2BR SUPER SHARE * SPARKLING CLEAN & BRITE * SS EAT-IN KITCHEN * ROOMY CLOSETS * 4 BLKS TO BEDFORD L **', 0), (u'Valet', 0), (u'One Month rent free concession on a 12 month lease', 0), (u'heat and hot water included', 0), (u'Full-time Doorman', 0), (u'2 year lease', 0), (u'Outdoor Basketball Court', 0), (u'GREAT SHARE', 0), (u'No Fee!', 0), (u'Bridge View', 0), (u'Woodburning Fireplace', 0), (u'Lounge room', 0), (u'Stunning roof deck with breathtaking views', 0), (u'Luxury Building', 0), (u'Roof Deck with Grills', 0), (u'** RARE FIND! * SPRAWLING SUNDRENCHED 1BR HOME * STUNNING FINISHES * SS KITCHEN * WASHER/DRYER * DISHWASHER * HEART OF CHELSEA! **', 0), (u'laundry & housekeeping \\u2022 Marc Club includes a cinema room', 0), (u'Oversize Terrace', 0), (u'Recessed Lighting', 0), (u'Huge Walk In Closet', 0), (u'Stone countertops', 0), (u'** OVERSIZED 1BR DUPLEX DREAM * MR CLEAN APPROVED * UNIQUE DETAILS * NEAR CENTRAL PARK * W50s BABY * PETS OK **', 0), (u'Outdoor Space', 0), (u'SPACE', 0), (u'Common balcony', 0), (u'Huge Bedrooms', 0), (u'** CLASSY CLINTON HOME * MASSIVE 1BR * GOURMET KITCHEN * EXPOSED BRICK * ROOMY CLOSETS **', 0), (u'Gas and Electric Included in Rent', 0), (u'** CLASSY CONDO GEM! * MASSIVE 2BR SUPER SHARE * GOURMET KITCHEN * PERFECT SUN * CHIC CHELSEA LOCALE! **', 0), (u'On-site laundry', 0), (u'Walk In Closet', 0), (u'small pets allowed', 0), (u'Just Renovated', 0), (u'Sun decks', 0), (u'Private outdoor space', 0), (u'Storage room', 0), (u'Brand New Renovation', 0), (u'lounge area', 0), (u'Near Transportation', 0), (u'King Bedrooms', 0), (u'Sunny Southern & Western Exposure', 0)]\n"
     ]
    }
   ],
   "source": [
    "freqs = [(word, X_train_feature_counts.getcol(idx).sum()) for word, idx in count_vect.vocabulary_.items()]\n",
    "#sort from largest to smallest\n",
    "print sorted (freqs, key = lambda x: -x[1])"
   ]
  },
  {
   "cell_type": "code",
   "execution_count": 57,
   "metadata": {
    "collapsed": false
   },
   "outputs": [
    {
     "data": {
      "text/plain": [
       "<49352x1556 sparse matrix of type '<type 'numpy.int64'>'\n",
       "\twith 96958 stored elements in Compressed Sparse Row format>"
      ]
     },
     "execution_count": 57,
     "metadata": {},
     "output_type": "execute_result"
    }
   ],
   "source": [
    "X_train_feature_counts"
   ]
  },
  {
   "cell_type": "code",
   "execution_count": 58,
   "metadata": {
    "collapsed": true
   },
   "outputs": [],
   "source": [
    "# TF-IDF\n",
    "from sklearn.feature_extraction.text import TfidfTransformer"
   ]
  },
  {
   "cell_type": "code",
   "execution_count": 59,
   "metadata": {
    "collapsed": false
   },
   "outputs": [],
   "source": [
    "tf_transformer = TfidfTransformer(use_idf=False).fit(X_train_feature_counts)\n",
    "X_train_feature_tf = tf_transformer.transform(X_train_feature_counts)"
   ]
  },
  {
   "cell_type": "code",
   "execution_count": 60,
   "metadata": {
    "collapsed": false
   },
   "outputs": [
    {
     "data": {
      "text/plain": [
       "<49352x1556 sparse matrix of type '<type 'numpy.float64'>'\n",
       "\twith 96958 stored elements in Compressed Sparse Row format>"
      ]
     },
     "execution_count": 60,
     "metadata": {},
     "output_type": "execute_result"
    }
   ],
   "source": [
    "X_train_feature_tf"
   ]
  },
  {
   "cell_type": "code",
   "execution_count": 61,
   "metadata": {
    "collapsed": true
   },
   "outputs": [],
   "source": [
    "simple_features = ['bathrooms','bedrooms','price']\n",
    "target = 'interest_level'"
   ]
  },
  {
   "cell_type": "code",
   "execution_count": 62,
   "metadata": {
    "collapsed": false
   },
   "outputs": [
    {
     "data": {
      "text/plain": [
       "((49352, 3), (49352, 1556))"
      ]
     },
     "execution_count": 62,
     "metadata": {},
     "output_type": "execute_result"
    }
   ],
   "source": [
    "train[simple_features].values.shape, X_train_feature_tf.toarray().shape"
   ]
  },
  {
   "cell_type": "code",
   "execution_count": 63,
   "metadata": {
    "collapsed": false
   },
   "outputs": [],
   "source": [
    "X_train = np.concatenate((train[simple_features].values, X_train_feature_tf.toarray()), axis=1)"
   ]
  },
  {
   "cell_type": "code",
   "execution_count": 64,
   "metadata": {
    "collapsed": false
   },
   "outputs": [
    {
     "data": {
      "text/plain": [
       "(49352, 1559)"
      ]
     },
     "execution_count": 64,
     "metadata": {},
     "output_type": "execute_result"
    }
   ],
   "source": [
    "X_train.shape"
   ]
  },
  {
   "cell_type": "code",
   "execution_count": 65,
   "metadata": {
    "collapsed": true
   },
   "outputs": [],
   "source": [
    "# TF-IDF of description field\n",
    "#desc_count_vect = CountVectorizer()\n",
    "#X_train_desc_counts = count_vect.fit_transform(train['description'])\n",
    "\n",
    "#desc_tf_transformer = TfidfTransformer().fit(X_train_desc_counts)\n",
    "#X_train_desc_tf = tf_transformer.transform(X_train_desc_counts)"
   ]
  },
  {
   "cell_type": "code",
   "execution_count": 66,
   "metadata": {
    "collapsed": false
   },
   "outputs": [],
   "source": [
    "#train_desc_counts.shape, X_train_desc_tf.shape"
   ]
  },
  {
   "cell_type": "code",
   "execution_count": 67,
   "metadata": {
    "collapsed": true
   },
   "outputs": [],
   "source": [
    "test = pd.read_json('./data/test.json')"
   ]
  },
  {
   "cell_type": "code",
   "execution_count": 68,
   "metadata": {
    "collapsed": false
   },
   "outputs": [
    {
     "data": {
      "text/plain": [
       "(74659, 14)"
      ]
     },
     "execution_count": 68,
     "metadata": {},
     "output_type": "execute_result"
    }
   ],
   "source": [
    "test.shape"
   ]
  },
  {
   "cell_type": "code",
   "execution_count": 69,
   "metadata": {
    "collapsed": false
   },
   "outputs": [
    {
     "data": {
      "text/html": [
       "<div>\n",
       "<table border=\"1\" class=\"dataframe\">\n",
       "  <thead>\n",
       "    <tr style=\"text-align: right;\">\n",
       "      <th></th>\n",
       "      <th>bathrooms</th>\n",
       "      <th>bedrooms</th>\n",
       "      <th>building_id</th>\n",
       "      <th>created</th>\n",
       "      <th>description</th>\n",
       "      <th>display_address</th>\n",
       "      <th>features</th>\n",
       "      <th>latitude</th>\n",
       "      <th>listing_id</th>\n",
       "      <th>longitude</th>\n",
       "      <th>manager_id</th>\n",
       "      <th>photos</th>\n",
       "      <th>price</th>\n",
       "      <th>street_address</th>\n",
       "    </tr>\n",
       "  </thead>\n",
       "  <tbody>\n",
       "    <tr>\n",
       "      <th>0</th>\n",
       "      <td>1.0</td>\n",
       "      <td>1</td>\n",
       "      <td>79780be1514f645d7e6be99a3de696c5</td>\n",
       "      <td>2016-06-11 05:29:41</td>\n",
       "      <td>Large with awesome terrace--accessible via bed...</td>\n",
       "      <td>Suffolk Street</td>\n",
       "      <td>[Elevator, Laundry in Building, Laundry in Uni...</td>\n",
       "      <td>40.7185</td>\n",
       "      <td>7142618</td>\n",
       "      <td>-73.9865</td>\n",
       "      <td>b1b1852c416d78d7765d746cb1b8921f</td>\n",
       "      <td>[https://photos.renthop.com/2/7142618_1c45a2c8...</td>\n",
       "      <td>2950</td>\n",
       "      <td>99 Suffolk Street</td>\n",
       "    </tr>\n",
       "    <tr>\n",
       "      <th>1</th>\n",
       "      <td>1.0</td>\n",
       "      <td>2</td>\n",
       "      <td>0</td>\n",
       "      <td>2016-06-24 06:36:34</td>\n",
       "      <td>Prime Soho - between Bleecker and Houston - Ne...</td>\n",
       "      <td>Thompson Street</td>\n",
       "      <td>[Pre-War, Dogs Allowed, Cats Allowed]</td>\n",
       "      <td>40.7278</td>\n",
       "      <td>7210040</td>\n",
       "      <td>-74.0000</td>\n",
       "      <td>d0b5648017832b2427eeb9956d966a14</td>\n",
       "      <td>[https://photos.renthop.com/2/7210040_d824cc71...</td>\n",
       "      <td>2850</td>\n",
       "      <td>176 Thompson Street</td>\n",
       "    </tr>\n",
       "    <tr>\n",
       "      <th>100</th>\n",
       "      <td>1.0</td>\n",
       "      <td>1</td>\n",
       "      <td>3dbbb69fd52e0d25131aa1cd459c87eb</td>\n",
       "      <td>2016-06-03 04:29:40</td>\n",
       "      <td>New York chic has reached a new level ...</td>\n",
       "      <td>101 East 10th Street</td>\n",
       "      <td>[Doorman, Elevator, No Fee]</td>\n",
       "      <td>40.7306</td>\n",
       "      <td>7103890</td>\n",
       "      <td>-73.9890</td>\n",
       "      <td>9ca6f3baa475c37a3b3521a394d65467</td>\n",
       "      <td>[https://photos.renthop.com/2/7103890_85b33077...</td>\n",
       "      <td>3758</td>\n",
       "      <td>101 East 10th Street</td>\n",
       "    </tr>\n",
       "    <tr>\n",
       "      <th>1000</th>\n",
       "      <td>1.0</td>\n",
       "      <td>2</td>\n",
       "      <td>783d21d013a7e655bddc4ed0d461cc5e</td>\n",
       "      <td>2016-06-11 06:17:35</td>\n",
       "      <td>Step into this fantastic new Construction in t...</td>\n",
       "      <td>South Third Street\\r</td>\n",
       "      <td>[Roof Deck, Balcony, Elevator, Laundry in Buil...</td>\n",
       "      <td>40.7109</td>\n",
       "      <td>7143442</td>\n",
       "      <td>-73.9571</td>\n",
       "      <td>0b9d5db96db8472d7aeb67c67338c4d2</td>\n",
       "      <td>[https://photos.renthop.com/2/7143442_0879e9e0...</td>\n",
       "      <td>3300</td>\n",
       "      <td>251  South Third Street\\r</td>\n",
       "    </tr>\n",
       "    <tr>\n",
       "      <th>100000</th>\n",
       "      <td>2.0</td>\n",
       "      <td>2</td>\n",
       "      <td>6134e7c4dd1a98d9aee36623c9872b49</td>\n",
       "      <td>2016-04-12 05:24:17</td>\n",
       "      <td>~Take a stroll in Central Park, enjoy the ente...</td>\n",
       "      <td>Midtown West, 8th Ave</td>\n",
       "      <td>[Common Outdoor Space, Cats Allowed, Dogs Allo...</td>\n",
       "      <td>40.7650</td>\n",
       "      <td>6860601</td>\n",
       "      <td>-73.9845</td>\n",
       "      <td>b5eda0eb31b042ce2124fd9e9fcfce2f</td>\n",
       "      <td>[https://photos.renthop.com/2/6860601_c96164d8...</td>\n",
       "      <td>4900</td>\n",
       "      <td>260 West 54th Street</td>\n",
       "    </tr>\n",
       "  </tbody>\n",
       "</table>\n",
       "</div>"
      ],
      "text/plain": [
       "        bathrooms  bedrooms                       building_id  \\\n",
       "0             1.0         1  79780be1514f645d7e6be99a3de696c5   \n",
       "1             1.0         2                                 0   \n",
       "100           1.0         1  3dbbb69fd52e0d25131aa1cd459c87eb   \n",
       "1000          1.0         2  783d21d013a7e655bddc4ed0d461cc5e   \n",
       "100000        2.0         2  6134e7c4dd1a98d9aee36623c9872b49   \n",
       "\n",
       "                    created  \\\n",
       "0       2016-06-11 05:29:41   \n",
       "1       2016-06-24 06:36:34   \n",
       "100     2016-06-03 04:29:40   \n",
       "1000    2016-06-11 06:17:35   \n",
       "100000  2016-04-12 05:24:17   \n",
       "\n",
       "                                              description  \\\n",
       "0       Large with awesome terrace--accessible via bed...   \n",
       "1       Prime Soho - between Bleecker and Houston - Ne...   \n",
       "100             New York chic has reached a new level ...   \n",
       "1000    Step into this fantastic new Construction in t...   \n",
       "100000  ~Take a stroll in Central Park, enjoy the ente...   \n",
       "\n",
       "              display_address  \\\n",
       "0              Suffolk Street   \n",
       "1             Thompson Street   \n",
       "100      101 East 10th Street   \n",
       "1000     South Third Street\\r   \n",
       "100000  Midtown West, 8th Ave   \n",
       "\n",
       "                                                 features  latitude  \\\n",
       "0       [Elevator, Laundry in Building, Laundry in Uni...   40.7185   \n",
       "1                   [Pre-War, Dogs Allowed, Cats Allowed]   40.7278   \n",
       "100                           [Doorman, Elevator, No Fee]   40.7306   \n",
       "1000    [Roof Deck, Balcony, Elevator, Laundry in Buil...   40.7109   \n",
       "100000  [Common Outdoor Space, Cats Allowed, Dogs Allo...   40.7650   \n",
       "\n",
       "        listing_id  longitude                        manager_id  \\\n",
       "0          7142618   -73.9865  b1b1852c416d78d7765d746cb1b8921f   \n",
       "1          7210040   -74.0000  d0b5648017832b2427eeb9956d966a14   \n",
       "100        7103890   -73.9890  9ca6f3baa475c37a3b3521a394d65467   \n",
       "1000       7143442   -73.9571  0b9d5db96db8472d7aeb67c67338c4d2   \n",
       "100000     6860601   -73.9845  b5eda0eb31b042ce2124fd9e9fcfce2f   \n",
       "\n",
       "                                                   photos  price  \\\n",
       "0       [https://photos.renthop.com/2/7142618_1c45a2c8...   2950   \n",
       "1       [https://photos.renthop.com/2/7210040_d824cc71...   2850   \n",
       "100     [https://photos.renthop.com/2/7103890_85b33077...   3758   \n",
       "1000    [https://photos.renthop.com/2/7143442_0879e9e0...   3300   \n",
       "100000  [https://photos.renthop.com/2/6860601_c96164d8...   4900   \n",
       "\n",
       "                   street_address  \n",
       "0               99 Suffolk Street  \n",
       "1             176 Thompson Street  \n",
       "100          101 East 10th Street  \n",
       "1000    251  South Third Street\\r  \n",
       "100000       260 West 54th Street  "
      ]
     },
     "execution_count": 69,
     "metadata": {},
     "output_type": "execute_result"
    }
   ],
   "source": [
    "test.head()"
   ]
  },
  {
   "cell_type": "code",
   "execution_count": 70,
   "metadata": {
    "collapsed": false
   },
   "outputs": [],
   "source": [
    "test['feature_list'] = test['features'].map(lambda x: '|'.join(x))\n",
    "#test_feature_list = test.feature_list.str.get_dummies('|')"
   ]
  },
  {
   "cell_type": "code",
   "execution_count": 71,
   "metadata": {
    "collapsed": true
   },
   "outputs": [],
   "source": [
    "# We uses the same vocabulary list from training data\n",
    "test_count_vect = CountVectorizer(vocabulary=count_vect.vocabulary_)"
   ]
  },
  {
   "cell_type": "code",
   "execution_count": 72,
   "metadata": {
    "collapsed": false
   },
   "outputs": [
    {
     "data": {
      "text/plain": [
       "[(u'Near All Trains', 1555),\n",
       " (u'lounge area', 1554),\n",
       " (u'Huge Walk In Closet', 1553),\n",
       " (u'Storage room', 1552),\n",
       " (u'Full-time Doorman', 1551),\n",
       " (u'Sun decks', 1550),\n",
       " (u'small pets allowed', 1549),\n",
       " (u'** CLASSY CONDO GEM! * MASSIVE 2BR SUPER SHARE * GOURMET KITCHEN * PERFECT SUN * CHIC CHELSEA LOCALE! **',\n",
       "  1548),\n",
       " (u'Breakfast bar', 1547),\n",
       " (u'SPACE', 1546)]"
      ]
     },
     "execution_count": 72,
     "metadata": {},
     "output_type": "execute_result"
    }
   ],
   "source": [
    "sorted(count_vect.vocabulary_.items(), key=lambda x: x[1], reverse=True)[:10]"
   ]
  },
  {
   "cell_type": "code",
   "execution_count": 73,
   "metadata": {
    "collapsed": true
   },
   "outputs": [],
   "source": [
    "X_test_feature_counts = test_count_vect.fit_transform(test['feature_list'])"
   ]
  },
  {
   "cell_type": "code",
   "execution_count": 74,
   "metadata": {
    "collapsed": false
   },
   "outputs": [
    {
     "data": {
      "text/plain": [
       "[(u'Near All Trains', 1555),\n",
       " (u'lounge area', 1554),\n",
       " (u'Huge Walk In Closet', 1553),\n",
       " (u'Storage room', 1552),\n",
       " (u'Full-time Doorman', 1551),\n",
       " (u'Sun decks', 1550),\n",
       " (u'small pets allowed', 1549),\n",
       " (u'** CLASSY CONDO GEM! * MASSIVE 2BR SUPER SHARE * GOURMET KITCHEN * PERFECT SUN * CHIC CHELSEA LOCALE! **',\n",
       "  1548),\n",
       " (u'Breakfast bar', 1547),\n",
       " (u'SPACE', 1546)]"
      ]
     },
     "execution_count": 74,
     "metadata": {},
     "output_type": "execute_result"
    }
   ],
   "source": [
    "sorted(test_count_vect.vocabulary_.items(), key=lambda x: x[1], reverse=True)[:10]"
   ]
  },
  {
   "cell_type": "code",
   "execution_count": 75,
   "metadata": {
    "collapsed": true
   },
   "outputs": [],
   "source": [
    "test_tf_transformer = TfidfTransformer(use_idf=False).fit(X_test_feature_counts)\n",
    "X_test_feature_tf = tf_transformer.transform(X_test_feature_counts)"
   ]
  },
  {
   "cell_type": "code",
   "execution_count": 76,
   "metadata": {
    "collapsed": true
   },
   "outputs": [],
   "source": [
    "X_test = np.concatenate((test[simple_features].values, X_test_feature_tf.toarray()), axis=1)"
   ]
  },
  {
   "cell_type": "code",
   "execution_count": 77,
   "metadata": {
    "collapsed": false
   },
   "outputs": [
    {
     "data": {
      "text/plain": [
       "(74659, 1559)"
      ]
     },
     "execution_count": 77,
     "metadata": {},
     "output_type": "execute_result"
    }
   ],
   "source": [
    "X_test.shape"
   ]
  },
  {
   "cell_type": "markdown",
   "metadata": {},
   "source": [
    "### Modeling"
   ]
  },
  {
   "cell_type": "code",
   "execution_count": 78,
   "metadata": {
    "collapsed": true
   },
   "outputs": [],
   "source": [
    "from sklearn.linear_model import LogisticRegression"
   ]
  },
  {
   "cell_type": "code",
   "execution_count": 79,
   "metadata": {
    "collapsed": true
   },
   "outputs": [],
   "source": [
    "#X_train = train[simple_features]"
   ]
  },
  {
   "cell_type": "code",
   "execution_count": 80,
   "metadata": {
    "collapsed": false
   },
   "outputs": [],
   "source": [
    "from sklearn.preprocessing import LabelEncoder\n",
    "le = LabelEncoder()\n",
    "y_train = le.fit_transform(train[target])"
   ]
  },
  {
   "cell_type": "code",
   "execution_count": 81,
   "metadata": {
    "collapsed": false
   },
   "outputs": [
    {
     "data": {
      "text/plain": [
       "array([2, 1, 0, ..., 1, 1, 1])"
      ]
     },
     "execution_count": 81,
     "metadata": {},
     "output_type": "execute_result"
    }
   ],
   "source": [
    "y_train"
   ]
  },
  {
   "cell_type": "code",
   "execution_count": 82,
   "metadata": {
    "collapsed": false
   },
   "outputs": [
    {
     "data": {
      "text/plain": [
       "array([ 3839, 34284, 11229])"
      ]
     },
     "execution_count": 82,
     "metadata": {},
     "output_type": "execute_result"
    }
   ],
   "source": [
    "np.bincount(y_train)"
   ]
  },
  {
   "cell_type": "code",
   "execution_count": 83,
   "metadata": {
    "collapsed": false
   },
   "outputs": [
    {
     "data": {
      "text/plain": [
       "low       34284\n",
       "medium    11229\n",
       "high       3839\n",
       "Name: interest_level, dtype: int64"
      ]
     },
     "execution_count": 83,
     "metadata": {},
     "output_type": "execute_result"
    }
   ],
   "source": [
    "train[target].value_counts()"
   ]
  },
  {
   "cell_type": "code",
   "execution_count": 84,
   "metadata": {
    "collapsed": false
   },
   "outputs": [
    {
     "data": {
      "text/plain": [
       "array([u'high', u'low', u'medium'], dtype=object)"
      ]
     },
     "execution_count": 84,
     "metadata": {},
     "output_type": "execute_result"
    }
   ],
   "source": [
    "# high = 0, low = 1, medium = 2\n",
    "le.classes_"
   ]
  },
  {
   "cell_type": "markdown",
   "metadata": {},
   "source": [
    "#### Logistic Regression"
   ]
  },
  {
   "cell_type": "code",
   "execution_count": 76,
   "metadata": {
    "collapsed": true
   },
   "outputs": [],
   "source": [
    "logit = LogisticRegression()"
   ]
  },
  {
   "cell_type": "code",
   "execution_count": 77,
   "metadata": {
    "collapsed": false
   },
   "outputs": [
    {
     "data": {
      "text/plain": [
       "LogisticRegression(C=1.0, class_weight=None, dual=False, fit_intercept=True,\n",
       "          intercept_scaling=1, max_iter=100, multi_class='ovr', n_jobs=1,\n",
       "          penalty='l2', random_state=None, solver='liblinear', tol=0.0001,\n",
       "          verbose=0, warm_start=False)"
      ]
     },
     "execution_count": 77,
     "metadata": {},
     "output_type": "execute_result"
    }
   ],
   "source": [
    "logit.fit(X_train, y_train)"
   ]
  },
  {
   "cell_type": "code",
   "execution_count": 78,
   "metadata": {
    "collapsed": false
   },
   "outputs": [
    {
     "data": {
      "text/plain": [
       "array([[  4.12341820e-02,   4.96744354e-01,  -1.05158085e-03, ...,\n",
       "          1.61579883e-04,  -1.14923664e-05,  -6.83146797e-06],\n",
       "       [ -3.71037725e-01,  -5.40187616e-01,   8.41136042e-04, ...,\n",
       "         -1.25339497e-03,   3.76471497e-05,  -3.63065867e-04],\n",
       "       [  1.36212269e-01,   4.29842541e-01,  -5.69198323e-04, ...,\n",
       "          3.17636733e-04,   2.45860504e-05,   3.51872377e-04]])"
      ]
     },
     "execution_count": 78,
     "metadata": {},
     "output_type": "execute_result"
    }
   ],
   "source": [
    "logit.coef_"
   ]
  },
  {
   "cell_type": "code",
   "execution_count": 79,
   "metadata": {
    "collapsed": false
   },
   "outputs": [
    {
     "data": {
      "text/plain": [
       "array([-0.05433149, -0.1942629 , -0.53471715])"
      ]
     },
     "execution_count": 79,
     "metadata": {},
     "output_type": "execute_result"
    }
   ],
   "source": [
    "logit.intercept_"
   ]
  },
  {
   "cell_type": "code",
   "execution_count": 82,
   "metadata": {
    "collapsed": false
   },
   "outputs": [
    {
     "data": {
      "text/plain": [
       "((3, 1132), (3,))"
      ]
     },
     "execution_count": 82,
     "metadata": {},
     "output_type": "execute_result"
    }
   ],
   "source": [
    "logit.coef_.shape, logit.intercept_.shape"
   ]
  },
  {
   "cell_type": "code",
   "execution_count": 84,
   "metadata": {
    "collapsed": false
   },
   "outputs": [
    {
     "data": {
      "text/plain": [
       "0.69486545631382723"
      ]
     },
     "execution_count": 84,
     "metadata": {},
     "output_type": "execute_result"
    }
   ],
   "source": [
    "# Accuracy score of training data set\n",
    "logit.score(X_train, y_train)"
   ]
  },
  {
   "cell_type": "code",
   "execution_count": 87,
   "metadata": {
    "collapsed": false
   },
   "outputs": [],
   "source": [
    "log_pred = logit.predict_proba(X_train)"
   ]
  },
  {
   "cell_type": "code",
   "execution_count": 88,
   "metadata": {
    "collapsed": true
   },
   "outputs": [],
   "source": [
    "pred = logit.predict(X_train)"
   ]
  },
  {
   "cell_type": "code",
   "execution_count": 89,
   "metadata": {
    "collapsed": false
   },
   "outputs": [
    {
     "data": {
      "text/plain": [
       "array([    7, 46566,  2779])"
      ]
     },
     "execution_count": 89,
     "metadata": {},
     "output_type": "execute_result"
    }
   ],
   "source": [
    "np.bincount(pred)"
   ]
  },
  {
   "cell_type": "code",
   "execution_count": 90,
   "metadata": {
    "collapsed": false
   },
   "outputs": [
    {
     "data": {
      "text/plain": [
       "(7, 46566)"
      ]
     },
     "execution_count": 90,
     "metadata": {},
     "output_type": "execute_result"
    }
   ],
   "source": [
    "len(pred[pred==0]), len(pred[pred==1])"
   ]
  },
  {
   "cell_type": "code",
   "execution_count": 91,
   "metadata": {
    "collapsed": false
   },
   "outputs": [
    {
     "data": {
      "text/plain": [
       "(array([[ 0.15714068,  0.5277709 ,  0.31508842],\n",
       "        [ 0.00766375,  0.93754134,  0.05479491],\n",
       "        [ 0.07757713,  0.65153403,  0.27088883],\n",
       "        [ 0.0558059 ,  0.66581801,  0.27837609],\n",
       "        [ 0.15181099,  0.59191902,  0.25626999]]), array([1, 1, 1, 1, 1]))"
      ]
     },
     "execution_count": 91,
     "metadata": {},
     "output_type": "execute_result"
    }
   ],
   "source": [
    "log_pred[:5], pred[:5]"
   ]
  },
  {
   "cell_type": "code",
   "execution_count": 92,
   "metadata": {
    "collapsed": false
   },
   "outputs": [
    {
     "data": {
      "text/plain": [
       "((49352, 1132), (49352,))"
      ]
     },
     "execution_count": 92,
     "metadata": {},
     "output_type": "execute_result"
    }
   ],
   "source": [
    "X_train.shape, y_train.shape"
   ]
  },
  {
   "cell_type": "code",
   "execution_count": 93,
   "metadata": {
    "collapsed": false
   },
   "outputs": [],
   "source": [
    "from sklearn.cross_validation import cross_val_score\n",
    "\n",
    "scores = cross_val_score(logit, X_train, y_train, cv=10, scoring='log_loss')"
   ]
  },
  {
   "cell_type": "code",
   "execution_count": 94,
   "metadata": {
    "collapsed": false
   },
   "outputs": [
    {
     "data": {
      "text/plain": [
       "array([-0.71050561, -0.72435759, -0.70145679, -0.6974593 , -0.70549277,\n",
       "       -0.70447392, -0.70073728, -0.70148715, -0.70550385, -0.71420072])"
      ]
     },
     "execution_count": 94,
     "metadata": {},
     "output_type": "execute_result"
    }
   ],
   "source": [
    "scores"
   ]
  },
  {
   "cell_type": "code",
   "execution_count": 95,
   "metadata": {
    "collapsed": false
   },
   "outputs": [
    {
     "data": {
      "text/plain": [
       "-0.7065674983784247"
      ]
     },
     "execution_count": 95,
     "metadata": {},
     "output_type": "execute_result"
    }
   ],
   "source": [
    "scores.mean()"
   ]
  },
  {
   "cell_type": "code",
   "execution_count": 99,
   "metadata": {
    "collapsed": false
   },
   "outputs": [],
   "source": [
    "# Generate output\n",
    "#X_test = test[simple_features]\n",
    "y_test_log_pred = logit.predict_proba(X_test)"
   ]
  },
  {
   "cell_type": "code",
   "execution_count": 100,
   "metadata": {
    "collapsed": false
   },
   "outputs": [
    {
     "data": {
      "text/plain": [
       "(74659, 3)"
      ]
     },
     "execution_count": 100,
     "metadata": {},
     "output_type": "execute_result"
    }
   ],
   "source": [
    "y_test_log_pred.shape"
   ]
  },
  {
   "cell_type": "code",
   "execution_count": 101,
   "metadata": {
    "collapsed": true
   },
   "outputs": [],
   "source": [
    "y_id = test['listing_id'].astype('O')"
   ]
  },
  {
   "cell_type": "code",
   "execution_count": 102,
   "metadata": {
    "collapsed": false
   },
   "outputs": [
    {
     "data": {
      "text/plain": [
       "array([0, 1, 2])"
      ]
     },
     "execution_count": 102,
     "metadata": {},
     "output_type": "execute_result"
    }
   ],
   "source": [
    "logit.classes_"
   ]
  },
  {
   "cell_type": "code",
   "execution_count": 103,
   "metadata": {
    "collapsed": false
   },
   "outputs": [
    {
     "data": {
      "text/plain": [
       "array([u'high', u'low', u'medium'], dtype=object)"
      ]
     },
     "execution_count": 103,
     "metadata": {},
     "output_type": "execute_result"
    }
   ],
   "source": [
    "le.classes_"
   ]
  },
  {
   "cell_type": "code",
   "execution_count": 104,
   "metadata": {
    "collapsed": false
   },
   "outputs": [
    {
     "data": {
      "text/plain": [
       "0         7142618\n",
       "1         7210040\n",
       "100       7103890\n",
       "1000      7143442\n",
       "100000    6860601\n",
       "100001    6840081\n",
       "100002    6922337\n",
       "100003    6913616\n",
       "100005    6937820\n",
       "100006    6893933\n",
       "Name: listing_id, dtype: object"
      ]
     },
     "execution_count": 104,
     "metadata": {},
     "output_type": "execute_result"
    }
   ],
   "source": [
    "# high = 0, low = 1, medium = 2\n",
    "y_id.head(10)"
   ]
  },
  {
   "cell_type": "code",
   "execution_count": 105,
   "metadata": {
    "collapsed": false
   },
   "outputs": [
    {
     "data": {
      "text/plain": [
       "array([[  7.55161078e-02,   5.64012097e-01,   3.60471795e-01],\n",
       "       [  1.02589037e-01,   7.32727066e-01,   1.64683897e-01],\n",
       "       [  3.20173870e-02,   8.05082072e-01,   1.62900541e-01],\n",
       "       [  8.37580121e-02,   5.16979003e-01,   3.99262985e-01],\n",
       "       [  1.66859612e-02,   7.79893975e-01,   2.03420064e-01],\n",
       "       [  3.76436019e-04,   9.60061713e-01,   3.95618512e-02],\n",
       "       [  1.22959617e-01,   5.59396290e-01,   3.17644093e-01],\n",
       "       [  1.18716882e-01,   5.91323749e-01,   2.89959369e-01],\n",
       "       [  9.28656726e-02,   7.30486803e-01,   1.76647524e-01],\n",
       "       [  8.10897223e-02,   7.03427952e-01,   2.15482326e-01]])"
      ]
     },
     "execution_count": 105,
     "metadata": {},
     "output_type": "execute_result"
    }
   ],
   "source": [
    "y_test_log_pred[:10]"
   ]
  },
  {
   "cell_type": "code",
   "execution_count": 106,
   "metadata": {
    "collapsed": false
   },
   "outputs": [
    {
     "data": {
      "text/plain": [
       "((74659,), (74659, 3))"
      ]
     },
     "execution_count": 106,
     "metadata": {},
     "output_type": "execute_result"
    }
   ],
   "source": [
    "y_id.shape, y_test_log_pred.shape"
   ]
  },
  {
   "cell_type": "code",
   "execution_count": 94,
   "metadata": {
    "collapsed": false
   },
   "outputs": [
    {
     "data": {
      "text/plain": [
       "['listing_id', u'high', u'low', u'medium']"
      ]
     },
     "execution_count": 94,
     "metadata": {},
     "output_type": "execute_result"
    }
   ],
   "source": [
    "['listing_id'] + le.classes_.tolist()"
   ]
  },
  {
   "cell_type": "code",
   "execution_count": 105,
   "metadata": {
    "collapsed": false
   },
   "outputs": [],
   "source": [
    "#sub = pd.DataFrame(np.column_stack((ids, cts)), columns=['id', 'country'])\n",
    "sub = pd.DataFrame(np.column_stack((y_id, y_test_log_pred)), columns=['listing_id'] + le.classes_.tolist())"
   ]
  },
  {
   "cell_type": "code",
   "execution_count": 106,
   "metadata": {
    "collapsed": false
   },
   "outputs": [
    {
     "data": {
      "text/html": [
       "<div>\n",
       "<table border=\"1\" class=\"dataframe\">\n",
       "  <thead>\n",
       "    <tr style=\"text-align: right;\">\n",
       "      <th></th>\n",
       "      <th>listing_id</th>\n",
       "      <th>high</th>\n",
       "      <th>low</th>\n",
       "      <th>medium</th>\n",
       "    </tr>\n",
       "  </thead>\n",
       "  <tbody>\n",
       "    <tr>\n",
       "      <th>0</th>\n",
       "      <td>7142618</td>\n",
       "      <td>0.0672273</td>\n",
       "      <td>0.709968</td>\n",
       "      <td>0.222805</td>\n",
       "    </tr>\n",
       "    <tr>\n",
       "      <th>1</th>\n",
       "      <td>7210040</td>\n",
       "      <td>0.118093</td>\n",
       "      <td>0.575477</td>\n",
       "      <td>0.30643</td>\n",
       "    </tr>\n",
       "    <tr>\n",
       "      <th>2</th>\n",
       "      <td>7103890</td>\n",
       "      <td>0.0293741</td>\n",
       "      <td>0.803423</td>\n",
       "      <td>0.167203</td>\n",
       "    </tr>\n",
       "    <tr>\n",
       "      <th>3</th>\n",
       "      <td>7143442</td>\n",
       "      <td>0.0773939</td>\n",
       "      <td>0.652827</td>\n",
       "      <td>0.269779</td>\n",
       "    </tr>\n",
       "    <tr>\n",
       "      <th>4</th>\n",
       "      <td>6860601</td>\n",
       "      <td>0.0161656</td>\n",
       "      <td>0.82143</td>\n",
       "      <td>0.162404</td>\n",
       "    </tr>\n",
       "  </tbody>\n",
       "</table>\n",
       "</div>"
      ],
      "text/plain": [
       "  listing_id       high       low    medium\n",
       "0    7142618  0.0672273  0.709968  0.222805\n",
       "1    7210040   0.118093  0.575477   0.30643\n",
       "2    7103890  0.0293741  0.803423  0.167203\n",
       "3    7143442  0.0773939  0.652827  0.269779\n",
       "4    6860601  0.0161656   0.82143  0.162404"
      ]
     },
     "execution_count": 106,
     "metadata": {},
     "output_type": "execute_result"
    }
   ],
   "source": [
    "sub.head()"
   ]
  },
  {
   "cell_type": "code",
   "execution_count": 107,
   "metadata": {
    "collapsed": true
   },
   "outputs": [],
   "source": [
    "sub.to_csv('./submission/submission_2017-02-14.csv', index=False)"
   ]
  },
  {
   "cell_type": "markdown",
   "metadata": {},
   "source": [
    "#### Random Forest"
   ]
  },
  {
   "cell_type": "code",
   "execution_count": 107,
   "metadata": {
    "collapsed": true
   },
   "outputs": [],
   "source": [
    "# Model 2: Random Forest\n",
    "from sklearn.ensemble import RandomForestClassifier"
   ]
  },
  {
   "cell_type": "code",
   "execution_count": 108,
   "metadata": {
    "collapsed": true
   },
   "outputs": [],
   "source": [
    "rf = RandomForestClassifier()"
   ]
  },
  {
   "cell_type": "code",
   "execution_count": 109,
   "metadata": {
    "collapsed": false
   },
   "outputs": [
    {
     "data": {
      "text/plain": [
       "RandomForestClassifier(bootstrap=True, class_weight=None, criterion='gini',\n",
       "            max_depth=None, max_features='auto', max_leaf_nodes=None,\n",
       "            min_samples_leaf=1, min_samples_split=2,\n",
       "            min_weight_fraction_leaf=0.0, n_estimators=10, n_jobs=1,\n",
       "            oob_score=False, random_state=None, verbose=0,\n",
       "            warm_start=False)"
      ]
     },
     "execution_count": 109,
     "metadata": {},
     "output_type": "execute_result"
    }
   ],
   "source": [
    "rf.fit(X_train, y_train)"
   ]
  },
  {
   "cell_type": "code",
   "execution_count": 110,
   "metadata": {
    "collapsed": true
   },
   "outputs": [],
   "source": [
    "scores = cross_val_score(rf, X_train, y_train, cv=10, scoring='log_loss')"
   ]
  },
  {
   "cell_type": "code",
   "execution_count": 111,
   "metadata": {
    "collapsed": false
   },
   "outputs": [
    {
     "data": {
      "text/plain": [
       "array([-3.25390666, -3.21199369, -3.07391047, -3.21410635, -3.06718635,\n",
       "       -3.24623319, -3.30360624, -3.20222487, -3.27051476, -3.33066717])"
      ]
     },
     "execution_count": 111,
     "metadata": {},
     "output_type": "execute_result"
    }
   ],
   "source": [
    "scores"
   ]
  },
  {
   "cell_type": "code",
   "execution_count": 112,
   "metadata": {
    "collapsed": false
   },
   "outputs": [
    {
     "data": {
      "text/plain": [
       "array([  2.90629288e-02,   7.70039833e-02,   4.44886136e-01, ...,\n",
       "         8.60031147e-06,   0.00000000e+00,   0.00000000e+00])"
      ]
     },
     "execution_count": 112,
     "metadata": {},
     "output_type": "execute_result"
    }
   ],
   "source": [
    "rf.feature_importances_"
   ]
  },
  {
   "cell_type": "markdown",
   "metadata": {},
   "source": [
    "#### XGBoost"
   ]
  },
  {
   "cell_type": "code",
   "execution_count": 85,
   "metadata": {
    "collapsed": true
   },
   "outputs": [],
   "source": [
    "# Model 3: xgboost\n",
    "import xgboost as xgb\n",
    "from xgboost.sklearn import XGBClassifier\n",
    "XGB_model = xgb.XGBClassifier(objective='multi:softprob')"
   ]
  },
  {
   "cell_type": "code",
   "execution_count": 86,
   "metadata": {
    "collapsed": false
   },
   "outputs": [
    {
     "data": {
      "text/plain": [
       "XGBClassifier(base_score=0.5, colsample_bylevel=1, colsample_bytree=1,\n",
       "       gamma=0, learning_rate=0.1, max_delta_step=0, max_depth=3,\n",
       "       min_child_weight=1, missing=None, n_estimators=100, nthread=-1,\n",
       "       objective='multi:softprob', reg_alpha=0, reg_lambda=1,\n",
       "       scale_pos_weight=1, seed=0, silent=True, subsample=1)"
      ]
     },
     "execution_count": 86,
     "metadata": {},
     "output_type": "execute_result"
    }
   ],
   "source": [
    "XGB_model.fit(X_train, y_train)"
   ]
  },
  {
   "cell_type": "code",
   "execution_count": 88,
   "metadata": {
    "collapsed": true
   },
   "outputs": [],
   "source": [
    "from sklearn.cross_validation import cross_val_score"
   ]
  },
  {
   "cell_type": "code",
   "execution_count": 89,
   "metadata": {
    "collapsed": false
   },
   "outputs": [],
   "source": [
    "scores = cross_val_score(XGB_model, X_train, y_train, cv=5, scoring='log_loss')"
   ]
  },
  {
   "cell_type": "code",
   "execution_count": 91,
   "metadata": {
    "collapsed": false
   },
   "outputs": [
    {
     "data": {
      "text/plain": [
       "array([-0.68444429, -0.67239894, -0.6774404 , -0.67341113, -0.68045222])"
      ]
     },
     "execution_count": 91,
     "metadata": {},
     "output_type": "execute_result"
    }
   ],
   "source": [
    "scores"
   ]
  },
  {
   "cell_type": "code",
   "execution_count": 92,
   "metadata": {
    "collapsed": false
   },
   "outputs": [
    {
     "data": {
      "text/plain": [
       "{'f0': 91,\n",
       " 'f1': 432,\n",
       " 'f117': 98,\n",
       " 'f1182': 2,\n",
       " 'f137': 31,\n",
       " 'f139': 48,\n",
       " 'f1458': 18,\n",
       " 'f148': 1,\n",
       " 'f1481': 49,\n",
       " 'f1519': 22,\n",
       " 'f1542': 37,\n",
       " 'f2': 751,\n",
       " 'f21': 18,\n",
       " 'f245': 21,\n",
       " 'f256': 104,\n",
       " 'f386': 6,\n",
       " 'f454': 6,\n",
       " 'f476': 80,\n",
       " 'f478': 26,\n",
       " 'f480': 1,\n",
       " 'f594': 39,\n",
       " 'f758': 4,\n",
       " 'f85': 26,\n",
       " 'f874': 29,\n",
       " 'f914': 102}"
      ]
     },
     "execution_count": 92,
     "metadata": {},
     "output_type": "execute_result"
    }
   ],
   "source": [
    "XGB_model.booster().get_fscore()"
   ]
  },
  {
   "cell_type": "code",
   "execution_count": 120,
   "metadata": {
    "collapsed": true
   },
   "outputs": [],
   "source": [
    "y_test_log_pred = XGB_model.predict_proba(X_test)\n",
    "sub = pd.DataFrame(np.column_stack((y_id, y_test_log_pred)), columns=['listing_id'] + le.classes_.tolist())"
   ]
  },
  {
   "cell_type": "code",
   "execution_count": 121,
   "metadata": {
    "collapsed": true
   },
   "outputs": [],
   "source": [
    "sub.to_csv('./submission/submission_2017-02-23_r1.csv', index=False)"
   ]
  },
  {
   "cell_type": "code",
   "execution_count": null,
   "metadata": {
    "collapsed": true
   },
   "outputs": [],
   "source": []
  }
 ],
 "metadata": {
  "kernelspec": {
   "display_name": "Python 2",
   "language": "python",
   "name": "python2"
  },
  "language_info": {
   "codemirror_mode": {
    "name": "ipython",
    "version": 2
   },
   "file_extension": ".py",
   "mimetype": "text/x-python",
   "name": "python",
   "nbconvert_exporter": "python",
   "pygments_lexer": "ipython2",
   "version": "2.7.10"
  }
 },
 "nbformat": 4,
 "nbformat_minor": 0
}
