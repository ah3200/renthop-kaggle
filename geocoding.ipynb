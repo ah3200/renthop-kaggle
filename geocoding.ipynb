{
 "cells": [
  {
   "cell_type": "code",
   "execution_count": 1,
   "metadata": {
    "collapsed": false
   },
   "outputs": [],
   "source": [
    "from geopy.geocoders import Nominatim"
   ]
  },
  {
   "cell_type": "code",
   "execution_count": 2,
   "metadata": {
    "collapsed": true
   },
   "outputs": [],
   "source": [
    "import pandas as pd"
   ]
  },
  {
   "cell_type": "code",
   "execution_count": 3,
   "metadata": {
    "collapsed": false
   },
   "outputs": [],
   "source": [
    "train_location = pd.read_csv('./data/train_for_map.csv')"
   ]
  },
  {
   "cell_type": "code",
   "execution_count": 4,
   "metadata": {
    "collapsed": false
   },
   "outputs": [
    {
     "data": {
      "text/plain": [
       "(49352, 13)"
      ]
     },
     "execution_count": 4,
     "metadata": {},
     "output_type": "execute_result"
    }
   ],
   "source": [
    "train_location.shape"
   ]
  },
  {
   "cell_type": "code",
   "execution_count": 5,
   "metadata": {
    "collapsed": false
   },
   "outputs": [
    {
     "data": {
      "text/html": [
       "<div>\n",
       "<table border=\"1\" class=\"dataframe\">\n",
       "  <thead>\n",
       "    <tr style=\"text-align: right;\">\n",
       "      <th></th>\n",
       "      <th>Unnamed: 0</th>\n",
       "      <th>bathrooms</th>\n",
       "      <th>bedrooms</th>\n",
       "      <th>created</th>\n",
       "      <th>display_address</th>\n",
       "      <th>interest_level</th>\n",
       "      <th>latitude</th>\n",
       "      <th>longitude</th>\n",
       "      <th>listing_id</th>\n",
       "      <th>building_id</th>\n",
       "      <th>manager_id</th>\n",
       "      <th>price</th>\n",
       "      <th>street_address</th>\n",
       "    </tr>\n",
       "  </thead>\n",
       "  <tbody>\n",
       "    <tr>\n",
       "      <th>0</th>\n",
       "      <td>10</td>\n",
       "      <td>1.5</td>\n",
       "      <td>3</td>\n",
       "      <td>2016-06-24 07:54:24</td>\n",
       "      <td>Metropolitan Avenue</td>\n",
       "      <td>medium</td>\n",
       "      <td>40.7145</td>\n",
       "      <td>-73.9425</td>\n",
       "      <td>7211212</td>\n",
       "      <td>53a5b119ba8f7b61d4e010512e0dfc85</td>\n",
       "      <td>5ba989232d0489da1b5f2c45f6688adc</td>\n",
       "      <td>3000</td>\n",
       "      <td>792 Metropolitan Avenue</td>\n",
       "    </tr>\n",
       "    <tr>\n",
       "      <th>1</th>\n",
       "      <td>10000</td>\n",
       "      <td>1.0</td>\n",
       "      <td>2</td>\n",
       "      <td>2016-06-12 12:19:27</td>\n",
       "      <td>Columbus Avenue</td>\n",
       "      <td>low</td>\n",
       "      <td>40.7947</td>\n",
       "      <td>-73.9667</td>\n",
       "      <td>7150865</td>\n",
       "      <td>c5c8a357cba207596b04d1afd1e4f130</td>\n",
       "      <td>7533621a882f71e25173b27e3139d83d</td>\n",
       "      <td>5465</td>\n",
       "      <td>808 Columbus Avenue</td>\n",
       "    </tr>\n",
       "    <tr>\n",
       "      <th>2</th>\n",
       "      <td>100004</td>\n",
       "      <td>1.0</td>\n",
       "      <td>1</td>\n",
       "      <td>2016-04-17 03:26:41</td>\n",
       "      <td>W 13 Street</td>\n",
       "      <td>high</td>\n",
       "      <td>40.7388</td>\n",
       "      <td>-74.0018</td>\n",
       "      <td>6887163</td>\n",
       "      <td>c3ba40552e2120b0acfc3cb5730bb2aa</td>\n",
       "      <td>d9039c43983f6e564b1482b273bd7b01</td>\n",
       "      <td>2850</td>\n",
       "      <td>241 W 13 Street</td>\n",
       "    </tr>\n",
       "    <tr>\n",
       "      <th>3</th>\n",
       "      <td>100007</td>\n",
       "      <td>1.0</td>\n",
       "      <td>1</td>\n",
       "      <td>2016-04-18 02:22:02</td>\n",
       "      <td>East 49th Street</td>\n",
       "      <td>low</td>\n",
       "      <td>40.7539</td>\n",
       "      <td>-73.9677</td>\n",
       "      <td>6888711</td>\n",
       "      <td>28d9ad350afeaab8027513a3e52ac8d5</td>\n",
       "      <td>1067e078446a7897d2da493d2f741316</td>\n",
       "      <td>3275</td>\n",
       "      <td>333 East 49th Street</td>\n",
       "    </tr>\n",
       "    <tr>\n",
       "      <th>4</th>\n",
       "      <td>100013</td>\n",
       "      <td>1.0</td>\n",
       "      <td>4</td>\n",
       "      <td>2016-04-28 01:32:41</td>\n",
       "      <td>West 143rd Street</td>\n",
       "      <td>low</td>\n",
       "      <td>40.8241</td>\n",
       "      <td>-73.9493</td>\n",
       "      <td>6934781</td>\n",
       "      <td>0</td>\n",
       "      <td>98e13ad4b495b9613cef886d79a6291f</td>\n",
       "      <td>3350</td>\n",
       "      <td>500 West 143rd Street</td>\n",
       "    </tr>\n",
       "  </tbody>\n",
       "</table>\n",
       "</div>"
      ],
      "text/plain": [
       "   Unnamed: 0  bathrooms  bedrooms              created      display_address  \\\n",
       "0          10        1.5         3  2016-06-24 07:54:24  Metropolitan Avenue   \n",
       "1       10000        1.0         2  2016-06-12 12:19:27      Columbus Avenue   \n",
       "2      100004        1.0         1  2016-04-17 03:26:41          W 13 Street   \n",
       "3      100007        1.0         1  2016-04-18 02:22:02     East 49th Street   \n",
       "4      100013        1.0         4  2016-04-28 01:32:41    West 143rd Street   \n",
       "\n",
       "  interest_level  latitude  longitude  listing_id  \\\n",
       "0         medium   40.7145   -73.9425     7211212   \n",
       "1            low   40.7947   -73.9667     7150865   \n",
       "2           high   40.7388   -74.0018     6887163   \n",
       "3            low   40.7539   -73.9677     6888711   \n",
       "4            low   40.8241   -73.9493     6934781   \n",
       "\n",
       "                        building_id                        manager_id  price  \\\n",
       "0  53a5b119ba8f7b61d4e010512e0dfc85  5ba989232d0489da1b5f2c45f6688adc   3000   \n",
       "1  c5c8a357cba207596b04d1afd1e4f130  7533621a882f71e25173b27e3139d83d   5465   \n",
       "2  c3ba40552e2120b0acfc3cb5730bb2aa  d9039c43983f6e564b1482b273bd7b01   2850   \n",
       "3  28d9ad350afeaab8027513a3e52ac8d5  1067e078446a7897d2da493d2f741316   3275   \n",
       "4                                 0  98e13ad4b495b9613cef886d79a6291f   3350   \n",
       "\n",
       "            street_address  \n",
       "0  792 Metropolitan Avenue  \n",
       "1      808 Columbus Avenue  \n",
       "2          241 W 13 Street  \n",
       "3     333 East 49th Street  \n",
       "4    500 West 143rd Street  "
      ]
     },
     "execution_count": 5,
     "metadata": {},
     "output_type": "execute_result"
    }
   ],
   "source": [
    "train_location.head()"
   ]
  },
  {
   "cell_type": "code",
   "execution_count": 6,
   "metadata": {
    "collapsed": false
   },
   "outputs": [
    {
     "data": {
      "text/plain": [
       "count    49352.000000\n",
       "mean        40.741545\n",
       "std          0.638535\n",
       "min          0.000000\n",
       "25%         40.728300\n",
       "50%         40.751800\n",
       "75%         40.774300\n",
       "max         44.883500\n",
       "Name: latitude, dtype: float64"
      ]
     },
     "execution_count": 6,
     "metadata": {},
     "output_type": "execute_result"
    }
   ],
   "source": [
    "train_location.latitude.describe()"
   ]
  },
  {
   "cell_type": "code",
   "execution_count": 7,
   "metadata": {
    "collapsed": false
   },
   "outputs": [
    {
     "data": {
      "text/plain": [
       "count    49352.000000\n",
       "mean       -73.955716\n",
       "std          1.177912\n",
       "min       -118.271000\n",
       "25%        -73.991700\n",
       "50%        -73.977900\n",
       "75%        -73.954800\n",
       "max          0.000000\n",
       "Name: longitude, dtype: float64"
      ]
     },
     "execution_count": 7,
     "metadata": {},
     "output_type": "execute_result"
    }
   ],
   "source": [
    "train_location.longitude.describe()"
   ]
  },
  {
   "cell_type": "code",
   "execution_count": 19,
   "metadata": {
    "collapsed": false,
    "scrolled": true
   },
   "outputs": [
    {
     "data": {
      "text/html": [
       "<div>\n",
       "<table border=\"1\" class=\"dataframe\">\n",
       "  <thead>\n",
       "    <tr style=\"text-align: right;\">\n",
       "      <th></th>\n",
       "      <th>Unnamed: 0</th>\n",
       "      <th>bathrooms</th>\n",
       "      <th>bedrooms</th>\n",
       "      <th>created</th>\n",
       "      <th>display_address</th>\n",
       "      <th>interest_level</th>\n",
       "      <th>latitude</th>\n",
       "      <th>longitude</th>\n",
       "      <th>listing_id</th>\n",
       "      <th>building_id</th>\n",
       "      <th>manager_id</th>\n",
       "      <th>price</th>\n",
       "      <th>street_address</th>\n",
       "    </tr>\n",
       "  </thead>\n",
       "  <tbody>\n",
       "    <tr>\n",
       "      <th>1698</th>\n",
       "      <td>103826</td>\n",
       "      <td>1.0</td>\n",
       "      <td>2</td>\n",
       "      <td>2016-04-09 01:28:45</td>\n",
       "      <td>East 89th Street</td>\n",
       "      <td>low</td>\n",
       "      <td>40.7800</td>\n",
       "      <td>-73.9513</td>\n",
       "      <td>6846414</td>\n",
       "      <td>0</td>\n",
       "      <td>c84e5e5c5b9330be0486bcb52a6ef92e</td>\n",
       "      <td>2700</td>\n",
       "      <td>234 East 89th Street</td>\n",
       "    </tr>\n",
       "    <tr>\n",
       "      <th>1699</th>\n",
       "      <td>103833</td>\n",
       "      <td>1.0</td>\n",
       "      <td>0</td>\n",
       "      <td>2016-04-13 02:49:47</td>\n",
       "      <td>W 57th St.</td>\n",
       "      <td>low</td>\n",
       "      <td>40.7709</td>\n",
       "      <td>-73.9917</td>\n",
       "      <td>6864460</td>\n",
       "      <td>ec447453d3b8033e14a7b54ba1e13e02</td>\n",
       "      <td>9e4ef9d8a24f407bf0b355b27f0d9965</td>\n",
       "      <td>2585</td>\n",
       "      <td>601 W 57th St.</td>\n",
       "    </tr>\n",
       "    <tr>\n",
       "      <th>1700</th>\n",
       "      <td>103834</td>\n",
       "      <td>1.0</td>\n",
       "      <td>1</td>\n",
       "      <td>2016-04-12 01:40:38</td>\n",
       "      <td>East 89th Street</td>\n",
       "      <td>low</td>\n",
       "      <td>40.7826</td>\n",
       "      <td>-73.9572</td>\n",
       "      <td>6857285</td>\n",
       "      <td>1e1ea00bd80f0e919da2bb087c334d54</td>\n",
       "      <td>faa547b5ebcb4b15c858433ce95edf49</td>\n",
       "      <td>3095</td>\n",
       "      <td>40 East 89th Street</td>\n",
       "    </tr>\n",
       "  </tbody>\n",
       "</table>\n",
       "</div>"
      ],
      "text/plain": [
       "      Unnamed: 0  bathrooms  bedrooms              created   display_address  \\\n",
       "1698      103826        1.0         2  2016-04-09 01:28:45  East 89th Street   \n",
       "1699      103833        1.0         0  2016-04-13 02:49:47        W 57th St.   \n",
       "1700      103834        1.0         1  2016-04-12 01:40:38  East 89th Street   \n",
       "\n",
       "     interest_level  latitude  longitude  listing_id  \\\n",
       "1698            low   40.7800   -73.9513     6846414   \n",
       "1699            low   40.7709   -73.9917     6864460   \n",
       "1700            low   40.7826   -73.9572     6857285   \n",
       "\n",
       "                           building_id                        manager_id  \\\n",
       "1698                                 0  c84e5e5c5b9330be0486bcb52a6ef92e   \n",
       "1699  ec447453d3b8033e14a7b54ba1e13e02  9e4ef9d8a24f407bf0b355b27f0d9965   \n",
       "1700  1e1ea00bd80f0e919da2bb087c334d54  faa547b5ebcb4b15c858433ce95edf49   \n",
       "\n",
       "      price        street_address  \n",
       "1698   2700  234 East 89th Street  \n",
       "1699   2585        601 W 57th St.  \n",
       "1700   3095   40 East 89th Street  "
      ]
     },
     "execution_count": 19,
     "metadata": {},
     "output_type": "execute_result"
    }
   ],
   "source": [
    "train_location.ix[1698:1700,:]"
   ]
  },
  {
   "cell_type": "code",
   "execution_count": 8,
   "metadata": {
    "collapsed": false
   },
   "outputs": [],
   "source": [
    "lat_lon_list = train_location[['latitude','longitude']].values.tolist()"
   ]
  },
  {
   "cell_type": "code",
   "execution_count": 9,
   "metadata": {
    "collapsed": false
   },
   "outputs": [
    {
     "data": {
      "text/plain": [
       "49352"
      ]
     },
     "execution_count": 9,
     "metadata": {},
     "output_type": "execute_result"
    }
   ],
   "source": [
    "len(lat_lon_list)"
   ]
  },
  {
   "cell_type": "code",
   "execution_count": 10,
   "metadata": {
    "collapsed": false
   },
   "outputs": [
    {
     "data": {
      "text/plain": [
       "[[40.7145, -73.9425],\n",
       " [40.7947, -73.9667],\n",
       " [40.7388, -74.0018],\n",
       " [40.7539, -73.9677],\n",
       " [40.8241, -73.9493]]"
      ]
     },
     "execution_count": 10,
     "metadata": {},
     "output_type": "execute_result"
    }
   ],
   "source": [
    "lat_lon_list[:5]"
   ]
  },
  {
   "cell_type": "code",
   "execution_count": 11,
   "metadata": {
    "collapsed": false
   },
   "outputs": [],
   "source": [
    "test_df = train_location.loc[:5,['latitude','longitude']]"
   ]
  },
  {
   "cell_type": "code",
   "execution_count": 12,
   "metadata": {
    "collapsed": false
   },
   "outputs": [
    {
     "data": {
      "text/html": [
       "<div>\n",
       "<table border=\"1\" class=\"dataframe\">\n",
       "  <thead>\n",
       "    <tr style=\"text-align: right;\">\n",
       "      <th></th>\n",
       "      <th>latitude</th>\n",
       "      <th>longitude</th>\n",
       "    </tr>\n",
       "  </thead>\n",
       "  <tbody>\n",
       "    <tr>\n",
       "      <th>0</th>\n",
       "      <td>40.7145</td>\n",
       "      <td>-73.9425</td>\n",
       "    </tr>\n",
       "    <tr>\n",
       "      <th>1</th>\n",
       "      <td>40.7947</td>\n",
       "      <td>-73.9667</td>\n",
       "    </tr>\n",
       "    <tr>\n",
       "      <th>2</th>\n",
       "      <td>40.7388</td>\n",
       "      <td>-74.0018</td>\n",
       "    </tr>\n",
       "    <tr>\n",
       "      <th>3</th>\n",
       "      <td>40.7539</td>\n",
       "      <td>-73.9677</td>\n",
       "    </tr>\n",
       "    <tr>\n",
       "      <th>4</th>\n",
       "      <td>40.8241</td>\n",
       "      <td>-73.9493</td>\n",
       "    </tr>\n",
       "    <tr>\n",
       "      <th>5</th>\n",
       "      <td>40.7429</td>\n",
       "      <td>-74.0028</td>\n",
       "    </tr>\n",
       "  </tbody>\n",
       "</table>\n",
       "</div>"
      ],
      "text/plain": [
       "   latitude  longitude\n",
       "0   40.7145   -73.9425\n",
       "1   40.7947   -73.9667\n",
       "2   40.7388   -74.0018\n",
       "3   40.7539   -73.9677\n",
       "4   40.8241   -73.9493\n",
       "5   40.7429   -74.0028"
      ]
     },
     "execution_count": 12,
     "metadata": {},
     "output_type": "execute_result"
    }
   ],
   "source": [
    "test_df"
   ]
  },
  {
   "cell_type": "code",
   "execution_count": 43,
   "metadata": {
    "collapsed": false
   },
   "outputs": [],
   "source": [
    "return_location = test_df.apply(lambda x: geolocator.reverse([x[0],x[1]]).raw['address']['postcode'], axis=1)"
   ]
  },
  {
   "cell_type": "code",
   "execution_count": 45,
   "metadata": {
    "collapsed": true
   },
   "outputs": [],
   "source": [
    "return_location = test_df.apply(lambda x: geolocator.reverse([x[0],x[1]]).raw['address'], axis=1)"
   ]
  },
  {
   "cell_type": "code",
   "execution_count": 49,
   "metadata": {
    "collapsed": false
   },
   "outputs": [],
   "source": [
    "zipcode = return_location.map(lambda x: x['postcode'])"
   ]
  },
  {
   "cell_type": "code",
   "execution_count": 50,
   "metadata": {
    "collapsed": false
   },
   "outputs": [
    {
     "data": {
      "text/plain": [
       "0    11211\n",
       "1    10025\n",
       "2    10011\n",
       "3    10022\n",
       "4    10031\n",
       "5    10011\n",
       "dtype: object"
      ]
     },
     "execution_count": 50,
     "metadata": {},
     "output_type": "execute_result"
    }
   ],
   "source": [
    "zipcode"
   ]
  },
  {
   "cell_type": "code",
   "execution_count": 12,
   "metadata": {
    "collapsed": false
   },
   "outputs": [],
   "source": [
    "test_lat_lon = lat_lon_list[0]"
   ]
  },
  {
   "cell_type": "code",
   "execution_count": 13,
   "metadata": {
    "collapsed": false
   },
   "outputs": [
    {
     "data": {
      "text/plain": [
       "[40.7145, -73.9425]"
      ]
     },
     "execution_count": 13,
     "metadata": {},
     "output_type": "execute_result"
    }
   ],
   "source": [
    "test_lat_lon"
   ]
  },
  {
   "cell_type": "code",
   "execution_count": 14,
   "metadata": {
    "collapsed": true
   },
   "outputs": [],
   "source": [
    "geolocator = Nominatim()"
   ]
  },
  {
   "cell_type": "code",
   "execution_count": 15,
   "metadata": {
    "collapsed": true
   },
   "outputs": [],
   "source": [
    "location = geolocator.reverse(test_lat_lon)"
   ]
  },
  {
   "cell_type": "code",
   "execution_count": 16,
   "metadata": {
    "collapsed": false
   },
   "outputs": [
    {
     "data": {
      "text/plain": [
       "u'792, Metropolitan Avenue, Williamsburg, Kings County, NYC, New York, 11211, United States of America'"
      ]
     },
     "execution_count": 16,
     "metadata": {},
     "output_type": "execute_result"
    }
   ],
   "source": [
    "location.address"
   ]
  },
  {
   "cell_type": "code",
   "execution_count": 17,
   "metadata": {
    "collapsed": false
   },
   "outputs": [
    {
     "data": {
      "text/plain": [
       "u'11211'"
      ]
     },
     "execution_count": 17,
     "metadata": {},
     "output_type": "execute_result"
    }
   ],
   "source": [
    "location.raw['address']['postcode']"
   ]
  },
  {
   "cell_type": "code",
   "execution_count": null,
   "metadata": {
    "collapsed": false
   },
   "outputs": [],
   "source": [
    "zipcode_list = []\n",
    "for coord in lat_lon_list:\n",
    "    location = geolocator.reverse(coord)\n",
    "    zipcode_list.append(location.raw['address']['postcode'])\n",
    "    print location.address"
   ]
  },
  {
   "cell_type": "code",
   "execution_count": null,
   "metadata": {
    "collapsed": true
   },
   "outputs": [],
   "source": []
  }
 ],
 "metadata": {
  "kernelspec": {
   "display_name": "Python 2",
   "language": "python",
   "name": "python2"
  },
  "language_info": {
   "codemirror_mode": {
    "name": "ipython",
    "version": 2
   },
   "file_extension": ".py",
   "mimetype": "text/x-python",
   "name": "python",
   "nbconvert_exporter": "python",
   "pygments_lexer": "ipython2",
   "version": "2.7.10"
  }
 },
 "nbformat": 4,
 "nbformat_minor": 0
}
