{
 "cells": [
  {
   "cell_type": "code",
   "execution_count": 1,
   "metadata": {
    "collapsed": false
   },
   "outputs": [],
   "source": [
    "import pandas as pd\n",
    "import numpy as np\n",
    "\n",
    "#import matplotlib.pyplot as plt\n",
    "#%matplotlib inline\n",
    "#import seaborn as sns"
   ]
  },
  {
   "cell_type": "code",
   "execution_count": 2,
   "metadata": {
    "collapsed": true
   },
   "outputs": [],
   "source": [
    "from scipy import sparse"
   ]
  },
  {
   "cell_type": "markdown",
   "metadata": {},
   "source": [
    "### Load training/test data"
   ]
  },
  {
   "cell_type": "code",
   "execution_count": 3,
   "metadata": {
    "collapsed": false
   },
   "outputs": [],
   "source": [
    "train = pd.read_json('./data/train.json')"
   ]
  },
  {
   "cell_type": "code",
   "execution_count": 4,
   "metadata": {
    "collapsed": true
   },
   "outputs": [],
   "source": [
    "test = pd.read_json('./data/test.json')"
   ]
  },
  {
   "cell_type": "code",
   "execution_count": 5,
   "metadata": {
    "collapsed": false
   },
   "outputs": [
    {
     "name": "stdout",
     "output_type": "stream",
     "text": [
      "(49352, 15) (74659, 14)\n"
     ]
    }
   ],
   "source": [
    "print train.shape, test.shape"
   ]
  },
  {
   "cell_type": "code",
   "execution_count": 6,
   "metadata": {
    "collapsed": false
   },
   "outputs": [
    {
     "data": {
      "text/html": [
       "<div>\n",
       "<table border=\"1\" class=\"dataframe\">\n",
       "  <thead>\n",
       "    <tr style=\"text-align: right;\">\n",
       "      <th></th>\n",
       "      <th>bathrooms</th>\n",
       "      <th>bedrooms</th>\n",
       "      <th>building_id</th>\n",
       "      <th>created</th>\n",
       "      <th>description</th>\n",
       "      <th>display_address</th>\n",
       "      <th>features</th>\n",
       "      <th>interest_level</th>\n",
       "      <th>latitude</th>\n",
       "      <th>listing_id</th>\n",
       "      <th>longitude</th>\n",
       "      <th>manager_id</th>\n",
       "      <th>photos</th>\n",
       "      <th>price</th>\n",
       "      <th>street_address</th>\n",
       "    </tr>\n",
       "  </thead>\n",
       "  <tbody>\n",
       "    <tr>\n",
       "      <th>10</th>\n",
       "      <td>1.5</td>\n",
       "      <td>3</td>\n",
       "      <td>53a5b119ba8f7b61d4e010512e0dfc85</td>\n",
       "      <td>2016-06-24 07:54:24</td>\n",
       "      <td>A Brand New 3 Bedroom 1.5 bath ApartmentEnjoy ...</td>\n",
       "      <td>Metropolitan Avenue</td>\n",
       "      <td>[]</td>\n",
       "      <td>medium</td>\n",
       "      <td>40.7145</td>\n",
       "      <td>7211212</td>\n",
       "      <td>-73.9425</td>\n",
       "      <td>5ba989232d0489da1b5f2c45f6688adc</td>\n",
       "      <td>[https://photos.renthop.com/2/7211212_1ed4542e...</td>\n",
       "      <td>3000</td>\n",
       "      <td>792 Metropolitan Avenue</td>\n",
       "    </tr>\n",
       "    <tr>\n",
       "      <th>10000</th>\n",
       "      <td>1.0</td>\n",
       "      <td>2</td>\n",
       "      <td>c5c8a357cba207596b04d1afd1e4f130</td>\n",
       "      <td>2016-06-12 12:19:27</td>\n",
       "      <td></td>\n",
       "      <td>Columbus Avenue</td>\n",
       "      <td>[Doorman, Elevator, Fitness Center, Cats Allow...</td>\n",
       "      <td>low</td>\n",
       "      <td>40.7947</td>\n",
       "      <td>7150865</td>\n",
       "      <td>-73.9667</td>\n",
       "      <td>7533621a882f71e25173b27e3139d83d</td>\n",
       "      <td>[https://photos.renthop.com/2/7150865_be3306c5...</td>\n",
       "      <td>5465</td>\n",
       "      <td>808 Columbus Avenue</td>\n",
       "    </tr>\n",
       "    <tr>\n",
       "      <th>100004</th>\n",
       "      <td>1.0</td>\n",
       "      <td>1</td>\n",
       "      <td>c3ba40552e2120b0acfc3cb5730bb2aa</td>\n",
       "      <td>2016-04-17 03:26:41</td>\n",
       "      <td>Top Top West Village location, beautiful Pre-w...</td>\n",
       "      <td>W 13 Street</td>\n",
       "      <td>[Laundry In Building, Dishwasher, Hardwood Flo...</td>\n",
       "      <td>high</td>\n",
       "      <td>40.7388</td>\n",
       "      <td>6887163</td>\n",
       "      <td>-74.0018</td>\n",
       "      <td>d9039c43983f6e564b1482b273bd7b01</td>\n",
       "      <td>[https://photos.renthop.com/2/6887163_de85c427...</td>\n",
       "      <td>2850</td>\n",
       "      <td>241 W 13 Street</td>\n",
       "    </tr>\n",
       "    <tr>\n",
       "      <th>100007</th>\n",
       "      <td>1.0</td>\n",
       "      <td>1</td>\n",
       "      <td>28d9ad350afeaab8027513a3e52ac8d5</td>\n",
       "      <td>2016-04-18 02:22:02</td>\n",
       "      <td>Building Amenities - Garage - Garden - fitness...</td>\n",
       "      <td>East 49th Street</td>\n",
       "      <td>[Hardwood Floors, No Fee]</td>\n",
       "      <td>low</td>\n",
       "      <td>40.7539</td>\n",
       "      <td>6888711</td>\n",
       "      <td>-73.9677</td>\n",
       "      <td>1067e078446a7897d2da493d2f741316</td>\n",
       "      <td>[https://photos.renthop.com/2/6888711_6e660cee...</td>\n",
       "      <td>3275</td>\n",
       "      <td>333 East 49th Street</td>\n",
       "    </tr>\n",
       "    <tr>\n",
       "      <th>100013</th>\n",
       "      <td>1.0</td>\n",
       "      <td>4</td>\n",
       "      <td>0</td>\n",
       "      <td>2016-04-28 01:32:41</td>\n",
       "      <td>Beautifully renovated 3 bedroom flex 4 bedroom...</td>\n",
       "      <td>West 143rd Street</td>\n",
       "      <td>[Pre-War]</td>\n",
       "      <td>low</td>\n",
       "      <td>40.8241</td>\n",
       "      <td>6934781</td>\n",
       "      <td>-73.9493</td>\n",
       "      <td>98e13ad4b495b9613cef886d79a6291f</td>\n",
       "      <td>[https://photos.renthop.com/2/6934781_1fa4b41a...</td>\n",
       "      <td>3350</td>\n",
       "      <td>500 West 143rd Street</td>\n",
       "    </tr>\n",
       "  </tbody>\n",
       "</table>\n",
       "</div>"
      ],
      "text/plain": [
       "        bathrooms  bedrooms                       building_id  \\\n",
       "10            1.5         3  53a5b119ba8f7b61d4e010512e0dfc85   \n",
       "10000         1.0         2  c5c8a357cba207596b04d1afd1e4f130   \n",
       "100004        1.0         1  c3ba40552e2120b0acfc3cb5730bb2aa   \n",
       "100007        1.0         1  28d9ad350afeaab8027513a3e52ac8d5   \n",
       "100013        1.0         4                                 0   \n",
       "\n",
       "                    created  \\\n",
       "10      2016-06-24 07:54:24   \n",
       "10000   2016-06-12 12:19:27   \n",
       "100004  2016-04-17 03:26:41   \n",
       "100007  2016-04-18 02:22:02   \n",
       "100013  2016-04-28 01:32:41   \n",
       "\n",
       "                                              description  \\\n",
       "10      A Brand New 3 Bedroom 1.5 bath ApartmentEnjoy ...   \n",
       "10000                                                       \n",
       "100004  Top Top West Village location, beautiful Pre-w...   \n",
       "100007  Building Amenities - Garage - Garden - fitness...   \n",
       "100013  Beautifully renovated 3 bedroom flex 4 bedroom...   \n",
       "\n",
       "            display_address  \\\n",
       "10      Metropolitan Avenue   \n",
       "10000       Columbus Avenue   \n",
       "100004          W 13 Street   \n",
       "100007     East 49th Street   \n",
       "100013    West 143rd Street   \n",
       "\n",
       "                                                 features interest_level  \\\n",
       "10                                                     []         medium   \n",
       "10000   [Doorman, Elevator, Fitness Center, Cats Allow...            low   \n",
       "100004  [Laundry In Building, Dishwasher, Hardwood Flo...           high   \n",
       "100007                          [Hardwood Floors, No Fee]            low   \n",
       "100013                                          [Pre-War]            low   \n",
       "\n",
       "        latitude  listing_id  longitude                        manager_id  \\\n",
       "10       40.7145     7211212   -73.9425  5ba989232d0489da1b5f2c45f6688adc   \n",
       "10000    40.7947     7150865   -73.9667  7533621a882f71e25173b27e3139d83d   \n",
       "100004   40.7388     6887163   -74.0018  d9039c43983f6e564b1482b273bd7b01   \n",
       "100007   40.7539     6888711   -73.9677  1067e078446a7897d2da493d2f741316   \n",
       "100013   40.8241     6934781   -73.9493  98e13ad4b495b9613cef886d79a6291f   \n",
       "\n",
       "                                                   photos  price  \\\n",
       "10      [https://photos.renthop.com/2/7211212_1ed4542e...   3000   \n",
       "10000   [https://photos.renthop.com/2/7150865_be3306c5...   5465   \n",
       "100004  [https://photos.renthop.com/2/6887163_de85c427...   2850   \n",
       "100007  [https://photos.renthop.com/2/6888711_6e660cee...   3275   \n",
       "100013  [https://photos.renthop.com/2/6934781_1fa4b41a...   3350   \n",
       "\n",
       "                 street_address  \n",
       "10      792 Metropolitan Avenue  \n",
       "10000       808 Columbus Avenue  \n",
       "100004          241 W 13 Street  \n",
       "100007     333 East 49th Street  \n",
       "100013    500 West 143rd Street  "
      ]
     },
     "execution_count": 6,
     "metadata": {},
     "output_type": "execute_result"
    }
   ],
   "source": [
    "train.head()"
   ]
  },
  {
   "cell_type": "code",
   "execution_count": 7,
   "metadata": {
    "collapsed": false
   },
   "outputs": [
    {
     "data": {
      "text/plain": [
       "Index([u'bathrooms', u'bedrooms', u'building_id', u'created', u'description',\n",
       "       u'display_address', u'features', u'interest_level', u'latitude',\n",
       "       u'listing_id', u'longitude', u'manager_id', u'photos', u'price',\n",
       "       u'street_address'],\n",
       "      dtype='object')"
      ]
     },
     "execution_count": 7,
     "metadata": {},
     "output_type": "execute_result"
    }
   ],
   "source": [
    "train.columns"
   ]
  },
  {
   "cell_type": "code",
   "execution_count": 8,
   "metadata": {
    "collapsed": false
   },
   "outputs": [
    {
     "data": {
      "text/plain": [
       "count    49352.00000\n",
       "mean         1.21218\n",
       "std          0.50142\n",
       "min          0.00000\n",
       "25%          1.00000\n",
       "50%          1.00000\n",
       "75%          1.00000\n",
       "max         10.00000\n",
       "Name: bathrooms, dtype: float64"
      ]
     },
     "execution_count": 8,
     "metadata": {},
     "output_type": "execute_result"
    }
   ],
   "source": [
    "train.bathrooms.describe()"
   ]
  },
  {
   "cell_type": "code",
   "execution_count": 9,
   "metadata": {
    "collapsed": false
   },
   "outputs": [
    {
     "data": {
      "text/plain": [
       "1    15752\n",
       "2    14623\n",
       "0     9475\n",
       "3     7276\n",
       "4     1929\n",
       "5      247\n",
       "6       46\n",
       "8        2\n",
       "7        2\n",
       "Name: bedrooms, dtype: int64"
      ]
     },
     "execution_count": 9,
     "metadata": {},
     "output_type": "execute_result"
    }
   ],
   "source": [
    "train.bedrooms.value_counts()"
   ]
  },
  {
   "cell_type": "code",
   "execution_count": 10,
   "metadata": {
    "collapsed": false
   },
   "outputs": [
    {
     "data": {
      "text/plain": [
       "count                   49352\n",
       "unique                  48675\n",
       "top       2016-04-15 02:24:25\n",
       "freq                        3\n",
       "Name: created, dtype: object"
      ]
     },
     "execution_count": 10,
     "metadata": {},
     "output_type": "execute_result"
    }
   ],
   "source": [
    "train.created.describe()"
   ]
  },
  {
   "cell_type": "code",
   "execution_count": 11,
   "metadata": {
    "collapsed": false
   },
   "outputs": [
    {
     "data": {
      "text/plain": [
       "(u'2016-06-29 21:41:47', u'2016-04-01 22:12:41')"
      ]
     },
     "execution_count": 11,
     "metadata": {},
     "output_type": "execute_result"
    }
   ],
   "source": [
    "train.created.max(), train.created.min()"
   ]
  },
  {
   "cell_type": "code",
   "execution_count": 12,
   "metadata": {
    "collapsed": false
   },
   "outputs": [
    {
     "data": {
      "text/plain": [
       "dtype('O')"
      ]
     },
     "execution_count": 12,
     "metadata": {},
     "output_type": "execute_result"
    }
   ],
   "source": [
    "train.created.dtype"
   ]
  },
  {
   "cell_type": "code",
   "execution_count": 13,
   "metadata": {
    "collapsed": true
   },
   "outputs": [],
   "source": [
    "#### Remove outlier\n",
    "train = train[train.price < 100000]"
   ]
  },
  {
   "cell_type": "code",
   "execution_count": 14,
   "metadata": {
    "collapsed": false
   },
   "outputs": [
    {
     "data": {
      "text/plain": [
       "(49345, 15)"
      ]
     },
     "execution_count": 14,
     "metadata": {},
     "output_type": "execute_result"
    }
   ],
   "source": [
    "train.shape"
   ]
  },
  {
   "cell_type": "markdown",
   "metadata": {},
   "source": [
    "### Date/time feature"
   ]
  },
  {
   "cell_type": "code",
   "execution_count": 15,
   "metadata": {
    "collapsed": false
   },
   "outputs": [],
   "source": [
    "# Change Dates columns to Python Date format\n",
    "train['created'] = pd.to_datetime(train['created'], format='%Y-%m-%d %H:%M:%S')\n",
    "test['created'] = pd.to_datetime(test['created'], format='%Y-%m-%d %H:%M:%S')\n",
    "# Extract Date Features\n",
    "import datetime as dt\n",
    "train['weekday_created'] = train['created'].dt.weekday\n",
    "train['month_created'] = train['created'].dt.month\n",
    "train['day_created'] = train['created'].dt.day\n",
    "train['hour_created'] = train['created'].dt.hour\n",
    "\n",
    "test['weekday_created'] = test['created'].dt.weekday\n",
    "test['month_created'] = test['created'].dt.month\n",
    "test['day_created'] = test['created'].dt.day\n",
    "test['hour_created'] = test['created'].dt.hour"
   ]
  },
  {
   "cell_type": "markdown",
   "metadata": {},
   "source": [
    "### Features (of the listing) feature"
   ]
  },
  {
   "cell_type": "code",
   "execution_count": 16,
   "metadata": {
    "collapsed": false
   },
   "outputs": [],
   "source": [
    "train['feature_list'] = train['features'].map(lambda x: ','.join(x)).str.lower()\n",
    "test['feature_list'] = test['features'].map(lambda x: ','.join(x)).str.lower()"
   ]
  },
  {
   "cell_type": "code",
   "execution_count": 17,
   "metadata": {
    "collapsed": true
   },
   "outputs": [],
   "source": [
    "train['number_of_features'] = train['features'].map(len)\n",
    "test['number_of_features'] = test['features'].map(len)"
   ]
  },
  {
   "cell_type": "code",
   "execution_count": 18,
   "metadata": {
    "collapsed": false
   },
   "outputs": [
    {
     "data": {
      "text/html": [
       "<div>\n",
       "<table border=\"1\" class=\"dataframe\">\n",
       "  <thead>\n",
       "    <tr style=\"text-align: right;\">\n",
       "      <th></th>\n",
       "      <th>bathrooms</th>\n",
       "      <th>bedrooms</th>\n",
       "      <th>building_id</th>\n",
       "      <th>created</th>\n",
       "      <th>description</th>\n",
       "      <th>display_address</th>\n",
       "      <th>features</th>\n",
       "      <th>interest_level</th>\n",
       "      <th>latitude</th>\n",
       "      <th>listing_id</th>\n",
       "      <th>...</th>\n",
       "      <th>manager_id</th>\n",
       "      <th>photos</th>\n",
       "      <th>price</th>\n",
       "      <th>street_address</th>\n",
       "      <th>weekday_created</th>\n",
       "      <th>month_created</th>\n",
       "      <th>day_created</th>\n",
       "      <th>hour_created</th>\n",
       "      <th>feature_list</th>\n",
       "      <th>number_of_features</th>\n",
       "    </tr>\n",
       "  </thead>\n",
       "  <tbody>\n",
       "    <tr>\n",
       "      <th>10</th>\n",
       "      <td>1.5</td>\n",
       "      <td>3</td>\n",
       "      <td>53a5b119ba8f7b61d4e010512e0dfc85</td>\n",
       "      <td>2016-06-24 07:54:24</td>\n",
       "      <td>A Brand New 3 Bedroom 1.5 bath ApartmentEnjoy ...</td>\n",
       "      <td>Metropolitan Avenue</td>\n",
       "      <td>[]</td>\n",
       "      <td>medium</td>\n",
       "      <td>40.7145</td>\n",
       "      <td>7211212</td>\n",
       "      <td>...</td>\n",
       "      <td>5ba989232d0489da1b5f2c45f6688adc</td>\n",
       "      <td>[https://photos.renthop.com/2/7211212_1ed4542e...</td>\n",
       "      <td>3000</td>\n",
       "      <td>792 Metropolitan Avenue</td>\n",
       "      <td>4</td>\n",
       "      <td>6</td>\n",
       "      <td>24</td>\n",
       "      <td>7</td>\n",
       "      <td></td>\n",
       "      <td>0</td>\n",
       "    </tr>\n",
       "    <tr>\n",
       "      <th>10000</th>\n",
       "      <td>1.0</td>\n",
       "      <td>2</td>\n",
       "      <td>c5c8a357cba207596b04d1afd1e4f130</td>\n",
       "      <td>2016-06-12 12:19:27</td>\n",
       "      <td></td>\n",
       "      <td>Columbus Avenue</td>\n",
       "      <td>[Doorman, Elevator, Fitness Center, Cats Allow...</td>\n",
       "      <td>low</td>\n",
       "      <td>40.7947</td>\n",
       "      <td>7150865</td>\n",
       "      <td>...</td>\n",
       "      <td>7533621a882f71e25173b27e3139d83d</td>\n",
       "      <td>[https://photos.renthop.com/2/7150865_be3306c5...</td>\n",
       "      <td>5465</td>\n",
       "      <td>808 Columbus Avenue</td>\n",
       "      <td>6</td>\n",
       "      <td>6</td>\n",
       "      <td>12</td>\n",
       "      <td>12</td>\n",
       "      <td>doorman,elevator,fitness center,cats allowed,d...</td>\n",
       "      <td>5</td>\n",
       "    </tr>\n",
       "    <tr>\n",
       "      <th>100004</th>\n",
       "      <td>1.0</td>\n",
       "      <td>1</td>\n",
       "      <td>c3ba40552e2120b0acfc3cb5730bb2aa</td>\n",
       "      <td>2016-04-17 03:26:41</td>\n",
       "      <td>Top Top West Village location, beautiful Pre-w...</td>\n",
       "      <td>W 13 Street</td>\n",
       "      <td>[Laundry In Building, Dishwasher, Hardwood Flo...</td>\n",
       "      <td>high</td>\n",
       "      <td>40.7388</td>\n",
       "      <td>6887163</td>\n",
       "      <td>...</td>\n",
       "      <td>d9039c43983f6e564b1482b273bd7b01</td>\n",
       "      <td>[https://photos.renthop.com/2/6887163_de85c427...</td>\n",
       "      <td>2850</td>\n",
       "      <td>241 W 13 Street</td>\n",
       "      <td>6</td>\n",
       "      <td>4</td>\n",
       "      <td>17</td>\n",
       "      <td>3</td>\n",
       "      <td>laundry in building,dishwasher,hardwood floors...</td>\n",
       "      <td>4</td>\n",
       "    </tr>\n",
       "    <tr>\n",
       "      <th>100007</th>\n",
       "      <td>1.0</td>\n",
       "      <td>1</td>\n",
       "      <td>28d9ad350afeaab8027513a3e52ac8d5</td>\n",
       "      <td>2016-04-18 02:22:02</td>\n",
       "      <td>Building Amenities - Garage - Garden - fitness...</td>\n",
       "      <td>East 49th Street</td>\n",
       "      <td>[Hardwood Floors, No Fee]</td>\n",
       "      <td>low</td>\n",
       "      <td>40.7539</td>\n",
       "      <td>6888711</td>\n",
       "      <td>...</td>\n",
       "      <td>1067e078446a7897d2da493d2f741316</td>\n",
       "      <td>[https://photos.renthop.com/2/6888711_6e660cee...</td>\n",
       "      <td>3275</td>\n",
       "      <td>333 East 49th Street</td>\n",
       "      <td>0</td>\n",
       "      <td>4</td>\n",
       "      <td>18</td>\n",
       "      <td>2</td>\n",
       "      <td>hardwood floors,no fee</td>\n",
       "      <td>2</td>\n",
       "    </tr>\n",
       "    <tr>\n",
       "      <th>100013</th>\n",
       "      <td>1.0</td>\n",
       "      <td>4</td>\n",
       "      <td>0</td>\n",
       "      <td>2016-04-28 01:32:41</td>\n",
       "      <td>Beautifully renovated 3 bedroom flex 4 bedroom...</td>\n",
       "      <td>West 143rd Street</td>\n",
       "      <td>[Pre-War]</td>\n",
       "      <td>low</td>\n",
       "      <td>40.8241</td>\n",
       "      <td>6934781</td>\n",
       "      <td>...</td>\n",
       "      <td>98e13ad4b495b9613cef886d79a6291f</td>\n",
       "      <td>[https://photos.renthop.com/2/6934781_1fa4b41a...</td>\n",
       "      <td>3350</td>\n",
       "      <td>500 West 143rd Street</td>\n",
       "      <td>3</td>\n",
       "      <td>4</td>\n",
       "      <td>28</td>\n",
       "      <td>1</td>\n",
       "      <td>pre-war</td>\n",
       "      <td>1</td>\n",
       "    </tr>\n",
       "  </tbody>\n",
       "</table>\n",
       "<p>5 rows × 21 columns</p>\n",
       "</div>"
      ],
      "text/plain": [
       "        bathrooms  bedrooms                       building_id  \\\n",
       "10            1.5         3  53a5b119ba8f7b61d4e010512e0dfc85   \n",
       "10000         1.0         2  c5c8a357cba207596b04d1afd1e4f130   \n",
       "100004        1.0         1  c3ba40552e2120b0acfc3cb5730bb2aa   \n",
       "100007        1.0         1  28d9ad350afeaab8027513a3e52ac8d5   \n",
       "100013        1.0         4                                 0   \n",
       "\n",
       "                   created                                        description  \\\n",
       "10     2016-06-24 07:54:24  A Brand New 3 Bedroom 1.5 bath ApartmentEnjoy ...   \n",
       "10000  2016-06-12 12:19:27                                                      \n",
       "100004 2016-04-17 03:26:41  Top Top West Village location, beautiful Pre-w...   \n",
       "100007 2016-04-18 02:22:02  Building Amenities - Garage - Garden - fitness...   \n",
       "100013 2016-04-28 01:32:41  Beautifully renovated 3 bedroom flex 4 bedroom...   \n",
       "\n",
       "            display_address  \\\n",
       "10      Metropolitan Avenue   \n",
       "10000       Columbus Avenue   \n",
       "100004          W 13 Street   \n",
       "100007     East 49th Street   \n",
       "100013    West 143rd Street   \n",
       "\n",
       "                                                 features interest_level  \\\n",
       "10                                                     []         medium   \n",
       "10000   [Doorman, Elevator, Fitness Center, Cats Allow...            low   \n",
       "100004  [Laundry In Building, Dishwasher, Hardwood Flo...           high   \n",
       "100007                          [Hardwood Floors, No Fee]            low   \n",
       "100013                                          [Pre-War]            low   \n",
       "\n",
       "        latitude  listing_id        ...          \\\n",
       "10       40.7145     7211212        ...           \n",
       "10000    40.7947     7150865        ...           \n",
       "100004   40.7388     6887163        ...           \n",
       "100007   40.7539     6888711        ...           \n",
       "100013   40.8241     6934781        ...           \n",
       "\n",
       "                              manager_id  \\\n",
       "10      5ba989232d0489da1b5f2c45f6688adc   \n",
       "10000   7533621a882f71e25173b27e3139d83d   \n",
       "100004  d9039c43983f6e564b1482b273bd7b01   \n",
       "100007  1067e078446a7897d2da493d2f741316   \n",
       "100013  98e13ad4b495b9613cef886d79a6291f   \n",
       "\n",
       "                                                   photos price  \\\n",
       "10      [https://photos.renthop.com/2/7211212_1ed4542e...  3000   \n",
       "10000   [https://photos.renthop.com/2/7150865_be3306c5...  5465   \n",
       "100004  [https://photos.renthop.com/2/6887163_de85c427...  2850   \n",
       "100007  [https://photos.renthop.com/2/6888711_6e660cee...  3275   \n",
       "100013  [https://photos.renthop.com/2/6934781_1fa4b41a...  3350   \n",
       "\n",
       "                 street_address weekday_created  month_created  day_created  \\\n",
       "10      792 Metropolitan Avenue               4              6           24   \n",
       "10000       808 Columbus Avenue               6              6           12   \n",
       "100004          241 W 13 Street               6              4           17   \n",
       "100007     333 East 49th Street               0              4           18   \n",
       "100013    500 West 143rd Street               3              4           28   \n",
       "\n",
       "        hour_created                                       feature_list  \\\n",
       "10                 7                                                      \n",
       "10000             12  doorman,elevator,fitness center,cats allowed,d...   \n",
       "100004             3  laundry in building,dishwasher,hardwood floors...   \n",
       "100007             2                             hardwood floors,no fee   \n",
       "100013             1                                            pre-war   \n",
       "\n",
       "       number_of_features  \n",
       "10                      0  \n",
       "10000                   5  \n",
       "100004                  4  \n",
       "100007                  2  \n",
       "100013                  1  \n",
       "\n",
       "[5 rows x 21 columns]"
      ]
     },
     "execution_count": 18,
     "metadata": {},
     "output_type": "execute_result"
    }
   ],
   "source": [
    "train.head()"
   ]
  },
  {
   "cell_type": "code",
   "execution_count": 19,
   "metadata": {
    "collapsed": false
   },
   "outputs": [
    {
     "data": {
      "text/plain": [
       "3218"
      ]
     },
     "execution_count": 19,
     "metadata": {},
     "output_type": "execute_result"
    }
   ],
   "source": [
    "len(train[train['feature_list']==''])"
   ]
  },
  {
   "cell_type": "code",
   "execution_count": 20,
   "metadata": {
    "collapsed": false
   },
   "outputs": [
    {
     "data": {
      "text/plain": [
       "u'doorman,elevator,fitness center,cats allowed,dogs allowed'"
      ]
     },
     "execution_count": 20,
     "metadata": {},
     "output_type": "execute_result"
    }
   ],
   "source": [
    "train.loc[10000,'feature_list']"
   ]
  },
  {
   "cell_type": "code",
   "execution_count": 21,
   "metadata": {
    "collapsed": false
   },
   "outputs": [],
   "source": [
    "all_features = train['feature_list'].str.cat(sep=',')"
   ]
  },
  {
   "cell_type": "code",
   "execution_count": 22,
   "metadata": {
    "collapsed": false
   },
   "outputs": [],
   "source": [
    "all_feature_list = all_features.split(',')"
   ]
  },
  {
   "cell_type": "code",
   "execution_count": 23,
   "metadata": {
    "collapsed": false
   },
   "outputs": [
    {
     "data": {
      "text/plain": [
       "[u'',\n",
       " u'doorman',\n",
       " u'elevator',\n",
       " u'fitness center',\n",
       " u'cats allowed',\n",
       " u'dogs allowed',\n",
       " u'laundry in building',\n",
       " u'dishwasher',\n",
       " u'hardwood floors',\n",
       " u'pets allowed case by case',\n",
       " u'hardwood floors',\n",
       " u'no fee',\n",
       " u'pre-war',\n",
       " u'',\n",
       " u'prewar',\n",
       " u'elevator',\n",
       " u'dogs allowed',\n",
       " u'cats allowed',\n",
       " u'lowrise',\n",
       " u'simplex']"
      ]
     },
     "execution_count": 23,
     "metadata": {},
     "output_type": "execute_result"
    }
   ],
   "source": [
    "all_feature_list[:20]"
   ]
  },
  {
   "cell_type": "code",
   "execution_count": 24,
   "metadata": {
    "collapsed": false
   },
   "outputs": [
    {
     "data": {
      "text/plain": [
       "271091"
      ]
     },
     "execution_count": 24,
     "metadata": {},
     "output_type": "execute_result"
    }
   ],
   "source": [
    "len(all_feature_list)"
   ]
  },
  {
   "cell_type": "code",
   "execution_count": null,
   "metadata": {
    "collapsed": true
   },
   "outputs": [],
   "source": [
    "unique_feature_list = list(set(all_feature_list))"
   ]
  },
  {
   "cell_type": "code",
   "execution_count": null,
   "metadata": {
    "collapsed": false
   },
   "outputs": [],
   "source": [
    "len(unique_feature_list)"
   ]
  },
  {
   "cell_type": "code",
   "execution_count": null,
   "metadata": {
    "collapsed": false
   },
   "outputs": [],
   "source": [
    "unique_feature_list[:10]"
   ]
  },
  {
   "cell_type": "code",
   "execution_count": null,
   "metadata": {
    "collapsed": true
   },
   "outputs": [],
   "source": [
    "df_unique = pd.DataFrame(unique_feature_list)"
   ]
  },
  {
   "cell_type": "code",
   "execution_count": null,
   "metadata": {
    "collapsed": false
   },
   "outputs": [],
   "source": [
    "df_unique.to_csv('./data/unique_feature_list.csv', encoding='utf-8')"
   ]
  },
  {
   "cell_type": "markdown",
   "metadata": {},
   "source": [
    "#### Load significant feature list"
   ]
  },
  {
   "cell_type": "code",
   "execution_count": 18,
   "metadata": {
    "collapsed": true
   },
   "outputs": [],
   "source": [
    "df_sig_features = pd.read_csv('./data/significant_features.csv')"
   ]
  },
  {
   "cell_type": "code",
   "execution_count": 19,
   "metadata": {
    "collapsed": false
   },
   "outputs": [],
   "source": [
    "significant_features = df_sig_features.xfeature.tolist()"
   ]
  },
  {
   "cell_type": "code",
   "execution_count": 20,
   "metadata": {
    "collapsed": false
   },
   "outputs": [
    {
     "data": {
      "text/plain": [
       "89"
      ]
     },
     "execution_count": 20,
     "metadata": {},
     "output_type": "execute_result"
    }
   ],
   "source": [
    "len(significant_features)"
   ]
  },
  {
   "cell_type": "code",
   "execution_count": 21,
   "metadata": {
    "collapsed": false
   },
   "outputs": [
    {
     "data": {
      "text/plain": [
       "['no fee',\n",
       " 'laundry in building',\n",
       " 'furnished',\n",
       " 'hardwood floors',\n",
       " 'reduced fee',\n",
       " 'laundry in unit',\n",
       " 'doorman',\n",
       " 'cats allowed',\n",
       " 'dishwasher',\n",
       " 'private outdoor space']"
      ]
     },
     "execution_count": 21,
     "metadata": {},
     "output_type": "execute_result"
    }
   ],
   "source": [
    "significant_features[:10]"
   ]
  },
  {
   "cell_type": "code",
   "execution_count": 22,
   "metadata": {
    "collapsed": true
   },
   "outputs": [],
   "source": [
    "from sklearn.feature_extraction.text import CountVectorizer"
   ]
  },
  {
   "cell_type": "code",
   "execution_count": 23,
   "metadata": {
    "collapsed": false
   },
   "outputs": [],
   "source": [
    "# vocabulary list from the unique feature list\n",
    "# custom tokenizer to split by comma\n",
    "\n",
    "count_vect = CountVectorizer(vocabulary=significant_features, tokenizer=lambda x: x.split(','))\n",
    "#count_vect = CountVectorizer(vocabulary=unique_feature_list, tokenizer=lambda x: x.split(','))\n",
    "#count_vect = CountVectorizer(max_features=300, tokenizer=lambda x: x.split(','))"
   ]
  },
  {
   "cell_type": "code",
   "execution_count": 24,
   "metadata": {
    "collapsed": true
   },
   "outputs": [],
   "source": [
    "X_train_feature_counts = count_vect.fit_transform(train['feature_list'])"
   ]
  },
  {
   "cell_type": "code",
   "execution_count": 25,
   "metadata": {
    "collapsed": false
   },
   "outputs": [
    {
     "data": {
      "text/plain": [
       "<49345x89 sparse matrix of type '<type 'numpy.int64'>'\n",
       "\twith 261492 stored elements in Compressed Sparse Row format>"
      ]
     },
     "execution_count": 25,
     "metadata": {},
     "output_type": "execute_result"
    }
   ],
   "source": [
    "X_train_feature_counts"
   ]
  },
  {
   "cell_type": "code",
   "execution_count": 26,
   "metadata": {
    "collapsed": false
   },
   "outputs": [
    {
     "data": {
      "text/plain": [
       "<74659x89 sparse matrix of type '<type 'numpy.int64'>'\n",
       "\twith 395060 stored elements in Compressed Sparse Row format>"
      ]
     },
     "execution_count": 26,
     "metadata": {},
     "output_type": "execute_result"
    }
   ],
   "source": [
    "test_count_vect = CountVectorizer(vocabulary=significant_features, tokenizer=lambda x: x.split(','))\n",
    "#test_count_vect = CountVectorizer(vocabulary=unique_feature_list, tokenizer=lambda x: x.split(','))\n",
    "#test_count_vect = CountVectorizer(vocabulary=count_vect.vocabulary_, tokenizer=lambda x: x.split(','))\n",
    "X_test_feature_counts = count_vect.fit_transform(test['feature_list'])\n",
    "X_test_feature_counts"
   ]
  },
  {
   "cell_type": "code",
   "execution_count": 27,
   "metadata": {
    "collapsed": false
   },
   "outputs": [],
   "source": [
    "#freqs = [(word, X_train_feature_counts.getcol(idx).sum()) for word, idx in count_vect.vocabulary_.items()]\n",
    "#sort from largest to smallest\n",
    "#print sorted(freqs, key = lambda x: -x[1])[:20]"
   ]
  },
  {
   "cell_type": "code",
   "execution_count": 28,
   "metadata": {
    "collapsed": false
   },
   "outputs": [],
   "source": [
    "#feature_freq = pd.DataFrame(sorted(freqs, key = lambda x: -x[1]))"
   ]
  },
  {
   "cell_type": "code",
   "execution_count": 36,
   "metadata": {
    "collapsed": false
   },
   "outputs": [],
   "source": [
    "#feature_freq.to_csv('./data/feature_freq.csv', encoding='utf-8')"
   ]
  },
  {
   "cell_type": "code",
   "execution_count": 37,
   "metadata": {
    "collapsed": true
   },
   "outputs": [],
   "source": [
    "# TF-IDF\n",
    "#from sklearn.feature_extraction.text import TfidfTransformer"
   ]
  },
  {
   "cell_type": "markdown",
   "metadata": {},
   "source": [
    "### Description feature"
   ]
  },
  {
   "cell_type": "code",
   "execution_count": 29,
   "metadata": {
    "collapsed": false
   },
   "outputs": [],
   "source": [
    "# length of description \n",
    "#train['desc_length'] = train['description'].map(len)\n",
    "#test['desc_length'] = test['description'].map(len)\n",
    "\n",
    "# count of words present in description column #\n",
    "train[\"num_description_words\"] = train[\"description\"].apply(lambda x: len(x.split(\" \")))\n",
    "test[\"num_description_words\"] = test[\"description\"].apply(lambda x: len(x.split(\" \")))\n",
    "\n",
    "# count the number of photos\n",
    "train['num_photos'] = train['photos'].map(len)\n",
    "test['num_photos'] = test['photos'].map(len)"
   ]
  },
  {
   "cell_type": "code",
   "execution_count": 30,
   "metadata": {
    "collapsed": true
   },
   "outputs": [],
   "source": [
    "desc_count = CountVectorizer(max_features=100, stop_words='english')"
   ]
  },
  {
   "cell_type": "code",
   "execution_count": null,
   "metadata": {
    "collapsed": true
   },
   "outputs": [],
   "source": [
    "X_train_desc_vect = desc_count.fit_transform(train['description'])\n",
    "X_test_desc_vect = desc_count.transform(test['description'])"
   ]
  },
  {
   "cell_type": "code",
   "execution_count": null,
   "metadata": {
    "collapsed": false
   },
   "outputs": [],
   "source": [
    "X_train_desc_vect"
   ]
  },
  {
   "cell_type": "code",
   "execution_count": null,
   "metadata": {
    "collapsed": false
   },
   "outputs": [],
   "source": [
    "X_test_desc_vect"
   ]
  },
  {
   "cell_type": "markdown",
   "metadata": {},
   "source": [
    "### Spatial features (Location, Address, Latitude/Longitude)"
   ]
  },
  {
   "cell_type": "code",
   "execution_count": null,
   "metadata": {
    "collapsed": false
   },
   "outputs": [],
   "source": [
    "train.columns"
   ]
  },
  {
   "cell_type": "code",
   "execution_count": null,
   "metadata": {
    "collapsed": true
   },
   "outputs": [],
   "source": [
    "feature_for_geo = ['bathrooms','bedrooms','created','display_address','latitude','longitude',\n",
    "             'listing_id','building_id','manager_id','price','street_address']"
   ]
  },
  {
   "cell_type": "code",
   "execution_count": null,
   "metadata": {
    "collapsed": false
   },
   "outputs": [],
   "source": [
    "out_train = train[feature_for_geo]\n",
    "out_test = test[feature_for_geo]"
   ]
  },
  {
   "cell_type": "code",
   "execution_count": null,
   "metadata": {
    "collapsed": false
   },
   "outputs": [],
   "source": [
    "out_train['display_address'] = out_train['display_address'].map(lambda x: x.replace('\\r',''))\n",
    "out_train['street_address'] = out_train['street_address'].map(lambda x: x.replace('\\r',''))"
   ]
  },
  {
   "cell_type": "code",
   "execution_count": null,
   "metadata": {
    "collapsed": false
   },
   "outputs": [],
   "source": [
    "out_test['display_address'] = out_test['display_address'].map(lambda x: x.replace('\\r',''))\n",
    "out_test['street_address'] = out_test['street_address'].map(lambda x: x.replace('\\r',''))"
   ]
  },
  {
   "cell_type": "code",
   "execution_count": null,
   "metadata": {
    "collapsed": false
   },
   "outputs": [],
   "source": [
    "out_train.shape, out_test.shape"
   ]
  },
  {
   "cell_type": "code",
   "execution_count": null,
   "metadata": {
    "collapsed": false
   },
   "outputs": [],
   "source": [
    "out = pd.concat((out_train,out_test))"
   ]
  },
  {
   "cell_type": "code",
   "execution_count": null,
   "metadata": {
    "collapsed": false
   },
   "outputs": [],
   "source": [
    "len(out.index.unique()), out.shape"
   ]
  },
  {
   "cell_type": "code",
   "execution_count": null,
   "metadata": {
    "collapsed": false
   },
   "outputs": [],
   "source": [
    "out.to_csv('./data/train_for_map.csv', encoding='utf-8', sep=',')"
   ]
  },
  {
   "cell_type": "markdown",
   "metadata": {},
   "source": [
    "#### Processing Geocoding ...."
   ]
  },
  {
   "cell_type": "code",
   "execution_count": 31,
   "metadata": {
    "collapsed": true
   },
   "outputs": [],
   "source": [
    "train_geo = pd.read_csv('./data/geo_train.csv')"
   ]
  },
  {
   "cell_type": "code",
   "execution_count": 32,
   "metadata": {
    "collapsed": false
   },
   "outputs": [
    {
     "data": {
      "text/plain": [
       "(124004, 18)"
      ]
     },
     "execution_count": 32,
     "metadata": {},
     "output_type": "execute_result"
    }
   ],
   "source": [
    "train_geo.shape"
   ]
  },
  {
   "cell_type": "code",
   "execution_count": 33,
   "metadata": {
    "collapsed": false
   },
   "outputs": [
    {
     "data": {
      "text/plain": [
       "((49345, 23), (74659, 22))"
      ]
     },
     "execution_count": 33,
     "metadata": {},
     "output_type": "execute_result"
    }
   ],
   "source": [
    "train.shape, test.shape"
   ]
  },
  {
   "cell_type": "code",
   "execution_count": 34,
   "metadata": {
    "collapsed": false
   },
   "outputs": [
    {
     "data": {
      "text/plain": [
       "Index([u'row_index', u'bathrooms', u'bedrooms', u'created', u'display_address',\n",
       "       u'latitude', u'longitude', u'listing_id', u'building_id', u'manager_id',\n",
       "       u'price', u'street_address', u'geometry', u'BoroCode', u'BoroName',\n",
       "       u'CountyFIPS', u'NTACode', u'NTAName'],\n",
       "      dtype='object')"
      ]
     },
     "execution_count": 34,
     "metadata": {},
     "output_type": "execute_result"
    }
   ],
   "source": [
    "train_geo.columns"
   ]
  },
  {
   "cell_type": "code",
   "execution_count": 35,
   "metadata": {
    "collapsed": false
   },
   "outputs": [],
   "source": [
    "train = pd.merge(train, train_geo[['row_index','NTACode']], how='inner', left_index=True, right_on='row_index')\n",
    "test = pd.merge(test, train_geo[['row_index','NTACode']], how='inner', left_index=True, right_on='row_index')"
   ]
  },
  {
   "cell_type": "code",
   "execution_count": 36,
   "metadata": {
    "collapsed": false
   },
   "outputs": [
    {
     "data": {
      "text/plain": [
       "((49345, 25), (74659, 24))"
      ]
     },
     "execution_count": 36,
     "metadata": {},
     "output_type": "execute_result"
    }
   ],
   "source": [
    "train.shape, test.shape"
   ]
  },
  {
   "cell_type": "code",
   "execution_count": 37,
   "metadata": {
    "collapsed": false
   },
   "outputs": [
    {
     "data": {
      "text/plain": [
       "Index([            u'bathrooms',              u'bedrooms',\n",
       "                 u'building_id',               u'created',\n",
       "                 u'description',       u'display_address',\n",
       "                    u'features',        u'interest_level',\n",
       "                    u'latitude',            u'listing_id',\n",
       "                   u'longitude',            u'manager_id',\n",
       "                      u'photos',                 u'price',\n",
       "              u'street_address',       u'weekday_created',\n",
       "               u'month_created',           u'day_created',\n",
       "                u'hour_created',          u'feature_list',\n",
       "          u'number_of_features', u'num_description_words',\n",
       "                  u'num_photos',             u'row_index',\n",
       "                     u'NTACode'],\n",
       "      dtype='object')"
      ]
     },
     "execution_count": 37,
     "metadata": {},
     "output_type": "execute_result"
    }
   ],
   "source": [
    "train.columns"
   ]
  },
  {
   "cell_type": "code",
   "execution_count": 38,
   "metadata": {
    "collapsed": false
   },
   "outputs": [
    {
     "data": {
      "text/plain": [
       "bathrooms                  0\n",
       "bedrooms                   0\n",
       "building_id                0\n",
       "created                    0\n",
       "description                0\n",
       "display_address            0\n",
       "features                   0\n",
       "interest_level             0\n",
       "latitude                   0\n",
       "listing_id                 0\n",
       "longitude                  0\n",
       "manager_id                 0\n",
       "photos                     0\n",
       "price                      0\n",
       "street_address             0\n",
       "weekday_created            0\n",
       "month_created              0\n",
       "day_created                0\n",
       "hour_created               0\n",
       "feature_list               0\n",
       "number_of_features         0\n",
       "num_description_words      0\n",
       "num_photos                 0\n",
       "row_index                  0\n",
       "NTACode                  125\n",
       "dtype: int64"
      ]
     },
     "execution_count": 38,
     "metadata": {},
     "output_type": "execute_result"
    }
   ],
   "source": [
    "train.isnull().sum()"
   ]
  },
  {
   "cell_type": "code",
   "execution_count": 39,
   "metadata": {
    "collapsed": false
   },
   "outputs": [
    {
     "data": {
      "text/plain": [
       "bathrooms                  0\n",
       "bedrooms                   0\n",
       "building_id                0\n",
       "created                    0\n",
       "description                0\n",
       "display_address            0\n",
       "features                   0\n",
       "latitude                   0\n",
       "listing_id                 0\n",
       "longitude                  0\n",
       "manager_id                 0\n",
       "photos                     0\n",
       "price                      0\n",
       "street_address             0\n",
       "weekday_created            0\n",
       "month_created              0\n",
       "day_created                0\n",
       "hour_created               0\n",
       "feature_list               0\n",
       "number_of_features         0\n",
       "num_description_words      0\n",
       "num_photos                 0\n",
       "row_index                  0\n",
       "NTACode                  162\n",
       "dtype: int64"
      ]
     },
     "execution_count": 39,
     "metadata": {},
     "output_type": "execute_result"
    }
   ],
   "source": [
    "test.isnull().sum()"
   ]
  },
  {
   "cell_type": "code",
   "execution_count": 40,
   "metadata": {
    "collapsed": false
   },
   "outputs": [],
   "source": [
    "train['NTACode'] = train.NTACode.fillna('Non-NYC')\n",
    "test['NTACode'] = test.NTACode.fillna('Non-NYC')"
   ]
  },
  {
   "cell_type": "markdown",
   "metadata": {},
   "source": [
    "### Derived features"
   ]
  },
  {
   "cell_type": "code",
   "execution_count": 41,
   "metadata": {
    "collapsed": true
   },
   "outputs": [],
   "source": [
    "train['price_per_bedroom'] = train['price'] / train['bedrooms']\n",
    "train['price_per_bathroom'] = train['price'] / train['bathrooms']\n",
    "test['price_per_bedroom'] = test['price'] / test['bedrooms']\n",
    "test['price_per_bathroom'] = test['price'] / test['bathrooms']\n",
    "\n",
    "train[\"room_sum\"] = train[\"bedrooms\"]+train[\"bathrooms\"]\n",
    "test[\"room_sum\"] = test[\"bedrooms\"]+test[\"bathrooms\"]"
   ]
  },
  {
   "cell_type": "code",
   "execution_count": 42,
   "metadata": {
    "collapsed": false
   },
   "outputs": [
    {
     "data": {
      "text/plain": [
       "(9473, 312, 49345)"
      ]
     },
     "execution_count": 42,
     "metadata": {},
     "output_type": "execute_result"
    }
   ],
   "source": [
    "len(train[train['price_per_bedroom']==np.inf]), len(train[train['price_per_bathroom']==np.inf]), len(train)"
   ]
  },
  {
   "cell_type": "code",
   "execution_count": 43,
   "metadata": {
    "collapsed": false
   },
   "outputs": [],
   "source": [
    "train.loc[train['price_per_bedroom']==np.inf, 'price_per_bedroom'] = train.loc[train['price_per_bedroom']==np.inf, 'price']\n",
    "train.loc[train['price_per_bathroom']==np.inf, 'price_per_bathroom'] = train.loc[train['price_per_bathroom']==np.inf, 'price']\n",
    "test.loc[test['price_per_bedroom']==np.inf, 'price_per_bedroom'] = test.loc[test['price_per_bedroom']==np.inf, 'price']\n",
    "test.loc[test['price_per_bathroom']==np.inf, 'price_per_bathroom'] = test.loc[test['price_per_bathroom']==np.inf, 'price']"
   ]
  },
  {
   "cell_type": "code",
   "execution_count": 44,
   "metadata": {
    "collapsed": false
   },
   "outputs": [
    {
     "data": {
      "text/plain": [
       "(0, 0, 49345)"
      ]
     },
     "execution_count": 44,
     "metadata": {},
     "output_type": "execute_result"
    }
   ],
   "source": [
    "len(train[train['price_per_bedroom']==np.inf]), len(train[train['price_per_bathroom']==np.inf]), len(train)"
   ]
  },
  {
   "cell_type": "markdown",
   "metadata": {},
   "source": [
    "### Manager feature"
   ]
  },
  {
   "cell_type": "code",
   "execution_count": 45,
   "metadata": {
    "collapsed": false
   },
   "outputs": [],
   "source": [
    "import random\n",
    "\n",
    "index=list(range(train.shape[0]))\n",
    "random.shuffle(index)\n",
    "a=[np.nan]*len(train)\n",
    "b=[np.nan]*len(train)\n",
    "c=[np.nan]*len(train)"
   ]
  },
  {
   "cell_type": "code",
   "execution_count": 46,
   "metadata": {
    "collapsed": false
   },
   "outputs": [],
   "source": [
    "for i in range(5):\n",
    "    building_level={}\n",
    "    for j in train['manager_id'].values:\n",
    "        building_level[j]=[0,0,0]\n",
    "    test_index=index[int((i*train.shape[0])/5):int(((i+1)*train.shape[0])/5)]\n",
    "    train_index=list(set(index).difference(test_index))\n",
    "    for j in train_index:\n",
    "        temp=train.iloc[j]\n",
    "        if temp['interest_level']=='low':\n",
    "            building_level[temp['manager_id']][0]+=1\n",
    "        if temp['interest_level']=='medium':\n",
    "            building_level[temp['manager_id']][1]+=1\n",
    "        if temp['interest_level']=='high':\n",
    "            building_level[temp['manager_id']][2]+=1\n",
    "    for j in test_index:\n",
    "        temp=train.iloc[j]\n",
    "        if sum(building_level[temp['manager_id']])!=0:\n",
    "            a[j]=building_level[temp['manager_id']][0]*1.0/sum(building_level[temp['manager_id']])\n",
    "            b[j]=building_level[temp['manager_id']][1]*1.0/sum(building_level[temp['manager_id']])\n",
    "            c[j]=building_level[temp['manager_id']][2]*1.0/sum(building_level[temp['manager_id']])\n",
    "            \n",
    "            \n",
    "train['manager_level_low'] = a\n",
    "train['manager_level_medium'] = b\n",
    "train['manager_level_high'] = c"
   ]
  },
  {
   "cell_type": "code",
   "execution_count": 47,
   "metadata": {
    "collapsed": true
   },
   "outputs": [],
   "source": [
    "a=[]\n",
    "b=[]\n",
    "c=[]\n",
    "building_level={}\n",
    "for j in train['manager_id'].values:\n",
    "    building_level[j]=[0,0,0]\n",
    "for j in range(train.shape[0]):\n",
    "    temp=train.iloc[j]\n",
    "    if temp['interest_level']=='low':\n",
    "        building_level[temp['manager_id']][0]+=1\n",
    "    if temp['interest_level']=='medium':\n",
    "        building_level[temp['manager_id']][1]+=1\n",
    "    if temp['interest_level']=='high':\n",
    "        building_level[temp['manager_id']][2]+=1\n",
    "\n",
    "for i in test['manager_id'].values:\n",
    "    if i not in building_level.keys():\n",
    "        a.append(np.nan)\n",
    "        b.append(np.nan)\n",
    "        c.append(np.nan)\n",
    "    else:\n",
    "        a.append(building_level[i][0]*1.0/sum(building_level[i]))\n",
    "        b.append(building_level[i][1]*1.0/sum(building_level[i]))\n",
    "        c.append(building_level[i][2]*1.0/sum(building_level[i]))\n",
    "test['manager_level_low']=a\n",
    "test['manager_level_medium']=b\n",
    "test['manager_level_high']=c"
   ]
  },
  {
   "cell_type": "code",
   "execution_count": 48,
   "metadata": {
    "collapsed": false
   },
   "outputs": [],
   "source": [
    "train['manager_level_low'] = train['manager_level_low'].fillna(0)\n",
    "train['manager_level_medium'] = train['manager_level_medium'].fillna(0)\n",
    "train['manager_level_high'] = train['manager_level_high'].fillna(0)\n",
    "\n",
    "test['manager_level_low'] = test['manager_level_low'].fillna(0)\n",
    "test['manager_level_medium'] = test['manager_level_medium'].fillna(0)\n",
    "test['manager_level_high'] = test['manager_level_high'].fillna(0)"
   ]
  },
  {
   "cell_type": "markdown",
   "metadata": {},
   "source": [
    "### Category features"
   ]
  },
  {
   "cell_type": "code",
   "execution_count": 49,
   "metadata": {
    "collapsed": false
   },
   "outputs": [],
   "source": [
    "#Label Encoder Category feature NTACode\n",
    "cat_features = ['manager_id','building_id','street_address','display_address','NTACode']\n",
    "from sklearn import preprocessing\n",
    "for cat in cat_features:\n",
    "    cat_le = preprocessing.LabelEncoder()\n",
    "    cat_le.fit(list(train[cat].values) + list(test[cat].values))\n",
    "    train[cat] = cat_le.transform(train[cat])\n",
    "    test[cat] = cat_le.transform(test[cat])\n",
    "    \n",
    "cat_le = preprocessing.LabelEncoder()\n",
    "cat_le.fit(list(train['listing_id'].values) + list(test['listing_id'].values))\n",
    "train['listing_code'] = cat_le.transform(train['listing_id'])\n",
    "test['listing_code'] = cat_le.transform(test['listing_id'])"
   ]
  },
  {
   "cell_type": "markdown",
   "metadata": {},
   "source": [
    "### Combine all training features"
   ]
  },
  {
   "cell_type": "code",
   "execution_count": 50,
   "metadata": {
    "collapsed": true
   },
   "outputs": [],
   "source": [
    "simple_features = ['bathrooms','bedrooms','price',\n",
    "                   'day_created','month_created','hour_created','weekday_created',\n",
    "                   'number_of_features', 'num_description_words','num_photos','manager_id','building_id',\n",
    "                   'street_address','display_address','latitude','longitude',\n",
    "                   'NTACode','listing_code',\n",
    "                   'price_per_bedroom','price_per_bathroom',\n",
    "                   'room_sum',\n",
    "                   'manager_level_low','manager_level_medium','manager_level_high']\n",
    "target = 'interest_level'"
   ]
  },
  {
   "cell_type": "markdown",
   "metadata": {},
   "source": [
    "#### Transform features into sparse matrix"
   ]
  },
  {
   "cell_type": "code",
   "execution_count": 51,
   "metadata": {
    "collapsed": false
   },
   "outputs": [],
   "source": [
    "X_train = sparse.hstack([train[simple_features], X_train_feature_counts]).tocsr()\n",
    "X_test = sparse.hstack([test[simple_features], X_test_feature_counts]).tocsr()\n",
    "#X_train = sparse.hstack([train[simple_features], X_train_feature_counts, X_train_desc_vect]).tocsr()\n",
    "#X_test = sparse.hstack([test[simple_features], X_test_feature_counts, X_test_desc_vect]).tocsr()"
   ]
  },
  {
   "cell_type": "code",
   "execution_count": 52,
   "metadata": {
    "collapsed": false
   },
   "outputs": [],
   "source": [
    "#X_train = np.concatenate((train[simple_features].values, X_train_feature_counts.toarray()), axis=1)"
   ]
  },
  {
   "cell_type": "code",
   "execution_count": 53,
   "metadata": {
    "collapsed": false
   },
   "outputs": [
    {
     "data": {
      "text/plain": [
       "((49345, 113), (74659, 113))"
      ]
     },
     "execution_count": 53,
     "metadata": {},
     "output_type": "execute_result"
    }
   ],
   "source": [
    "X_train.shape, X_test.shape"
   ]
  },
  {
   "cell_type": "markdown",
   "metadata": {},
   "source": [
    "### Modeling and Cross validation"
   ]
  },
  {
   "cell_type": "code",
   "execution_count": 54,
   "metadata": {
    "collapsed": true
   },
   "outputs": [],
   "source": [
    "from sklearn.preprocessing import LabelEncoder\n",
    "le = LabelEncoder()\n",
    "y_train = le.fit_transform(train[target])"
   ]
  },
  {
   "cell_type": "code",
   "execution_count": 55,
   "metadata": {
    "collapsed": false
   },
   "outputs": [
    {
     "data": {
      "text/plain": [
       "array([ 3838, 34278, 11229])"
      ]
     },
     "execution_count": 55,
     "metadata": {},
     "output_type": "execute_result"
    }
   ],
   "source": [
    "np.bincount(y_train)"
   ]
  },
  {
   "cell_type": "code",
   "execution_count": 56,
   "metadata": {
    "collapsed": false
   },
   "outputs": [
    {
     "data": {
      "text/plain": [
       "low       34278\n",
       "medium    11229\n",
       "high       3838\n",
       "Name: interest_level, dtype: int64"
      ]
     },
     "execution_count": 56,
     "metadata": {},
     "output_type": "execute_result"
    }
   ],
   "source": [
    "train[target].value_counts()"
   ]
  },
  {
   "cell_type": "code",
   "execution_count": 57,
   "metadata": {
    "collapsed": false
   },
   "outputs": [
    {
     "data": {
      "text/plain": [
       "array([u'high', u'low', u'medium'], dtype=object)"
      ]
     },
     "execution_count": 57,
     "metadata": {},
     "output_type": "execute_result"
    }
   ],
   "source": [
    "# high = 0, low = 1, medium = 2\n",
    "le.classes_"
   ]
  },
  {
   "cell_type": "markdown",
   "metadata": {},
   "source": [
    "#### XGBoost"
   ]
  },
  {
   "cell_type": "code",
   "execution_count": null,
   "metadata": {
    "collapsed": false
   },
   "outputs": [],
   "source": [
    "# Model 3: xgboost\n",
    "import xgboost as xgb\n",
    "from xgboost.sklearn import XGBClassifier\n",
    "XGB_model = xgb.XGBClassifier(\n",
    "                objective='multi:softprob',\n",
    "                learning_rate =0.1,\n",
    "                max_depth=6,\n",
    "                min_child_weight=1,\n",
    "                subsample=0.7, \n",
    "                colsample_bytree=0.7,\n",
    "                seed=0)"
   ]
  },
  {
   "cell_type": "code",
   "execution_count": null,
   "metadata": {
    "collapsed": false
   },
   "outputs": [],
   "source": [
    "XGB_model.fit(X_train, y_train, eval_metric='mlogloss')"
   ]
  },
  {
   "cell_type": "code",
   "execution_count": null,
   "metadata": {
    "collapsed": false
   },
   "outputs": [],
   "source": [
    "from sklearn.cross_validation import cross_val_score"
   ]
  },
  {
   "cell_type": "code",
   "execution_count": null,
   "metadata": {
    "collapsed": false
   },
   "outputs": [],
   "source": [
    "scores = cross_val_score(XGB_model, X_train, y_train, cv=5, scoring='log_loss')"
   ]
  },
  {
   "cell_type": "code",
   "execution_count": null,
   "metadata": {
    "collapsed": false
   },
   "outputs": [],
   "source": [
    "scores"
   ]
  },
  {
   "cell_type": "code",
   "execution_count": null,
   "metadata": {
    "collapsed": true
   },
   "outputs": [],
   "source": [
    "y_id = test['listing_id'].astype('O')"
   ]
  },
  {
   "cell_type": "code",
   "execution_count": null,
   "metadata": {
    "collapsed": true
   },
   "outputs": [],
   "source": [
    "y_test_log_pred = XGB_model.predict_proba(X_test)"
   ]
  },
  {
   "cell_type": "code",
   "execution_count": null,
   "metadata": {
    "collapsed": false
   },
   "outputs": [],
   "source": [
    "sub = pd.DataFrame(np.column_stack((y_id, y_test_log_pred)), columns=['listing_id'] + le.classes_.tolist())"
   ]
  },
  {
   "cell_type": "code",
   "execution_count": null,
   "metadata": {
    "collapsed": false
   },
   "outputs": [],
   "source": [
    "sub.to_csv('./submission/submission_2017-04-21_r1.csv', index=False)"
   ]
  },
  {
   "cell_type": "code",
   "execution_count": null,
   "metadata": {
    "collapsed": false
   },
   "outputs": [],
   "source": [
    "le.classes_"
   ]
  },
  {
   "cell_type": "code",
   "execution_count": 152,
   "metadata": {
    "collapsed": false
   },
   "outputs": [
    {
     "data": {
      "text/plain": [
       "0"
      ]
     },
     "execution_count": 152,
     "metadata": {},
     "output_type": "execute_result"
    }
   ],
   "source": [
    "len(train[simple_features][train[simple_features].price_per_bedroom==np.inf])"
   ]
  },
  {
   "cell_type": "markdown",
   "metadata": {},
   "source": [
    "### Logistics Regression"
   ]
  },
  {
   "cell_type": "code",
   "execution_count": 60,
   "metadata": {
    "collapsed": false
   },
   "outputs": [
    {
     "data": {
      "text/plain": [
       "LogisticRegression(C=1.0, class_weight=None, dual=False, fit_intercept=True,\n",
       "          intercept_scaling=1, max_iter=200, multi_class='ovr', n_jobs=1,\n",
       "          penalty='l2', random_state=None, solver='liblinear', tol=0.0001,\n",
       "          verbose=0, warm_start=False)"
      ]
     },
     "execution_count": 60,
     "metadata": {},
     "output_type": "execute_result"
    }
   ],
   "source": [
    "from sklearn.linear_model import LogisticRegression\n",
    "\n",
    "logit = LogisticRegression(max_iter=200)\n",
    "logit.fit(train[simple_features], y_train)"
   ]
  },
  {
   "cell_type": "code",
   "execution_count": 61,
   "metadata": {
    "collapsed": false
   },
   "outputs": [
    {
     "name": "stderr",
     "output_type": "stream",
     "text": [
      "/usr/local/lib/python2.7/dist-packages/sklearn/cross_validation.py:44: DeprecationWarning: This module was deprecated in version 0.18 in favor of the model_selection module into which all the refactored classes and functions are moved. Also note that the interface of the new CV iterators are different from that of this module. This module will be removed in 0.20.\n",
      "  \"This module will be removed in 0.20.\", DeprecationWarning)\n"
     ]
    }
   ],
   "source": [
    "from sklearn.cross_validation import cross_val_score\n",
    "scores = cross_val_score(logit, X_train, y_train, cv=10, scoring='neg_log_loss')"
   ]
  },
  {
   "cell_type": "code",
   "execution_count": 62,
   "metadata": {
    "collapsed": false
   },
   "outputs": [
    {
     "data": {
      "text/plain": [
       "array([-0.6891367 , -0.69867152, -0.68101498, -0.6814731 , -0.68946695,\n",
       "       -0.68114086, -0.68106172, -0.68403193, -0.68288121, -0.69953125])"
      ]
     },
     "execution_count": 62,
     "metadata": {},
     "output_type": "execute_result"
    }
   ],
   "source": [
    "scores"
   ]
  },
  {
   "cell_type": "markdown",
   "metadata": {},
   "source": [
    "### Random Forest"
   ]
  },
  {
   "cell_type": "code",
   "execution_count": 63,
   "metadata": {
    "collapsed": false
   },
   "outputs": [
    {
     "data": {
      "text/plain": [
       "RandomForestClassifier(bootstrap=True, class_weight=None, criterion='gini',\n",
       "            max_depth=None, max_features='auto', max_leaf_nodes=None,\n",
       "            min_impurity_split=1e-07, min_samples_leaf=1,\n",
       "            min_samples_split=2, min_weight_fraction_leaf=0.0,\n",
       "            n_estimators=45, n_jobs=1, oob_score=False, random_state=None,\n",
       "            verbose=0, warm_start=False)"
      ]
     },
     "execution_count": 63,
     "metadata": {},
     "output_type": "execute_result"
    }
   ],
   "source": [
    "from sklearn.ensemble import RandomForestClassifier\n",
    "\n",
    "rf = RandomForestClassifier(n_estimators=45)\n",
    "rf.fit(X_train, y_train)"
   ]
  },
  {
   "cell_type": "code",
   "execution_count": 64,
   "metadata": {
    "collapsed": false
   },
   "outputs": [
    {
     "data": {
      "text/plain": [
       "array([-0.6601925 , -0.65047837, -0.66681958, -0.62850113, -0.65394247])"
      ]
     },
     "execution_count": 64,
     "metadata": {},
     "output_type": "execute_result"
    }
   ],
   "source": [
    "scores = cross_val_score(rf, X_train, y_train, cv=5, scoring='neg_log_loss')\n",
    "scores"
   ]
  },
  {
   "cell_type": "markdown",
   "metadata": {},
   "source": [
    "### XGBoost re-train"
   ]
  },
  {
   "cell_type": "code",
   "execution_count": 162,
   "metadata": {
    "collapsed": true
   },
   "outputs": [],
   "source": [
    "from sklearn import model_selection, preprocessing, ensemble\n",
    "from sklearn.metrics import log_loss\n",
    "import xgboost as xgb"
   ]
  },
  {
   "cell_type": "code",
   "execution_count": 163,
   "metadata": {
    "collapsed": true
   },
   "outputs": [],
   "source": [
    "def runXGB(train_X, train_y, test_X, test_y=None, feature_names=None, seed_val=0, num_rounds=1000):\n",
    "    param = {}\n",
    "    param['objective'] = 'multi:softprob'\n",
    "    param['eta'] = 0.1\n",
    "    param['max_depth'] = 6\n",
    "    param['silent'] = 1\n",
    "    param['num_class'] = 3\n",
    "    param['eval_metric'] = \"mlogloss\"\n",
    "    param['min_child_weight'] = 1\n",
    "    param['subsample'] = 0.7\n",
    "    param['colsample_bytree'] = 0.7\n",
    "    param['seed'] = seed_val\n",
    "    num_rounds = num_rounds\n",
    "\n",
    "    plst = list(param.items())\n",
    "    xgtrain = xgb.DMatrix(train_X, label=train_y)\n",
    "\n",
    "    if test_y is not None:\n",
    "        xgtest = xgb.DMatrix(test_X, label=test_y)\n",
    "        watchlist = [ (xgtrain,'train'), (xgtest, 'test') ]\n",
    "        model = xgb.train(plst, xgtrain, num_rounds, watchlist, early_stopping_rounds=20)\n",
    "    else:\n",
    "        xgtest = xgb.DMatrix(test_X)\n",
    "        model = xgb.train(plst, xgtrain, num_rounds)\n",
    "\n",
    "    pred_test_y = model.predict(xgtest)\n",
    "    return pred_test_y, model"
   ]
  },
  {
   "cell_type": "code",
   "execution_count": 164,
   "metadata": {
    "collapsed": false
   },
   "outputs": [
    {
     "name": "stderr",
     "output_type": "stream",
     "text": [
      "Will train until test error hasn't decreased in 20 rounds.\n",
      "[0]\ttrain-mlogloss:1.031924\ttest-mlogloss:1.033236\n",
      "[1]\ttrain-mlogloss:0.975696\ttest-mlogloss:0.978377\n",
      "[2]\ttrain-mlogloss:0.927288\ttest-mlogloss:0.931291\n",
      "[3]\ttrain-mlogloss:0.885407\ttest-mlogloss:0.890501\n",
      "[4]\ttrain-mlogloss:0.849439\ttest-mlogloss:0.855963\n",
      "[5]\ttrain-mlogloss:0.817839\ttest-mlogloss:0.825628\n",
      "[6]\ttrain-mlogloss:0.790290\ttest-mlogloss:0.799129\n",
      "[7]\ttrain-mlogloss:0.766587\ttest-mlogloss:0.776423\n",
      "[8]\ttrain-mlogloss:0.745110\ttest-mlogloss:0.755819\n",
      "[9]\ttrain-mlogloss:0.725368\ttest-mlogloss:0.736971\n",
      "[10]\ttrain-mlogloss:0.708447\ttest-mlogloss:0.721109\n",
      "[11]\ttrain-mlogloss:0.692668\ttest-mlogloss:0.706336\n",
      "[12]\ttrain-mlogloss:0.679054\ttest-mlogloss:0.693839\n",
      "[13]\ttrain-mlogloss:0.666419\ttest-mlogloss:0.682230\n",
      "[14]\ttrain-mlogloss:0.655025\ttest-mlogloss:0.671802\n",
      "[15]\ttrain-mlogloss:0.644198\ttest-mlogloss:0.662184\n",
      "[16]\ttrain-mlogloss:0.634615\ttest-mlogloss:0.653620\n",
      "[17]\ttrain-mlogloss:0.626435\ttest-mlogloss:0.646122\n",
      "[18]\ttrain-mlogloss:0.618592\ttest-mlogloss:0.639426\n",
      "[19]\ttrain-mlogloss:0.611727\ttest-mlogloss:0.633642\n",
      "[20]\ttrain-mlogloss:0.605369\ttest-mlogloss:0.628388\n",
      "[21]\ttrain-mlogloss:0.599039\ttest-mlogloss:0.623226\n",
      "[22]\ttrain-mlogloss:0.593259\ttest-mlogloss:0.618461\n",
      "[23]\ttrain-mlogloss:0.588126\ttest-mlogloss:0.614341\n",
      "[24]\ttrain-mlogloss:0.583521\ttest-mlogloss:0.610556\n",
      "[25]\ttrain-mlogloss:0.579801\ttest-mlogloss:0.607616\n",
      "[26]\ttrain-mlogloss:0.575589\ttest-mlogloss:0.604369\n",
      "[27]\ttrain-mlogloss:0.571742\ttest-mlogloss:0.601601\n",
      "[28]\ttrain-mlogloss:0.567721\ttest-mlogloss:0.598533\n",
      "[29]\ttrain-mlogloss:0.564291\ttest-mlogloss:0.595947\n",
      "[30]\ttrain-mlogloss:0.560955\ttest-mlogloss:0.593592\n",
      "[31]\ttrain-mlogloss:0.557556\ttest-mlogloss:0.591107\n",
      "[32]\ttrain-mlogloss:0.554808\ttest-mlogloss:0.589109\n",
      "[33]\ttrain-mlogloss:0.552141\ttest-mlogloss:0.587194\n",
      "[34]\ttrain-mlogloss:0.549806\ttest-mlogloss:0.585509\n",
      "[35]\ttrain-mlogloss:0.547298\ttest-mlogloss:0.583882\n",
      "[36]\ttrain-mlogloss:0.544796\ttest-mlogloss:0.582214\n",
      "[37]\ttrain-mlogloss:0.542150\ttest-mlogloss:0.580400\n",
      "[38]\ttrain-mlogloss:0.539787\ttest-mlogloss:0.579004\n",
      "[39]\ttrain-mlogloss:0.537849\ttest-mlogloss:0.577738\n",
      "[40]\ttrain-mlogloss:0.535499\ttest-mlogloss:0.576230\n",
      "[41]\ttrain-mlogloss:0.533634\ttest-mlogloss:0.575276\n",
      "[42]\ttrain-mlogloss:0.531438\ttest-mlogloss:0.573878\n",
      "[43]\ttrain-mlogloss:0.529838\ttest-mlogloss:0.572897\n",
      "[44]\ttrain-mlogloss:0.527678\ttest-mlogloss:0.571821\n",
      "[45]\ttrain-mlogloss:0.525835\ttest-mlogloss:0.570724\n",
      "[46]\ttrain-mlogloss:0.524260\ttest-mlogloss:0.569983\n",
      "[47]\ttrain-mlogloss:0.522723\ttest-mlogloss:0.569187\n",
      "[48]\ttrain-mlogloss:0.521043\ttest-mlogloss:0.568267\n",
      "[49]\ttrain-mlogloss:0.519369\ttest-mlogloss:0.567602\n",
      "[50]\ttrain-mlogloss:0.517862\ttest-mlogloss:0.567054\n",
      "[51]\ttrain-mlogloss:0.516329\ttest-mlogloss:0.566176\n",
      "[52]\ttrain-mlogloss:0.514723\ttest-mlogloss:0.565449\n",
      "[53]\ttrain-mlogloss:0.513093\ttest-mlogloss:0.564680\n",
      "[54]\ttrain-mlogloss:0.511627\ttest-mlogloss:0.564135\n",
      "[55]\ttrain-mlogloss:0.510361\ttest-mlogloss:0.563567\n",
      "[56]\ttrain-mlogloss:0.508980\ttest-mlogloss:0.563128\n",
      "[57]\ttrain-mlogloss:0.507989\ttest-mlogloss:0.562615\n",
      "[58]\ttrain-mlogloss:0.506916\ttest-mlogloss:0.562125\n",
      "[59]\ttrain-mlogloss:0.505794\ttest-mlogloss:0.561667\n",
      "[60]\ttrain-mlogloss:0.504263\ttest-mlogloss:0.560847\n",
      "[61]\ttrain-mlogloss:0.502826\ttest-mlogloss:0.560254\n",
      "[62]\ttrain-mlogloss:0.501410\ttest-mlogloss:0.559873\n",
      "[63]\ttrain-mlogloss:0.500100\ttest-mlogloss:0.559480\n",
      "[64]\ttrain-mlogloss:0.498632\ttest-mlogloss:0.558862\n",
      "[65]\ttrain-mlogloss:0.497670\ttest-mlogloss:0.558529\n",
      "[66]\ttrain-mlogloss:0.496089\ttest-mlogloss:0.558087\n",
      "[67]\ttrain-mlogloss:0.494522\ttest-mlogloss:0.557465\n",
      "[68]\ttrain-mlogloss:0.493196\ttest-mlogloss:0.556873\n",
      "[69]\ttrain-mlogloss:0.491981\ttest-mlogloss:0.556256\n",
      "[70]\ttrain-mlogloss:0.490750\ttest-mlogloss:0.555837\n",
      "[71]\ttrain-mlogloss:0.489494\ttest-mlogloss:0.555313\n",
      "[72]\ttrain-mlogloss:0.487985\ttest-mlogloss:0.554925\n",
      "[73]\ttrain-mlogloss:0.486653\ttest-mlogloss:0.554501\n",
      "[74]\ttrain-mlogloss:0.485846\ttest-mlogloss:0.554196\n",
      "[75]\ttrain-mlogloss:0.484941\ttest-mlogloss:0.553943\n",
      "[76]\ttrain-mlogloss:0.483699\ttest-mlogloss:0.553343\n",
      "[77]\ttrain-mlogloss:0.482476\ttest-mlogloss:0.552931\n",
      "[78]\ttrain-mlogloss:0.481249\ttest-mlogloss:0.552691\n",
      "[79]\ttrain-mlogloss:0.480335\ttest-mlogloss:0.552363\n",
      "[80]\ttrain-mlogloss:0.479242\ttest-mlogloss:0.551960\n",
      "[81]\ttrain-mlogloss:0.478339\ttest-mlogloss:0.551749\n",
      "[82]\ttrain-mlogloss:0.477221\ttest-mlogloss:0.551409\n",
      "[83]\ttrain-mlogloss:0.475868\ttest-mlogloss:0.551046\n",
      "[84]\ttrain-mlogloss:0.474742\ttest-mlogloss:0.550769\n",
      "[85]\ttrain-mlogloss:0.473624\ttest-mlogloss:0.550579\n",
      "[86]\ttrain-mlogloss:0.472785\ttest-mlogloss:0.550131\n",
      "[87]\ttrain-mlogloss:0.471845\ttest-mlogloss:0.549852\n",
      "[88]\ttrain-mlogloss:0.470874\ttest-mlogloss:0.549349\n",
      "[89]\ttrain-mlogloss:0.469806\ttest-mlogloss:0.549185\n",
      "[90]\ttrain-mlogloss:0.468965\ttest-mlogloss:0.549030\n",
      "[91]\ttrain-mlogloss:0.468394\ttest-mlogloss:0.548952\n",
      "[92]\ttrain-mlogloss:0.467372\ttest-mlogloss:0.548859\n",
      "[93]\ttrain-mlogloss:0.466575\ttest-mlogloss:0.548608\n",
      "[94]\ttrain-mlogloss:0.465460\ttest-mlogloss:0.548546\n",
      "[95]\ttrain-mlogloss:0.464832\ttest-mlogloss:0.548496\n",
      "[96]\ttrain-mlogloss:0.464218\ttest-mlogloss:0.548264\n",
      "[97]\ttrain-mlogloss:0.463222\ttest-mlogloss:0.548109\n",
      "[98]\ttrain-mlogloss:0.462373\ttest-mlogloss:0.547774\n",
      "[99]\ttrain-mlogloss:0.461380\ttest-mlogloss:0.547679\n",
      "[100]\ttrain-mlogloss:0.460344\ttest-mlogloss:0.547511\n",
      "[101]\ttrain-mlogloss:0.459625\ttest-mlogloss:0.547453\n",
      "[102]\ttrain-mlogloss:0.458558\ttest-mlogloss:0.547194\n",
      "[103]\ttrain-mlogloss:0.457397\ttest-mlogloss:0.546957\n",
      "[104]\ttrain-mlogloss:0.456582\ttest-mlogloss:0.546870\n",
      "[105]\ttrain-mlogloss:0.455656\ttest-mlogloss:0.546813\n",
      "[106]\ttrain-mlogloss:0.454925\ttest-mlogloss:0.546702\n",
      "[107]\ttrain-mlogloss:0.454076\ttest-mlogloss:0.546513\n",
      "[108]\ttrain-mlogloss:0.452957\ttest-mlogloss:0.546384\n",
      "[109]\ttrain-mlogloss:0.452232\ttest-mlogloss:0.546237\n",
      "[110]\ttrain-mlogloss:0.451644\ttest-mlogloss:0.545970\n",
      "[111]\ttrain-mlogloss:0.450657\ttest-mlogloss:0.545750\n",
      "[112]\ttrain-mlogloss:0.449681\ttest-mlogloss:0.545603\n",
      "[113]\ttrain-mlogloss:0.448777\ttest-mlogloss:0.545573\n",
      "[114]\ttrain-mlogloss:0.447933\ttest-mlogloss:0.545409\n",
      "[115]\ttrain-mlogloss:0.447267\ttest-mlogloss:0.545351\n",
      "[116]\ttrain-mlogloss:0.446253\ttest-mlogloss:0.545009\n",
      "[117]\ttrain-mlogloss:0.445568\ttest-mlogloss:0.544905\n",
      "[118]\ttrain-mlogloss:0.445044\ttest-mlogloss:0.544721\n",
      "[119]\ttrain-mlogloss:0.444496\ttest-mlogloss:0.544561\n",
      "[120]\ttrain-mlogloss:0.443867\ttest-mlogloss:0.544427\n",
      "[121]\ttrain-mlogloss:0.442986\ttest-mlogloss:0.544163\n",
      "[122]\ttrain-mlogloss:0.442420\ttest-mlogloss:0.543999\n",
      "[123]\ttrain-mlogloss:0.441436\ttest-mlogloss:0.543873\n",
      "[124]\ttrain-mlogloss:0.440522\ttest-mlogloss:0.543914\n",
      "[125]\ttrain-mlogloss:0.439817\ttest-mlogloss:0.543666\n",
      "[126]\ttrain-mlogloss:0.439090\ttest-mlogloss:0.543605\n",
      "[127]\ttrain-mlogloss:0.438526\ttest-mlogloss:0.543503\n",
      "[128]\ttrain-mlogloss:0.437818\ttest-mlogloss:0.543363\n",
      "[129]\ttrain-mlogloss:0.437105\ttest-mlogloss:0.543259\n",
      "[130]\ttrain-mlogloss:0.436497\ttest-mlogloss:0.543202\n",
      "[131]\ttrain-mlogloss:0.435780\ttest-mlogloss:0.543184\n",
      "[132]\ttrain-mlogloss:0.434967\ttest-mlogloss:0.543061\n",
      "[133]\ttrain-mlogloss:0.434391\ttest-mlogloss:0.542979\n",
      "[134]\ttrain-mlogloss:0.433589\ttest-mlogloss:0.542864\n",
      "[135]\ttrain-mlogloss:0.432883\ttest-mlogloss:0.542588\n",
      "[136]\ttrain-mlogloss:0.431997\ttest-mlogloss:0.542591\n",
      "[137]\ttrain-mlogloss:0.431373\ttest-mlogloss:0.542406\n",
      "[138]\ttrain-mlogloss:0.430707\ttest-mlogloss:0.542171\n",
      "[139]\ttrain-mlogloss:0.429839\ttest-mlogloss:0.542130\n",
      "[140]\ttrain-mlogloss:0.428909\ttest-mlogloss:0.541998\n",
      "[141]\ttrain-mlogloss:0.428157\ttest-mlogloss:0.541778\n",
      "[142]\ttrain-mlogloss:0.427430\ttest-mlogloss:0.541522\n",
      "[143]\ttrain-mlogloss:0.426855\ttest-mlogloss:0.541635\n",
      "[144]\ttrain-mlogloss:0.425875\ttest-mlogloss:0.541564\n",
      "[145]\ttrain-mlogloss:0.425135\ttest-mlogloss:0.541619\n",
      "[146]\ttrain-mlogloss:0.424400\ttest-mlogloss:0.541585\n",
      "[147]\ttrain-mlogloss:0.423463\ttest-mlogloss:0.541451\n",
      "[148]\ttrain-mlogloss:0.422581\ttest-mlogloss:0.541268\n",
      "[149]\ttrain-mlogloss:0.422118\ttest-mlogloss:0.541040\n",
      "[150]\ttrain-mlogloss:0.421314\ttest-mlogloss:0.540948\n",
      "[151]\ttrain-mlogloss:0.420429\ttest-mlogloss:0.540987\n",
      "[152]\ttrain-mlogloss:0.419507\ttest-mlogloss:0.540930\n",
      "[153]\ttrain-mlogloss:0.418577\ttest-mlogloss:0.540840\n",
      "[154]\ttrain-mlogloss:0.417917\ttest-mlogloss:0.540626\n",
      "[155]\ttrain-mlogloss:0.417402\ttest-mlogloss:0.540574\n",
      "[156]\ttrain-mlogloss:0.416842\ttest-mlogloss:0.540399\n",
      "[157]\ttrain-mlogloss:0.416065\ttest-mlogloss:0.540371\n",
      "[158]\ttrain-mlogloss:0.415152\ttest-mlogloss:0.540317\n",
      "[159]\ttrain-mlogloss:0.414382\ttest-mlogloss:0.540311\n",
      "[160]\ttrain-mlogloss:0.413813\ttest-mlogloss:0.540263\n",
      "[161]\ttrain-mlogloss:0.413119\ttest-mlogloss:0.540138\n",
      "[162]\ttrain-mlogloss:0.412706\ttest-mlogloss:0.540077\n",
      "[163]\ttrain-mlogloss:0.411930\ttest-mlogloss:0.539914\n",
      "[164]\ttrain-mlogloss:0.411207\ttest-mlogloss:0.539868\n",
      "[165]\ttrain-mlogloss:0.410552\ttest-mlogloss:0.539838\n",
      "[166]\ttrain-mlogloss:0.409848\ttest-mlogloss:0.539826\n",
      "[167]\ttrain-mlogloss:0.409228\ttest-mlogloss:0.539667\n",
      "[168]\ttrain-mlogloss:0.408514\ttest-mlogloss:0.539492\n",
      "[169]\ttrain-mlogloss:0.407882\ttest-mlogloss:0.539561\n",
      "[170]\ttrain-mlogloss:0.407134\ttest-mlogloss:0.539453\n",
      "[171]\ttrain-mlogloss:0.406412\ttest-mlogloss:0.539467\n",
      "[172]\ttrain-mlogloss:0.405913\ttest-mlogloss:0.539448\n",
      "[173]\ttrain-mlogloss:0.405300\ttest-mlogloss:0.539333\n",
      "[174]\ttrain-mlogloss:0.404499\ttest-mlogloss:0.539336\n",
      "[175]\ttrain-mlogloss:0.403926\ttest-mlogloss:0.539389\n",
      "[176]\ttrain-mlogloss:0.403404\ttest-mlogloss:0.539341\n",
      "[177]\ttrain-mlogloss:0.402854\ttest-mlogloss:0.539189\n",
      "[178]\ttrain-mlogloss:0.402261\ttest-mlogloss:0.539200\n",
      "[179]\ttrain-mlogloss:0.401753\ttest-mlogloss:0.539197\n",
      "[180]\ttrain-mlogloss:0.401105\ttest-mlogloss:0.539080\n",
      "[181]\ttrain-mlogloss:0.400216\ttest-mlogloss:0.538965\n",
      "[182]\ttrain-mlogloss:0.399806\ttest-mlogloss:0.538901\n",
      "[183]\ttrain-mlogloss:0.399268\ttest-mlogloss:0.538816\n",
      "[184]\ttrain-mlogloss:0.398586\ttest-mlogloss:0.538758\n",
      "[185]\ttrain-mlogloss:0.397808\ttest-mlogloss:0.538731\n",
      "[186]\ttrain-mlogloss:0.397288\ttest-mlogloss:0.538754\n",
      "[187]\ttrain-mlogloss:0.396715\ttest-mlogloss:0.538778\n",
      "[188]\ttrain-mlogloss:0.396211\ttest-mlogloss:0.538792\n",
      "[189]\ttrain-mlogloss:0.395418\ttest-mlogloss:0.538796\n",
      "[190]\ttrain-mlogloss:0.394547\ttest-mlogloss:0.538657\n",
      "[191]\ttrain-mlogloss:0.393959\ttest-mlogloss:0.538605\n",
      "[192]\ttrain-mlogloss:0.393268\ttest-mlogloss:0.538593\n",
      "[193]\ttrain-mlogloss:0.392825\ttest-mlogloss:0.538665\n",
      "[194]\ttrain-mlogloss:0.392245\ttest-mlogloss:0.538589\n",
      "[195]\ttrain-mlogloss:0.391711\ttest-mlogloss:0.538600\n",
      "[196]\ttrain-mlogloss:0.391126\ttest-mlogloss:0.538472\n",
      "[197]\ttrain-mlogloss:0.390480\ttest-mlogloss:0.538458\n",
      "[198]\ttrain-mlogloss:0.389877\ttest-mlogloss:0.538502\n",
      "[199]\ttrain-mlogloss:0.389224\ttest-mlogloss:0.538422\n",
      "[200]\ttrain-mlogloss:0.388649\ttest-mlogloss:0.538405\n",
      "[201]\ttrain-mlogloss:0.388022\ttest-mlogloss:0.538354\n",
      "[202]\ttrain-mlogloss:0.387516\ttest-mlogloss:0.538325\n",
      "[203]\ttrain-mlogloss:0.386882\ttest-mlogloss:0.538236\n",
      "[204]\ttrain-mlogloss:0.386372\ttest-mlogloss:0.538230\n",
      "[205]\ttrain-mlogloss:0.385917\ttest-mlogloss:0.538201\n",
      "[206]\ttrain-mlogloss:0.385398\ttest-mlogloss:0.538173\n",
      "[207]\ttrain-mlogloss:0.384640\ttest-mlogloss:0.538105\n",
      "[208]\ttrain-mlogloss:0.384043\ttest-mlogloss:0.537969\n",
      "[209]\ttrain-mlogloss:0.383482\ttest-mlogloss:0.537867\n",
      "[210]\ttrain-mlogloss:0.382755\ttest-mlogloss:0.537741\n",
      "[211]\ttrain-mlogloss:0.382177\ttest-mlogloss:0.537653\n",
      "[212]\ttrain-mlogloss:0.381557\ttest-mlogloss:0.537591\n",
      "[213]\ttrain-mlogloss:0.381035\ttest-mlogloss:0.537655\n",
      "[214]\ttrain-mlogloss:0.380391\ttest-mlogloss:0.537600\n",
      "[215]\ttrain-mlogloss:0.379755\ttest-mlogloss:0.537595\n",
      "[216]\ttrain-mlogloss:0.379130\ttest-mlogloss:0.537487\n",
      "[217]\ttrain-mlogloss:0.378606\ttest-mlogloss:0.537343\n",
      "[218]\ttrain-mlogloss:0.378076\ttest-mlogloss:0.537371\n",
      "[219]\ttrain-mlogloss:0.377371\ttest-mlogloss:0.537472\n",
      "[220]\ttrain-mlogloss:0.376949\ttest-mlogloss:0.537386\n",
      "[221]\ttrain-mlogloss:0.376263\ttest-mlogloss:0.537300\n",
      "[222]\ttrain-mlogloss:0.375818\ttest-mlogloss:0.537358\n",
      "[223]\ttrain-mlogloss:0.375161\ttest-mlogloss:0.537277\n",
      "[224]\ttrain-mlogloss:0.374418\ttest-mlogloss:0.537140\n",
      "[225]\ttrain-mlogloss:0.373766\ttest-mlogloss:0.537067\n",
      "[226]\ttrain-mlogloss:0.373478\ttest-mlogloss:0.536999\n",
      "[227]\ttrain-mlogloss:0.372921\ttest-mlogloss:0.536966\n",
      "[228]\ttrain-mlogloss:0.372551\ttest-mlogloss:0.536978\n",
      "[229]\ttrain-mlogloss:0.372184\ttest-mlogloss:0.537001\n",
      "[230]\ttrain-mlogloss:0.371658\ttest-mlogloss:0.536996\n",
      "[231]\ttrain-mlogloss:0.370960\ttest-mlogloss:0.537051\n",
      "[232]\ttrain-mlogloss:0.370392\ttest-mlogloss:0.537115\n",
      "[233]\ttrain-mlogloss:0.369783\ttest-mlogloss:0.537033\n",
      "[234]\ttrain-mlogloss:0.369347\ttest-mlogloss:0.536915\n",
      "[235]\ttrain-mlogloss:0.368877\ttest-mlogloss:0.536999\n",
      "[236]\ttrain-mlogloss:0.368415\ttest-mlogloss:0.537126\n",
      "[237]\ttrain-mlogloss:0.367826\ttest-mlogloss:0.536939\n",
      "[238]\ttrain-mlogloss:0.367306\ttest-mlogloss:0.536907\n",
      "[239]\ttrain-mlogloss:0.366874\ttest-mlogloss:0.536963\n",
      "[240]\ttrain-mlogloss:0.366331\ttest-mlogloss:0.537016\n",
      "[241]\ttrain-mlogloss:0.365865\ttest-mlogloss:0.537052\n",
      "[242]\ttrain-mlogloss:0.365354\ttest-mlogloss:0.537093\n",
      "[243]\ttrain-mlogloss:0.364805\ttest-mlogloss:0.537160\n",
      "[244]\ttrain-mlogloss:0.364412\ttest-mlogloss:0.537218\n",
      "[245]\ttrain-mlogloss:0.363852\ttest-mlogloss:0.537321\n",
      "[246]\ttrain-mlogloss:0.363132\ttest-mlogloss:0.537221\n",
      "[247]\ttrain-mlogloss:0.362606\ttest-mlogloss:0.537105\n",
      "[248]\ttrain-mlogloss:0.362157\ttest-mlogloss:0.537183\n",
      "[249]\ttrain-mlogloss:0.361632\ttest-mlogloss:0.537292\n",
      "[250]\ttrain-mlogloss:0.361079\ttest-mlogloss:0.537189\n",
      "[251]\ttrain-mlogloss:0.360676\ttest-mlogloss:0.537186\n",
      "[252]\ttrain-mlogloss:0.360089\ttest-mlogloss:0.537101\n",
      "[253]\ttrain-mlogloss:0.359399\ttest-mlogloss:0.537100\n",
      "[254]\ttrain-mlogloss:0.358937\ttest-mlogloss:0.537171\n",
      "[255]\ttrain-mlogloss:0.358440\ttest-mlogloss:0.537124\n",
      "[256]\ttrain-mlogloss:0.357828\ttest-mlogloss:0.537129\n",
      "[257]\ttrain-mlogloss:0.357331\ttest-mlogloss:0.537078\n",
      "[258]\ttrain-mlogloss:0.356907\ttest-mlogloss:0.536961\n"
     ]
    },
    {
     "name": "stdout",
     "output_type": "stream",
     "text": [
      "[0.5369613802438139]\n"
     ]
    },
    {
     "name": "stderr",
     "output_type": "stream",
     "text": [
      "Stopping. Best iteration:\n",
      "[238]\ttrain-mlogloss:0.367306\ttest-mlogloss:0.536907\n",
      "\n"
     ]
    }
   ],
   "source": [
    "cv_scores = []\n",
    "kf = model_selection.KFold(n_splits=5, shuffle=True, random_state=2016)\n",
    "for dev_index, val_index in kf.split(range(X_train.shape[0])):\n",
    "        dev_X, val_X = X_train[dev_index,:], X_train[val_index,:]\n",
    "        dev_y, val_y = y_train[dev_index], y_train[val_index]\n",
    "        preds, model = runXGB(dev_X, dev_y, val_X, val_y)\n",
    "        cv_scores.append(log_loss(val_y, preds))\n",
    "        print(cv_scores)\n",
    "        break"
   ]
  },
  {
   "cell_type": "markdown",
   "metadata": {
    "collapsed": true
   },
   "source": [
    "#### Prediction"
   ]
  },
  {
   "cell_type": "code",
   "execution_count": 165,
   "metadata": {
    "collapsed": false
   },
   "outputs": [],
   "source": [
    "preds, model = runXGB(X_train, y_train, X_test, num_rounds=238)\n",
    "out_df = pd.DataFrame(preds)\n",
    "out_df.columns = [\"high\", \"low\", \"medium\"]\n",
    "out_df[\"listing_id\"] = test.listing_id.values\n",
    "out_df.to_csv(\"./submission/submission_2017-04-24_r2.csv\", index=False)"
   ]
  },
  {
   "cell_type": "markdown",
   "metadata": {},
   "source": [
    "#### Stacking "
   ]
  },
  {
   "cell_type": "code",
   "execution_count": null,
   "metadata": {
    "collapsed": true
   },
   "outputs": [],
   "source": [
    "from sklearn.ensemble import RandomForestClassifier\n",
    "from sklearn.linear_model import LogisticRegression"
   ]
  },
  {
   "cell_type": "code",
   "execution_count": 65,
   "metadata": {
    "collapsed": true
   },
   "outputs": [],
   "source": [
    "def logistic_regression_model(x_train, y_train, max_iter=200):\n",
    "    logit = LogisticRegression(max_iter=max_iter)\n",
    "    logit.fit(train[simple_features], y_train)\n",
    "    return logit\n",
    "\n",
    "def logistic_regression_predict(model, test):\n",
    "    return model.predict_proba(test)\n",
    "\n",
    "def random_forest_model(x_train, y_train, n_estimators=40):\n",
    "    rf = RandomForestClassifier(n_estimators=n_estimators)\n",
    "    rf.fit(x_train, y_train)\n",
    "    return rf\n",
    "\n",
    "def random_forest_predict(model, test):\n",
    "    return model.predict_proba(test)\n",
    "\n",
    "def xgboost_predict(x_train, y_train, test, nrounds):\n",
    "    preds, model = runXGB(X_train, y_train, X_test, num_rounds=nrounds)\n",
    "    return preds"
   ]
  },
  {
   "cell_type": "code",
   "execution_count": 66,
   "metadata": {
    "collapsed": true
   },
   "outputs": [],
   "source": [
    "# Make predictions with sub-models and construct a new stacked row\n",
    "def to_stacked_row(models, predict_list, row):\n",
    "    stacked_row = list()\n",
    "    for i in range(len(models)):\n",
    "        prediction = predict_list[i](models[i], row)\n",
    "        stacked_row.append(prediction)\n",
    "    stacked_row.append(row[-1])\n",
    "    return row[0:len(row)-1] + stacked_row"
   ]
  },
  {
   "cell_type": "code",
   "execution_count": null,
   "metadata": {
    "collapsed": true
   },
   "outputs": [],
   "source": [
    "# Stacked Generalization Algorithm\n",
    "def stacking(x_train, y_train, test):\n",
    "    model_list = [logistic_regression_model, random_forest_model, xgboost]\n",
    "    predict_list = [logistic_regression, random_forest_predict, xgboost_predict]\n",
    "    models = list()\n",
    "    for i in range(len(model_list)):\n",
    "        model = model_list[i](x_train, y_train)\n",
    "        models.append(model)\n",
    "    stacked_dataset = list()\n",
    "    for row in train:\n",
    "        stacked_row = to_stacked_row(models, predict_list, row)\n",
    "        stacked_dataset.append(stacked_row)\n",
    "    stacked_model = logistic_regression_model(stacked_dataset)\n",
    "    predictions = list()\n",
    "    for row in test:\n",
    "        stacked_row = to_stacked_row(models, predict_list, row)\n",
    "        stacked_dataset.append(stacked_row)\n",
    "        prediction = logistic_regression_predict(stacked_model, stacked_row)\n",
    "        prediction = round(prediction)\n",
    "        predictions.append(prediction)\n",
    "    return predictions"
   ]
  },
  {
   "cell_type": "markdown",
   "metadata": {
    "collapsed": true
   },
   "source": [
    "#### Feature importances"
   ]
  },
  {
   "cell_type": "code",
   "execution_count": null,
   "metadata": {
    "collapsed": false
   },
   "outputs": [],
   "source": [
    "feat_imp = pd.Series(XGB_model.booster().get_fscore()).sort_values(ascending=False)\n",
    "feat_imp.plot(kind='bar', title='Feature Importances')\n",
    "plt.ylabel('Feature Importance Score')"
   ]
  },
  {
   "cell_type": "code",
   "execution_count": null,
   "metadata": {
    "collapsed": false
   },
   "outputs": [],
   "source": [
    "train[simple_features].columns[2], train[simple_features].columns[14], train[simple_features].columns[10]"
   ]
  },
  {
   "cell_type": "code",
   "execution_count": null,
   "metadata": {
    "collapsed": false
   },
   "outputs": [],
   "source": [
    "len(simple_features)"
   ]
  },
  {
   "cell_type": "code",
   "execution_count": null,
   "metadata": {
    "collapsed": false
   },
   "outputs": [],
   "source": [
    "train[simple_features].head(1)"
   ]
  },
  {
   "cell_type": "code",
   "execution_count": null,
   "metadata": {
    "collapsed": false
   },
   "outputs": [],
   "source": [
    "for v in X_train.toarray()[0][:20]:\n",
    "    print v"
   ]
  },
  {
   "cell_type": "code",
   "execution_count": null,
   "metadata": {
    "collapsed": true
   },
   "outputs": [],
   "source": [
    "d = len(simple_features)"
   ]
  },
  {
   "cell_type": "code",
   "execution_count": null,
   "metadata": {
    "collapsed": false
   },
   "outputs": [],
   "source": [
    "print unique_feature_list[1048-d]\n",
    "print unique_feature_list[99-d]\n",
    "print unique_feature_list[343-d]\n",
    "print unique_feature_list[138-d]\n",
    "print unique_feature_list[168-d]\n",
    "print unique_feature_list[850-d]\n",
    "#print unique_feature_list[1248-d]\n",
    "#print unique_feature_list[521-d]\n",
    "print unique_feature_list[919-d]\n",
    "print unique_feature_list[1310-d]\n",
    "print unique_feature_list[232-d]\n",
    "print unique_feature_list[665-d]\n",
    "print unique_feature_list[338-d]\n",
    "print unique_feature_list[1038-d]\n",
    "#print unique_feature_list[354-d]"
   ]
  },
  {
   "cell_type": "code",
   "execution_count": null,
   "metadata": {
    "collapsed": false
   },
   "outputs": [],
   "source": [
    "print [(i,v) for i, v in enumerate(simple_features)]"
   ]
  },
  {
   "cell_type": "code",
   "execution_count": null,
   "metadata": {
    "collapsed": false
   },
   "outputs": [],
   "source": [
    "len(feat_imp), X_train.shape"
   ]
  },
  {
   "cell_type": "code",
   "execution_count": null,
   "metadata": {
    "collapsed": false
   },
   "outputs": [],
   "source": [
    "feat_imp[:66]"
   ]
  },
  {
   "cell_type": "code",
   "execution_count": null,
   "metadata": {
    "collapsed": false
   },
   "outputs": [],
   "source": [
    "feat_imp_index = [f[1:] for f in feat_imp.index]"
   ]
  },
  {
   "cell_type": "code",
   "execution_count": null,
   "metadata": {
    "collapsed": false
   },
   "outputs": [],
   "source": [
    "significant_features = [unique_feature_list[int(x)-len(simple_features)] for x in feat_imp_index if int(x) > 15]"
   ]
  },
  {
   "cell_type": "code",
   "execution_count": null,
   "metadata": {
    "collapsed": false
   },
   "outputs": [],
   "source": [
    "len(significant_features)"
   ]
  },
  {
   "cell_type": "code",
   "execution_count": null,
   "metadata": {
    "collapsed": true
   },
   "outputs": [],
   "source": [
    "significant_features.remove('')"
   ]
  },
  {
   "cell_type": "code",
   "execution_count": null,
   "metadata": {
    "collapsed": false
   },
   "outputs": [],
   "source": [
    "len(significant_features)"
   ]
  },
  {
   "cell_type": "code",
   "execution_count": null,
   "metadata": {
    "collapsed": false
   },
   "outputs": [],
   "source": [
    "significant_features"
   ]
  },
  {
   "cell_type": "code",
   "execution_count": null,
   "metadata": {
    "collapsed": false
   },
   "outputs": [],
   "source": [
    "df_significant_feature = pd.DataFrame(significant_features, index=range(len(significant_features)), columns=['xfeature'])"
   ]
  },
  {
   "cell_type": "code",
   "execution_count": null,
   "metadata": {
    "collapsed": true
   },
   "outputs": [],
   "source": [
    "df_significant_feature.to_csv('./data/significant_features.csv', index=False)"
   ]
  },
  {
   "cell_type": "code",
   "execution_count": null,
   "metadata": {
    "collapsed": true
   },
   "outputs": [],
   "source": []
  }
 ],
 "metadata": {
  "kernelspec": {
   "display_name": "Python 2",
   "language": "python",
   "name": "python2"
  },
  "language_info": {
   "codemirror_mode": {
    "name": "ipython",
    "version": 2
   },
   "file_extension": ".py",
   "mimetype": "text/x-python",
   "name": "python",
   "nbconvert_exporter": "python",
   "pygments_lexer": "ipython2",
   "version": "2.7.10"
  }
 },
 "nbformat": 4,
 "nbformat_minor": 0
}
