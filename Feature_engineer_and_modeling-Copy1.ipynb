{
 "cells": [
  {
   "cell_type": "code",
   "execution_count": 2,
   "metadata": {
    "collapsed": false
   },
   "outputs": [
    {
     "name": "stderr",
     "output_type": "stream",
     "text": [
      "/usr/local/lib/python2.7/site-packages/matplotlib/__init__.py:872: UserWarning: axes.color_cycle is deprecated and replaced with axes.prop_cycle; please use the latter.\n",
      "  warnings.warn(self.msg_depr % (key, alt_key))\n"
     ]
    }
   ],
   "source": [
    "import pandas as pd\n",
    "import numpy as np\n",
    "\n",
    "import matplotlib.pyplot as plt\n",
    "%matplotlib inline\n",
    "import seaborn as sns"
   ]
  },
  {
   "cell_type": "code",
   "execution_count": 3,
   "metadata": {
    "collapsed": true
   },
   "outputs": [],
   "source": [
    "from scipy import sparse"
   ]
  },
  {
   "cell_type": "markdown",
   "metadata": {},
   "source": [
    "### Load training/test data"
   ]
  },
  {
   "cell_type": "code",
   "execution_count": 4,
   "metadata": {
    "collapsed": false
   },
   "outputs": [],
   "source": [
    "train = pd.read_json('./data/train.json')"
   ]
  },
  {
   "cell_type": "code",
   "execution_count": 5,
   "metadata": {
    "collapsed": true
   },
   "outputs": [],
   "source": [
    "test = pd.read_json('./data/test.json')"
   ]
  },
  {
   "cell_type": "code",
   "execution_count": 6,
   "metadata": {
    "collapsed": false
   },
   "outputs": [
    {
     "name": "stdout",
     "output_type": "stream",
     "text": [
      "(49352, 15) (74659, 14)\n"
     ]
    }
   ],
   "source": [
    "print train.shape, test.shape"
   ]
  },
  {
   "cell_type": "code",
   "execution_count": 7,
   "metadata": {
    "collapsed": false
   },
   "outputs": [
    {
     "data": {
      "text/html": [
       "<div>\n",
       "<table border=\"1\" class=\"dataframe\">\n",
       "  <thead>\n",
       "    <tr style=\"text-align: right;\">\n",
       "      <th></th>\n",
       "      <th>bathrooms</th>\n",
       "      <th>bedrooms</th>\n",
       "      <th>building_id</th>\n",
       "      <th>created</th>\n",
       "      <th>description</th>\n",
       "      <th>display_address</th>\n",
       "      <th>features</th>\n",
       "      <th>interest_level</th>\n",
       "      <th>latitude</th>\n",
       "      <th>listing_id</th>\n",
       "      <th>longitude</th>\n",
       "      <th>manager_id</th>\n",
       "      <th>photos</th>\n",
       "      <th>price</th>\n",
       "      <th>street_address</th>\n",
       "    </tr>\n",
       "  </thead>\n",
       "  <tbody>\n",
       "    <tr>\n",
       "      <th>10</th>\n",
       "      <td>1.5</td>\n",
       "      <td>3</td>\n",
       "      <td>53a5b119ba8f7b61d4e010512e0dfc85</td>\n",
       "      <td>2016-06-24 07:54:24</td>\n",
       "      <td>A Brand New 3 Bedroom 1.5 bath ApartmentEnjoy ...</td>\n",
       "      <td>Metropolitan Avenue</td>\n",
       "      <td>[]</td>\n",
       "      <td>medium</td>\n",
       "      <td>40.7145</td>\n",
       "      <td>7211212</td>\n",
       "      <td>-73.9425</td>\n",
       "      <td>5ba989232d0489da1b5f2c45f6688adc</td>\n",
       "      <td>[https://photos.renthop.com/2/7211212_1ed4542e...</td>\n",
       "      <td>3000</td>\n",
       "      <td>792 Metropolitan Avenue</td>\n",
       "    </tr>\n",
       "    <tr>\n",
       "      <th>10000</th>\n",
       "      <td>1.0</td>\n",
       "      <td>2</td>\n",
       "      <td>c5c8a357cba207596b04d1afd1e4f130</td>\n",
       "      <td>2016-06-12 12:19:27</td>\n",
       "      <td></td>\n",
       "      <td>Columbus Avenue</td>\n",
       "      <td>[Doorman, Elevator, Fitness Center, Cats Allow...</td>\n",
       "      <td>low</td>\n",
       "      <td>40.7947</td>\n",
       "      <td>7150865</td>\n",
       "      <td>-73.9667</td>\n",
       "      <td>7533621a882f71e25173b27e3139d83d</td>\n",
       "      <td>[https://photos.renthop.com/2/7150865_be3306c5...</td>\n",
       "      <td>5465</td>\n",
       "      <td>808 Columbus Avenue</td>\n",
       "    </tr>\n",
       "    <tr>\n",
       "      <th>100004</th>\n",
       "      <td>1.0</td>\n",
       "      <td>1</td>\n",
       "      <td>c3ba40552e2120b0acfc3cb5730bb2aa</td>\n",
       "      <td>2016-04-17 03:26:41</td>\n",
       "      <td>Top Top West Village location, beautiful Pre-w...</td>\n",
       "      <td>W 13 Street</td>\n",
       "      <td>[Laundry In Building, Dishwasher, Hardwood Flo...</td>\n",
       "      <td>high</td>\n",
       "      <td>40.7388</td>\n",
       "      <td>6887163</td>\n",
       "      <td>-74.0018</td>\n",
       "      <td>d9039c43983f6e564b1482b273bd7b01</td>\n",
       "      <td>[https://photos.renthop.com/2/6887163_de85c427...</td>\n",
       "      <td>2850</td>\n",
       "      <td>241 W 13 Street</td>\n",
       "    </tr>\n",
       "    <tr>\n",
       "      <th>100007</th>\n",
       "      <td>1.0</td>\n",
       "      <td>1</td>\n",
       "      <td>28d9ad350afeaab8027513a3e52ac8d5</td>\n",
       "      <td>2016-04-18 02:22:02</td>\n",
       "      <td>Building Amenities - Garage - Garden - fitness...</td>\n",
       "      <td>East 49th Street</td>\n",
       "      <td>[Hardwood Floors, No Fee]</td>\n",
       "      <td>low</td>\n",
       "      <td>40.7539</td>\n",
       "      <td>6888711</td>\n",
       "      <td>-73.9677</td>\n",
       "      <td>1067e078446a7897d2da493d2f741316</td>\n",
       "      <td>[https://photos.renthop.com/2/6888711_6e660cee...</td>\n",
       "      <td>3275</td>\n",
       "      <td>333 East 49th Street</td>\n",
       "    </tr>\n",
       "    <tr>\n",
       "      <th>100013</th>\n",
       "      <td>1.0</td>\n",
       "      <td>4</td>\n",
       "      <td>0</td>\n",
       "      <td>2016-04-28 01:32:41</td>\n",
       "      <td>Beautifully renovated 3 bedroom flex 4 bedroom...</td>\n",
       "      <td>West 143rd Street</td>\n",
       "      <td>[Pre-War]</td>\n",
       "      <td>low</td>\n",
       "      <td>40.8241</td>\n",
       "      <td>6934781</td>\n",
       "      <td>-73.9493</td>\n",
       "      <td>98e13ad4b495b9613cef886d79a6291f</td>\n",
       "      <td>[https://photos.renthop.com/2/6934781_1fa4b41a...</td>\n",
       "      <td>3350</td>\n",
       "      <td>500 West 143rd Street</td>\n",
       "    </tr>\n",
       "  </tbody>\n",
       "</table>\n",
       "</div>"
      ],
      "text/plain": [
       "        bathrooms  bedrooms                       building_id  \\\n",
       "10            1.5         3  53a5b119ba8f7b61d4e010512e0dfc85   \n",
       "10000         1.0         2  c5c8a357cba207596b04d1afd1e4f130   \n",
       "100004        1.0         1  c3ba40552e2120b0acfc3cb5730bb2aa   \n",
       "100007        1.0         1  28d9ad350afeaab8027513a3e52ac8d5   \n",
       "100013        1.0         4                                 0   \n",
       "\n",
       "                    created  \\\n",
       "10      2016-06-24 07:54:24   \n",
       "10000   2016-06-12 12:19:27   \n",
       "100004  2016-04-17 03:26:41   \n",
       "100007  2016-04-18 02:22:02   \n",
       "100013  2016-04-28 01:32:41   \n",
       "\n",
       "                                              description  \\\n",
       "10      A Brand New 3 Bedroom 1.5 bath ApartmentEnjoy ...   \n",
       "10000                                                       \n",
       "100004  Top Top West Village location, beautiful Pre-w...   \n",
       "100007  Building Amenities - Garage - Garden - fitness...   \n",
       "100013  Beautifully renovated 3 bedroom flex 4 bedroom...   \n",
       "\n",
       "            display_address  \\\n",
       "10      Metropolitan Avenue   \n",
       "10000       Columbus Avenue   \n",
       "100004          W 13 Street   \n",
       "100007     East 49th Street   \n",
       "100013    West 143rd Street   \n",
       "\n",
       "                                                 features interest_level  \\\n",
       "10                                                     []         medium   \n",
       "10000   [Doorman, Elevator, Fitness Center, Cats Allow...            low   \n",
       "100004  [Laundry In Building, Dishwasher, Hardwood Flo...           high   \n",
       "100007                          [Hardwood Floors, No Fee]            low   \n",
       "100013                                          [Pre-War]            low   \n",
       "\n",
       "        latitude  listing_id  longitude                        manager_id  \\\n",
       "10       40.7145     7211212   -73.9425  5ba989232d0489da1b5f2c45f6688adc   \n",
       "10000    40.7947     7150865   -73.9667  7533621a882f71e25173b27e3139d83d   \n",
       "100004   40.7388     6887163   -74.0018  d9039c43983f6e564b1482b273bd7b01   \n",
       "100007   40.7539     6888711   -73.9677  1067e078446a7897d2da493d2f741316   \n",
       "100013   40.8241     6934781   -73.9493  98e13ad4b495b9613cef886d79a6291f   \n",
       "\n",
       "                                                   photos  price  \\\n",
       "10      [https://photos.renthop.com/2/7211212_1ed4542e...   3000   \n",
       "10000   [https://photos.renthop.com/2/7150865_be3306c5...   5465   \n",
       "100004  [https://photos.renthop.com/2/6887163_de85c427...   2850   \n",
       "100007  [https://photos.renthop.com/2/6888711_6e660cee...   3275   \n",
       "100013  [https://photos.renthop.com/2/6934781_1fa4b41a...   3350   \n",
       "\n",
       "                 street_address  \n",
       "10      792 Metropolitan Avenue  \n",
       "10000       808 Columbus Avenue  \n",
       "100004          241 W 13 Street  \n",
       "100007     333 East 49th Street  \n",
       "100013    500 West 143rd Street  "
      ]
     },
     "execution_count": 7,
     "metadata": {},
     "output_type": "execute_result"
    }
   ],
   "source": [
    "train.head()"
   ]
  },
  {
   "cell_type": "code",
   "execution_count": 8,
   "metadata": {
    "collapsed": false
   },
   "outputs": [
    {
     "data": {
      "text/plain": [
       "Index([u'bathrooms', u'bedrooms', u'building_id', u'created', u'description',\n",
       "       u'display_address', u'features', u'interest_level', u'latitude',\n",
       "       u'listing_id', u'longitude', u'manager_id', u'photos', u'price',\n",
       "       u'street_address'],\n",
       "      dtype='object')"
      ]
     },
     "execution_count": 8,
     "metadata": {},
     "output_type": "execute_result"
    }
   ],
   "source": [
    "train.columns"
   ]
  },
  {
   "cell_type": "code",
   "execution_count": 9,
   "metadata": {
    "collapsed": false
   },
   "outputs": [
    {
     "data": {
      "text/plain": [
       "count    49352.00000\n",
       "mean         1.21218\n",
       "std          0.50142\n",
       "min          0.00000\n",
       "25%          1.00000\n",
       "50%          1.00000\n",
       "75%          1.00000\n",
       "max         10.00000\n",
       "Name: bathrooms, dtype: float64"
      ]
     },
     "execution_count": 9,
     "metadata": {},
     "output_type": "execute_result"
    }
   ],
   "source": [
    "train.bathrooms.describe()"
   ]
  },
  {
   "cell_type": "code",
   "execution_count": 10,
   "metadata": {
    "collapsed": false
   },
   "outputs": [
    {
     "data": {
      "text/plain": [
       "1    15752\n",
       "2    14623\n",
       "0     9475\n",
       "3     7276\n",
       "4     1929\n",
       "5      247\n",
       "6       46\n",
       "8        2\n",
       "7        2\n",
       "Name: bedrooms, dtype: int64"
      ]
     },
     "execution_count": 10,
     "metadata": {},
     "output_type": "execute_result"
    }
   ],
   "source": [
    "train.bedrooms.value_counts()"
   ]
  },
  {
   "cell_type": "code",
   "execution_count": 11,
   "metadata": {
    "collapsed": false
   },
   "outputs": [
    {
     "data": {
      "text/plain": [
       "count                   49352\n",
       "unique                  48675\n",
       "top       2016-04-15 02:24:25\n",
       "freq                        3\n",
       "Name: created, dtype: object"
      ]
     },
     "execution_count": 11,
     "metadata": {},
     "output_type": "execute_result"
    }
   ],
   "source": [
    "train.created.describe()"
   ]
  },
  {
   "cell_type": "code",
   "execution_count": 12,
   "metadata": {
    "collapsed": false
   },
   "outputs": [
    {
     "data": {
      "text/plain": [
       "(u'2016-06-29 21:41:47', u'2016-04-01 22:12:41')"
      ]
     },
     "execution_count": 12,
     "metadata": {},
     "output_type": "execute_result"
    }
   ],
   "source": [
    "train.created.max(), train.created.min()"
   ]
  },
  {
   "cell_type": "code",
   "execution_count": 13,
   "metadata": {
    "collapsed": false
   },
   "outputs": [
    {
     "data": {
      "text/plain": [
       "dtype('O')"
      ]
     },
     "execution_count": 13,
     "metadata": {},
     "output_type": "execute_result"
    }
   ],
   "source": [
    "train.created.dtype"
   ]
  },
  {
   "cell_type": "code",
   "execution_count": 14,
   "metadata": {
    "collapsed": true
   },
   "outputs": [],
   "source": [
    "#### Remove outlier\n",
    "train = train[train.price < 100000]"
   ]
  },
  {
   "cell_type": "code",
   "execution_count": 15,
   "metadata": {
    "collapsed": false
   },
   "outputs": [
    {
     "data": {
      "text/plain": [
       "(49345, 15)"
      ]
     },
     "execution_count": 15,
     "metadata": {},
     "output_type": "execute_result"
    }
   ],
   "source": [
    "train.shape"
   ]
  },
  {
   "cell_type": "markdown",
   "metadata": {},
   "source": [
    "### Date/time feature"
   ]
  },
  {
   "cell_type": "code",
   "execution_count": 16,
   "metadata": {
    "collapsed": false
   },
   "outputs": [],
   "source": [
    "# Change Dates columns to Python Date format\n",
    "train['created'] = pd.to_datetime(train['created'], format='%Y-%m-%d %H:%M:%S')\n",
    "test['created'] = pd.to_datetime(test['created'], format='%Y-%m-%d %H:%M:%S')\n",
    "# Extract Date Features\n",
    "import datetime as dt\n",
    "train['weekday_created'] = train['created'].dt.weekday\n",
    "train['month_created'] = train['created'].dt.month\n",
    "train['day_created'] = train['created'].dt.day\n",
    "train['hour_created'] = train['created'].dt.hour\n",
    "\n",
    "test['weekday_created'] = test['created'].dt.weekday\n",
    "test['month_created'] = test['created'].dt.month\n",
    "test['day_created'] = test['created'].dt.day\n",
    "test['hour_created'] = test['created'].dt.hour"
   ]
  },
  {
   "cell_type": "markdown",
   "metadata": {},
   "source": [
    "### Features (of the listing) feature"
   ]
  },
  {
   "cell_type": "code",
   "execution_count": 17,
   "metadata": {
    "collapsed": false
   },
   "outputs": [],
   "source": [
    "train['feature_list'] = train['features'].map(lambda x: ','.join(x)).str.lower()\n",
    "test['feature_list'] = test['features'].map(lambda x: ','.join(x)).str.lower()"
   ]
  },
  {
   "cell_type": "code",
   "execution_count": 18,
   "metadata": {
    "collapsed": true
   },
   "outputs": [],
   "source": [
    "train['number_of_features'] = train['features'].map(len)\n",
    "test['number_of_features'] = test['features'].map(len)"
   ]
  },
  {
   "cell_type": "code",
   "execution_count": 19,
   "metadata": {
    "collapsed": false
   },
   "outputs": [
    {
     "data": {
      "text/html": [
       "<div>\n",
       "<table border=\"1\" class=\"dataframe\">\n",
       "  <thead>\n",
       "    <tr style=\"text-align: right;\">\n",
       "      <th></th>\n",
       "      <th>bathrooms</th>\n",
       "      <th>bedrooms</th>\n",
       "      <th>building_id</th>\n",
       "      <th>created</th>\n",
       "      <th>description</th>\n",
       "      <th>display_address</th>\n",
       "      <th>features</th>\n",
       "      <th>interest_level</th>\n",
       "      <th>latitude</th>\n",
       "      <th>listing_id</th>\n",
       "      <th>...</th>\n",
       "      <th>manager_id</th>\n",
       "      <th>photos</th>\n",
       "      <th>price</th>\n",
       "      <th>street_address</th>\n",
       "      <th>weekday_created</th>\n",
       "      <th>month_created</th>\n",
       "      <th>day_created</th>\n",
       "      <th>hour_created</th>\n",
       "      <th>feature_list</th>\n",
       "      <th>number_of_features</th>\n",
       "    </tr>\n",
       "  </thead>\n",
       "  <tbody>\n",
       "    <tr>\n",
       "      <th>10</th>\n",
       "      <td>1.5</td>\n",
       "      <td>3</td>\n",
       "      <td>53a5b119ba8f7b61d4e010512e0dfc85</td>\n",
       "      <td>2016-06-24 07:54:24</td>\n",
       "      <td>A Brand New 3 Bedroom 1.5 bath ApartmentEnjoy ...</td>\n",
       "      <td>Metropolitan Avenue</td>\n",
       "      <td>[]</td>\n",
       "      <td>medium</td>\n",
       "      <td>40.7145</td>\n",
       "      <td>7211212</td>\n",
       "      <td>...</td>\n",
       "      <td>5ba989232d0489da1b5f2c45f6688adc</td>\n",
       "      <td>[https://photos.renthop.com/2/7211212_1ed4542e...</td>\n",
       "      <td>3000</td>\n",
       "      <td>792 Metropolitan Avenue</td>\n",
       "      <td>4</td>\n",
       "      <td>6</td>\n",
       "      <td>24</td>\n",
       "      <td>7</td>\n",
       "      <td></td>\n",
       "      <td>0</td>\n",
       "    </tr>\n",
       "    <tr>\n",
       "      <th>10000</th>\n",
       "      <td>1.0</td>\n",
       "      <td>2</td>\n",
       "      <td>c5c8a357cba207596b04d1afd1e4f130</td>\n",
       "      <td>2016-06-12 12:19:27</td>\n",
       "      <td></td>\n",
       "      <td>Columbus Avenue</td>\n",
       "      <td>[Doorman, Elevator, Fitness Center, Cats Allow...</td>\n",
       "      <td>low</td>\n",
       "      <td>40.7947</td>\n",
       "      <td>7150865</td>\n",
       "      <td>...</td>\n",
       "      <td>7533621a882f71e25173b27e3139d83d</td>\n",
       "      <td>[https://photos.renthop.com/2/7150865_be3306c5...</td>\n",
       "      <td>5465</td>\n",
       "      <td>808 Columbus Avenue</td>\n",
       "      <td>6</td>\n",
       "      <td>6</td>\n",
       "      <td>12</td>\n",
       "      <td>12</td>\n",
       "      <td>doorman,elevator,fitness center,cats allowed,d...</td>\n",
       "      <td>5</td>\n",
       "    </tr>\n",
       "    <tr>\n",
       "      <th>100004</th>\n",
       "      <td>1.0</td>\n",
       "      <td>1</td>\n",
       "      <td>c3ba40552e2120b0acfc3cb5730bb2aa</td>\n",
       "      <td>2016-04-17 03:26:41</td>\n",
       "      <td>Top Top West Village location, beautiful Pre-w...</td>\n",
       "      <td>W 13 Street</td>\n",
       "      <td>[Laundry In Building, Dishwasher, Hardwood Flo...</td>\n",
       "      <td>high</td>\n",
       "      <td>40.7388</td>\n",
       "      <td>6887163</td>\n",
       "      <td>...</td>\n",
       "      <td>d9039c43983f6e564b1482b273bd7b01</td>\n",
       "      <td>[https://photos.renthop.com/2/6887163_de85c427...</td>\n",
       "      <td>2850</td>\n",
       "      <td>241 W 13 Street</td>\n",
       "      <td>6</td>\n",
       "      <td>4</td>\n",
       "      <td>17</td>\n",
       "      <td>3</td>\n",
       "      <td>laundry in building,dishwasher,hardwood floors...</td>\n",
       "      <td>4</td>\n",
       "    </tr>\n",
       "    <tr>\n",
       "      <th>100007</th>\n",
       "      <td>1.0</td>\n",
       "      <td>1</td>\n",
       "      <td>28d9ad350afeaab8027513a3e52ac8d5</td>\n",
       "      <td>2016-04-18 02:22:02</td>\n",
       "      <td>Building Amenities - Garage - Garden - fitness...</td>\n",
       "      <td>East 49th Street</td>\n",
       "      <td>[Hardwood Floors, No Fee]</td>\n",
       "      <td>low</td>\n",
       "      <td>40.7539</td>\n",
       "      <td>6888711</td>\n",
       "      <td>...</td>\n",
       "      <td>1067e078446a7897d2da493d2f741316</td>\n",
       "      <td>[https://photos.renthop.com/2/6888711_6e660cee...</td>\n",
       "      <td>3275</td>\n",
       "      <td>333 East 49th Street</td>\n",
       "      <td>0</td>\n",
       "      <td>4</td>\n",
       "      <td>18</td>\n",
       "      <td>2</td>\n",
       "      <td>hardwood floors,no fee</td>\n",
       "      <td>2</td>\n",
       "    </tr>\n",
       "    <tr>\n",
       "      <th>100013</th>\n",
       "      <td>1.0</td>\n",
       "      <td>4</td>\n",
       "      <td>0</td>\n",
       "      <td>2016-04-28 01:32:41</td>\n",
       "      <td>Beautifully renovated 3 bedroom flex 4 bedroom...</td>\n",
       "      <td>West 143rd Street</td>\n",
       "      <td>[Pre-War]</td>\n",
       "      <td>low</td>\n",
       "      <td>40.8241</td>\n",
       "      <td>6934781</td>\n",
       "      <td>...</td>\n",
       "      <td>98e13ad4b495b9613cef886d79a6291f</td>\n",
       "      <td>[https://photos.renthop.com/2/6934781_1fa4b41a...</td>\n",
       "      <td>3350</td>\n",
       "      <td>500 West 143rd Street</td>\n",
       "      <td>3</td>\n",
       "      <td>4</td>\n",
       "      <td>28</td>\n",
       "      <td>1</td>\n",
       "      <td>pre-war</td>\n",
       "      <td>1</td>\n",
       "    </tr>\n",
       "  </tbody>\n",
       "</table>\n",
       "<p>5 rows × 21 columns</p>\n",
       "</div>"
      ],
      "text/plain": [
       "        bathrooms  bedrooms                       building_id  \\\n",
       "10            1.5         3  53a5b119ba8f7b61d4e010512e0dfc85   \n",
       "10000         1.0         2  c5c8a357cba207596b04d1afd1e4f130   \n",
       "100004        1.0         1  c3ba40552e2120b0acfc3cb5730bb2aa   \n",
       "100007        1.0         1  28d9ad350afeaab8027513a3e52ac8d5   \n",
       "100013        1.0         4                                 0   \n",
       "\n",
       "                   created                                        description  \\\n",
       "10     2016-06-24 07:54:24  A Brand New 3 Bedroom 1.5 bath ApartmentEnjoy ...   \n",
       "10000  2016-06-12 12:19:27                                                      \n",
       "100004 2016-04-17 03:26:41  Top Top West Village location, beautiful Pre-w...   \n",
       "100007 2016-04-18 02:22:02  Building Amenities - Garage - Garden - fitness...   \n",
       "100013 2016-04-28 01:32:41  Beautifully renovated 3 bedroom flex 4 bedroom...   \n",
       "\n",
       "            display_address  \\\n",
       "10      Metropolitan Avenue   \n",
       "10000       Columbus Avenue   \n",
       "100004          W 13 Street   \n",
       "100007     East 49th Street   \n",
       "100013    West 143rd Street   \n",
       "\n",
       "                                                 features interest_level  \\\n",
       "10                                                     []         medium   \n",
       "10000   [Doorman, Elevator, Fitness Center, Cats Allow...            low   \n",
       "100004  [Laundry In Building, Dishwasher, Hardwood Flo...           high   \n",
       "100007                          [Hardwood Floors, No Fee]            low   \n",
       "100013                                          [Pre-War]            low   \n",
       "\n",
       "        latitude  listing_id        ...          \\\n",
       "10       40.7145     7211212        ...           \n",
       "10000    40.7947     7150865        ...           \n",
       "100004   40.7388     6887163        ...           \n",
       "100007   40.7539     6888711        ...           \n",
       "100013   40.8241     6934781        ...           \n",
       "\n",
       "                              manager_id  \\\n",
       "10      5ba989232d0489da1b5f2c45f6688adc   \n",
       "10000   7533621a882f71e25173b27e3139d83d   \n",
       "100004  d9039c43983f6e564b1482b273bd7b01   \n",
       "100007  1067e078446a7897d2da493d2f741316   \n",
       "100013  98e13ad4b495b9613cef886d79a6291f   \n",
       "\n",
       "                                                   photos price  \\\n",
       "10      [https://photos.renthop.com/2/7211212_1ed4542e...  3000   \n",
       "10000   [https://photos.renthop.com/2/7150865_be3306c5...  5465   \n",
       "100004  [https://photos.renthop.com/2/6887163_de85c427...  2850   \n",
       "100007  [https://photos.renthop.com/2/6888711_6e660cee...  3275   \n",
       "100013  [https://photos.renthop.com/2/6934781_1fa4b41a...  3350   \n",
       "\n",
       "                 street_address weekday_created  month_created  day_created  \\\n",
       "10      792 Metropolitan Avenue               4              6           24   \n",
       "10000       808 Columbus Avenue               6              6           12   \n",
       "100004          241 W 13 Street               6              4           17   \n",
       "100007     333 East 49th Street               0              4           18   \n",
       "100013    500 West 143rd Street               3              4           28   \n",
       "\n",
       "        hour_created                                       feature_list  \\\n",
       "10                 7                                                      \n",
       "10000             12  doorman,elevator,fitness center,cats allowed,d...   \n",
       "100004             3  laundry in building,dishwasher,hardwood floors...   \n",
       "100007             2                             hardwood floors,no fee   \n",
       "100013             1                                            pre-war   \n",
       "\n",
       "       number_of_features  \n",
       "10                      0  \n",
       "10000                   5  \n",
       "100004                  4  \n",
       "100007                  2  \n",
       "100013                  1  \n",
       "\n",
       "[5 rows x 21 columns]"
      ]
     },
     "execution_count": 19,
     "metadata": {},
     "output_type": "execute_result"
    }
   ],
   "source": [
    "train.head()"
   ]
  },
  {
   "cell_type": "code",
   "execution_count": 20,
   "metadata": {
    "collapsed": false
   },
   "outputs": [
    {
     "data": {
      "text/plain": [
       "3218"
      ]
     },
     "execution_count": 20,
     "metadata": {},
     "output_type": "execute_result"
    }
   ],
   "source": [
    "len(train[train['feature_list']==''])"
   ]
  },
  {
   "cell_type": "code",
   "execution_count": 20,
   "metadata": {
    "collapsed": false
   },
   "outputs": [
    {
     "data": {
      "text/plain": [
       "u'doorman,elevator,fitness center,cats allowed,dogs allowed'"
      ]
     },
     "execution_count": 20,
     "metadata": {},
     "output_type": "execute_result"
    }
   ],
   "source": [
    "train.loc[10000,'feature_list']"
   ]
  },
  {
   "cell_type": "code",
   "execution_count": 21,
   "metadata": {
    "collapsed": false
   },
   "outputs": [],
   "source": [
    "all_features = train['feature_list'].str.cat(sep=',')"
   ]
  },
  {
   "cell_type": "code",
   "execution_count": 22,
   "metadata": {
    "collapsed": false
   },
   "outputs": [],
   "source": [
    "all_feature_list = all_features.split(',')"
   ]
  },
  {
   "cell_type": "code",
   "execution_count": null,
   "metadata": {
    "collapsed": false
   },
   "outputs": [],
   "source": [
    "all_feature_list[:20]"
   ]
  },
  {
   "cell_type": "code",
   "execution_count": null,
   "metadata": {
    "collapsed": false
   },
   "outputs": [],
   "source": [
    "len(all_feature_list)"
   ]
  },
  {
   "cell_type": "code",
   "execution_count": null,
   "metadata": {
    "collapsed": true
   },
   "outputs": [],
   "source": [
    "unique_feature_list = list(set(all_feature_list))"
   ]
  },
  {
   "cell_type": "code",
   "execution_count": null,
   "metadata": {
    "collapsed": false
   },
   "outputs": [],
   "source": [
    "len(unique_feature_list)"
   ]
  },
  {
   "cell_type": "code",
   "execution_count": null,
   "metadata": {
    "collapsed": false
   },
   "outputs": [],
   "source": [
    "unique_feature_list[:10]"
   ]
  },
  {
   "cell_type": "code",
   "execution_count": null,
   "metadata": {
    "collapsed": true
   },
   "outputs": [],
   "source": [
    "df_unique = pd.DataFrame(unique_feature_list)"
   ]
  },
  {
   "cell_type": "code",
   "execution_count": null,
   "metadata": {
    "collapsed": false
   },
   "outputs": [],
   "source": [
    "df_unique.to_csv('./data/unique_feature_list.csv', encoding='utf-8')"
   ]
  },
  {
   "cell_type": "markdown",
   "metadata": {},
   "source": [
    "#### Load significant feature list"
   ]
  },
  {
   "cell_type": "code",
   "execution_count": 21,
   "metadata": {
    "collapsed": true
   },
   "outputs": [],
   "source": [
    "df_sig_features = pd.read_csv('./data/significant_features.csv')"
   ]
  },
  {
   "cell_type": "code",
   "execution_count": 22,
   "metadata": {
    "collapsed": false
   },
   "outputs": [],
   "source": [
    "significant_features = df_sig_features.xfeature.tolist()"
   ]
  },
  {
   "cell_type": "code",
   "execution_count": 23,
   "metadata": {
    "collapsed": false
   },
   "outputs": [
    {
     "data": {
      "text/plain": [
       "89"
      ]
     },
     "execution_count": 23,
     "metadata": {},
     "output_type": "execute_result"
    }
   ],
   "source": [
    "len(significant_features)"
   ]
  },
  {
   "cell_type": "code",
   "execution_count": 24,
   "metadata": {
    "collapsed": false
   },
   "outputs": [
    {
     "data": {
      "text/plain": [
       "['no fee',\n",
       " 'laundry in building',\n",
       " 'furnished',\n",
       " 'hardwood floors',\n",
       " 'reduced fee',\n",
       " 'laundry in unit',\n",
       " 'doorman',\n",
       " 'cats allowed',\n",
       " 'dishwasher',\n",
       " 'private outdoor space']"
      ]
     },
     "execution_count": 24,
     "metadata": {},
     "output_type": "execute_result"
    }
   ],
   "source": [
    "significant_features[:10]"
   ]
  },
  {
   "cell_type": "code",
   "execution_count": 25,
   "metadata": {
    "collapsed": true
   },
   "outputs": [],
   "source": [
    "from sklearn.feature_extraction.text import CountVectorizer"
   ]
  },
  {
   "cell_type": "code",
   "execution_count": 26,
   "metadata": {
    "collapsed": false
   },
   "outputs": [],
   "source": [
    "# vocabulary list from the unique feature list\n",
    "# custom tokenizer to split by comma\n",
    "\n",
    "count_vect = CountVectorizer(vocabulary=significant_features, tokenizer=lambda x: x.split(','))\n",
    "#count_vect = CountVectorizer(vocabulary=unique_feature_list, tokenizer=lambda x: x.split(','))\n",
    "#count_vect = CountVectorizer(max_features=300, tokenizer=lambda x: x.split(','))"
   ]
  },
  {
   "cell_type": "code",
   "execution_count": 27,
   "metadata": {
    "collapsed": true
   },
   "outputs": [],
   "source": [
    "X_train_feature_counts = count_vect.fit_transform(train['feature_list'])"
   ]
  },
  {
   "cell_type": "code",
   "execution_count": 28,
   "metadata": {
    "collapsed": false
   },
   "outputs": [
    {
     "data": {
      "text/plain": [
       "<49345x89 sparse matrix of type '<type 'numpy.int64'>'\n",
       "\twith 261492 stored elements in Compressed Sparse Row format>"
      ]
     },
     "execution_count": 28,
     "metadata": {},
     "output_type": "execute_result"
    }
   ],
   "source": [
    "X_train_feature_counts"
   ]
  },
  {
   "cell_type": "code",
   "execution_count": 29,
   "metadata": {
    "collapsed": false
   },
   "outputs": [
    {
     "data": {
      "text/plain": [
       "<74659x89 sparse matrix of type '<type 'numpy.int64'>'\n",
       "\twith 395060 stored elements in Compressed Sparse Row format>"
      ]
     },
     "execution_count": 29,
     "metadata": {},
     "output_type": "execute_result"
    }
   ],
   "source": [
    "test_count_vect = CountVectorizer(vocabulary=significant_features, tokenizer=lambda x: x.split(','))\n",
    "#test_count_vect = CountVectorizer(vocabulary=unique_feature_list, tokenizer=lambda x: x.split(','))\n",
    "#test_count_vect = CountVectorizer(vocabulary=count_vect.vocabulary_, tokenizer=lambda x: x.split(','))\n",
    "X_test_feature_counts = count_vect.fit_transform(test['feature_list'])\n",
    "X_test_feature_counts"
   ]
  },
  {
   "cell_type": "code",
   "execution_count": 30,
   "metadata": {
    "collapsed": false
   },
   "outputs": [],
   "source": [
    "#freqs = [(word, X_train_feature_counts.getcol(idx).sum()) for word, idx in count_vect.vocabulary_.items()]\n",
    "#sort from largest to smallest\n",
    "#print sorted(freqs, key = lambda x: -x[1])[:20]"
   ]
  },
  {
   "cell_type": "code",
   "execution_count": 31,
   "metadata": {
    "collapsed": false
   },
   "outputs": [],
   "source": [
    "#feature_freq = pd.DataFrame(sorted(freqs, key = lambda x: -x[1]))"
   ]
  },
  {
   "cell_type": "code",
   "execution_count": 32,
   "metadata": {
    "collapsed": false
   },
   "outputs": [],
   "source": [
    "#feature_freq.to_csv('./data/feature_freq.csv', encoding='utf-8')"
   ]
  },
  {
   "cell_type": "code",
   "execution_count": 33,
   "metadata": {
    "collapsed": true
   },
   "outputs": [],
   "source": [
    "# TF-IDF\n",
    "#from sklearn.feature_extraction.text import TfidfTransformer"
   ]
  },
  {
   "cell_type": "markdown",
   "metadata": {},
   "source": [
    "### Description feature"
   ]
  },
  {
   "cell_type": "code",
   "execution_count": 34,
   "metadata": {
    "collapsed": false
   },
   "outputs": [],
   "source": [
    "# length of description \n",
    "#train['desc_length'] = train['description'].map(len)\n",
    "#test['desc_length'] = test['description'].map(len)\n",
    "\n",
    "# count of words present in description column #\n",
    "train[\"num_description_words\"] = train[\"description\"].apply(lambda x: len(x.split(\" \")))\n",
    "test[\"num_description_words\"] = test[\"description\"].apply(lambda x: len(x.split(\" \")))\n",
    "\n",
    "# count the number of photos\n",
    "train['num_photos'] = train['photos'].map(len)\n",
    "test['num_photos'] = test['photos'].map(len)"
   ]
  },
  {
   "cell_type": "code",
   "execution_count": 35,
   "metadata": {
    "collapsed": true
   },
   "outputs": [],
   "source": [
    "desc_count = CountVectorizer(max_features=100, stop_words='english')"
   ]
  },
  {
   "cell_type": "code",
   "execution_count": 36,
   "metadata": {
    "collapsed": true
   },
   "outputs": [],
   "source": [
    "X_train_desc_vect = desc_count.fit_transform(train['description'])\n",
    "X_test_desc_vect = desc_count.transform(test['description'])"
   ]
  },
  {
   "cell_type": "code",
   "execution_count": 37,
   "metadata": {
    "collapsed": false
   },
   "outputs": [
    {
     "data": {
      "text/plain": [
       "<49345x100 sparse matrix of type '<type 'numpy.int64'>'\n",
       "\twith 1070340 stored elements in Compressed Sparse Row format>"
      ]
     },
     "execution_count": 37,
     "metadata": {},
     "output_type": "execute_result"
    }
   ],
   "source": [
    "X_train_desc_vect"
   ]
  },
  {
   "cell_type": "code",
   "execution_count": 38,
   "metadata": {
    "collapsed": false
   },
   "outputs": [
    {
     "data": {
      "text/plain": [
       "<74659x100 sparse matrix of type '<type 'numpy.int64'>'\n",
       "\twith 1613399 stored elements in Compressed Sparse Row format>"
      ]
     },
     "execution_count": 38,
     "metadata": {},
     "output_type": "execute_result"
    }
   ],
   "source": [
    "X_test_desc_vect"
   ]
  },
  {
   "cell_type": "markdown",
   "metadata": {},
   "source": [
    "### Spatial features (Location, Address, Latitude/Longitude)"
   ]
  },
  {
   "cell_type": "code",
   "execution_count": 31,
   "metadata": {
    "collapsed": false
   },
   "outputs": [
    {
     "data": {
      "text/plain": [
       "Index([            u'bathrooms',              u'bedrooms',\n",
       "                 u'building_id',               u'created',\n",
       "                 u'description',       u'display_address',\n",
       "                    u'features',        u'interest_level',\n",
       "                    u'latitude',            u'listing_id',\n",
       "                   u'longitude',            u'manager_id',\n",
       "                      u'photos',                 u'price',\n",
       "              u'street_address',       u'weekday_created',\n",
       "               u'month_created',           u'day_created',\n",
       "                u'hour_created',          u'feature_list',\n",
       "       u'num_description_words',            u'num_photos'],\n",
       "      dtype='object')"
      ]
     },
     "execution_count": 31,
     "metadata": {},
     "output_type": "execute_result"
    }
   ],
   "source": [
    "train.columns"
   ]
  },
  {
   "cell_type": "code",
   "execution_count": null,
   "metadata": {
    "collapsed": true
   },
   "outputs": [],
   "source": [
    "feature_for_geo = ['bathrooms','bedrooms','created','display_address','latitude','longitude',\n",
    "             'listing_id','building_id','manager_id','price','street_address']"
   ]
  },
  {
   "cell_type": "code",
   "execution_count": null,
   "metadata": {
    "collapsed": false
   },
   "outputs": [],
   "source": [
    "out_train = train[feature_for_geo]\n",
    "out_test = test[feature_for_geo]"
   ]
  },
  {
   "cell_type": "code",
   "execution_count": null,
   "metadata": {
    "collapsed": false
   },
   "outputs": [],
   "source": [
    "out_train['display_address'] = out_train['display_address'].map(lambda x: x.replace('\\r',''))\n",
    "out_train['street_address'] = out_train['street_address'].map(lambda x: x.replace('\\r',''))"
   ]
  },
  {
   "cell_type": "code",
   "execution_count": null,
   "metadata": {
    "collapsed": false
   },
   "outputs": [],
   "source": [
    "out_test['display_address'] = out_test['display_address'].map(lambda x: x.replace('\\r',''))\n",
    "out_test['street_address'] = out_test['street_address'].map(lambda x: x.replace('\\r',''))"
   ]
  },
  {
   "cell_type": "code",
   "execution_count": null,
   "metadata": {
    "collapsed": false
   },
   "outputs": [],
   "source": [
    "out_train.shape, out_test.shape"
   ]
  },
  {
   "cell_type": "code",
   "execution_count": null,
   "metadata": {
    "collapsed": false
   },
   "outputs": [],
   "source": [
    "out = pd.concat((out_train,out_test))"
   ]
  },
  {
   "cell_type": "code",
   "execution_count": null,
   "metadata": {
    "collapsed": false
   },
   "outputs": [],
   "source": [
    "len(out.index.unique()), out.shape"
   ]
  },
  {
   "cell_type": "code",
   "execution_count": null,
   "metadata": {
    "collapsed": false
   },
   "outputs": [],
   "source": [
    "out.to_csv('./data/train_for_map.csv', encoding='utf-8', sep=',')"
   ]
  },
  {
   "cell_type": "markdown",
   "metadata": {},
   "source": [
    "#### Processing Geocoding ...."
   ]
  },
  {
   "cell_type": "code",
   "execution_count": 39,
   "metadata": {
    "collapsed": true
   },
   "outputs": [],
   "source": [
    "train_geo = pd.read_csv('./data/geo_train.csv')"
   ]
  },
  {
   "cell_type": "code",
   "execution_count": 40,
   "metadata": {
    "collapsed": false
   },
   "outputs": [
    {
     "data": {
      "text/plain": [
       "(124004, 18)"
      ]
     },
     "execution_count": 40,
     "metadata": {},
     "output_type": "execute_result"
    }
   ],
   "source": [
    "train_geo.shape"
   ]
  },
  {
   "cell_type": "code",
   "execution_count": 41,
   "metadata": {
    "collapsed": false
   },
   "outputs": [
    {
     "data": {
      "text/plain": [
       "((49345, 23), (74659, 22))"
      ]
     },
     "execution_count": 41,
     "metadata": {},
     "output_type": "execute_result"
    }
   ],
   "source": [
    "train.shape, test.shape"
   ]
  },
  {
   "cell_type": "code",
   "execution_count": 42,
   "metadata": {
    "collapsed": false
   },
   "outputs": [
    {
     "data": {
      "text/plain": [
       "Index([u'row_index', u'bathrooms', u'bedrooms', u'created', u'display_address',\n",
       "       u'latitude', u'longitude', u'listing_id', u'building_id', u'manager_id',\n",
       "       u'price', u'street_address', u'geometry', u'BoroCode', u'BoroName',\n",
       "       u'CountyFIPS', u'NTACode', u'NTAName'],\n",
       "      dtype='object')"
      ]
     },
     "execution_count": 42,
     "metadata": {},
     "output_type": "execute_result"
    }
   ],
   "source": [
    "train_geo.columns"
   ]
  },
  {
   "cell_type": "code",
   "execution_count": 43,
   "metadata": {
    "collapsed": false
   },
   "outputs": [],
   "source": [
    "train = pd.merge(train, train_geo[['row_index','NTACode']], how='inner', left_index=True, right_on='row_index')\n",
    "test = pd.merge(test, train_geo[['row_index','NTACode']], how='inner', left_index=True, right_on='row_index')"
   ]
  },
  {
   "cell_type": "code",
   "execution_count": 44,
   "metadata": {
    "collapsed": false
   },
   "outputs": [
    {
     "data": {
      "text/plain": [
       "((49345, 25), (74659, 24))"
      ]
     },
     "execution_count": 44,
     "metadata": {},
     "output_type": "execute_result"
    }
   ],
   "source": [
    "train.shape, test.shape"
   ]
  },
  {
   "cell_type": "code",
   "execution_count": 45,
   "metadata": {
    "collapsed": false
   },
   "outputs": [
    {
     "data": {
      "text/plain": [
       "Index([            u'bathrooms',              u'bedrooms',\n",
       "                 u'building_id',               u'created',\n",
       "                 u'description',       u'display_address',\n",
       "                    u'features',        u'interest_level',\n",
       "                    u'latitude',            u'listing_id',\n",
       "                   u'longitude',            u'manager_id',\n",
       "                      u'photos',                 u'price',\n",
       "              u'street_address',       u'weekday_created',\n",
       "               u'month_created',           u'day_created',\n",
       "                u'hour_created',          u'feature_list',\n",
       "          u'number_of_features', u'num_description_words',\n",
       "                  u'num_photos',             u'row_index',\n",
       "                     u'NTACode'],\n",
       "      dtype='object')"
      ]
     },
     "execution_count": 45,
     "metadata": {},
     "output_type": "execute_result"
    }
   ],
   "source": [
    "train.columns"
   ]
  },
  {
   "cell_type": "code",
   "execution_count": 46,
   "metadata": {
    "collapsed": false
   },
   "outputs": [
    {
     "data": {
      "text/plain": [
       "bathrooms                  0\n",
       "bedrooms                   0\n",
       "building_id                0\n",
       "created                    0\n",
       "description                0\n",
       "display_address            0\n",
       "features                   0\n",
       "interest_level             0\n",
       "latitude                   0\n",
       "listing_id                 0\n",
       "longitude                  0\n",
       "manager_id                 0\n",
       "photos                     0\n",
       "price                      0\n",
       "street_address             0\n",
       "weekday_created            0\n",
       "month_created              0\n",
       "day_created                0\n",
       "hour_created               0\n",
       "feature_list               0\n",
       "number_of_features         0\n",
       "num_description_words      0\n",
       "num_photos                 0\n",
       "row_index                  0\n",
       "NTACode                  125\n",
       "dtype: int64"
      ]
     },
     "execution_count": 46,
     "metadata": {},
     "output_type": "execute_result"
    }
   ],
   "source": [
    "train.isnull().sum()"
   ]
  },
  {
   "cell_type": "code",
   "execution_count": 47,
   "metadata": {
    "collapsed": false
   },
   "outputs": [
    {
     "data": {
      "text/plain": [
       "bathrooms                  0\n",
       "bedrooms                   0\n",
       "building_id                0\n",
       "created                    0\n",
       "description                0\n",
       "display_address            0\n",
       "features                   0\n",
       "latitude                   0\n",
       "listing_id                 0\n",
       "longitude                  0\n",
       "manager_id                 0\n",
       "photos                     0\n",
       "price                      0\n",
       "street_address             0\n",
       "weekday_created            0\n",
       "month_created              0\n",
       "day_created                0\n",
       "hour_created               0\n",
       "feature_list               0\n",
       "number_of_features         0\n",
       "num_description_words      0\n",
       "num_photos                 0\n",
       "row_index                  0\n",
       "NTACode                  162\n",
       "dtype: int64"
      ]
     },
     "execution_count": 47,
     "metadata": {},
     "output_type": "execute_result"
    }
   ],
   "source": [
    "test.isnull().sum()"
   ]
  },
  {
   "cell_type": "code",
   "execution_count": 48,
   "metadata": {
    "collapsed": false
   },
   "outputs": [],
   "source": [
    "train['NTACode'] = train.NTACode.fillna('Non-NYC')\n",
    "test['NTACode'] = test.NTACode.fillna('Non-NYC')"
   ]
  },
  {
   "cell_type": "markdown",
   "metadata": {},
   "source": [
    "### Derived features"
   ]
  },
  {
   "cell_type": "code",
   "execution_count": 49,
   "metadata": {
    "collapsed": true
   },
   "outputs": [],
   "source": [
    "train['price_per_bedroom'] = train['price'] / train['bedrooms']\n",
    "train['price_per_bathroom'] = train['price'] / train['bathrooms']\n",
    "test['price_per_bedroom'] = test['price'] / test['bedrooms']\n",
    "test['price_per_bathroom'] = test['price'] / test['bathrooms']\n",
    "\n",
    "train[\"room_sum\"] = train[\"bedrooms\"]+train[\"bathrooms\"]\n",
    "test[\"room_sum\"] = test[\"bedrooms\"]+test[\"bathrooms\"]"
   ]
  },
  {
   "cell_type": "markdown",
   "metadata": {},
   "source": [
    "### Manager feature"
   ]
  },
  {
   "cell_type": "code",
   "execution_count": 50,
   "metadata": {
    "collapsed": false
   },
   "outputs": [],
   "source": [
    "import random\n",
    "\n",
    "index=list(range(train.shape[0]))\n",
    "random.shuffle(index)\n",
    "a=[np.nan]*len(train)\n",
    "b=[np.nan]*len(train)\n",
    "c=[np.nan]*len(train)"
   ]
  },
  {
   "cell_type": "code",
   "execution_count": 51,
   "metadata": {
    "collapsed": false
   },
   "outputs": [],
   "source": [
    "for i in range(5):\n",
    "    building_level={}\n",
    "    for j in train['manager_id'].values:\n",
    "        building_level[j]=[0,0,0]\n",
    "    test_index=index[int((i*train.shape[0])/5):int(((i+1)*train.shape[0])/5)]\n",
    "    train_index=list(set(index).difference(test_index))\n",
    "    for j in train_index:\n",
    "        temp=train.iloc[j]\n",
    "        if temp['interest_level']=='low':\n",
    "            building_level[temp['manager_id']][0]+=1\n",
    "        if temp['interest_level']=='medium':\n",
    "            building_level[temp['manager_id']][1]+=1\n",
    "        if temp['interest_level']=='high':\n",
    "            building_level[temp['manager_id']][2]+=1\n",
    "    for j in test_index:\n",
    "        temp=train.iloc[j]\n",
    "        if sum(building_level[temp['manager_id']])!=0:\n",
    "            a[j]=building_level[temp['manager_id']][0]*1.0/sum(building_level[temp['manager_id']])\n",
    "            b[j]=building_level[temp['manager_id']][1]*1.0/sum(building_level[temp['manager_id']])\n",
    "            c[j]=building_level[temp['manager_id']][2]*1.0/sum(building_level[temp['manager_id']])\n",
    "            \n",
    "            \n",
    "train['manager_level_low'] = a\n",
    "train['manager_level_medium'] = b\n",
    "train['manager_level_high'] = c"
   ]
  },
  {
   "cell_type": "code",
   "execution_count": 52,
   "metadata": {
    "collapsed": true
   },
   "outputs": [],
   "source": [
    "a=[]\n",
    "b=[]\n",
    "c=[]\n",
    "building_level={}\n",
    "for j in train['manager_id'].values:\n",
    "    building_level[j]=[0,0,0]\n",
    "for j in range(train.shape[0]):\n",
    "    temp=train.iloc[j]\n",
    "    if temp['interest_level']=='low':\n",
    "        building_level[temp['manager_id']][0]+=1\n",
    "    if temp['interest_level']=='medium':\n",
    "        building_level[temp['manager_id']][1]+=1\n",
    "    if temp['interest_level']=='high':\n",
    "        building_level[temp['manager_id']][2]+=1\n",
    "\n",
    "for i in test['manager_id'].values:\n",
    "    if i not in building_level.keys():\n",
    "        a.append(np.nan)\n",
    "        b.append(np.nan)\n",
    "        c.append(np.nan)\n",
    "    else:\n",
    "        a.append(building_level[i][0]*1.0/sum(building_level[i]))\n",
    "        b.append(building_level[i][1]*1.0/sum(building_level[i]))\n",
    "        c.append(building_level[i][2]*1.0/sum(building_level[i]))\n",
    "test['manager_level_low']=a\n",
    "test['manager_level_medium']=b\n",
    "test['manager_level_high']=c"
   ]
  },
  {
   "cell_type": "markdown",
   "metadata": {},
   "source": [
    "### Category features"
   ]
  },
  {
   "cell_type": "code",
   "execution_count": 53,
   "metadata": {
    "collapsed": false
   },
   "outputs": [],
   "source": [
    "#Label Encoder Category feature NTACode\n",
    "cat_features = ['manager_id','building_id','street_address','display_address','NTACode']\n",
    "from sklearn import preprocessing\n",
    "for cat in cat_features:\n",
    "    cat_le = preprocessing.LabelEncoder()\n",
    "    cat_le.fit(list(train[cat].values) + list(test[cat].values))\n",
    "    train[cat] = cat_le.transform(train[cat])\n",
    "    test[cat] = cat_le.transform(test[cat])\n",
    "    \n",
    "#cat_le = preprocessing.LabelEncoder()\n",
    "#cat_le.fit(list(train['listing_id'].values) + list(test['listing_id'].values))\n",
    "#train['listing_code'] = cat_le.transform(train['listing_id'])\n",
    "#test['listing_code'] = cat_le.transform(test['listing_id'])"
   ]
  },
  {
   "cell_type": "markdown",
   "metadata": {},
   "source": [
    "### Combine all training features"
   ]
  },
  {
   "cell_type": "code",
   "execution_count": 54,
   "metadata": {
    "collapsed": true
   },
   "outputs": [],
   "source": [
    "simple_features = ['bathrooms','bedrooms','price',\n",
    "                   'day_created','month_created','hour_created','weekday_created',\n",
    "                   'number_of_features', 'num_description_words','num_photos','manager_id','building_id',\n",
    "                   'street_address','display_address','latitude','longitude',\n",
    "                   'NTACode','listing_id',\n",
    "                   'price_per_bedroom','price_per_bathroom','room_sum',\n",
    "                   'manager_level_low','manager_level_medium','manager_level_high']\n",
    "target = 'interest_level'"
   ]
  },
  {
   "cell_type": "markdown",
   "metadata": {},
   "source": [
    "#### Transform features into sparse matrix"
   ]
  },
  {
   "cell_type": "code",
   "execution_count": 65,
   "metadata": {
    "collapsed": false
   },
   "outputs": [],
   "source": [
    "X_train = sparse.hstack([train[simple_features], X_train_feature_counts]).tocsr()\n",
    "X_test = sparse.hstack([test[simple_features], X_test_feature_counts]).tocsr()\n",
    "#X_train = sparse.hstack([train[simple_features], X_train_feature_counts, X_train_desc_vect]).tocsr()\n",
    "#X_test = sparse.hstack([test[simple_features], X_test_feature_counts, X_test_desc_vect]).tocsr()"
   ]
  },
  {
   "cell_type": "code",
   "execution_count": 66,
   "metadata": {
    "collapsed": false
   },
   "outputs": [],
   "source": [
    "#X_train = np.concatenate((train[simple_features].values, X_train_feature_counts.toarray()), axis=1)"
   ]
  },
  {
   "cell_type": "code",
   "execution_count": 67,
   "metadata": {
    "collapsed": false
   },
   "outputs": [
    {
     "data": {
      "text/plain": [
       "((49345, 113), (74659, 113))"
      ]
     },
     "execution_count": 67,
     "metadata": {},
     "output_type": "execute_result"
    }
   ],
   "source": [
    "X_train.shape, X_test.shape"
   ]
  },
  {
   "cell_type": "markdown",
   "metadata": {},
   "source": [
    "### Modeling and Cross validation"
   ]
  },
  {
   "cell_type": "code",
   "execution_count": 58,
   "metadata": {
    "collapsed": true
   },
   "outputs": [],
   "source": [
    "from sklearn.preprocessing import LabelEncoder\n",
    "le = LabelEncoder()\n",
    "y_train = le.fit_transform(train[target])"
   ]
  },
  {
   "cell_type": "code",
   "execution_count": 59,
   "metadata": {
    "collapsed": false
   },
   "outputs": [
    {
     "data": {
      "text/plain": [
       "array([ 3838, 34278, 11229])"
      ]
     },
     "execution_count": 59,
     "metadata": {},
     "output_type": "execute_result"
    }
   ],
   "source": [
    "np.bincount(y_train)"
   ]
  },
  {
   "cell_type": "code",
   "execution_count": 60,
   "metadata": {
    "collapsed": false
   },
   "outputs": [
    {
     "data": {
      "text/plain": [
       "low       34278\n",
       "medium    11229\n",
       "high       3838\n",
       "Name: interest_level, dtype: int64"
      ]
     },
     "execution_count": 60,
     "metadata": {},
     "output_type": "execute_result"
    }
   ],
   "source": [
    "train[target].value_counts()"
   ]
  },
  {
   "cell_type": "code",
   "execution_count": 61,
   "metadata": {
    "collapsed": false
   },
   "outputs": [
    {
     "data": {
      "text/plain": [
       "array([u'high', u'low', u'medium'], dtype=object)"
      ]
     },
     "execution_count": 61,
     "metadata": {},
     "output_type": "execute_result"
    }
   ],
   "source": [
    "# high = 0, low = 1, medium = 2\n",
    "le.classes_"
   ]
  },
  {
   "cell_type": "markdown",
   "metadata": {},
   "source": [
    "#### XGBoost"
   ]
  },
  {
   "cell_type": "code",
   "execution_count": null,
   "metadata": {
    "collapsed": false
   },
   "outputs": [],
   "source": [
    "# Model 3: xgboost\n",
    "import xgboost as xgb\n",
    "from xgboost.sklearn import XGBClassifier\n",
    "XGB_model = xgb.XGBClassifier(\n",
    "                objective='multi:softprob',\n",
    "                learning_rate =0.1,\n",
    "                max_depth=6,\n",
    "                min_child_weight=1,\n",
    "                subsample=0.7, \n",
    "                colsample_bytree=0.7,\n",
    "                seed=0)"
   ]
  },
  {
   "cell_type": "code",
   "execution_count": null,
   "metadata": {
    "collapsed": false
   },
   "outputs": [],
   "source": [
    "XGB_model.fit(X_train, y_train, eval_metric='mlogloss')"
   ]
  },
  {
   "cell_type": "code",
   "execution_count": null,
   "metadata": {
    "collapsed": false
   },
   "outputs": [],
   "source": [
    "from sklearn.cross_validation import cross_val_score"
   ]
  },
  {
   "cell_type": "code",
   "execution_count": null,
   "metadata": {
    "collapsed": false
   },
   "outputs": [],
   "source": [
    "scores = cross_val_score(XGB_model, X_train, y_train, cv=5, scoring='log_loss')"
   ]
  },
  {
   "cell_type": "code",
   "execution_count": null,
   "metadata": {
    "collapsed": false
   },
   "outputs": [],
   "source": [
    "scores"
   ]
  },
  {
   "cell_type": "code",
   "execution_count": null,
   "metadata": {
    "collapsed": true
   },
   "outputs": [],
   "source": [
    "y_id = test['listing_id'].astype('O')"
   ]
  },
  {
   "cell_type": "code",
   "execution_count": null,
   "metadata": {
    "collapsed": true
   },
   "outputs": [],
   "source": [
    "y_test_log_pred = XGB_model.predict_proba(X_test)"
   ]
  },
  {
   "cell_type": "code",
   "execution_count": null,
   "metadata": {
    "collapsed": false
   },
   "outputs": [],
   "source": [
    "sub = pd.DataFrame(np.column_stack((y_id, y_test_log_pred)), columns=['listing_id'] + le.classes_.tolist())"
   ]
  },
  {
   "cell_type": "code",
   "execution_count": null,
   "metadata": {
    "collapsed": false
   },
   "outputs": [],
   "source": [
    "sub.to_csv('./submission/submission_2017-04-21_r1.csv', index=False)"
   ]
  },
  {
   "cell_type": "code",
   "execution_count": null,
   "metadata": {
    "collapsed": false
   },
   "outputs": [],
   "source": [
    "le.classes_"
   ]
  },
  {
   "cell_type": "markdown",
   "metadata": {},
   "source": [
    "### XGBoost re-train"
   ]
  },
  {
   "cell_type": "code",
   "execution_count": 68,
   "metadata": {
    "collapsed": true
   },
   "outputs": [],
   "source": [
    "from sklearn import model_selection, preprocessing, ensemble\n",
    "from sklearn.metrics import log_loss\n",
    "import xgboost as xgb"
   ]
  },
  {
   "cell_type": "code",
   "execution_count": 69,
   "metadata": {
    "collapsed": true
   },
   "outputs": [],
   "source": [
    "def runXGB(train_X, train_y, test_X, test_y=None, feature_names=None, seed_val=0, num_rounds=1000):\n",
    "    param = {}\n",
    "    param['objective'] = 'multi:softprob'\n",
    "    param['eta'] = 0.1\n",
    "    param['max_depth'] = 6\n",
    "    param['silent'] = 1\n",
    "    param['num_class'] = 3\n",
    "    param['eval_metric'] = \"mlogloss\"\n",
    "    param['min_child_weight'] = 1\n",
    "    param['subsample'] = 0.7\n",
    "    param['colsample_bytree'] = 0.7\n",
    "    param['seed'] = seed_val\n",
    "    num_rounds = num_rounds\n",
    "\n",
    "    plst = list(param.items())\n",
    "    xgtrain = xgb.DMatrix(train_X, label=train_y)\n",
    "\n",
    "    if test_y is not None:\n",
    "        xgtest = xgb.DMatrix(test_X, label=test_y)\n",
    "        watchlist = [ (xgtrain,'train'), (xgtest, 'test') ]\n",
    "        model = xgb.train(plst, xgtrain, num_rounds, watchlist, early_stopping_rounds=20)\n",
    "    else:\n",
    "        xgtest = xgb.DMatrix(test_X)\n",
    "        model = xgb.train(plst, xgtrain, num_rounds)\n",
    "\n",
    "    pred_test_y = model.predict(xgtest)\n",
    "    return pred_test_y, model"
   ]
  },
  {
   "cell_type": "code",
   "execution_count": 70,
   "metadata": {
    "collapsed": false
   },
   "outputs": [
    {
     "name": "stderr",
     "output_type": "stream",
     "text": [
      "Will train until test error hasn't decreased in 20 rounds.\n",
      "[0]\ttrain-mlogloss:1.032385\ttest-mlogloss:1.033530\n",
      "[1]\ttrain-mlogloss:0.975910\ttest-mlogloss:0.978620\n",
      "[2]\ttrain-mlogloss:0.927459\ttest-mlogloss:0.931548\n",
      "[3]\ttrain-mlogloss:0.885365\ttest-mlogloss:0.890883\n",
      "[4]\ttrain-mlogloss:0.849123\ttest-mlogloss:0.856207\n",
      "[5]\ttrain-mlogloss:0.817589\ttest-mlogloss:0.826051\n",
      "[6]\ttrain-mlogloss:0.789921\ttest-mlogloss:0.799499\n",
      "[7]\ttrain-mlogloss:0.766051\ttest-mlogloss:0.776869\n",
      "[8]\ttrain-mlogloss:0.744618\ttest-mlogloss:0.756698\n",
      "[9]\ttrain-mlogloss:0.725013\ttest-mlogloss:0.738282\n",
      "[10]\ttrain-mlogloss:0.707616\ttest-mlogloss:0.721815\n",
      "[11]\ttrain-mlogloss:0.692089\ttest-mlogloss:0.707347\n",
      "[12]\ttrain-mlogloss:0.678385\ttest-mlogloss:0.694872\n",
      "[13]\ttrain-mlogloss:0.665965\ttest-mlogloss:0.683703\n",
      "[14]\ttrain-mlogloss:0.654508\ttest-mlogloss:0.673502\n",
      "[15]\ttrain-mlogloss:0.643944\ttest-mlogloss:0.663842\n",
      "[16]\ttrain-mlogloss:0.634615\ttest-mlogloss:0.655524\n",
      "[17]\ttrain-mlogloss:0.626474\ttest-mlogloss:0.648298\n",
      "[18]\ttrain-mlogloss:0.618723\ttest-mlogloss:0.641676\n",
      "[19]\ttrain-mlogloss:0.611687\ttest-mlogloss:0.635819\n",
      "[20]\ttrain-mlogloss:0.605160\ttest-mlogloss:0.630399\n",
      "[21]\ttrain-mlogloss:0.598978\ttest-mlogloss:0.625314\n",
      "[22]\ttrain-mlogloss:0.593427\ttest-mlogloss:0.620779\n",
      "[23]\ttrain-mlogloss:0.588153\ttest-mlogloss:0.616750\n",
      "[24]\ttrain-mlogloss:0.583577\ttest-mlogloss:0.613090\n",
      "[25]\ttrain-mlogloss:0.579685\ttest-mlogloss:0.610103\n",
      "[26]\ttrain-mlogloss:0.575409\ttest-mlogloss:0.606758\n",
      "[27]\ttrain-mlogloss:0.571307\ttest-mlogloss:0.603587\n",
      "[28]\ttrain-mlogloss:0.567361\ttest-mlogloss:0.600538\n",
      "[29]\ttrain-mlogloss:0.564011\ttest-mlogloss:0.597981\n",
      "[30]\ttrain-mlogloss:0.560734\ttest-mlogloss:0.595410\n",
      "[31]\ttrain-mlogloss:0.557327\ttest-mlogloss:0.592946\n",
      "[32]\ttrain-mlogloss:0.554270\ttest-mlogloss:0.590737\n",
      "[33]\ttrain-mlogloss:0.551563\ttest-mlogloss:0.588869\n",
      "[34]\ttrain-mlogloss:0.549120\ttest-mlogloss:0.587029\n",
      "[35]\ttrain-mlogloss:0.546488\ttest-mlogloss:0.585455\n",
      "[36]\ttrain-mlogloss:0.544041\ttest-mlogloss:0.583795\n",
      "[37]\ttrain-mlogloss:0.541364\ttest-mlogloss:0.581984\n",
      "[38]\ttrain-mlogloss:0.538993\ttest-mlogloss:0.580482\n",
      "[39]\ttrain-mlogloss:0.536996\ttest-mlogloss:0.579102\n",
      "[40]\ttrain-mlogloss:0.534774\ttest-mlogloss:0.577772\n",
      "[41]\ttrain-mlogloss:0.532740\ttest-mlogloss:0.576631\n",
      "[42]\ttrain-mlogloss:0.530714\ttest-mlogloss:0.575374\n",
      "[43]\ttrain-mlogloss:0.528944\ttest-mlogloss:0.574292\n",
      "[44]\ttrain-mlogloss:0.527004\ttest-mlogloss:0.573005\n",
      "[45]\ttrain-mlogloss:0.525047\ttest-mlogloss:0.572073\n",
      "[46]\ttrain-mlogloss:0.523572\ttest-mlogloss:0.571144\n",
      "[47]\ttrain-mlogloss:0.522081\ttest-mlogloss:0.570394\n",
      "[48]\ttrain-mlogloss:0.520496\ttest-mlogloss:0.569613\n",
      "[49]\ttrain-mlogloss:0.518833\ttest-mlogloss:0.569035\n",
      "[50]\ttrain-mlogloss:0.517460\ttest-mlogloss:0.568512\n",
      "[51]\ttrain-mlogloss:0.515986\ttest-mlogloss:0.567556\n",
      "[52]\ttrain-mlogloss:0.514281\ttest-mlogloss:0.566539\n",
      "[53]\ttrain-mlogloss:0.512585\ttest-mlogloss:0.565749\n",
      "[54]\ttrain-mlogloss:0.511412\ttest-mlogloss:0.565237\n",
      "[55]\ttrain-mlogloss:0.510274\ttest-mlogloss:0.564697\n",
      "[56]\ttrain-mlogloss:0.508998\ttest-mlogloss:0.564203\n",
      "[57]\ttrain-mlogloss:0.507950\ttest-mlogloss:0.563587\n",
      "[58]\ttrain-mlogloss:0.506887\ttest-mlogloss:0.563122\n",
      "[59]\ttrain-mlogloss:0.505475\ttest-mlogloss:0.562448\n",
      "[60]\ttrain-mlogloss:0.503849\ttest-mlogloss:0.561655\n",
      "[61]\ttrain-mlogloss:0.502395\ttest-mlogloss:0.561160\n",
      "[62]\ttrain-mlogloss:0.500995\ttest-mlogloss:0.560845\n",
      "[63]\ttrain-mlogloss:0.499730\ttest-mlogloss:0.560459\n",
      "[64]\ttrain-mlogloss:0.498230\ttest-mlogloss:0.559882\n",
      "[65]\ttrain-mlogloss:0.497122\ttest-mlogloss:0.559543\n",
      "[66]\ttrain-mlogloss:0.495411\ttest-mlogloss:0.559063\n",
      "[67]\ttrain-mlogloss:0.494465\ttest-mlogloss:0.558764\n",
      "[68]\ttrain-mlogloss:0.493372\ttest-mlogloss:0.558215\n",
      "[69]\ttrain-mlogloss:0.492245\ttest-mlogloss:0.557738\n",
      "[70]\ttrain-mlogloss:0.490903\ttest-mlogloss:0.557208\n",
      "[71]\ttrain-mlogloss:0.489975\ttest-mlogloss:0.556692\n",
      "[72]\ttrain-mlogloss:0.488646\ttest-mlogloss:0.556255\n",
      "[73]\ttrain-mlogloss:0.487280\ttest-mlogloss:0.555819\n",
      "[74]\ttrain-mlogloss:0.486471\ttest-mlogloss:0.555527\n",
      "[75]\ttrain-mlogloss:0.485405\ttest-mlogloss:0.555112\n",
      "[76]\ttrain-mlogloss:0.483995\ttest-mlogloss:0.554621\n",
      "[77]\ttrain-mlogloss:0.482659\ttest-mlogloss:0.554268\n",
      "[78]\ttrain-mlogloss:0.481599\ttest-mlogloss:0.554023\n",
      "[79]\ttrain-mlogloss:0.480569\ttest-mlogloss:0.553664\n",
      "[80]\ttrain-mlogloss:0.479369\ttest-mlogloss:0.553153\n",
      "[81]\ttrain-mlogloss:0.478314\ttest-mlogloss:0.553037\n",
      "[82]\ttrain-mlogloss:0.477369\ttest-mlogloss:0.552622\n",
      "[83]\ttrain-mlogloss:0.476310\ttest-mlogloss:0.552342\n",
      "[84]\ttrain-mlogloss:0.475221\ttest-mlogloss:0.552042\n",
      "[85]\ttrain-mlogloss:0.473875\ttest-mlogloss:0.551807\n",
      "[86]\ttrain-mlogloss:0.473025\ttest-mlogloss:0.551341\n",
      "[87]\ttrain-mlogloss:0.472000\ttest-mlogloss:0.551152\n",
      "[88]\ttrain-mlogloss:0.471062\ttest-mlogloss:0.550855\n",
      "[89]\ttrain-mlogloss:0.470247\ttest-mlogloss:0.550563\n",
      "[90]\ttrain-mlogloss:0.469469\ttest-mlogloss:0.550363\n",
      "[91]\ttrain-mlogloss:0.468897\ttest-mlogloss:0.550162\n",
      "[92]\ttrain-mlogloss:0.468004\ttest-mlogloss:0.550030\n",
      "[93]\ttrain-mlogloss:0.467165\ttest-mlogloss:0.549837\n",
      "[94]\ttrain-mlogloss:0.465955\ttest-mlogloss:0.549567\n",
      "[95]\ttrain-mlogloss:0.465224\ttest-mlogloss:0.549289\n",
      "[96]\ttrain-mlogloss:0.464467\ttest-mlogloss:0.549024\n",
      "[97]\ttrain-mlogloss:0.463560\ttest-mlogloss:0.548733\n",
      "[98]\ttrain-mlogloss:0.462591\ttest-mlogloss:0.548580\n",
      "[99]\ttrain-mlogloss:0.461559\ttest-mlogloss:0.548492\n",
      "[100]\ttrain-mlogloss:0.460665\ttest-mlogloss:0.548371\n",
      "[101]\ttrain-mlogloss:0.460032\ttest-mlogloss:0.548105\n",
      "[102]\ttrain-mlogloss:0.459262\ttest-mlogloss:0.547975\n",
      "[103]\ttrain-mlogloss:0.458262\ttest-mlogloss:0.547665\n",
      "[104]\ttrain-mlogloss:0.457385\ttest-mlogloss:0.547499\n",
      "[105]\ttrain-mlogloss:0.456708\ttest-mlogloss:0.547441\n",
      "[106]\ttrain-mlogloss:0.456032\ttest-mlogloss:0.547367\n",
      "[107]\ttrain-mlogloss:0.455146\ttest-mlogloss:0.547237\n",
      "[108]\ttrain-mlogloss:0.454388\ttest-mlogloss:0.547186\n",
      "[109]\ttrain-mlogloss:0.453669\ttest-mlogloss:0.547091\n",
      "[110]\ttrain-mlogloss:0.452965\ttest-mlogloss:0.546799\n",
      "[111]\ttrain-mlogloss:0.452058\ttest-mlogloss:0.546619\n",
      "[112]\ttrain-mlogloss:0.451461\ttest-mlogloss:0.546584\n",
      "[113]\ttrain-mlogloss:0.450703\ttest-mlogloss:0.546517\n",
      "[114]\ttrain-mlogloss:0.449871\ttest-mlogloss:0.546468\n",
      "[115]\ttrain-mlogloss:0.449132\ttest-mlogloss:0.546278\n",
      "[116]\ttrain-mlogloss:0.448248\ttest-mlogloss:0.545774\n",
      "[117]\ttrain-mlogloss:0.447528\ttest-mlogloss:0.545575\n",
      "[118]\ttrain-mlogloss:0.446769\ttest-mlogloss:0.545421\n",
      "[119]\ttrain-mlogloss:0.445924\ttest-mlogloss:0.545386\n",
      "[120]\ttrain-mlogloss:0.445330\ttest-mlogloss:0.545255\n",
      "[121]\ttrain-mlogloss:0.444484\ttest-mlogloss:0.545066\n",
      "[122]\ttrain-mlogloss:0.443712\ttest-mlogloss:0.544940\n",
      "[123]\ttrain-mlogloss:0.442646\ttest-mlogloss:0.544714\n",
      "[124]\ttrain-mlogloss:0.441736\ttest-mlogloss:0.544526\n",
      "[125]\ttrain-mlogloss:0.440827\ttest-mlogloss:0.544207\n",
      "[126]\ttrain-mlogloss:0.440041\ttest-mlogloss:0.544116\n",
      "[127]\ttrain-mlogloss:0.439322\ttest-mlogloss:0.543980\n",
      "[128]\ttrain-mlogloss:0.438619\ttest-mlogloss:0.543935\n",
      "[129]\ttrain-mlogloss:0.437832\ttest-mlogloss:0.543886\n",
      "[130]\ttrain-mlogloss:0.437090\ttest-mlogloss:0.543780\n",
      "[131]\ttrain-mlogloss:0.436395\ttest-mlogloss:0.543540\n",
      "[132]\ttrain-mlogloss:0.435853\ttest-mlogloss:0.543422\n",
      "[133]\ttrain-mlogloss:0.434938\ttest-mlogloss:0.543230\n",
      "[134]\ttrain-mlogloss:0.434292\ttest-mlogloss:0.543276\n",
      "[135]\ttrain-mlogloss:0.433243\ttest-mlogloss:0.542911\n",
      "[136]\ttrain-mlogloss:0.432328\ttest-mlogloss:0.542947\n",
      "[137]\ttrain-mlogloss:0.431752\ttest-mlogloss:0.542793\n",
      "[138]\ttrain-mlogloss:0.430986\ttest-mlogloss:0.542543\n",
      "[139]\ttrain-mlogloss:0.430100\ttest-mlogloss:0.542555\n",
      "[140]\ttrain-mlogloss:0.429301\ttest-mlogloss:0.542420\n",
      "[141]\ttrain-mlogloss:0.428683\ttest-mlogloss:0.542384\n",
      "[142]\ttrain-mlogloss:0.427995\ttest-mlogloss:0.542081\n",
      "[143]\ttrain-mlogloss:0.427356\ttest-mlogloss:0.542210\n",
      "[144]\ttrain-mlogloss:0.426540\ttest-mlogloss:0.541987\n",
      "[145]\ttrain-mlogloss:0.426002\ttest-mlogloss:0.542091\n",
      "[146]\ttrain-mlogloss:0.425177\ttest-mlogloss:0.542040\n",
      "[147]\ttrain-mlogloss:0.424277\ttest-mlogloss:0.542020\n",
      "[148]\ttrain-mlogloss:0.423574\ttest-mlogloss:0.541926\n",
      "[149]\ttrain-mlogloss:0.422999\ttest-mlogloss:0.541862\n",
      "[150]\ttrain-mlogloss:0.422417\ttest-mlogloss:0.541751\n",
      "[151]\ttrain-mlogloss:0.421590\ttest-mlogloss:0.541776\n",
      "[152]\ttrain-mlogloss:0.420727\ttest-mlogloss:0.541566\n",
      "[153]\ttrain-mlogloss:0.420067\ttest-mlogloss:0.541415\n",
      "[154]\ttrain-mlogloss:0.419570\ttest-mlogloss:0.541328\n",
      "[155]\ttrain-mlogloss:0.418975\ttest-mlogloss:0.541256\n",
      "[156]\ttrain-mlogloss:0.418412\ttest-mlogloss:0.541175\n",
      "[157]\ttrain-mlogloss:0.417575\ttest-mlogloss:0.541064\n",
      "[158]\ttrain-mlogloss:0.416599\ttest-mlogloss:0.540709\n",
      "[159]\ttrain-mlogloss:0.415931\ttest-mlogloss:0.540739\n",
      "[160]\ttrain-mlogloss:0.415281\ttest-mlogloss:0.540650\n",
      "[161]\ttrain-mlogloss:0.414671\ttest-mlogloss:0.540549\n",
      "[162]\ttrain-mlogloss:0.414240\ttest-mlogloss:0.540530\n",
      "[163]\ttrain-mlogloss:0.413643\ttest-mlogloss:0.540507\n",
      "[164]\ttrain-mlogloss:0.412964\ttest-mlogloss:0.540512\n",
      "[165]\ttrain-mlogloss:0.412370\ttest-mlogloss:0.540516\n",
      "[166]\ttrain-mlogloss:0.411969\ttest-mlogloss:0.540361\n",
      "[167]\ttrain-mlogloss:0.411328\ttest-mlogloss:0.540240\n",
      "[168]\ttrain-mlogloss:0.410846\ttest-mlogloss:0.540167\n",
      "[169]\ttrain-mlogloss:0.410321\ttest-mlogloss:0.540215\n",
      "[170]\ttrain-mlogloss:0.409721\ttest-mlogloss:0.540110\n",
      "[171]\ttrain-mlogloss:0.408911\ttest-mlogloss:0.540071\n",
      "[172]\ttrain-mlogloss:0.408237\ttest-mlogloss:0.540066\n",
      "[173]\ttrain-mlogloss:0.407504\ttest-mlogloss:0.540105\n",
      "[174]\ttrain-mlogloss:0.406889\ttest-mlogloss:0.540119\n",
      "[175]\ttrain-mlogloss:0.406322\ttest-mlogloss:0.540066\n",
      "[176]\ttrain-mlogloss:0.405641\ttest-mlogloss:0.540008\n",
      "[177]\ttrain-mlogloss:0.404924\ttest-mlogloss:0.539876\n",
      "[178]\ttrain-mlogloss:0.404262\ttest-mlogloss:0.539795\n",
      "[179]\ttrain-mlogloss:0.403634\ttest-mlogloss:0.539702\n",
      "[180]\ttrain-mlogloss:0.402975\ttest-mlogloss:0.539642\n",
      "[181]\ttrain-mlogloss:0.402215\ttest-mlogloss:0.539647\n",
      "[182]\ttrain-mlogloss:0.401727\ttest-mlogloss:0.539547\n",
      "[183]\ttrain-mlogloss:0.401174\ttest-mlogloss:0.539528\n",
      "[184]\ttrain-mlogloss:0.400638\ttest-mlogloss:0.539473\n",
      "[185]\ttrain-mlogloss:0.400133\ttest-mlogloss:0.539474\n",
      "[186]\ttrain-mlogloss:0.399526\ttest-mlogloss:0.539582\n",
      "[187]\ttrain-mlogloss:0.399002\ttest-mlogloss:0.539647\n",
      "[188]\ttrain-mlogloss:0.398247\ttest-mlogloss:0.539608\n",
      "[189]\ttrain-mlogloss:0.397693\ttest-mlogloss:0.539584\n",
      "[190]\ttrain-mlogloss:0.396986\ttest-mlogloss:0.539519\n",
      "[191]\ttrain-mlogloss:0.396258\ttest-mlogloss:0.539443\n",
      "[192]\ttrain-mlogloss:0.395759\ttest-mlogloss:0.539469\n",
      "[193]\ttrain-mlogloss:0.395421\ttest-mlogloss:0.539493\n",
      "[194]\ttrain-mlogloss:0.394930\ttest-mlogloss:0.539418\n",
      "[195]\ttrain-mlogloss:0.394450\ttest-mlogloss:0.539456\n",
      "[196]\ttrain-mlogloss:0.393903\ttest-mlogloss:0.539409\n",
      "[197]\ttrain-mlogloss:0.393154\ttest-mlogloss:0.539272\n",
      "[198]\ttrain-mlogloss:0.392578\ttest-mlogloss:0.539311\n",
      "[199]\ttrain-mlogloss:0.391805\ttest-mlogloss:0.539198\n",
      "[200]\ttrain-mlogloss:0.391255\ttest-mlogloss:0.539216\n",
      "[201]\ttrain-mlogloss:0.390710\ttest-mlogloss:0.539344\n",
      "[202]\ttrain-mlogloss:0.390281\ttest-mlogloss:0.539344\n",
      "[203]\ttrain-mlogloss:0.389819\ttest-mlogloss:0.539351\n",
      "[204]\ttrain-mlogloss:0.389281\ttest-mlogloss:0.539451\n",
      "[205]\ttrain-mlogloss:0.388630\ttest-mlogloss:0.539419\n",
      "[206]\ttrain-mlogloss:0.388053\ttest-mlogloss:0.539353\n",
      "[207]\ttrain-mlogloss:0.387299\ttest-mlogloss:0.539413\n",
      "[208]\ttrain-mlogloss:0.386755\ttest-mlogloss:0.539339\n",
      "[209]\ttrain-mlogloss:0.386050\ttest-mlogloss:0.539278\n",
      "[210]\ttrain-mlogloss:0.385241\ttest-mlogloss:0.539267\n",
      "[211]\ttrain-mlogloss:0.384733\ttest-mlogloss:0.539277\n",
      "[212]\ttrain-mlogloss:0.384031\ttest-mlogloss:0.539192\n",
      "[213]\ttrain-mlogloss:0.383519\ttest-mlogloss:0.539203\n",
      "[214]\ttrain-mlogloss:0.382900\ttest-mlogloss:0.539219\n",
      "[215]\ttrain-mlogloss:0.382518\ttest-mlogloss:0.539173\n",
      "[216]\ttrain-mlogloss:0.381926\ttest-mlogloss:0.539110\n",
      "[217]\ttrain-mlogloss:0.381533\ttest-mlogloss:0.539038\n",
      "[218]\ttrain-mlogloss:0.380896\ttest-mlogloss:0.539047\n",
      "[219]\ttrain-mlogloss:0.380280\ttest-mlogloss:0.539015\n",
      "[220]\ttrain-mlogloss:0.379985\ttest-mlogloss:0.539013\n",
      "[221]\ttrain-mlogloss:0.379360\ttest-mlogloss:0.538938\n",
      "[222]\ttrain-mlogloss:0.378791\ttest-mlogloss:0.538966\n",
      "[223]\ttrain-mlogloss:0.378056\ttest-mlogloss:0.538872\n",
      "[224]\ttrain-mlogloss:0.377424\ttest-mlogloss:0.538870\n",
      "[225]\ttrain-mlogloss:0.376942\ttest-mlogloss:0.538730\n",
      "[226]\ttrain-mlogloss:0.376304\ttest-mlogloss:0.538696\n",
      "[227]\ttrain-mlogloss:0.375744\ttest-mlogloss:0.538620\n",
      "[228]\ttrain-mlogloss:0.375306\ttest-mlogloss:0.538466\n",
      "[229]\ttrain-mlogloss:0.374547\ttest-mlogloss:0.538482\n",
      "[230]\ttrain-mlogloss:0.374149\ttest-mlogloss:0.538450\n",
      "[231]\ttrain-mlogloss:0.373511\ttest-mlogloss:0.538400\n",
      "[232]\ttrain-mlogloss:0.372943\ttest-mlogloss:0.538447\n",
      "[233]\ttrain-mlogloss:0.372426\ttest-mlogloss:0.538436\n",
      "[234]\ttrain-mlogloss:0.371877\ttest-mlogloss:0.538439\n",
      "[235]\ttrain-mlogloss:0.371338\ttest-mlogloss:0.538408\n",
      "[236]\ttrain-mlogloss:0.370815\ttest-mlogloss:0.538369\n",
      "[237]\ttrain-mlogloss:0.370245\ttest-mlogloss:0.538299\n",
      "[238]\ttrain-mlogloss:0.369673\ttest-mlogloss:0.538221\n",
      "[239]\ttrain-mlogloss:0.369345\ttest-mlogloss:0.538230\n",
      "[240]\ttrain-mlogloss:0.368896\ttest-mlogloss:0.538145\n",
      "[241]\ttrain-mlogloss:0.368286\ttest-mlogloss:0.538026\n",
      "[242]\ttrain-mlogloss:0.367834\ttest-mlogloss:0.538006\n",
      "[243]\ttrain-mlogloss:0.367352\ttest-mlogloss:0.538063\n",
      "[244]\ttrain-mlogloss:0.366929\ttest-mlogloss:0.538098\n",
      "[245]\ttrain-mlogloss:0.366449\ttest-mlogloss:0.538102\n",
      "[246]\ttrain-mlogloss:0.365831\ttest-mlogloss:0.538147\n",
      "[247]\ttrain-mlogloss:0.365340\ttest-mlogloss:0.538086\n",
      "[248]\ttrain-mlogloss:0.364917\ttest-mlogloss:0.538182\n",
      "[249]\ttrain-mlogloss:0.364337\ttest-mlogloss:0.538227\n",
      "[250]\ttrain-mlogloss:0.363829\ttest-mlogloss:0.538238\n",
      "[251]\ttrain-mlogloss:0.363289\ttest-mlogloss:0.538259\n",
      "[252]\ttrain-mlogloss:0.362905\ttest-mlogloss:0.538279\n",
      "[253]\ttrain-mlogloss:0.362311\ttest-mlogloss:0.538291\n",
      "[254]\ttrain-mlogloss:0.361811\ttest-mlogloss:0.538259\n",
      "[255]\ttrain-mlogloss:0.361149\ttest-mlogloss:0.538305\n",
      "[256]\ttrain-mlogloss:0.360667\ttest-mlogloss:0.538337\n",
      "[257]\ttrain-mlogloss:0.360184\ttest-mlogloss:0.538419\n",
      "[258]\ttrain-mlogloss:0.359741\ttest-mlogloss:0.538330\n",
      "[259]\ttrain-mlogloss:0.359231\ttest-mlogloss:0.538397\n",
      "[260]\ttrain-mlogloss:0.358665\ttest-mlogloss:0.538536\n",
      "[261]\ttrain-mlogloss:0.358281\ttest-mlogloss:0.538559\n",
      "[262]\ttrain-mlogloss:0.357760\ttest-mlogloss:0.538544\n"
     ]
    },
    {
     "name": "stdout",
     "output_type": "stream",
     "text": [
      "[0.53854293678592291]\n"
     ]
    },
    {
     "name": "stderr",
     "output_type": "stream",
     "text": [
      "Stopping. Best iteration:\n",
      "[242]\ttrain-mlogloss:0.367834\ttest-mlogloss:0.538006\n",
      "\n"
     ]
    }
   ],
   "source": [
    "cv_scores = []\n",
    "kf = model_selection.KFold(n_splits=5, shuffle=True, random_state=2016)\n",
    "for dev_index, val_index in kf.split(range(X_train.shape[0])):\n",
    "        dev_X, val_X = X_train[dev_index,:], X_train[val_index,:]\n",
    "        dev_y, val_y = y_train[dev_index], y_train[val_index]\n",
    "        preds, model = runXGB(dev_X, dev_y, val_X, val_y)\n",
    "        cv_scores.append(log_loss(val_y, preds))\n",
    "        print(cv_scores)\n",
    "        break"
   ]
  },
  {
   "cell_type": "markdown",
   "metadata": {
    "collapsed": true
   },
   "source": [
    "#### Prediction"
   ]
  },
  {
   "cell_type": "code",
   "execution_count": 78,
   "metadata": {
    "collapsed": false
   },
   "outputs": [],
   "source": [
    "preds, model = runXGB(X_train, y_train, X_test, num_rounds=248)\n",
    "out_df = pd.DataFrame(preds)\n",
    "out_df.columns = [\"high\", \"low\", \"medium\"]\n",
    "out_df[\"listing_id\"] = test.listing_id.values\n",
    "out_df.to_csv(\"./submission/submission_2017-04-23_r2.csv\", index=False)"
   ]
  },
  {
   "cell_type": "markdown",
   "metadata": {
    "collapsed": true
   },
   "source": [
    "#### Feature importances"
   ]
  },
  {
   "cell_type": "code",
   "execution_count": null,
   "metadata": {
    "collapsed": false
   },
   "outputs": [],
   "source": [
    "feat_imp = pd.Series(XGB_model.booster().get_fscore()).sort_values(ascending=False)\n",
    "feat_imp.plot(kind='bar', title='Feature Importances')\n",
    "plt.ylabel('Feature Importance Score')"
   ]
  },
  {
   "cell_type": "code",
   "execution_count": null,
   "metadata": {
    "collapsed": false
   },
   "outputs": [],
   "source": [
    "train[simple_features].columns[2], train[simple_features].columns[14], train[simple_features].columns[10]"
   ]
  },
  {
   "cell_type": "code",
   "execution_count": null,
   "metadata": {
    "collapsed": false
   },
   "outputs": [],
   "source": [
    "len(simple_features)"
   ]
  },
  {
   "cell_type": "code",
   "execution_count": null,
   "metadata": {
    "collapsed": false
   },
   "outputs": [],
   "source": [
    "train[simple_features].head(1)"
   ]
  },
  {
   "cell_type": "code",
   "execution_count": null,
   "metadata": {
    "collapsed": false
   },
   "outputs": [],
   "source": [
    "for v in X_train.toarray()[0][:20]:\n",
    "    print v"
   ]
  },
  {
   "cell_type": "code",
   "execution_count": null,
   "metadata": {
    "collapsed": true
   },
   "outputs": [],
   "source": [
    "d = len(simple_features)"
   ]
  },
  {
   "cell_type": "code",
   "execution_count": null,
   "metadata": {
    "collapsed": false
   },
   "outputs": [],
   "source": [
    "print unique_feature_list[1048-d]\n",
    "print unique_feature_list[99-d]\n",
    "print unique_feature_list[343-d]\n",
    "print unique_feature_list[138-d]\n",
    "print unique_feature_list[168-d]\n",
    "print unique_feature_list[850-d]\n",
    "#print unique_feature_list[1248-d]\n",
    "#print unique_feature_list[521-d]\n",
    "print unique_feature_list[919-d]\n",
    "print unique_feature_list[1310-d]\n",
    "print unique_feature_list[232-d]\n",
    "print unique_feature_list[665-d]\n",
    "print unique_feature_list[338-d]\n",
    "print unique_feature_list[1038-d]\n",
    "#print unique_feature_list[354-d]"
   ]
  },
  {
   "cell_type": "code",
   "execution_count": null,
   "metadata": {
    "collapsed": false
   },
   "outputs": [],
   "source": [
    "print [(i,v) for i, v in enumerate(simple_features)]"
   ]
  },
  {
   "cell_type": "code",
   "execution_count": null,
   "metadata": {
    "collapsed": false
   },
   "outputs": [],
   "source": [
    "len(feat_imp), X_train.shape"
   ]
  },
  {
   "cell_type": "code",
   "execution_count": null,
   "metadata": {
    "collapsed": false
   },
   "outputs": [],
   "source": [
    "feat_imp[:66]"
   ]
  },
  {
   "cell_type": "code",
   "execution_count": null,
   "metadata": {
    "collapsed": false
   },
   "outputs": [],
   "source": [
    "feat_imp_index = [f[1:] for f in feat_imp.index]"
   ]
  },
  {
   "cell_type": "code",
   "execution_count": null,
   "metadata": {
    "collapsed": false
   },
   "outputs": [],
   "source": [
    "significant_features = [unique_feature_list[int(x)-len(simple_features)] for x in feat_imp_index if int(x) > 15]"
   ]
  },
  {
   "cell_type": "code",
   "execution_count": null,
   "metadata": {
    "collapsed": false
   },
   "outputs": [],
   "source": [
    "len(significant_features)"
   ]
  },
  {
   "cell_type": "code",
   "execution_count": null,
   "metadata": {
    "collapsed": true
   },
   "outputs": [],
   "source": [
    "significant_features.remove('')"
   ]
  },
  {
   "cell_type": "code",
   "execution_count": null,
   "metadata": {
    "collapsed": false
   },
   "outputs": [],
   "source": [
    "len(significant_features)"
   ]
  },
  {
   "cell_type": "code",
   "execution_count": null,
   "metadata": {
    "collapsed": false
   },
   "outputs": [],
   "source": [
    "significant_features"
   ]
  },
  {
   "cell_type": "code",
   "execution_count": null,
   "metadata": {
    "collapsed": false
   },
   "outputs": [],
   "source": [
    "df_significant_feature = pd.DataFrame(significant_features, index=range(len(significant_features)), columns=['xfeature'])"
   ]
  },
  {
   "cell_type": "code",
   "execution_count": null,
   "metadata": {
    "collapsed": true
   },
   "outputs": [],
   "source": [
    "df_significant_feature.to_csv('./data/significant_features.csv', index=False)"
   ]
  },
  {
   "cell_type": "code",
   "execution_count": null,
   "metadata": {
    "collapsed": true
   },
   "outputs": [],
   "source": []
  }
 ],
 "metadata": {
  "kernelspec": {
   "display_name": "Python 2",
   "language": "python",
   "name": "python2"
  },
  "language_info": {
   "codemirror_mode": {
    "name": "ipython",
    "version": 2
   },
   "file_extension": ".py",
   "mimetype": "text/x-python",
   "name": "python",
   "nbconvert_exporter": "python",
   "pygments_lexer": "ipython2",
   "version": "2.7.10"
  }
 },
 "nbformat": 4,
 "nbformat_minor": 0
}
