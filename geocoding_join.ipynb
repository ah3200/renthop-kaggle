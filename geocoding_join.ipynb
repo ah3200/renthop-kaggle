{
 "cells": [
  {
   "cell_type": "code",
   "execution_count": 1,
   "metadata": {
    "collapsed": false
   },
   "outputs": [],
   "source": [
    "from geopy.geocoders import Nominatim"
   ]
  },
  {
   "cell_type": "code",
<<<<<<< HEAD
   "execution_count": 65,
=======
   "execution_count": 2,
>>>>>>> 06b04e61bc101af29c51ba6e846c8d2cae2a9076
   "metadata": {
    "collapsed": true
   },
   "outputs": [],
   "source": [
    "import pandas as pd\n",
    "import numpy as np"
   ]
  },
  {
   "cell_type": "code",
   "execution_count": 3,
   "metadata": {
    "collapsed": false
   },
   "outputs": [],
   "source": [
    "train_location = pd.read_csv('./data/train_for_map.csv')"
   ]
  },
  {
   "cell_type": "code",
   "execution_count": 4,
   "metadata": {
    "collapsed": false
   },
   "outputs": [
    {
     "data": {
      "text/plain": [
       "(49352, 13)"
      ]
     },
     "execution_count": 4,
     "metadata": {},
     "output_type": "execute_result"
    }
   ],
   "source": [
    "train_location.shape"
   ]
  },
  {
   "cell_type": "code",
   "execution_count": 5,
   "metadata": {
    "collapsed": false
   },
   "outputs": [
    {
     "data": {
      "text/html": [
       "<div>\n",
       "<table border=\"1\" class=\"dataframe\">\n",
       "  <thead>\n",
       "    <tr style=\"text-align: right;\">\n",
       "      <th></th>\n",
       "      <th>Unnamed: 0</th>\n",
       "      <th>bathrooms</th>\n",
       "      <th>bedrooms</th>\n",
       "      <th>created</th>\n",
       "      <th>display_address</th>\n",
       "      <th>interest_level</th>\n",
       "      <th>latitude</th>\n",
       "      <th>longitude</th>\n",
       "      <th>listing_id</th>\n",
       "      <th>building_id</th>\n",
       "      <th>manager_id</th>\n",
       "      <th>price</th>\n",
       "      <th>street_address</th>\n",
       "    </tr>\n",
       "  </thead>\n",
       "  <tbody>\n",
       "    <tr>\n",
       "      <th>0</th>\n",
       "      <td>10</td>\n",
       "      <td>1.5</td>\n",
       "      <td>3</td>\n",
       "      <td>2016-06-24 07:54:24</td>\n",
       "      <td>Metropolitan Avenue</td>\n",
       "      <td>medium</td>\n",
       "      <td>40.7145</td>\n",
       "      <td>-73.9425</td>\n",
       "      <td>7211212</td>\n",
       "      <td>53a5b119ba8f7b61d4e010512e0dfc85</td>\n",
       "      <td>5ba989232d0489da1b5f2c45f6688adc</td>\n",
       "      <td>3000</td>\n",
       "      <td>792 Metropolitan Avenue</td>\n",
       "    </tr>\n",
       "    <tr>\n",
       "      <th>1</th>\n",
       "      <td>10000</td>\n",
       "      <td>1.0</td>\n",
       "      <td>2</td>\n",
       "      <td>2016-06-12 12:19:27</td>\n",
       "      <td>Columbus Avenue</td>\n",
       "      <td>low</td>\n",
       "      <td>40.7947</td>\n",
       "      <td>-73.9667</td>\n",
       "      <td>7150865</td>\n",
       "      <td>c5c8a357cba207596b04d1afd1e4f130</td>\n",
       "      <td>7533621a882f71e25173b27e3139d83d</td>\n",
       "      <td>5465</td>\n",
       "      <td>808 Columbus Avenue</td>\n",
       "    </tr>\n",
       "    <tr>\n",
       "      <th>2</th>\n",
       "      <td>100004</td>\n",
       "      <td>1.0</td>\n",
       "      <td>1</td>\n",
       "      <td>2016-04-17 03:26:41</td>\n",
       "      <td>W 13 Street</td>\n",
       "      <td>high</td>\n",
       "      <td>40.7388</td>\n",
       "      <td>-74.0018</td>\n",
       "      <td>6887163</td>\n",
       "      <td>c3ba40552e2120b0acfc3cb5730bb2aa</td>\n",
       "      <td>d9039c43983f6e564b1482b273bd7b01</td>\n",
       "      <td>2850</td>\n",
       "      <td>241 W 13 Street</td>\n",
       "    </tr>\n",
       "    <tr>\n",
       "      <th>3</th>\n",
       "      <td>100007</td>\n",
       "      <td>1.0</td>\n",
       "      <td>1</td>\n",
       "      <td>2016-04-18 02:22:02</td>\n",
       "      <td>East 49th Street</td>\n",
       "      <td>low</td>\n",
       "      <td>40.7539</td>\n",
       "      <td>-73.9677</td>\n",
       "      <td>6888711</td>\n",
       "      <td>28d9ad350afeaab8027513a3e52ac8d5</td>\n",
       "      <td>1067e078446a7897d2da493d2f741316</td>\n",
       "      <td>3275</td>\n",
       "      <td>333 East 49th Street</td>\n",
       "    </tr>\n",
       "    <tr>\n",
       "      <th>4</th>\n",
       "      <td>100013</td>\n",
       "      <td>1.0</td>\n",
       "      <td>4</td>\n",
       "      <td>2016-04-28 01:32:41</td>\n",
       "      <td>West 143rd Street</td>\n",
       "      <td>low</td>\n",
       "      <td>40.8241</td>\n",
       "      <td>-73.9493</td>\n",
       "      <td>6934781</td>\n",
       "      <td>0</td>\n",
       "      <td>98e13ad4b495b9613cef886d79a6291f</td>\n",
       "      <td>3350</td>\n",
       "      <td>500 West 143rd Street</td>\n",
       "    </tr>\n",
       "  </tbody>\n",
       "</table>\n",
       "</div>"
      ],
      "text/plain": [
       "   Unnamed: 0  bathrooms  bedrooms              created      display_address  \\\n",
       "0          10        1.5         3  2016-06-24 07:54:24  Metropolitan Avenue   \n",
       "1       10000        1.0         2  2016-06-12 12:19:27      Columbus Avenue   \n",
       "2      100004        1.0         1  2016-04-17 03:26:41          W 13 Street   \n",
       "3      100007        1.0         1  2016-04-18 02:22:02     East 49th Street   \n",
       "4      100013        1.0         4  2016-04-28 01:32:41    West 143rd Street   \n",
       "\n",
       "  interest_level  latitude  longitude  listing_id  \\\n",
       "0         medium   40.7145   -73.9425     7211212   \n",
       "1            low   40.7947   -73.9667     7150865   \n",
       "2           high   40.7388   -74.0018     6887163   \n",
       "3            low   40.7539   -73.9677     6888711   \n",
       "4            low   40.8241   -73.9493     6934781   \n",
       "\n",
       "                        building_id                        manager_id  price  \\\n",
       "0  53a5b119ba8f7b61d4e010512e0dfc85  5ba989232d0489da1b5f2c45f6688adc   3000   \n",
       "1  c5c8a357cba207596b04d1afd1e4f130  7533621a882f71e25173b27e3139d83d   5465   \n",
       "2  c3ba40552e2120b0acfc3cb5730bb2aa  d9039c43983f6e564b1482b273bd7b01   2850   \n",
       "3  28d9ad350afeaab8027513a3e52ac8d5  1067e078446a7897d2da493d2f741316   3275   \n",
       "4                                 0  98e13ad4b495b9613cef886d79a6291f   3350   \n",
       "\n",
       "            street_address  \n",
       "0  792 Metropolitan Avenue  \n",
       "1      808 Columbus Avenue  \n",
       "2          241 W 13 Street  \n",
       "3     333 East 49th Street  \n",
       "4    500 West 143rd Street  "
      ]
     },
     "execution_count": 5,
     "metadata": {},
     "output_type": "execute_result"
    }
   ],
   "source": [
    "train_location.head()"
   ]
  },
  {
   "cell_type": "code",
   "execution_count": 6,
   "metadata": {
    "collapsed": false
   },
   "outputs": [
    {
     "data": {
      "text/plain": [
       "count    49352.000000\n",
       "mean        40.741545\n",
       "std          0.638535\n",
       "min          0.000000\n",
       "25%         40.728300\n",
       "50%         40.751800\n",
       "75%         40.774300\n",
       "max         44.883500\n",
       "Name: latitude, dtype: float64"
      ]
     },
     "execution_count": 6,
     "metadata": {},
     "output_type": "execute_result"
    }
   ],
   "source": [
    "train_location.latitude.describe()"
   ]
  },
  {
   "cell_type": "code",
   "execution_count": 7,
   "metadata": {
    "collapsed": false
   },
   "outputs": [
    {
     "data": {
      "text/plain": [
       "count    49352.000000\n",
       "mean       -73.955716\n",
       "std          1.177912\n",
       "min       -118.271000\n",
       "25%        -73.991700\n",
       "50%        -73.977900\n",
       "75%        -73.954800\n",
       "max          0.000000\n",
       "Name: longitude, dtype: float64"
      ]
     },
     "execution_count": 7,
     "metadata": {},
     "output_type": "execute_result"
    }
   ],
   "source": [
    "train_location.longitude.describe()"
   ]
  },
  {
   "cell_type": "code",
<<<<<<< HEAD
=======
   "execution_count": 19,
   "metadata": {
    "collapsed": false,
    "scrolled": true
   },
   "outputs": [
    {
     "data": {
      "text/html": [
       "<div>\n",
       "<table border=\"1\" class=\"dataframe\">\n",
       "  <thead>\n",
       "    <tr style=\"text-align: right;\">\n",
       "      <th></th>\n",
       "      <th>Unnamed: 0</th>\n",
       "      <th>bathrooms</th>\n",
       "      <th>bedrooms</th>\n",
       "      <th>created</th>\n",
       "      <th>display_address</th>\n",
       "      <th>interest_level</th>\n",
       "      <th>latitude</th>\n",
       "      <th>longitude</th>\n",
       "      <th>listing_id</th>\n",
       "      <th>building_id</th>\n",
       "      <th>manager_id</th>\n",
       "      <th>price</th>\n",
       "      <th>street_address</th>\n",
       "    </tr>\n",
       "  </thead>\n",
       "  <tbody>\n",
       "    <tr>\n",
       "      <th>1698</th>\n",
       "      <td>103826</td>\n",
       "      <td>1.0</td>\n",
       "      <td>2</td>\n",
       "      <td>2016-04-09 01:28:45</td>\n",
       "      <td>East 89th Street</td>\n",
       "      <td>low</td>\n",
       "      <td>40.7800</td>\n",
       "      <td>-73.9513</td>\n",
       "      <td>6846414</td>\n",
       "      <td>0</td>\n",
       "      <td>c84e5e5c5b9330be0486bcb52a6ef92e</td>\n",
       "      <td>2700</td>\n",
       "      <td>234 East 89th Street</td>\n",
       "    </tr>\n",
       "    <tr>\n",
       "      <th>1699</th>\n",
       "      <td>103833</td>\n",
       "      <td>1.0</td>\n",
       "      <td>0</td>\n",
       "      <td>2016-04-13 02:49:47</td>\n",
       "      <td>W 57th St.</td>\n",
       "      <td>low</td>\n",
       "      <td>40.7709</td>\n",
       "      <td>-73.9917</td>\n",
       "      <td>6864460</td>\n",
       "      <td>ec447453d3b8033e14a7b54ba1e13e02</td>\n",
       "      <td>9e4ef9d8a24f407bf0b355b27f0d9965</td>\n",
       "      <td>2585</td>\n",
       "      <td>601 W 57th St.</td>\n",
       "    </tr>\n",
       "    <tr>\n",
       "      <th>1700</th>\n",
       "      <td>103834</td>\n",
       "      <td>1.0</td>\n",
       "      <td>1</td>\n",
       "      <td>2016-04-12 01:40:38</td>\n",
       "      <td>East 89th Street</td>\n",
       "      <td>low</td>\n",
       "      <td>40.7826</td>\n",
       "      <td>-73.9572</td>\n",
       "      <td>6857285</td>\n",
       "      <td>1e1ea00bd80f0e919da2bb087c334d54</td>\n",
       "      <td>faa547b5ebcb4b15c858433ce95edf49</td>\n",
       "      <td>3095</td>\n",
       "      <td>40 East 89th Street</td>\n",
       "    </tr>\n",
       "  </tbody>\n",
       "</table>\n",
       "</div>"
      ],
      "text/plain": [
       "      Unnamed: 0  bathrooms  bedrooms              created   display_address  \\\n",
       "1698      103826        1.0         2  2016-04-09 01:28:45  East 89th Street   \n",
       "1699      103833        1.0         0  2016-04-13 02:49:47        W 57th St.   \n",
       "1700      103834        1.0         1  2016-04-12 01:40:38  East 89th Street   \n",
       "\n",
       "     interest_level  latitude  longitude  listing_id  \\\n",
       "1698            low   40.7800   -73.9513     6846414   \n",
       "1699            low   40.7709   -73.9917     6864460   \n",
       "1700            low   40.7826   -73.9572     6857285   \n",
       "\n",
       "                           building_id                        manager_id  \\\n",
       "1698                                 0  c84e5e5c5b9330be0486bcb52a6ef92e   \n",
       "1699  ec447453d3b8033e14a7b54ba1e13e02  9e4ef9d8a24f407bf0b355b27f0d9965   \n",
       "1700  1e1ea00bd80f0e919da2bb087c334d54  faa547b5ebcb4b15c858433ce95edf49   \n",
       "\n",
       "      price        street_address  \n",
       "1698   2700  234 East 89th Street  \n",
       "1699   2585        601 W 57th St.  \n",
       "1700   3095   40 East 89th Street  "
      ]
     },
     "execution_count": 19,
     "metadata": {},
     "output_type": "execute_result"
    }
   ],
   "source": [
    "train_location.ix[1698:1700,:]"
   ]
  },
  {
   "cell_type": "code",
>>>>>>> 06b04e61bc101af29c51ba6e846c8d2cae2a9076
   "execution_count": 8,
   "metadata": {
    "collapsed": false
   },
   "outputs": [],
   "source": [
    "lat_lon_list = train_location[['latitude','longitude']].values.tolist()"
   ]
  },
  {
   "cell_type": "code",
   "execution_count": 9,
   "metadata": {
    "collapsed": false
   },
   "outputs": [
    {
     "data": {
      "text/plain": [
       "49352"
      ]
     },
     "execution_count": 9,
     "metadata": {},
     "output_type": "execute_result"
    }
   ],
   "source": [
    "len(lat_lon_list)"
   ]
  },
  {
   "cell_type": "code",
   "execution_count": 10,
   "metadata": {
    "collapsed": false
   },
   "outputs": [
    {
     "data": {
      "text/plain": [
       "[[40.7145, -73.9425],\n",
       " [40.7947, -73.9667],\n",
       " [40.7388, -74.0018],\n",
       " [40.7539, -73.9677],\n",
       " [40.8241, -73.9493]]"
      ]
     },
     "execution_count": 10,
     "metadata": {},
     "output_type": "execute_result"
    }
   ],
   "source": [
    "lat_lon_list[:5]"
   ]
  },
  {
   "cell_type": "code",
   "execution_count": 11,
   "metadata": {
    "collapsed": false
   },
   "outputs": [],
   "source": [
    "test_df = train_location.loc[:5,['latitude','longitude']]"
   ]
  },
  {
   "cell_type": "code",
   "execution_count": 12,
   "metadata": {
    "collapsed": false
   },
   "outputs": [
    {
     "data": {
      "text/html": [
       "<div>\n",
       "<table border=\"1\" class=\"dataframe\">\n",
       "  <thead>\n",
       "    <tr style=\"text-align: right;\">\n",
       "      <th></th>\n",
       "      <th>latitude</th>\n",
       "      <th>longitude</th>\n",
       "    </tr>\n",
       "  </thead>\n",
       "  <tbody>\n",
       "    <tr>\n",
       "      <th>0</th>\n",
       "      <td>40.7145</td>\n",
       "      <td>-73.9425</td>\n",
       "    </tr>\n",
       "    <tr>\n",
       "      <th>1</th>\n",
       "      <td>40.7947</td>\n",
       "      <td>-73.9667</td>\n",
       "    </tr>\n",
       "    <tr>\n",
       "      <th>2</th>\n",
       "      <td>40.7388</td>\n",
       "      <td>-74.0018</td>\n",
       "    </tr>\n",
       "    <tr>\n",
       "      <th>3</th>\n",
       "      <td>40.7539</td>\n",
       "      <td>-73.9677</td>\n",
       "    </tr>\n",
       "    <tr>\n",
       "      <th>4</th>\n",
       "      <td>40.8241</td>\n",
       "      <td>-73.9493</td>\n",
       "    </tr>\n",
       "    <tr>\n",
       "      <th>5</th>\n",
       "      <td>40.7429</td>\n",
       "      <td>-74.0028</td>\n",
       "    </tr>\n",
       "  </tbody>\n",
       "</table>\n",
       "</div>"
      ],
      "text/plain": [
       "   latitude  longitude\n",
       "0   40.7145   -73.9425\n",
       "1   40.7947   -73.9667\n",
       "2   40.7388   -74.0018\n",
       "3   40.7539   -73.9677\n",
       "4   40.8241   -73.9493\n",
       "5   40.7429   -74.0028"
      ]
     },
     "execution_count": 12,
     "metadata": {},
     "output_type": "execute_result"
    }
   ],
   "source": [
    "test_df"
   ]
  },
  {
   "cell_type": "code",
   "execution_count": 14,
   "metadata": {
    "collapsed": true
   },
   "outputs": [],
   "source": [
    "geolocator = Nominatim()"
   ]
  },
  {
   "cell_type": "code",
   "execution_count": 15,
   "metadata": {
    "collapsed": false
   },
   "outputs": [],
   "source": [
    "return_location = test_df.apply(lambda x: geolocator.reverse([x[0],x[1]]).raw['address']['postcode'], axis=1)"
   ]
  },
  {
   "cell_type": "code",
   "execution_count": 16,
   "metadata": {
    "collapsed": true
   },
   "outputs": [],
   "source": [
    "return_location = test_df.apply(lambda x: geolocator.reverse([x[0],x[1]]).raw['address'], axis=1)"
   ]
  },
  {
   "cell_type": "code",
   "execution_count": 17,
   "metadata": {
    "collapsed": false
   },
   "outputs": [],
   "source": [
    "zipcode = return_location.map(lambda x: x['postcode'])"
   ]
  },
  {
   "cell_type": "code",
   "execution_count": 18,
   "metadata": {
    "collapsed": false
   },
   "outputs": [
    {
     "data": {
      "text/plain": [
       "0    11211\n",
       "1    10025\n",
       "2    10011\n",
       "3    10022\n",
       "4    10031\n",
       "5    10011\n",
       "dtype: object"
      ]
     },
     "execution_count": 18,
     "metadata": {},
     "output_type": "execute_result"
    }
   ],
   "source": [
    "zipcode"
   ]
  },
  {
   "cell_type": "code",
   "execution_count": 19,
   "metadata": {
    "collapsed": false
   },
   "outputs": [],
   "source": [
    "test_lat_lon = lat_lon_list[0]"
   ]
  },
  {
   "cell_type": "code",
   "execution_count": 20,
   "metadata": {
    "collapsed": false
   },
   "outputs": [
    {
     "data": {
      "text/plain": [
       "[40.7145, -73.9425]"
      ]
     },
     "execution_count": 20,
     "metadata": {},
     "output_type": "execute_result"
    }
   ],
   "source": [
    "test_lat_lon"
   ]
  },
  {
   "cell_type": "code",
   "execution_count": 21,
   "metadata": {
    "collapsed": true
   },
   "outputs": [],
   "source": [
    "location = geolocator.reverse(test_lat_lon)"
   ]
  },
  {
   "cell_type": "code",
   "execution_count": 22,
   "metadata": {
    "collapsed": false
   },
   "outputs": [
    {
     "data": {
      "text/plain": [
       "u'792, Metropolitan Avenue, Williamsburg, Kings County, NYC, New York, 11211, United States of America'"
      ]
     },
     "execution_count": 22,
     "metadata": {},
     "output_type": "execute_result"
    }
   ],
   "source": [
    "location.address"
   ]
  },
  {
   "cell_type": "code",
   "execution_count": 23,
   "metadata": {
    "collapsed": false
   },
   "outputs": [
    {
     "data": {
      "text/plain": [
       "u'11211'"
      ]
     },
     "execution_count": 23,
     "metadata": {},
     "output_type": "execute_result"
    }
   ],
   "source": [
    "location.raw['address']['postcode']"
   ]
  },
  {
   "cell_type": "code",
   "execution_count": 26,
   "metadata": {
    "collapsed": false
   },
   "outputs": [],
   "source": [
    "import geopandas\n",
    "import geocoder\n",
    "from geopandas.tools import sjoin\n",
    "from shapely.geometry import Point\n",
    "import seaborn as sns\n",
    "color = sns.color_palette()\n",
    "import matplotlib.pyplot as plt"
   ]
  },
  {
   "cell_type": "code",
   "execution_count": 64,
   "metadata": {
    "collapsed": true
   },
   "outputs": [],
   "source": [
    "%matplotlib inline"
   ]
  },
  {
   "cell_type": "code",
   "execution_count": 27,
   "metadata": {
    "collapsed": false
   },
   "outputs": [
    {
     "data": {
      "text/plain": [
       "(49352, 13)"
      ]
     },
     "execution_count": 27,
     "metadata": {},
     "output_type": "execute_result"
    }
   ],
   "source": [
    "train_location.shape"
   ]
  },
  {
   "cell_type": "code",
   "execution_count": 28,
   "metadata": {
    "collapsed": true
   },
   "outputs": [],
   "source": [
    "dat = train_location"
   ]
  },
  {
   "cell_type": "code",
   "execution_count": 30,
   "metadata": {
    "collapsed": false
   },
   "outputs": [],
   "source": [
    "missingCoords = dat[(dat.longitude == 0) | (dat.latitude == 0)]\n",
    "missingGeoms = (missingCoords.street_address + ' New York').apply(geocoder.google)"
   ]
  },
  {
   "cell_type": "code",
   "execution_count": 31,
   "metadata": {
    "collapsed": false
   },
   "outputs": [
    {
     "data": {
      "text/plain": [
       "2787     <[OK] Google - Geocode [259 Decatur St, Brookl...\n",
       "14104    <[OK] Google - Geocode [145 W 28th St, New Yor...\n",
       "21715    <[OK] Google - Geocode [Van Sicklen St, Brookl...\n",
       "22471    <[OK] Google - Geocode [219 E 28th St, New Yor...\n",
       "25860    <[OK] Google - Geocode [1632 Madison Ave, New ...\n",
       "27181    <[OK] Google - Geocode [41-42 24th St, Long Is...\n",
       "33286    <[OK] Google - Geocode [450 E 83rd St, New Yor...\n",
       "34390    <[OK] Google - Geocode [247 W 87th St, New Yor...\n",
       "35826    <[OK] Google - Geocode [118 W 109th St, New Yo...\n",
       "36448    <[OK] Google - Geocode [246 Mott St, New York,...\n",
       "39199    <[OK] Google - Geocode [21 W 106th St, New Yor...\n",
       "42987    <[OK] Google - Geocode [338 E 53rd St, New Yor...\n",
       "Name: street_address, dtype: object"
      ]
     },
     "execution_count": 31,
     "metadata": {},
     "output_type": "execute_result"
    }
   ],
   "source": [
    "missingGeoms"
   ]
  },
  {
   "cell_type": "code",
   "execution_count": 32,
   "metadata": {
    "collapsed": true
   },
   "outputs": [],
   "source": [
    "dat.loc[(dat.longitude == 0) | (dat.latitude == 0), 'latitude'] = missingGeoms.apply(lambda x: x.lat)\n",
    "dat.loc[(dat.longitude == 0) | (dat.latitude == 0), 'longitude'] = missingGeoms.apply(lambda x: x.lng)"
   ]
  },
  {
   "cell_type": "code",
   "execution_count": 33,
   "metadata": {
    "collapsed": true
   },
   "outputs": [],
   "source": [
    "dat['geometry'] = dat.apply(lambda x: Point((float(x.longitude), float(x.latitude))), axis=1)"
   ]
  },
  {
   "cell_type": "code",
   "execution_count": 37,
   "metadata": {
    "collapsed": false
   },
   "outputs": [],
   "source": [
    "poly = geopandas.GeoDataFrame.from_file('./nynta_17a/nynta.shp')"
   ]
  },
  {
   "cell_type": "code",
   "execution_count": 40,
   "metadata": {
    "collapsed": false
   },
   "outputs": [
    {
     "data": {
      "text/plain": [
       "(195, 8)"
      ]
     },
     "execution_count": 40,
     "metadata": {},
     "output_type": "execute_result"
    }
   ],
   "source": [
    "poly.shape"
   ]
  },
  {
   "cell_type": "code",
   "execution_count": 41,
   "metadata": {
    "collapsed": false
   },
   "outputs": [
    {
     "data": {
      "text/html": [
       "<div>\n",
       "<table border=\"1\" class=\"dataframe\">\n",
       "  <thead>\n",
       "    <tr style=\"text-align: right;\">\n",
       "      <th></th>\n",
       "      <th>BoroCode</th>\n",
       "      <th>BoroName</th>\n",
       "      <th>CountyFIPS</th>\n",
       "      <th>NTACode</th>\n",
       "      <th>NTAName</th>\n",
       "      <th>Shape_Area</th>\n",
       "      <th>Shape_Leng</th>\n",
       "      <th>geometry</th>\n",
       "    </tr>\n",
       "  </thead>\n",
       "  <tbody>\n",
       "    <tr>\n",
       "      <th>0</th>\n",
       "      <td>3</td>\n",
       "      <td>Brooklyn</td>\n",
       "      <td>047</td>\n",
       "      <td>BK88</td>\n",
       "      <td>Borough Park</td>\n",
       "      <td>5.400502e+07</td>\n",
       "      <td>39247.228028</td>\n",
       "      <td>POLYGON ((990897.9000244141 169268.1207885742,...</td>\n",
       "    </tr>\n",
       "    <tr>\n",
       "      <th>1</th>\n",
       "      <td>4</td>\n",
       "      <td>Queens</td>\n",
       "      <td>081</td>\n",
       "      <td>QN52</td>\n",
       "      <td>East Flushing</td>\n",
       "      <td>2.945438e+07</td>\n",
       "      <td>25843.364934</td>\n",
       "      <td>POLYGON ((1041061.948242188 215429.4609985352,...</td>\n",
       "    </tr>\n",
       "    <tr>\n",
       "      <th>2</th>\n",
       "      <td>4</td>\n",
       "      <td>Queens</td>\n",
       "      <td>081</td>\n",
       "      <td>QN48</td>\n",
       "      <td>Auburndale</td>\n",
       "      <td>3.416422e+07</td>\n",
       "      <td>32446.878764</td>\n",
       "      <td>POLYGON ((1046392.971191406 210169.7536010742,...</td>\n",
       "    </tr>\n",
       "    <tr>\n",
       "      <th>3</th>\n",
       "      <td>4</td>\n",
       "      <td>Queens</td>\n",
       "      <td>081</td>\n",
       "      <td>QN51</td>\n",
       "      <td>Murray Hill</td>\n",
       "      <td>5.248828e+07</td>\n",
       "      <td>33266.904732</td>\n",
       "      <td>POLYGON ((1038593.459228516 221913.3550415039,...</td>\n",
       "    </tr>\n",
       "    <tr>\n",
       "      <th>4</th>\n",
       "      <td>4</td>\n",
       "      <td>Queens</td>\n",
       "      <td>081</td>\n",
       "      <td>QN27</td>\n",
       "      <td>East Elmhurst</td>\n",
       "      <td>1.972685e+07</td>\n",
       "      <td>19816.712116</td>\n",
       "      <td>POLYGON ((1022728.275024414 217530.8082275391,...</td>\n",
       "    </tr>\n",
       "  </tbody>\n",
       "</table>\n",
       "</div>"
      ],
      "text/plain": [
       "   BoroCode  BoroName CountyFIPS NTACode        NTAName    Shape_Area  \\\n",
       "0         3  Brooklyn        047    BK88   Borough Park  5.400502e+07   \n",
       "1         4    Queens        081    QN52  East Flushing  2.945438e+07   \n",
       "2         4    Queens        081    QN48     Auburndale  3.416422e+07   \n",
       "3         4    Queens        081    QN51    Murray Hill  5.248828e+07   \n",
       "4         4    Queens        081    QN27  East Elmhurst  1.972685e+07   \n",
       "\n",
       "     Shape_Leng                                           geometry  \n",
       "0  39247.228028  POLYGON ((990897.9000244141 169268.1207885742,...  \n",
       "1  25843.364934  POLYGON ((1041061.948242188 215429.4609985352,...  \n",
       "2  32446.878764  POLYGON ((1046392.971191406 210169.7536010742,...  \n",
       "3  33266.904732  POLYGON ((1038593.459228516 221913.3550415039,...  \n",
       "4  19816.712116  POLYGON ((1022728.275024414 217530.8082275391,...  "
      ]
     },
     "execution_count": 41,
     "metadata": {},
     "output_type": "execute_result"
    }
   ],
   "source": [
    "poly.head()"
   ]
  },
  {
   "cell_type": "code",
   "execution_count": 48,
   "metadata": {
    "collapsed": true
   },
   "outputs": [],
   "source": [
    "gdat = geopandas.GeoDataFrame(dat, geometry='geometry')"
   ]
  },
  {
   "cell_type": "code",
   "execution_count": 51,
   "metadata": {
    "collapsed": true
   },
   "outputs": [],
   "source": [
    "gdat .crs = {'init' :'epsg:4326'} # Setting the current reference system\n",
    "gdat .to_crs(crs=poly.crs, inplace=True) # Translating into the poly reference system"
   ]
  },
  {
   "cell_type": "code",
   "execution_count": 49,
   "metadata": {
    "collapsed": false
   },
   "outputs": [
    {
     "data": {
      "text/plain": [
       "(49352, 14)"
      ]
     },
     "execution_count": 49,
     "metadata": {},
     "output_type": "execute_result"
    }
   ],
   "source": [
    "gdat.shape"
   ]
  },
  {
   "cell_type": "code",
   "execution_count": 50,
   "metadata": {
    "collapsed": false
   },
   "outputs": [
    {
     "data": {
      "text/html": [
       "<div>\n",
       "<table border=\"1\" class=\"dataframe\">\n",
       "  <thead>\n",
       "    <tr style=\"text-align: right;\">\n",
       "      <th></th>\n",
       "      <th>Unnamed: 0</th>\n",
       "      <th>bathrooms</th>\n",
       "      <th>bedrooms</th>\n",
       "      <th>created</th>\n",
       "      <th>display_address</th>\n",
       "      <th>interest_level</th>\n",
       "      <th>latitude</th>\n",
       "      <th>longitude</th>\n",
       "      <th>listing_id</th>\n",
       "      <th>building_id</th>\n",
       "      <th>manager_id</th>\n",
       "      <th>price</th>\n",
       "      <th>street_address</th>\n",
       "      <th>geometry</th>\n",
       "    </tr>\n",
       "  </thead>\n",
       "  <tbody>\n",
       "    <tr>\n",
       "      <th>0</th>\n",
       "      <td>10</td>\n",
       "      <td>1.5</td>\n",
       "      <td>3</td>\n",
       "      <td>2016-06-24 07:54:24</td>\n",
       "      <td>Metropolitan Avenue</td>\n",
       "      <td>medium</td>\n",
       "      <td>40.7145</td>\n",
       "      <td>-73.9425</td>\n",
       "      <td>7211212</td>\n",
       "      <td>53a5b119ba8f7b61d4e010512e0dfc85</td>\n",
       "      <td>5ba989232d0489da1b5f2c45f6688adc</td>\n",
       "      <td>3000</td>\n",
       "      <td>792 Metropolitan Avenue</td>\n",
       "      <td>POINT (-73.9425 40.7145)</td>\n",
       "    </tr>\n",
       "    <tr>\n",
       "      <th>1</th>\n",
       "      <td>10000</td>\n",
       "      <td>1.0</td>\n",
       "      <td>2</td>\n",
       "      <td>2016-06-12 12:19:27</td>\n",
       "      <td>Columbus Avenue</td>\n",
       "      <td>low</td>\n",
       "      <td>40.7947</td>\n",
       "      <td>-73.9667</td>\n",
       "      <td>7150865</td>\n",
       "      <td>c5c8a357cba207596b04d1afd1e4f130</td>\n",
       "      <td>7533621a882f71e25173b27e3139d83d</td>\n",
       "      <td>5465</td>\n",
       "      <td>808 Columbus Avenue</td>\n",
       "      <td>POINT (-73.9667 40.7947)</td>\n",
       "    </tr>\n",
       "    <tr>\n",
       "      <th>2</th>\n",
       "      <td>100004</td>\n",
       "      <td>1.0</td>\n",
       "      <td>1</td>\n",
       "      <td>2016-04-17 03:26:41</td>\n",
       "      <td>W 13 Street</td>\n",
       "      <td>high</td>\n",
       "      <td>40.7388</td>\n",
       "      <td>-74.0018</td>\n",
       "      <td>6887163</td>\n",
       "      <td>c3ba40552e2120b0acfc3cb5730bb2aa</td>\n",
       "      <td>d9039c43983f6e564b1482b273bd7b01</td>\n",
       "      <td>2850</td>\n",
       "      <td>241 W 13 Street</td>\n",
       "      <td>POINT (-74.0018 40.7388)</td>\n",
       "    </tr>\n",
       "    <tr>\n",
       "      <th>3</th>\n",
       "      <td>100007</td>\n",
       "      <td>1.0</td>\n",
       "      <td>1</td>\n",
       "      <td>2016-04-18 02:22:02</td>\n",
       "      <td>East 49th Street</td>\n",
       "      <td>low</td>\n",
       "      <td>40.7539</td>\n",
       "      <td>-73.9677</td>\n",
       "      <td>6888711</td>\n",
       "      <td>28d9ad350afeaab8027513a3e52ac8d5</td>\n",
       "      <td>1067e078446a7897d2da493d2f741316</td>\n",
       "      <td>3275</td>\n",
       "      <td>333 East 49th Street</td>\n",
       "      <td>POINT (-73.96769999999999 40.7539)</td>\n",
       "    </tr>\n",
       "    <tr>\n",
       "      <th>4</th>\n",
       "      <td>100013</td>\n",
       "      <td>1.0</td>\n",
       "      <td>4</td>\n",
       "      <td>2016-04-28 01:32:41</td>\n",
       "      <td>West 143rd Street</td>\n",
       "      <td>low</td>\n",
       "      <td>40.8241</td>\n",
       "      <td>-73.9493</td>\n",
       "      <td>6934781</td>\n",
       "      <td>0</td>\n",
       "      <td>98e13ad4b495b9613cef886d79a6291f</td>\n",
       "      <td>3350</td>\n",
       "      <td>500 West 143rd Street</td>\n",
       "      <td>POINT (-73.94929999999999 40.8241)</td>\n",
       "    </tr>\n",
       "  </tbody>\n",
       "</table>\n",
       "</div>"
      ],
      "text/plain": [
       "   Unnamed: 0  bathrooms  bedrooms              created      display_address  \\\n",
       "0          10        1.5         3  2016-06-24 07:54:24  Metropolitan Avenue   \n",
       "1       10000        1.0         2  2016-06-12 12:19:27      Columbus Avenue   \n",
       "2      100004        1.0         1  2016-04-17 03:26:41          W 13 Street   \n",
       "3      100007        1.0         1  2016-04-18 02:22:02     East 49th Street   \n",
       "4      100013        1.0         4  2016-04-28 01:32:41    West 143rd Street   \n",
       "\n",
       "  interest_level  latitude  longitude  listing_id  \\\n",
       "0         medium   40.7145   -73.9425     7211212   \n",
       "1            low   40.7947   -73.9667     7150865   \n",
       "2           high   40.7388   -74.0018     6887163   \n",
       "3            low   40.7539   -73.9677     6888711   \n",
       "4            low   40.8241   -73.9493     6934781   \n",
       "\n",
       "                        building_id                        manager_id  price  \\\n",
       "0  53a5b119ba8f7b61d4e010512e0dfc85  5ba989232d0489da1b5f2c45f6688adc   3000   \n",
       "1  c5c8a357cba207596b04d1afd1e4f130  7533621a882f71e25173b27e3139d83d   5465   \n",
       "2  c3ba40552e2120b0acfc3cb5730bb2aa  d9039c43983f6e564b1482b273bd7b01   2850   \n",
       "3  28d9ad350afeaab8027513a3e52ac8d5  1067e078446a7897d2da493d2f741316   3275   \n",
       "4                                 0  98e13ad4b495b9613cef886d79a6291f   3350   \n",
       "\n",
       "            street_address                            geometry  \n",
       "0  792 Metropolitan Avenue            POINT (-73.9425 40.7145)  \n",
       "1      808 Columbus Avenue            POINT (-73.9667 40.7947)  \n",
       "2          241 W 13 Street            POINT (-74.0018 40.7388)  \n",
       "3     333 East 49th Street  POINT (-73.96769999999999 40.7539)  \n",
       "4    500 West 143rd Street  POINT (-73.94929999999999 40.8241)  "
      ]
     },
     "execution_count": 50,
     "metadata": {},
     "output_type": "execute_result"
    }
   ],
   "source": [
    "gdat.head()"
   ]
  },
  {
   "cell_type": "code",
   "execution_count": 52,
   "metadata": {
    "collapsed": false
   },
   "outputs": [],
   "source": [
    "pointInPolys = sjoin(poly, gdat, how='left', op='contains')"
   ]
  },
  {
   "cell_type": "code",
   "execution_count": 54,
   "metadata": {
    "collapsed": false
   },
   "outputs": [
    {
     "data": {
      "text/plain": [
       "(49260, 22)"
      ]
     },
     "execution_count": 54,
     "metadata": {},
     "output_type": "execute_result"
    }
   ],
   "source": [
    "pointInPolys.shape"
   ]
  },
  {
   "cell_type": "code",
   "execution_count": 55,
   "metadata": {
    "collapsed": false
   },
   "outputs": [
    {
     "data": {
      "text/html": [
       "<div>\n",
       "<table border=\"1\" class=\"dataframe\">\n",
       "  <thead>\n",
       "    <tr style=\"text-align: right;\">\n",
       "      <th></th>\n",
       "      <th>BoroCode</th>\n",
       "      <th>BoroName</th>\n",
       "      <th>CountyFIPS</th>\n",
       "      <th>NTACode</th>\n",
       "      <th>NTAName</th>\n",
       "      <th>Shape_Area</th>\n",
       "      <th>Shape_Leng</th>\n",
       "      <th>geometry</th>\n",
       "      <th>index_right</th>\n",
       "      <th>Unnamed: 0</th>\n",
       "      <th>...</th>\n",
       "      <th>created</th>\n",
       "      <th>display_address</th>\n",
       "      <th>interest_level</th>\n",
       "      <th>latitude</th>\n",
       "      <th>longitude</th>\n",
       "      <th>listing_id</th>\n",
       "      <th>building_id</th>\n",
       "      <th>manager_id</th>\n",
       "      <th>price</th>\n",
       "      <th>street_address</th>\n",
       "    </tr>\n",
       "  </thead>\n",
       "  <tbody>\n",
       "    <tr>\n",
       "      <th>0</th>\n",
       "      <td>3</td>\n",
       "      <td>Brooklyn</td>\n",
       "      <td>047</td>\n",
       "      <td>BK88</td>\n",
       "      <td>Borough Park</td>\n",
       "      <td>5.400502e+07</td>\n",
       "      <td>39247.228028</td>\n",
       "      <td>POLYGON ((990897.9000244141 169268.1207885742,...</td>\n",
       "      <td>29692.0</td>\n",
       "      <td>55500.0</td>\n",
       "      <td>...</td>\n",
       "      <td>2016-05-06 04:26:31</td>\n",
       "      <td>13th Ave</td>\n",
       "      <td>low</td>\n",
       "      <td>40.6371</td>\n",
       "      <td>-73.9897</td>\n",
       "      <td>6974609.0</td>\n",
       "      <td>0acc1efd7a08a78937addd2df92f75b9</td>\n",
       "      <td>c0f4fff9f36099ceeaf2099adc3350ae</td>\n",
       "      <td>2550.0</td>\n",
       "      <td>4501 13th Ave</td>\n",
       "    </tr>\n",
       "    <tr>\n",
       "      <th>0</th>\n",
       "      <td>3</td>\n",
       "      <td>Brooklyn</td>\n",
       "      <td>047</td>\n",
       "      <td>BK88</td>\n",
       "      <td>Borough Park</td>\n",
       "      <td>5.400502e+07</td>\n",
       "      <td>39247.228028</td>\n",
       "      <td>POLYGON ((990897.9000244141 169268.1207885742,...</td>\n",
       "      <td>872.0</td>\n",
       "      <td>101956.0</td>\n",
       "      <td>...</td>\n",
       "      <td>2016-04-28 15:35:05</td>\n",
       "      <td>Clifton Place Brooklyn, NY</td>\n",
       "      <td>low</td>\n",
       "      <td>40.6347</td>\n",
       "      <td>-73.9869</td>\n",
       "      <td>6938977.0</td>\n",
       "      <td>90a92523c20dcaab46c12d1619186f85</td>\n",
       "      <td>2b4b20bcba007f01dcffd9dc9345ffe3</td>\n",
       "      <td>4795.0</td>\n",
       "      <td>79 Clifton Place</td>\n",
       "    </tr>\n",
       "    <tr>\n",
       "      <th>1</th>\n",
       "      <td>4</td>\n",
       "      <td>Queens</td>\n",
       "      <td>081</td>\n",
       "      <td>QN52</td>\n",
       "      <td>East Flushing</td>\n",
       "      <td>2.945438e+07</td>\n",
       "      <td>25843.364934</td>\n",
       "      <td>POLYGON ((1041061.948242188 215429.4609985352,...</td>\n",
       "      <td>2832.0</td>\n",
       "      <td>10646.0</td>\n",
       "      <td>...</td>\n",
       "      <td>2016-06-12 08:19:55</td>\n",
       "      <td>Parsons Boulevard</td>\n",
       "      <td>medium</td>\n",
       "      <td>40.7550</td>\n",
       "      <td>-73.8145</td>\n",
       "      <td>7147991.0</td>\n",
       "      <td>20118f830f9641cee8ec52092b3fde22</td>\n",
       "      <td>e6472c7237327dd3903b3d6f6a94515a</td>\n",
       "      <td>1875.0</td>\n",
       "      <td>45-35 Parsons Boulevard</td>\n",
       "    </tr>\n",
       "    <tr>\n",
       "      <th>1</th>\n",
       "      <td>4</td>\n",
       "      <td>Queens</td>\n",
       "      <td>081</td>\n",
       "      <td>QN52</td>\n",
       "      <td>East Flushing</td>\n",
       "      <td>2.945438e+07</td>\n",
       "      <td>25843.364934</td>\n",
       "      <td>POLYGON ((1041061.948242188 215429.4609985352,...</td>\n",
       "      <td>10763.0</td>\n",
       "      <td>12670.0</td>\n",
       "      <td>...</td>\n",
       "      <td>2016-06-12 12:22:40</td>\n",
       "      <td>Parsons Boulevard</td>\n",
       "      <td>low</td>\n",
       "      <td>40.7550</td>\n",
       "      <td>-73.8145</td>\n",
       "      <td>7150932.0</td>\n",
       "      <td>20118f830f9641cee8ec52092b3fde22</td>\n",
       "      <td>7d0acda2d68c78f983deb384c7c50477</td>\n",
       "      <td>1875.0</td>\n",
       "      <td>45-35 Parsons Boulevard</td>\n",
       "    </tr>\n",
       "    <tr>\n",
       "      <th>1</th>\n",
       "      <td>4</td>\n",
       "      <td>Queens</td>\n",
       "      <td>081</td>\n",
       "      <td>QN52</td>\n",
       "      <td>East Flushing</td>\n",
       "      <td>2.945438e+07</td>\n",
       "      <td>25843.364934</td>\n",
       "      <td>POLYGON ((1041061.948242188 215429.4609985352,...</td>\n",
       "      <td>48094.0</td>\n",
       "      <td>97111.0</td>\n",
       "      <td>...</td>\n",
       "      <td>2016-04-12 03:52:12</td>\n",
       "      <td>Parsons Boulevard</td>\n",
       "      <td>low</td>\n",
       "      <td>40.7550</td>\n",
       "      <td>-73.8145</td>\n",
       "      <td>6859632.0</td>\n",
       "      <td>20118f830f9641cee8ec52092b3fde22</td>\n",
       "      <td>fc3eb34da075c0a3835533f61f0851f9</td>\n",
       "      <td>2175.0</td>\n",
       "      <td>45-35 Parsons Boulevard</td>\n",
       "    </tr>\n",
       "  </tbody>\n",
       "</table>\n",
       "<p>5 rows × 22 columns</p>\n",
       "</div>"
      ],
      "text/plain": [
       "   BoroCode  BoroName CountyFIPS NTACode        NTAName    Shape_Area  \\\n",
       "0         3  Brooklyn        047    BK88   Borough Park  5.400502e+07   \n",
       "0         3  Brooklyn        047    BK88   Borough Park  5.400502e+07   \n",
       "1         4    Queens        081    QN52  East Flushing  2.945438e+07   \n",
       "1         4    Queens        081    QN52  East Flushing  2.945438e+07   \n",
       "1         4    Queens        081    QN52  East Flushing  2.945438e+07   \n",
       "\n",
       "     Shape_Leng                                           geometry  \\\n",
       "0  39247.228028  POLYGON ((990897.9000244141 169268.1207885742,...   \n",
       "0  39247.228028  POLYGON ((990897.9000244141 169268.1207885742,...   \n",
       "1  25843.364934  POLYGON ((1041061.948242188 215429.4609985352,...   \n",
       "1  25843.364934  POLYGON ((1041061.948242188 215429.4609985352,...   \n",
       "1  25843.364934  POLYGON ((1041061.948242188 215429.4609985352,...   \n",
       "\n",
       "   index_right  Unnamed: 0           ...                         created  \\\n",
       "0      29692.0     55500.0           ...             2016-05-06 04:26:31   \n",
       "0        872.0    101956.0           ...             2016-04-28 15:35:05   \n",
       "1       2832.0     10646.0           ...             2016-06-12 08:19:55   \n",
       "1      10763.0     12670.0           ...             2016-06-12 12:22:40   \n",
       "1      48094.0     97111.0           ...             2016-04-12 03:52:12   \n",
       "\n",
       "              display_address interest_level latitude longitude  listing_id  \\\n",
       "0                    13th Ave            low  40.6371  -73.9897   6974609.0   \n",
       "0  Clifton Place Brooklyn, NY            low  40.6347  -73.9869   6938977.0   \n",
       "1           Parsons Boulevard         medium  40.7550  -73.8145   7147991.0   \n",
       "1           Parsons Boulevard            low  40.7550  -73.8145   7150932.0   \n",
       "1           Parsons Boulevard            low  40.7550  -73.8145   6859632.0   \n",
       "\n",
       "                        building_id                        manager_id   price  \\\n",
       "0  0acc1efd7a08a78937addd2df92f75b9  c0f4fff9f36099ceeaf2099adc3350ae  2550.0   \n",
       "0  90a92523c20dcaab46c12d1619186f85  2b4b20bcba007f01dcffd9dc9345ffe3  4795.0   \n",
       "1  20118f830f9641cee8ec52092b3fde22  e6472c7237327dd3903b3d6f6a94515a  1875.0   \n",
       "1  20118f830f9641cee8ec52092b3fde22  7d0acda2d68c78f983deb384c7c50477  1875.0   \n",
       "1  20118f830f9641cee8ec52092b3fde22  fc3eb34da075c0a3835533f61f0851f9  2175.0   \n",
       "\n",
       "            street_address  \n",
       "0            4501 13th Ave  \n",
       "0         79 Clifton Place  \n",
       "1  45-35 Parsons Boulevard  \n",
       "1  45-35 Parsons Boulevard  \n",
       "1  45-35 Parsons Boulevard  \n",
       "\n",
       "[5 rows x 22 columns]"
      ]
     },
     "execution_count": 55,
     "metadata": {},
     "output_type": "execute_result"
    }
   ],
   "source": [
    "pointInPolys.head()"
   ]
  },
  {
   "cell_type": "code",
   "execution_count": 57,
   "metadata": {
    "collapsed": false
   },
   "outputs": [
    {
     "data": {
      "text/plain": [
       "33"
      ]
     },
     "execution_count": 57,
     "metadata": {},
     "output_type": "execute_result"
    }
   ],
   "source": [
    "len(pointInPolys[pointInPolys.created.isnull()])"
   ]
  },
  {
   "cell_type": "code",
   "execution_count": 58,
   "metadata": {
    "collapsed": true
   },
   "outputs": [],
   "source": [
    "lowPolys = pointInPolys[pointInPolys['interest_level'] == 'low']\n",
    "mediumPolys = pointInPolys[pointInPolys['interest_level'] == 'medium']\n",
    "highPolys = pointInPolys[pointInPolys['interest_level'] == 'high']"
   ]
  },
  {
   "cell_type": "code",
   "execution_count": 62,
   "metadata": {
    "collapsed": false
   },
   "outputs": [],
   "source": [
    "lows = poly.merge(pd.DataFrame({'locount' : lowPolys.groupby('NTACode').size()}).reset_index(), on=\"NTACode\", how=\"left\").fillna(0)\n",
    "mediums = poly.merge(pd.DataFrame({'medcount' : mediumPolys.groupby('NTACode').size()}).reset_index(), on=\"NTACode\", how=\"left\").fillna(0)\n",
    "highs = poly.merge(pd.DataFrame({'hicount' : highPolys.groupby('NTACode').size()}).reset_index(), on=\"NTACode\", how=\"left\").fillna(0)"
   ]
  },
  {
   "cell_type": "code",
   "execution_count": 68,
   "metadata": {
    "collapsed": false
   },
   "outputs": [
    {
     "data": {
      "text/plain": [
       "<matplotlib.axes._subplots.AxesSubplot at 0x114dc9650>"
      ]
     },
     "execution_count": 68,
     "metadata": {},
     "output_type": "execute_result"
    },
    {
     "data": {
      "image/png": "iVBORw0KGgoAAAANSUhEUgAAAcEAAAFxCAYAAAALcROdAAAABHNCSVQICAgIfAhkiAAAAAlwSFlz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\nb306OcZevNgAAAAASUVORK5CYII=\n",
      "text/plain": [
       "<matplotlib.figure.Figure at 0x114db4a90>"
      ]
     },
     "metadata": {},
     "output_type": "display_data"
    }
   ],
   "source": [
    "lows.plot(column='locount', scheme='QUANTILES', k=5, cmap='OrRd', legend=True, figsize=(8, 6))"
   ]
  },
  {
   "cell_type": "code",
   "execution_count": null,
   "metadata": {
    "collapsed": true
   },
   "outputs": [],
   "source": []
  }
 ],
 "metadata": {
  "kernelspec": {
   "display_name": "Python 2",
   "language": "python",
   "name": "python2"
  },
  "language_info": {
   "codemirror_mode": {
    "name": "ipython",
    "version": 2
   },
   "file_extension": ".py",
   "mimetype": "text/x-python",
   "name": "python",
   "nbconvert_exporter": "python",
   "pygments_lexer": "ipython2",
   "version": "2.7.10"
  }
 },
 "nbformat": 4,
 "nbformat_minor": 0
}
